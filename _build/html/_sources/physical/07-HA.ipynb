{
 "cells": [
  {
   "cell_type": "markdown",
   "metadata": {},
   "source": [
    "# 07-Hazards Analysis"
   ]
  },
  {
   "cell_type": "markdown",
   "metadata": {},
   "source": [
    "## Effective Hazards Analysis\n"
   ]
  },
  {
   "cell_type": "markdown",
   "metadata": {},
   "source": [
    ":::{toggle}\n",
    ":show:\n",
    "<img src=\"https://github.com/clint-bg/safetyinjc/blob/main/physical/supportfiles/effectiveHA.png?raw=trueg\" width=\"600\">\n",
    ":::"
   ]
  },
  {
   "cell_type": "markdown",
   "metadata": {},
   "source": [
    "## FTA Review with Helpful Info"
   ]
  },
  {
   "cell_type": "markdown",
   "metadata": {},
   "source": [
    ":::{toggle}\n",
    ":show:\n",
    "Other helpful graphics for hazards analysis and review download pdf:\n",
    "https://github.com/clint-bg/safetyinjc/blob/main/physical/supportfiles/FTAwRev1.pdf \n",
    ":::"
   ]
  },
  {
   "cell_type": "markdown",
   "metadata": {},
   "source": [
    "## Classwork Exercise\n",
    "Fault Tree Analysis (Qualitative) with FMEA (Failure Modes and Effects Analysis)\n",
    "AIChE Ethics"
   ]
  },
  {
   "cell_type": "code",
   "execution_count": null,
   "metadata": {},
   "outputs": [],
   "source": []
  }
 ],
 "metadata": {
  "language_info": {
   "name": "python"
  }
 },
 "nbformat": 4,
 "nbformat_minor": 2
}
