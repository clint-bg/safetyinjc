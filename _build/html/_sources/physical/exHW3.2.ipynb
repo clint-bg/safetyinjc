{
 "cells": [
  {
   "cell_type": "code",
   "execution_count": 2,
   "metadata": {},
   "outputs": [],
   "source": [
    "import numpy as np\n",
    "import matplotlib.pyplot as plt\n",
    "import pandas as pd"
   ]
  },
  {
   "cell_type": "code",
   "execution_count": 3,
   "metadata": {},
   "outputs": [
    {
     "data": {
      "text/plain": [
       "'/Users/clintguymon/github/safetyinjc/physical'"
      ]
     },
     "execution_count": 3,
     "metadata": {},
     "output_type": "execute_result"
    }
   ],
   "source": [
    "pwd"
   ]
  },
  {
   "cell_type": "code",
   "execution_count": 4,
   "metadata": {},
   "outputs": [],
   "source": [
    "df = pd.read_csv('data.csv')"
   ]
  },
  {
   "cell_type": "code",
   "execution_count": 6,
   "metadata": {},
   "outputs": [
    {
     "data": {
      "text/plain": [
       "Index(['State Code', 'County Code', 'Site Number', 'Parameter Code', 'POC',\n",
       "       'Latitude', 'Longitude', 'Datum', 'Parameter Name',\n",
       "       'Duration Description', 'Pollutant Standard', 'Date (Local)', 'Year',\n",
       "       'Day In Year (Local)', 'Units of Measure', 'Exceptional Data Type',\n",
       "       'Nonreg Observation Count', 'Observation Count', 'Observation Percent',\n",
       "       'Nonreg Arithmetic Mean', 'Arithmetic Mean',\n",
       "       'Nonreg First Maximum Value', 'First Maximum Value',\n",
       "       'First Maximum Hour', 'AQI', 'Daily Criteria Indicator', 'Tribe Name',\n",
       "       'State Name', 'County Name', 'City Name', 'Local Site Name', 'Address',\n",
       "       'MSA or CBSA Name', 'Data Source'],\n",
       "      dtype='object')"
      ]
     },
     "execution_count": 6,
     "metadata": {},
     "output_type": "execute_result"
    }
   ],
   "source": [
    "df.columns"
   ]
  },
  {
   "cell_type": "code",
   "execution_count": 11,
   "metadata": {},
   "outputs": [],
   "source": [
    "codf = df[df['Parameter Name']=='Carbon monoxide']"
   ]
  },
  {
   "cell_type": "code",
   "execution_count": 14,
   "metadata": {},
   "outputs": [
    {
     "data": {
      "text/plain": [
       "5        2020-01-01\n",
       "6        2020-01-01\n",
       "37       2020-01-02\n",
       "38       2020-01-02\n",
       "67       2020-01-03\n",
       "            ...    \n",
       "15211    2020-12-29\n",
       "15314    2020-12-30\n",
       "15315    2020-12-30\n",
       "15336    2020-12-31\n",
       "15337    2020-12-31\n",
       "Name: Date (Local), Length: 696, dtype: object"
      ]
     },
     "execution_count": 14,
     "metadata": {},
     "output_type": "execute_result"
    }
   ],
   "source": [
    "codf['Date (Local)']"
   ]
  },
  {
   "cell_type": "code",
   "execution_count": 23,
   "metadata": {},
   "outputs": [
    {
     "data": {
      "text/plain": [
       "State Code                                                    49\n",
       "County Code                                                   49\n",
       "Site Number                                                 4001\n",
       "Parameter Code                                             42101\n",
       "POC                                                            2\n",
       "Latitude                                               40.341389\n",
       "Longitude                                            -111.713611\n",
       "Datum                                                      WGS84\n",
       "Parameter Name                                   Carbon monoxide\n",
       "Duration Description                       8-HR RUN AVG END HOUR\n",
       "Pollutant Standard                                CO 8-hour 1971\n",
       "Date (Local)                                          2020-01-01\n",
       "Year                                                        2020\n",
       "Day In Year (Local)                                            1\n",
       "Units of Measure                               Parts per million\n",
       "Exceptional Data Type                                        NaN\n",
       "Nonreg Observation Count                                     NaN\n",
       "Observation Count                                             19\n",
       "Observation Percent                                         79.0\n",
       "Nonreg Arithmetic Mean                                       NaN\n",
       "Arithmetic Mean                                         0.810526\n",
       "Nonreg First Maximum Value                                   NaN\n",
       "First Maximum Value                                          0.9\n",
       "First Maximum Hour                                             5\n",
       "AQI                                                           10\n",
       "Daily Criteria Indicator                                       Y\n",
       "Tribe Name                                                   NaN\n",
       "State Name                                                  Utah\n",
       "County Name                                                 Utah\n",
       "City Name                                                 Lindon\n",
       "Local Site Name                                           Lindon\n",
       "Address                       30 NORTH MAIN STREET, LINDON, UTAH\n",
       "MSA or CBSA Name                                  Provo-Orem, UT\n",
       "Data Source                                        AQS Data Mart\n",
       "Name: 6, dtype: object"
      ]
     },
     "execution_count": 23,
     "metadata": {},
     "output_type": "execute_result"
    }
   ],
   "source": [
    "codf.iloc[1]"
   ]
  },
  {
   "cell_type": "code",
   "execution_count": 25,
   "metadata": {},
   "outputs": [],
   "source": [
    "COppm1 = codf.iloc[0]['Arithmetic Mean']\n",
    "COppm8 = codf.iloc[1]['Arithmetic Mean']"
   ]
  },
  {
   "cell_type": "code",
   "execution_count": 27,
   "metadata": {},
   "outputs": [
    {
     "data": {
      "text/plain": [
       "2.431578"
      ]
     },
     "execution_count": 27,
     "metadata": {},
     "output_type": "execute_result"
    }
   ],
   "source": [
    "COppm8*24/8"
   ]
  },
  {
   "cell_type": "code",
   "execution_count": null,
   "metadata": {},
   "outputs": [],
   "source": []
  }
 ],
 "metadata": {
  "kernelspec": {
   "display_name": "Python 3",
   "language": "python",
   "name": "python3"
  },
  "language_info": {
   "codemirror_mode": {
    "name": "ipython",
    "version": 3
   },
   "file_extension": ".py",
   "mimetype": "text/x-python",
   "name": "python",
   "nbconvert_exporter": "python",
   "pygments_lexer": "ipython3",
   "version": "3.9.16"
  }
 },
 "nbformat": 4,
 "nbformat_minor": 2
}
