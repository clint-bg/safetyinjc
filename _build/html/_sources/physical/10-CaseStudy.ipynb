{
 "cells": [
  {
   "cell_type": "markdown",
   "metadata": {},
   "source": [
    "# 10-HAZOP Case\n",
    "CSB Investigation of H2S Poisoning in a Pump House in Texas: Aghorn Operating Waterflood Station Hydrogen Sulfide Release\n",
    "\n",
    "https://www.csb.gov/aghorn-operating-waterflood-station-hydrogen-sulfide-release-/ \n"
   ]
  },
  {
   "cell_type": "markdown",
   "metadata": {},
   "source": [
    "Download lecture freeform here: https://github.com/clint-bg/safetyinjc/blob/main/physical/supportfiles/311%20HAZOP%20Case%20Study.pdf "
   ]
  },
  {
   "cell_type": "code",
   "execution_count": null,
   "metadata": {},
   "outputs": [],
   "source": []
  }
 ],
 "metadata": {
  "language_info": {
   "name": "python"
  }
 },
 "nbformat": 4,
 "nbformat_minor": 2
}
