{
 "cells": [
  {
   "cell_type": "markdown",
   "metadata": {},
   "source": [
    "# 18-Flammability"
   ]
  },
  {
   "cell_type": "markdown",
   "metadata": {},
   "source": [
    "Flames are a common hazard in many industries. Flames are all around us and they serve purposes from conversion of chemical bond energy to heat, propulsion of rockets, to cooking in our homes. These scenarios are planned for and designed to safely occur. However, there are many scenarios where flames are not planned for and can cause catastrophic damage."
   ]
  },
  {
   "cell_type": "markdown",
   "metadata": {},
   "source": [
    "Fires cause billions of dollars in damage every year. In the United States alone, the National Fire Protection Association (NFPA) estimate that in 2022, local fire departments responded to an estimated 1.5 million fires. Those fires caused 3,790 civilian fire deaths and 13,250 reported civilian fire injuries. The property damage caused by these fires was estimated at \\$18 billion."
   ]
  },
  {
   "cell_type": "markdown",
   "metadata": {},
   "source": [
    "Chemical Processing Fire Example Image\n",
    "\n",
    "<img src=\"https://github.com/clint-bg/safetyinjc/blob/main/physical/supportfiles/chemplantfire.png?raw=true\" width=\"500\">\n",
    "\n",
    "credit: https://jenikirbyhistory.getarchive.net/media/fire-glowing-hot-372895"
   ]
  },
  {
   "cell_type": "markdown",
   "metadata": {},
   "source": [
    "<img src=\"https://github.com/clint-bg/safetyinjc/blob/main/physical/supportfiles/wallFire.gif?raw=true\" width=\"300\">\n",
    "\n",
    "LES visualization credit to Dr. David Lignell: https://ignite.byu.edu/research.html"
   ]
  },
  {
   "cell_type": "markdown",
   "metadata": {},
   "source": [
    "Learning Objectives:\n",
    "- Describe the nature of fires and explosions.\n",
    "- Define the fire triangle and explain how to use it to prevent flammable mixtures.\n",
    "- Characterize the flammability of gases, liquids, and dusts.\n",
    "- Estimate flammability parameters for mixtures."
   ]
  },
  {
   "cell_type": "markdown",
   "metadata": {},
   "source": [
    "## Fires and Explosions"
   ]
  },
  {
   "cell_type": "markdown",
   "metadata": {},
   "source": [
    "## Fire Triangle\n"
   ]
  }
 ],
 "metadata": {
  "language_info": {
   "name": "python"
  }
 },
 "nbformat": 4,
 "nbformat_minor": 2
}
