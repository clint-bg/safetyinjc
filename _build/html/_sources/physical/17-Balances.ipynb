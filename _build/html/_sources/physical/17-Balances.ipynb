{
 "cells": [
  {
   "cell_type": "markdown",
   "metadata": {},
   "source": [
    "# 17-Mole Balances"
   ]
  },
  {
   "cell_type": "markdown",
   "metadata": {},
   "source": [
    "Mass and energy balance problems are fundamental to chemical engineering. It takes practice to understand how to set up and solve these problems. These problems are part of multiple courses in chemical engineering, and they are also part of the Fundamentals of Engineering (FE) exam and proficiency exams given by chemical engineering departments. This course is the 2nd or 3rd time reviewing theses principles. Example exam results demonstrating that more practice is needed are shown below."
   ]
  },
  {
   "cell_type": "markdown",
   "metadata": {},
   "source": [
    "<img src=\"https://github.com/clint-bg/safetyinjc/blob/main/physical/supportfiles/massbalanceWork.png?raw=true\" width=\"500\">"
   ]
  },
  {
   "cell_type": "markdown",
   "metadata": {},
   "source": [
    "## Mass and Energy Balances\n",
    "Helpful sheet: "
   ]
  },
  {
   "cell_type": "markdown",
   "metadata": {},
   "source": [
    "## Why?: Concentration Estimates for Assessing Risk"
   ]
  },
  {
   "cell_type": "markdown",
   "metadata": {},
   "source": [
    "Prior to implementing control techniques, it can be important to quantify the risk of exposure from a spill scenario of other toxic gas/ vapor release."
   ]
  },
  {
   "cell_type": "markdown",
   "metadata": {},
   "source": [
    "### Total Mole (Mass) and Component Mole Balances "
   ]
  },
  {
   "cell_type": "markdown",
   "metadata": {},
   "source": [
    "Given a control volume and:\n",
    "- A release of toxic gas or vapor at a constant rate\n",
    "- Addition of air at a constant rate\n",
    "- Exit of the gasses based on the inlet conditions and assuming that the exit rate can be achieved without pressurization of the control volume\n",
    "- Steady state conditions"
   ]
  },
  {
   "cell_type": "markdown",
   "metadata": {},
   "source": [
    "Total molar balance:\n",
    "\n",
    "$$ \\text{Rate of accumulation} = \\text{Rate of inlet} - \\text{Rate of exit} + \\text{Generation rate} $$\n",
    "\n",
    "$$ \\frac{dn_{tot}}{dt} = n_{in} - n_{out} + n_{gen} $$\n",
    "\n",
    "Component balances:\n",
    "\n",
    "$$ \\frac{dn_{i}}{dt} = n_{in,i} - n_{out,i} + n_{gen,i} $$"
   ]
  },
  {
   "cell_type": "markdown",
   "metadata": {},
   "source": [
    "At steady state, the accumulation terms ($ \\frac{dn_{tot}}{dt} $ and $ \\frac{dn_{i}}{dt} $) are zero."
   ]
  },
  {
   "cell_type": "markdown",
   "metadata": {},
   "source": [
    "Other assumptions/ notation: \n",
    "- concentration of interest, $ C_i  = n_i/V $,\n",
    "- the exit rate of the total gases is $ Q^n_v $, mol//time,\n",
    "- the inlet rate of the composition of interest is $ Q^e $, mol//time,\n",
    "- $ C_{ppm} = C_iRT/P\\cdot 10^6 $, where $ C_{ppm} $ is the concentration in parts per million (ppm), $ R $ is the ideal gas constant, $ T $ is the temperature, and $ P $ is the pressure.\n",
    "- $ n_{gen,i} = 0 $, for the case of a spill or release of a toxic gas or vapor (new species are not generated).\n",
    "- Perfect mixing of the gases in the control volume (no concentration gradients).\n",
    "\n"
   ]
  },
  {
   "cell_type": "markdown",
   "metadata": {},
   "source": [
    "As such, the mole balance for the component of interest i is \n",
    "\n",
    "$$ 0 = Q^e - C_iQ^n_vRT/P $$"
   ]
  },
  {
   "cell_type": "markdown",
   "metadata": {},
   "source": [
    "$$ C_i = \\frac{Q^e}{Q^n_vRT/P} $$"
   ]
  },
  {
   "cell_type": "markdown",
   "metadata": {},
   "source": [
    "If however, there are concentration gradients, the concentration could deviate significantly from the above estimate (larger or smaller)."
   ]
  },
  {
   "cell_type": "markdown",
   "metadata": {},
   "source": [
    "### Inlet composition from vaporization of a liquid"
   ]
  },
  {
   "cell_type": "markdown",
   "metadata": {},
   "source": [
    "The inlet rate of the species of interest, $ Q^e $, can be estimated from the vapor pressure of the liquid and the rate of vaporization and a mass transfer coefficient according to:\n",
    "\n",
    "$$ Q^e = k_mA(C_{sat}-C) $$\n",
    "\n",
    "where $ k_m $ is the mass transfer coefficient, $ C_{sat} $ is the saturation concentration of the species close to the liquid surface, and C is the concentration of the species in the air, and $ A $ is the area of the spill."
   ]
  },
  {
   "cell_type": "markdown",
   "metadata": {},
   "source": [
    "$ k_m $ can be estimated from correlations or from experimental data or by comparison to another component with a known mass transfer coefficient (e.g. water, $ k_m^0 $).: \n",
    "\n",
    "$$ k_m = k_m^0\\left(\\frac{M}{M_0}\\right)^{0.33} $$\n",
    "\n",
    "where $ M $ is the molecular weight of the species of interest and $ M_0 $ is the molecular weight of water. $ k_m^0 $ is typically in the range of $ 0.1-10.0 \\, \\text{cm/s} $ depending on the conditions."
   ]
  },
  {
   "cell_type": "markdown",
   "metadata": {},
   "source": [
    "$C_{sat}$ can be estimated from the Antoine equation:\n",
    "\n",
    "$$ \\log_{10}P_{sat} = A - \\frac{B}{T+C} $$\n",
    "\n",
    "where $ P_{sat} $ is the saturation pressure of the species of interest, and $ A $, $ B $, and $ C $ are constants that can be found in the literature. Where $ C_{sat} $ = $ P_{sat}/RT $."
   ]
  },
  {
   "cell_type": "markdown",
   "metadata": {},
   "source": [
    "Incorporating those into the mole balance, we have:\n",
    "\n",
    "$$ 0 = k_mA(C_{sat}-C_i) - C_iQ^n_vRT/P $$\n",
    "$$ C_i = \\frac{k_mA}{Q^n_vRT/P+k_mA}C_{sat} $$"
   ]
  },
  {
   "cell_type": "markdown",
   "metadata": {},
   "source": [
    "How would you solve the above if you would like the unsteady state concentration as a function of time? And there by obtain the Time Weighted Average (TWA) for a worker directly after a spill?"
   ]
  },
  {
   "cell_type": "markdown",
   "metadata": {},
   "source": [
    "See [here](https://youtu.be/M94INyj28i8) to view a video on a mole (mass) balance for a spill scenario. This video can be helpful for the homework. You can download the sheet used in the video here: https://github.com/clint-bg/safetyinjc/blob/main/physical/supportfiles/Balance.pdf \n"
   ]
  },
  {
   "cell_type": "markdown",
   "metadata": {},
   "source": [
    "## Additional Mass Balance Examples"
   ]
  },
  {
   "cell_type": "markdown",
   "metadata": {},
   "source": [
    "<img src=\"https://github.com/clint-bg/safetyinjc/blob/main/physical/supportfiles/MB2a.png?raw=true\" width=\"500\">\n",
    "<img src=\"https://github.com/clint-bg/safetyinjc/blob/main/physical/supportfiles/MB2b.png?raw=true\" width=\"500\">\n",
    "<img src=\"https://github.com/clint-bg/safetyinjc/blob/main/physical/supportfiles/MB2c.png?raw=true\" width=\"500\">"
   ]
  },
  {
   "cell_type": "markdown",
   "metadata": {},
   "source": [
    "<img src=\"https://github.com/clint-bg/safetyinjc/blob/main/physical/supportfiles/MB3a.png?raw=true\" width=\"500\">\n",
    "<img src=\"https://github.com/clint-bg/safetyinjc/blob/main/physical/supportfiles/MB3b.png?raw=true\" width=\"500\">\n",
    "<img src=\"https://github.com/clint-bg/safetyinjc/blob/main/physical/supportfiles/MB3c.png?raw=true\" width=\"500\">"
   ]
  },
  {
   "cell_type": "markdown",
   "metadata": {},
   "source": [
    "## Mass and Energy Balance Example"
   ]
  },
  {
   "cell_type": "markdown",
   "metadata": {},
   "source": [
    "<img src=\"https://github.com/clint-bg/safetyinjc/blob/main/physical/supportfiles/MBEB4a.png?raw=true\" width=\"500\">\n",
    "<img src=\"https://github.com/clint-bg/safetyinjc/blob/main/physical/supportfiles/MBEB4b.png?raw=true\" width=\"600\">\n",
    "<img src=\"https://github.com/clint-bg/safetyinjc/blob/main/physical/supportfiles/MBEB4c.png?raw=true\" width=\"800\">"
   ]
  },
  {
   "cell_type": "code",
   "execution_count": 33,
   "metadata": {},
   "outputs": [
    {
     "name": "stdout",
     "output_type": "stream",
     "text": [
      "Volume of room = 24.053778435726617 m^3\n",
      "Air flow rate into room = 0.024030062607838305 m3/s\n",
      "Air flow rate into room = 1 mol/s\n"
     ]
    },
    {
     "data": {
      "image/png": "[encoded data removed]",
      "text/plain": [
       "<Figure size 800x600 with 4 Axes>"
      ]
     },
     "metadata": {},
     "output_type": "display_data"
    }
   ],
   "source": [
    "#Mass and energy balance solution for Example 4\n",
    "#     air flow into room at 20C, methane flow into room at 200C, air/methane mixture leaves the room\n",
    "#     determine the fraction of methane and air temperature as a function of time\n",
    "\n",
    "import numpy as np\n",
    "import matplotlib.pyplot as plt\n",
    "from scipy.integrate import odeint\n",
    "\n",
    "# Parameters\n",
    "Cv_m = 27 # J/mol-K specific heat of methane, (estimate) assumed constant but is a function of temperature\n",
    "Cv_air = 29 # J/mol-K specific heat of air, (estimated) assumed constant but is a function of temperature\n",
    "#stream flow rates\n",
    "nin_air = 1 # mol/s air flow rate\n",
    "nin_m = 1/7 # mol/s methane flow rate\n",
    "#stream temperatures\n",
    "Pairin = 101425 # Pa, pressure of air stream entering the room\n",
    "Tairin = 20 + 273.15 # K, temperature of air entering the room\n",
    "Tmin = 200 + 273.15 # K, temperature of methane entering the room\n",
    "#room parameters\n",
    "orifice_diameter = 0.2 # m (outlet diameter)\n",
    "Cd = 0.6 # discharge coefficient\n",
    "Pext = 101325 # Pa, external pressure\n",
    "P_initial = Pext # Pa, constant pressure\n",
    "T_initial = 20 + 273.15 # K, initial temperature of room\n",
    "n_initial = 1000 # total moles in room, can be found from the volume and initial temperature and pressure\n",
    "nm_initial = 0 # initial moles of methane in room\n",
    "\n",
    "\n",
    "Rg = 8.314 # J/mol-K\n",
    "T0 = 20 + 273.15 # K, reference temperature\n",
    "Pref = 101325 # Pa, constant pressure\n",
    "\n",
    "Vol = n_initial * Rg* T_initial/P_initial # m^3, volume of room\n",
    "print(f'Volume of room = {Vol} m^3')\n",
    "print(f'Air flow rate into room = {nin_air*Rg*Tairin/Pairin} m3/s')\n",
    "print(f'Air flow rate into room = {nin_air} mol/s')\n",
    "\n",
    "def derivatives(p,t):\n",
    "    # changing parameters\n",
    "    n, nm, T  = p\n",
    "    ym = nm/n\n",
    "    Cv = ym * Cv_m + (1-ym) * Cv_air # J/mol-K, specific heat of the mixture\n",
    "    Mw = ym * 0.016 + (1-ym) * 0.029 # kg/mol, molecular weight of the mixture\n",
    "    P = n*Rg*T/Vol # Pa, pressure in the room\n",
    "    rho = P*Mw/Rg/T # kg/m^3, density of the mixture\n",
    "\n",
    "    # flow rate out, assume flow out is incompressible \n",
    "    nout = Cd * np.pi/4 * orifice_diameter**2 * np.sqrt(2*(P-Pext)*rho)/Mw # mol/s\n",
    "\n",
    "    # Mass balance\n",
    "    # first total mass balance\n",
    "    dndt = nin_air + nin_m - nout\n",
    "    # then component balance\n",
    "    dnmdt = nin_m - nout * ym\n",
    "\n",
    "    # Energy balance\n",
    "    dTdt = 1/(n*Cv)*(- Cv*(T-T0)*dndt + nin_air*(Cv_air+Rg)*(Tairin-T0) + nin_m*(Cv_m+Rg)*(Tmin-T0) - nout*(Cv+Rg)*(T-T0))\n",
    "\n",
    "    return [dndt, dnmdt, dTdt]\n",
    "\n",
    "# time points\n",
    "t = np.linspace(0,1000,1000) # seconds\n",
    "\n",
    "# solve ODE\n",
    "n0 = [n_initial, nm_initial, T_initial]\n",
    "sol = odeint(derivatives, n0, t)\n",
    "\n",
    "# plot results in a grid of subplots \n",
    "fig, ax = plt.subplots(4, 1, figsize=(8, 6))\n",
    "ax[0].plot(t, sol[:, 0], 'b', label='n')\n",
    "ax[0].set_ylabel('n')\n",
    "ax[1].plot(t, sol[:, 1]/sol[:,0], 'r', label='ym')\n",
    "ax[1].set_ylabel('ym')\n",
    "ax[2].plot(t, sol[:, 2], 'g', label='T')\n",
    "ax[2].set_ylabel('T')\n",
    "ax[3].plot(t, sol[:, 0]*Rg*sol[:,2]/Vol, 'k', label='P')\n",
    "ax[3].set_ylabel('P')\n",
    "ax[3].set_xlabel('time')\n",
    "fig.tight_layout(pad = 1.0)\n",
    "plt.show()\n"
   ]
  },
  {
   "cell_type": "markdown",
   "metadata": {},
   "source": [
    "## Control Techniques\n",
    "There are multiple control techniques that can be used to reduce the exposure to workers from a toxic gas or vapor. These include:\n",
    "\n",
    "**Inherent Safety**: Designing the process to eliminate or reduce the use of toxic gases or vapors.\n",
    "- **Substitution**: Replace the toxic gas or vapor with a less toxic or non-toxic alternative.\n",
    "- **Minimization**: Reduce the amount of toxic gas or vapor that is used in the workplace.\n",
    "- **Isolation**: Use of barriers or other methods to separate the toxic gas or vapor from workers.\n",
    "    \n",
    "**Engineering Controls**: Use of ventilation, enclosures, or other engineering controls to reduce the concentration of the toxic gas or vapor in the workplace.\n",
    "\n",
    "**Administrative Controls**: Use of work practices, policies, and procedures to reduce the exposure of workers to toxic gases or vapors.\n",
    "\n",
    "**Personal Protective Equipment (PPE)**: Use of PPE such as respirators (full or half face) or supplied air respirators to reduce the exposure of workers to toxic gases or vapors."
   ]
  },
  {
   "cell_type": "markdown",
   "metadata": {},
   "source": [
    "### Engineering Controls\n",
    "\n",
    "**Ventilation**:\n",
    "Ventilation occurs with HVAC systems where air is circulated and filtered. However, most of the air is recirculated and only a small fraction is replaced with fresh air. The recirculation of air can lead to a build up of toxic gases and or distribute them to other areas of the workplace.\n",
    "\n",
    "Ventilation where outside air is brought in can help reduce the concentration of toxic gases or vapors but it has significant energy costs.\n",
    "\n",
    "Typical ventilation occurs with negative rather than positive pressure systems. Know the difference between positive and negative pressure systems and why one might be used over the other."
   ]
  },
  {
   "cell_type": "markdown",
   "metadata": {},
   "source": [
    "**Local Venilation: Hoods**"
   ]
  },
  {
   "cell_type": "markdown",
   "metadata": {},
   "source": [
    "Hoods are effective at containing an expelling toxic gases or vapors. However, they can be expensive to install and maintain. They also require a significant amount of energy to operate."
   ]
  },
  {
   "cell_type": "markdown",
   "metadata": {},
   "source": []
  }
 ],
 "metadata": {
  "kernelspec": {
   "display_name": "jupiterbook",
   "language": "python",
   "name": "python3"
  },
  "language_info": {
   "codemirror_mode": {
    "name": "ipython",
    "version": 3
   },
   "file_extension": ".py",
   "mimetype": "text/x-python",
   "name": "python",
   "nbconvert_exporter": "python",
   "pygments_lexer": "ipython3",
   "version": "3.9.16"
  }
 },
 "nbformat": 4,
 "nbformat_minor": 2
}
