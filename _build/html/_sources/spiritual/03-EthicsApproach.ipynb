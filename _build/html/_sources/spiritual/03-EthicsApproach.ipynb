{
 "cells": [
  {
   "cell_type": "markdown",
   "metadata": {},
   "source": [
    "# 03-Ethics Approach"
   ]
  },
  {
   "cell_type": "markdown",
   "metadata": {},
   "source": [
    "Ethics decisions are made with respect to the principles to which you are committed. If someone is not committed to a specific principle set, it is easier to make unethical decisions with one or more justifications or rationalizations.\n",
    "\n",
    "It is best to commit to a set of principles prior to the time when you are faced with an ethical decision. "
   ]
  },
  {
   "cell_type": "markdown",
   "metadata": {},
   "source": [
    "::::{admonition} Ethics Approach Step 1\n",
    ":class: dropdown\n",
    "**Define**\n",
    "***\n",
    ":::{toggle}\n",
    "Carefully determine the root dilemma to be resolved. What is the real problem? It is common for ethical dilemmas to be convoluted combinations of many issues and it is tempting to hastily jump in and try to solve the problem. When we do, we often focus on the wrong problem and end up exacerbating the entire situation. Often dilemmas are nothing more than a lack of communication. \n",
    "\n",
    "Proper definition requires some sleuth work as the relevant data are gathered, the history of the situation is traced, the layers of \"who said what and when\" are peeled away, and the real dilemma is brought to light. Patience is also required. It is easy to jump to conclusions based on one person's opinion or on less than all the data. Contractual, legal, and ethical obligations and commitments must be included as part of the definition.\n",
    ":::\n",
    "::::"
   ]
  },
  {
   "cell_type": "code",
   "execution_count": null,
   "metadata": {
    "vscode": {
     "languageId": "plaintext"
    }
   },
   "outputs": [],
   "source": []
  }
 ],
 "metadata": {
  "language_info": {
   "name": "python"
  }
 },
 "nbformat": 4,
 "nbformat_minor": 2
}
