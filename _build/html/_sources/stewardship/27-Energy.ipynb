{
 "cells": [
  {
   "cell_type": "markdown",
   "metadata": {},
   "source": [
    "# Energy Overview"
   ]
  },
  {
   "cell_type": "markdown",
   "metadata": {},
   "source": [
    "Learning Outcomes:\n",
    "- Review Energy Units and \"Horse Sense\"\n",
    "- Understand the different energy types"
   ]
  },
  {
   "cell_type": "markdown",
   "metadata": {},
   "source": [
    "## Units Review"
   ]
  },
  {
   "cell_type": "markdown",
   "metadata": {},
   "source": [
    "- BTUs: British Thermal Units\n",
    "   - Energy required to raise 1 pound of water by 1 degree Fahrenheit\n",
    "- Calories\n",
    "   - Energy required to raise 1 gram of water by 1 degree Celsius\n",
    "- Joules\n",
    "    - 1 calorie = 4.184 Joules\n",
    "- Watts\n",
    "   - Power or rate of energy use in Joules per second\n",
    "   - A human can generate about 300 Watts of power on an exercise bike for a sustained time period\n",
    "- Kilowatt-hours\n",
    "   - Energy used by a 1 kW device in 1 hour\n",
    "- Quad: 1 quadrillion BTUs\n",
    "    - This is the amount of energy in 170 million barrels of oil"
   ]
  },
  {
   "cell_type": "markdown",
   "metadata": {},
   "source": [
    "### Example Problems"
   ]
  },
  {
   "cell_type": "markdown",
   "metadata": {},
   "source": [
    "How many BTU's to heat 1 L of water from 60°F to 212°F?"
   ]
  },
  {
   "cell_type": "markdown",
   "metadata": {},
   "source": [
    "How many BTUS's to vaporize that same 1L of water at 212°F?"
   ]
  },
  {
   "cell_type": "markdown",
   "metadata": {},
   "source": [
    "## Energy Types\n"
   ]
  },
  {
   "cell_type": "markdown",
   "metadata": {},
   "source": [
    "- Fossil\n",
    "    - Coal\n",
    "    - Oil\n",
    "    - Natural Gas\n",
    "    - Tar Sands\n",
    "- Nuclear\n",
    "- Solar\n",
    "    - Photovoltaic\n",
    "    - Concentrated Solar Power\n",
    "- Renewable\n",
    "    - Wind\n",
    "    - Hydro\n",
    "    - Geothermal\n",
    "    - Biomass\n",
    "    - Ocean\n",
    "\n"
   ]
  },
  {
   "cell_type": "markdown",
   "metadata": {},
   "source": [
    "## US Energy by Source with Losses"
   ]
  },
  {
   "cell_type": "markdown",
   "metadata": {},
   "source": [
    "<img src=\"https://github.com/clint-bg/safetyinjc/blob/main/stewardship/supportfiles/Energy2021.png?raw=trueg\" width=\"600\">\n",
    "\n",
    "Source: https://flowcharts.llnl.gov/sites/flowcharts/files/2022-04/Energy_2021_United-States_0.png"
   ]
  },
  {
   "cell_type": "markdown",
   "metadata": {},
   "source": [
    "<img src=\"https://github.com/clint-bg/safetyinjc/blob/main/stewardship/supportfiles/Energy2021.png?raw=trueg\" width=\"600\">\n",
    "\n",
    "Source: https://flowcharts.llnl.gov/sites/flowcharts/files/2023-10/US%20Energy%202022.png"
   ]
  },
  {
   "cell_type": "markdown",
   "metadata": {},
   "source": [
    "## Energy Future"
   ]
  },
  {
   "cell_type": "markdown",
   "metadata": {},
   "source": [
    "Some Comments: \n",
    "- Coal is declining due to its challenges:\n",
    "    - Mercury, SOx, NOx, CO2, and particulates\n",
    "- Natural Gas is increasing due to its lower emissions, abundance, and economics\n",
    "- Petroleum will face a slow decline but there is not yet a feasible replacement as a transportation fuel and as a raw material for chemical production\n",
    "- Transition to renewables will not/cannot happen on order of 10 years (maybe even 30) without societal upheaval\n",
    "- Nuclear is a viable option but has its own challenges\n",
    "- Energy storage is likely to grow in importance\n",
    "- Ultimately, we'll need to use many forms of energy"
   ]
  },
  {
   "cell_type": "markdown",
   "metadata": {},
   "source": []
  }
 ],
 "metadata": {
  "language_info": {
   "name": "python"
  }
 },
 "nbformat": 4,
 "nbformat_minor": 2
}
