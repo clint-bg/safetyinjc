{
 "cells": [
  {
   "cell_type": "markdown",
   "metadata": {},
   "source": [
    "# 30-Environmental Legislation"
   ]
  },
  {
   "cell_type": "markdown",
   "metadata": {},
   "source": [
    "Severe smog in cities like New York and LA as well as the Cuyahoga river in Ohio catching fire in 1969 as well as scientific evidence of the hazards of air pollution such as Rachel Carson's Silent Spring (1962) motivated the US government to pass a series of environmental laws in the 1970s. These laws have been instrumental in cleaning up the environment and improving public health."
   ]
  },
  {
   "cell_type": "markdown",
   "metadata": {},
   "source": [
    "<img src=\"https://github.com/clint-bg/safetyinjc/blob/main/stewardship/supportfiles/smog.png?raw=trueg\" width=\"500\">"
   ]
  },
  {
   "cell_type": "markdown",
   "metadata": {},
   "source": [
    "# NEPA (National Environmental Policy Act, 1970)\n",
    "\n",
    "It established the **EPA (Environmental Protection Agency)** and required environmental impact statements (EIS) for any project that received federal funding. \n"
   ]
  },
  {
   "cell_type": "markdown",
   "metadata": {},
   "source": [
    "Without government oversight and regulation, it is unlikely that market forces would be insufficient to protect the environment. Why? Some examples:\n",
    "- Catalytic converters\n",
    "- Smokestack scrubbers\n",
    "- Lead-free gasoline\n",
    "- PCBs (polychlorinated biphenyls)\n",
    "- DDT (dichlorodiphenyltrichloroethane)"
   ]
  },
  {
   "cell_type": "markdown",
   "metadata": {},
   "source": [
    "# Toxic Substances Control Act (TSCA, 1976)\n",
    "\n",
    "- Assesses risks before introduction into the environment\n",
    "- Ensures production and use do not present unreasonable risks to human health or the environment\n",
    "- Premanufacture notification required for new chemicals\n",
    "    - Name and structure\n",
    "    - Use\n",
    "    - Amount\n",
    "    - Byproducts\n",
    "    - Health and environmental effects\n",
    "- EPA has authority to ban or restrict production"
   ]
  },
  {
   "cell_type": "markdown",
   "metadata": {},
   "source": [
    "## Federal Insecticide, Fungicide, and Rodenticide Act (FIFRA, 1947)\n",
    "\n",
    "- Requires registration of all pesticides\n",
    "- EPA has authority to ban or restrict production\n",
    "- Requires labeling of all pesticides\n",
    "    - Active ingredients\n",
    "    - Instructions for use\n",
    "    - Limitations\n",
    "- Will not cause unreasonable adverse effects on the environment"
   ]
  },
  {
   "cell_type": "markdown",
   "metadata": {},
   "source": [
    "## Clean Air Act, 1970\n",
    "\n",
    "The Clean Air Act is a comprehensive federal law that \n",
    "- regulates air emissions from stationary and mobile sources \n",
    "- authorizes the Environmental Protection Agency (EPA) to establish National Ambient Air Quality Standards (NAAQS) to protect public health and the environment \n",
    "- sets emission standards for hazardous air pollutants and \n",
    "- establishes a cap-and-trade program for sulfur dioxide and nitrogen oxides."
   ]
  },
  {
   "cell_type": "markdown",
   "metadata": {},
   "source": [
    "<img src=\"https://github.com/clint-bg/comptools/blob/main/lectures/supportfiles/image001.png?raw=true\" width=\"800\">"
   ]
  },
  {
   "cell_type": "markdown",
   "metadata": {},
   "source": [
    "https://www.epa.gov/air-trends/air-quality-national-summary"
   ]
  },
  {
   "cell_type": "markdown",
   "metadata": {},
   "source": [
    "## AI Overview of Environmental Legislation in the United States\n",
    "\n",
    "Early Foundations\n",
    "\n",
    "- The Homestead Act (1862): While primarily focused on Western expansion, this act encouraged the settlement and development of lands, sometimes leading to unsustainable resource use.\n",
    "- Establishment of Yellowstone National Park (1872): The first national park in the world, setting a precedent for land preservation and marking a shift towards conservation.\n",
    "- Forest Reserve Act (1891): Gave the President power to set aside public lands as forest reserves, paving the way for the National Forest System.\n",
    "- Antiquities Act (1906): Empowered the President to designate National Monuments, protecting sites of historical, cultural, or scientific significance.\n",
    "\n",
    "Pollution-Focused Legislation\n",
    "\n",
    "- Rivers and Harbors Appropriation Act (1899): Prohibited dumping refuse into navigable waters, an initial step towards water pollution control.\n",
    "- The Clean Air Acts (1963, major amendments in 1970, 1977, 1990): A series of laws establishing national air quality standards, regulating emissions from various sources (factories, cars, etc.), and setting a framework for cooperation between federal and state governments regarding air quality.\n",
    "- The Clean Water Act (1972): The cornerstone of water pollution control efforts, aimed at making surface waters fishable and swimmable by regulating pollutant discharges and setting water quality standards.\n",
    "- Safe Drinking Water Act (1974): Established national drinking water standards and regulations, with a focus on protecting public health from contaminants.\n",
    "- Toxic Substances Control Act (1976): Regulates the manufacture, import, processing, distribution, and disposal of chemicals, with the goal of protecting human health and the environment.\n",
    "- Oil Pollution Act (1990): Created in response to the Exxon Valdez oil spill, this law aims to prevent and respond to oil spills, holding responsible parties accountable for cleanup and damages.\n",
    "\n",
    "Protecting Species & Habitats\n",
    "\n",
    "- Lacey Act (1900): One of the first wildlife protection laws, combating illegal trade in wildlife and plants.\n",
    "- Endangered Species Act (1973): Powerful conservation tool for identifying at-risk species and creating plans to prevent extinction and promote recovery.\n",
    "- National Wildlife Refuge System Improvement Act (1997): Provides guidelines and comprehensive management framework for the US National Wildlife Refuge System.\n",
    "\n",
    "Hazardous Substances and Waste\n",
    "\n",
    "- Resource Conservation and Recovery Act (RCRA) (1976): Regulates the handling of hazardous waste, with a \"cradle-to-grave\" scope to promote responsible disposal and reduce environmental risk.\n",
    "- Comprehensive Environmental Response, Compensation, and Liability Act (CERCLA) (1980): Also known as \"Superfund,\" established a program to fund the cleanup of contaminated hazardous waste sites, holding polluters accountable.\n",
    "- Pollution Prevention Act (1990): Emphasizes source reduction and pollution prevention, aiming to reduce or eliminate waste at the source.\n",
    "\n",
    "Broadening Environmental Policy\n",
    "\n",
    "- National Environmental Policy Act (NEPA) (1970): Requires federal agencies to evaluate the environmental impacts of proposed projects with potential for significant effects, promoting informed decision-making.\n",
    "- Establishment of the Environmental Protection Agency (EPA) (1970): Consolidation of federal environmental programs into a single agency, granting the EPA broad authority to implement and enforce environmental laws."
   ]
  },
  {
   "cell_type": "markdown",
   "metadata": {},
   "source": []
  },
  {
   "cell_type": "markdown",
   "metadata": {},
   "source": [
    "## Clean Water Act\n",
    "\n",
    "The Clean Water Act is a federal law that regulates the discharge of pollutants into the nation's waters and sets water quality standards for surface waters. This law authorizes the EPA to establish effluent limitations for industrial discharges and to regulate stormwater runoff from industrial facilities. The Clean Water Act also provides funding for wastewater treatment facilities and establishes a permit program for discharges into navigable waters."
   ]
  },
  {
   "cell_type": "markdown",
   "metadata": {},
   "source": [
    "## Unintended Consequences\n",
    "\n",
    "https://www.foxnews.com/opinion/why-plastic-bag-bans-failing \n",
    "\n",
    "Bans on plastic bags had unintented consequences. The use of plastic bags reduced but the use of larger, more massive plastic bags increased. The total mass of plastic bags increased.\n"
   ]
  },
  {
   "cell_type": "code",
   "execution_count": null,
   "metadata": {},
   "outputs": [],
   "source": []
  }
 ],
 "metadata": {
  "language_info": {
   "name": "python"
  }
 },
 "nbformat": 4,
 "nbformat_minor": 2
}
