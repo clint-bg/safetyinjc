{
 "cells": [
  {
   "cell_type": "markdown",
   "metadata": {},
   "source": [
    "# 27-Energy Overview"
   ]
  },
  {
   "cell_type": "markdown",
   "metadata": {},
   "source": [
    "Learning Outcomes:\n",
    "- Review Energy Units and \"Horse Sense\"\n",
    "- Understand the different energy types\n",
    "- Understand quantities and fractions of energy used in US\n",
    "- Understand the growing energy demaands by 1/2 the worlds population in BRICS countries\n",
    "- Understand some of the challenges and opportunities in the energy sector"
   ]
  },
  {
   "cell_type": "code",
   "execution_count": 1,
   "metadata": {
    "tags": [
     "hide-input"
    ]
   },
   "outputs": [],
   "source": [
    "# import needed packages\n",
    "import numpy as np\n",
    "import matplotlib.pyplot as plt"
   ]
  },
  {
   "cell_type": "markdown",
   "metadata": {},
   "source": [
    "## Units Review"
   ]
  },
  {
   "cell_type": "markdown",
   "metadata": {},
   "source": [
    "- BTUs: British Thermal Units\n",
    "   - Energy required to raise 1 pound of water by 1 degree Fahrenheit\n",
    "- Calories\n",
    "   - Energy required to raise 1 gram of water by 1 degree Celsius\n",
    "- Joules\n",
    "    - 1 calorie = 4.184 Joules\n",
    "- Watts\n",
    "   - Power or rate of energy use in Joules per second\n",
    "   - A human can generate about 300 Watts of power on an exercise bike for a sustained time period\n",
    "- Kilowatt-hours\n",
    "   - Energy used by a 1 kW device in 1 hour\n",
    "- Quad: 1 quadrillion BTUs\n",
    "    - This is the amount of energy in 170 million barrels of oil"
   ]
  },
  {
   "cell_type": "markdown",
   "metadata": {},
   "source": [
    "### Example Unit Problems"
   ]
  },
  {
   "cell_type": "markdown",
   "metadata": {},
   "source": [
    "How many BTU's to heat 1 L of water from 60°F to 212°F?"
   ]
  },
  {
   "cell_type": "code",
   "execution_count": 2,
   "metadata": {
    "tags": [
     "hide-cell"
    ]
   },
   "outputs": [
    {
     "name": "stdout",
     "output_type": "stream",
     "text": [
      "Energy required to heat 1 L of water from 60F to 212F: 335 BTU\n"
     ]
    }
   ],
   "source": [
    "Cp = 4186 # J/kgK, specific heat of water\n",
    "#specific heat of water in BTU/lbmF\n",
    "Cp_BTU = 1.0 # BTU/lbmR, specific heat of water\n",
    "rho = 1000 # kg/m^3, density of water\n",
    "vol = 1/1000 # m^3, volume of water (1 L)\n",
    "mass = rho*vol*2.20462 # lbm, mass of water (1 L)\n",
    "E = Cp_BTU*mass*(212-60)\n",
    "print(f'Energy required to heat 1 L of water from 60F to 212F: {E:0.0f} BTU')"
   ]
  },
  {
   "cell_type": "markdown",
   "metadata": {},
   "source": [
    "How many BTUS's to vaporize that same 1L of water at 212°F?"
   ]
  },
  {
   "cell_type": "code",
   "execution_count": 3,
   "metadata": {
    "tags": [
     "hide-cell"
    ]
   },
   "outputs": [
    {
     "name": "stdout",
     "output_type": "stream",
     "text": [
      "Energy required to vaporize 1 L of water: 2139 BTU\n"
     ]
    }
   ],
   "source": [
    "#water heat of vaporization\n",
    "Hvap = 970.3 # BTU/lbm, 2260 kJ/kg\n",
    "E = Hvap*mass\n",
    "print(f'Energy required to vaporize 1 L of water: {E:0.0f} BTU')"
   ]
  },
  {
   "cell_type": "markdown",
   "metadata": {},
   "source": [
    "## Energy Types\n"
   ]
  },
  {
   "cell_type": "markdown",
   "metadata": {},
   "source": [
    "- Fossil\n",
    "    - Coal\n",
    "    - Oil\n",
    "    - Natural Gas\n",
    "    - Tar Sands\n",
    "- Nuclear\n",
    "- Solar\n",
    "    - Photovoltaic\n",
    "    - Concentrated Solar Power\n",
    "- Renewable\n",
    "    - Wind\n",
    "    - Hydro\n",
    "    - Geothermal\n",
    "    - Biomass\n",
    "    - Ocean\n",
    "\n"
   ]
  },
  {
   "cell_type": "markdown",
   "metadata": {},
   "source": [
    "## US Energy by Source with Losses"
   ]
  },
  {
   "cell_type": "markdown",
   "metadata": {},
   "source": [
    "<img src=\"https://github.com/clint-bg/safetyinjc/blob/main/stewardship/supportfiles/Energy2021.png?raw=trueg\" width=\"800\">\n",
    "\n",
    "Source: https://flowcharts.llnl.gov/sites/flowcharts/files/2022-04/Energy_2021_United-States_0.png"
   ]
  },
  {
   "cell_type": "markdown",
   "metadata": {},
   "source": [
    "<img src=\"https://github.com/clint-bg/safetyinjc/blob/main/stewardship/supportfiles/Energy2022.png?raw=trueg\" width=\"800\">\n",
    "\n",
    "Source: https://flowcharts.llnl.gov/sites/flowcharts/files/2023-10/US%20Energy%202022.png"
   ]
  },
  {
   "cell_type": "markdown",
   "metadata": {},
   "source": [
    "How many cubic miles of oil are used in the US in a year?\n",
    "\n",
    "```{toggle}\n",
    "About 1 cubic mile\n",
    "```"
   ]
  },
  {
   "cell_type": "markdown",
   "metadata": {},
   "source": [
    "There are significant losses in use of the energy. For example, a coal plant is only about 33% efficient in converting the energy in coal to electricity.  A gasoline engine is only about 20% efficient in converting the energy in gasoline to motion.  The rest is lost as heat."
   ]
  },
  {
   "cell_type": "markdown",
   "metadata": {},
   "source": [
    "### Energy loss example"
   ]
  },
  {
   "cell_type": "markdown",
   "metadata": {},
   "source": [
    "The energy density of gasoline is about 45 MJ/kg.  If a car gets 30 miles per gallon (at 60 miles per hour), how many MJ of energy are used to go 30 miles? What is the efficiency of the car?\n",
    "\n",
    "How will you set this up?\n",
    "\n",
    "```{toggle}\n",
    "Assumptions:\n",
    "- Force from drag is $F_d = 1/2 \\rho v^2 C_d A$, where $\\rho$ is air density, $v$ is velocity, $C_d$ is drag coefficient, and $A$ is frontal area. The drag coefficient for a car is about 0.3, the frontal area is about 2 m^2, and the air density is about 1.2 kg/m^3.\n",
    "- The resistance from rolling friction, $F_r = C_r m g$, where $C_r$ is the coefficient of rolling friction, $m$ is mass, and $g$ is acceleration due to gravity.  The coefficient of rolling friction is about 0.01 for cars and the mass of the car is about 1500 kg.\n",
    "- The energy of a moving car is $E = 1/2 m v^2$.\n",
    "- The energy of a force acting over a distance is $\\int F dx$.\n",
    "```"
   ]
  },
  {
   "cell_type": "code",
   "execution_count": 4,
   "metadata": {
    "tags": [
     "hide-cell"
    ]
   },
   "outputs": [
    {
     "name": "stdout",
     "output_type": "stream",
     "text": [
      "Work done to move car 30 miles at 60 mph: 20 MJ\n",
      "Energy in 1 gallon of gasoline: 119 MJ\n",
      "Efficiency of car: 16.9%\n"
     ]
    }
   ],
   "source": [
    "vel = 60*5280/3600/3.281 # m/s, velocity of car\n",
    "masscar = 1500 # kg, mass of car\n",
    "Cr = 0.01 # rolling resistance coefficient\n",
    "Cd = 0.3 # drag coefficient\n",
    "gravity = 9.81 # m/s^2, gravity\n",
    "Fr = masscar*gravity*Cr # N, rolling resistance force\n",
    "rho_air = 1.2 # kg/m^3, density of air\n",
    "Area = 2 # m^2, frontal area of car\n",
    "Fd = 0.5*Cd*Area*rho_air*vel**2 #N, drag force\n",
    "dis = 30*5280/3.281 # m, distance to travel\n",
    "Work = (Fr + Fd)*dis + 1/2*masscar*vel**2# J, work done\n",
    "print(f'Work done to move car 30 miles at 60 mph: {Work/1e6:0.0f} MJ')\n",
    "\n",
    "# efficiency of car\n",
    "rhogas = 700 # kg/m3, density of gasoline\n",
    "volgas = 1/264.172 # m3, volume of gasoline\n",
    "Egas = 45e6*rhogas*volgas # J, energy in gasoline\n",
    "print(f'Energy in 1 gallon of gasoline: {Egas/1e6:0.0f} MJ')\n",
    "print(f'Efficiency of car: {Work/Egas*100:0.1f}%')"
   ]
  },
  {
   "cell_type": "markdown",
   "metadata": {},
   "source": [
    "## BRICS\n",
    "The BRICS countries (Brazil, Russia, India, China, South Africa) are expected to use more energy as development continues.  "
   ]
  },
  {
   "cell_type": "markdown",
   "metadata": {},
   "source": [
    "<img src=\"https://github.com/clint-bg/safetyinjc/blob/main/stewardship/supportfiles/brics.png?raw=trueg\" width=\"500\">\n",
    "\n",
    "Source: https://unacademy.com/content/upsc/study-material/international-relations/imporance-of-brics-for-india/"
   ]
  },
  {
   "cell_type": "markdown",
   "metadata": {},
   "source": [
    "## Increasing Energy Use"
   ]
  },
  {
   "cell_type": "markdown",
   "metadata": {},
   "source": [
    "<img src=\"https://github.com/clint-bg/safetyinjc/blob/main/stewardship/supportfiles/primaryenergyuse.png?raw=trueg\" width=\"500\">\n",
    "\n",
    "source: EIA.org, International Energy Outlook 2021"
   ]
  },
  {
   "cell_type": "markdown",
   "metadata": {},
   "source": [
    "## Energy per Person"
   ]
  },
  {
   "cell_type": "markdown",
   "metadata": {},
   "source": [
    "<img src=\"https://github.com/clint-bg/safetyinjc/blob/main/stewardship/supportfiles/energyperperson.png?raw=trueg\" width=\"800\">\n",
    "\n",
    "source: https://ourworldindata.org/energy-access# "
   ]
  },
  {
   "cell_type": "markdown",
   "metadata": {},
   "source": [
    "## Inflation Reduction Act (2022)"
   ]
  },
  {
   "cell_type": "markdown",
   "metadata": {},
   "source": [
    "The Inflation Reduction Act (IRA) is a United States federal law enacted on August 16, 2022. It is the most significant piece of climate legislation in U.S. history. The IRA provides \\$369 billion in climate change programs over 10 years. It also includes provisions to lower healthcare costs, reduce the federal deficit, and invest in domestic energy production.\n"
   ]
  },
  {
   "cell_type": "markdown",
   "metadata": {},
   "source": [
    "### Key provisions of the IRA include:\n",
    "- **Tax credits for renewable energy**: The IRA extends and expands tax credits for solar, wind, and other renewable energy sources. This includes a 30% investment tax credit (ITC) for solar projects and a production tax credit (PTC) for wind projects.\n",
    "- **Electric vehicle incentives**: The IRA provides tax credits for electric vehicles (EVs) and plug-in hybrid electric vehicles (PHEVs). \n",
    "- **Energy efficiency programs**: The IRA includes funding for energy efficiency programs, such as rebates for energy-efficient appliances and home retrofits.\n",
    "- **Carbon capture and storage**: The IRA provides tax credits for carbon capture and storage (CCS) projects, which can help reduce greenhouse gas emissions from fossil fuel power plants."
   ]
  },
  {
   "cell_type": "markdown",
   "metadata": {},
   "source": [
    "## IRA Expected Environmental Benefits\n",
    "- **Reduction in greenhouse gas emissions**: The IRA is expected to reduce U.S. greenhouse gas emissions by about 40% by 2030 compared to 2005 levels.\n",
    "- **Increased renewable energy generation**: The IRA is expected to increase the share of renewable energy in the U.S. electricity mix to about 70% by 2030.\n",
    "- **Job creation**: The IRA is expected to create millions of jobs in the renewable energy sector, including jobs in manufacturing, installation, and maintenance of renewable energy systems."
   ]
  },
  {
   "cell_type": "markdown",
   "metadata": {},
   "source": [
    "## Energy Future"
   ]
  },
  {
   "cell_type": "markdown",
   "metadata": {},
   "source": [
    "The US Energy Information Administration (EIA) is a government organization that provides data and analysis on energy production, consumption, and trends. The EIA provides projections of energy consumption and production through 2050 and can be found on their website: https://www.eia.gov/outlooks/aeo/"
   ]
  },
  {
   "cell_type": "markdown",
   "metadata": {},
   "source": [
    "<img src=\"https://github.com/clint-bg/safetyinjc/blob/main/stewardship/supportfiles/eiaCO2.png?raw=trueg\" width=\"800\">\n",
    "\n",
    "source: https://www.eia.gov/outlooks/aeo/"
   ]
  },
  {
   "cell_type": "markdown",
   "metadata": {},
   "source": [
    "Some Comments: \n",
    "- Total CO2 emissions are expected to decline despite the increase in energy use and population\n",
    "- Coal is declining due to its challenges:\n",
    "    - Mercury, SOx, NOx, CO2, and particulates\n",
    "- Natural Gas is increasing due to its lower emissions, abundance, and economics\n",
    "- Petroleum will face a slow decline but there is not yet a feasible replacement as a transportation fuel and as a raw material for chemical production\n",
    "- Transition to renewables will not/cannot happen on order of 10 years (maybe even 30) without societal upheaval\n",
    "- Nuclear is a viable option but has its own challenges\n",
    "- Energy storage is likely to grow in importance\n",
    "- Ultimately, we'll need to use many forms of energy"
   ]
  },
  {
   "cell_type": "markdown",
   "metadata": {},
   "source": [
    "D&C 104: 17 Says: \"For the earth is full, and there is enough and to spare; yea, I prepared all things, and have given unto the children of men to be agents unto themselves.\"\n",
    "\n",
    "And the next verse says: \"Therefore, if any man shall take of the abundance which I have made, and impart not his portion, according to the law of my gospel, unto the poor and needy, he shall, with the wicked, lift up his eyes in hell, being in torment.\""
   ]
  },
  {
   "cell_type": "markdown",
   "metadata": {},
   "source": [
    "## Energy Ethics"
   ]
  },
  {
   "cell_type": "markdown",
   "metadata": {},
   "source": [
    "Per the AICHE Code of Ethics (https://www.aiche.org/about/code-ethics), and the National Society of Professional Engineers (https://www.nspe.org/resources/ethics/code-ethics) engineers should \"hold paramount the safety, health, and welfare of the public.\"  \n",
    "\n",
    "How does that ethics code apply to helping developing nations get access to energy?  "
   ]
  },
  {
   "cell_type": "markdown",
   "metadata": {},
   "source": []
  }
 ],
 "metadata": {
  "kernelspec": {
   "display_name": "jupiterbook",
   "language": "python",
   "name": "python3"
  },
  "language_info": {
   "codemirror_mode": {
    "name": "ipython",
    "version": 3
   },
   "file_extension": ".py",
   "mimetype": "text/x-python",
   "name": "python",
   "nbconvert_exporter": "python",
   "pygments_lexer": "ipython3",
   "version": "3.9.16"
  }
 },
 "nbformat": 4,
 "nbformat_minor": 2
}