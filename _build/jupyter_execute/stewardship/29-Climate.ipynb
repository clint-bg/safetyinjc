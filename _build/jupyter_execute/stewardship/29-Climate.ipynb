{
 "cells": [
  {
   "cell_type": "markdown",
   "metadata": {},
   "source": [
    "# 29-Climate and Energy"
   ]
  },
  {
   "cell_type": "markdown",
   "metadata": {},
   "source": [
    "The Earth gets energy from the sun and core of the earth is still quite hot. The energy from the sun is the main driver of the climate on Earth. The energy from the sun is not evenly distributed over the Earth's surface. The equator gets more energy than the poles. The energy from the sun is absorbed by the Earth and then re-emitted as infrared radiation. The Earth's atmosphere absorbs some of this infrared radiation and re-emits it back to the Earth's surface. This is the greenhouse effect. Without this greenhouse effect, we would be living in a much colder world."
   ]
  },
  {
   "cell_type": "markdown",
   "metadata": {},
   "source": [
    "Relatively recently, the concentration of atmospheric carbon dioxide has been increasing, although the concentration of CO2 has been estimated to be higher in the past. It is believed that the recent increase in CO2 is due primarily to burning of fossil fuels.\n"
   ]
  },
  {
   "cell_type": "markdown",
   "metadata": {},
   "source": [
    "## Heat from the Core of the Earth"
   ]
  },
  {
   "cell_type": "markdown",
   "metadata": {},
   "source": [
    "The core temperature of the Earth is estimate to be 6,000 C under very high pressures, composed primarily or iron (https://www.science.org/doi/10.1126/science.1233514). The heat flux to the surface from the core is on average 0.1 W/m^2. "
   ]
  },
  {
   "cell_type": "markdown",
   "metadata": {},
   "source": [
    "\n",
    "<img src=\"https://github.com/clint-bg/safetyinjc/blob/main/stewardship/supportfiles/earth-temps.jpeg?raw=trueg\" width=\"500\">\n",
    "\n",
    "https://www.discovermagazine.com/planet-earth/taking-the-temperature-of-earths-core"
   ]
  },
  {
   "cell_type": "markdown",
   "metadata": {},
   "source": [
    "## Heat from the Sun"
   ]
  },
  {
   "cell_type": "markdown",
   "metadata": {},
   "source": [
    "The heat flux from the sun is approximately 1360 W/m^2 (oscillating every 24 hours depending a little on the time of year and latitude). The Earth's surface temperature is about 15 C. The Earth's surface temperature is determined by the balance between the energy from the sun and the energy from the core."
   ]
  },
  {
   "cell_type": "markdown",
   "metadata": {},
   "source": [
    "<img src=\"https://github.com/clint-bg/safetyinjc/blob/main/stewardship/supportfiles/heatbalance.png?raw=trueg\" width=\"500\">"
   ]
  },
  {
   "cell_type": "markdown",
   "metadata": {},
   "source": [
    "The energy incident on the atmosphere from the sun, is absorbed and re-emitted by the Earth's surface, primarily as infrared radiation. That incident radiation has a wide range of wavelengths. Water, also a very powerful greenhouse gas varies from 1-4% of the atmosphere. The concentration of CO2 is about 0.04% of the atmosphere."
   ]
  },
  {
   "cell_type": "markdown",
   "metadata": {},
   "source": []
  }
 ],
 "metadata": {
  "language_info": {
   "codemirror_mode": {
    "name": "ipython",
    "version": 3
   },
   "file_extension": ".py",
   "mimetype": "text/x-python",
   "name": "python",
   "nbconvert_exporter": "python",
   "pygments_lexer": "ipython3",
   "version": "3.9.16"
  }
 },
 "nbformat": 4,
 "nbformat_minor": 2
}