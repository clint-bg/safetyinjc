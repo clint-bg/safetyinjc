{
 "cells": [
  {
   "cell_type": "markdown",
   "metadata": {},
   "source": [
    "# 33-Incident Evaluation"
   ]
  },
  {
   "cell_type": "markdown",
   "metadata": {},
   "source": [
    "Process Hazards Key Safety Principles:\n",
    "- **Replace** the hazardous material or process\n",
    "- **Reduce the quantity** of hazardous material\n",
    "- **Reduce the time** the hazardous material is present\n",
    "- **Reduce the number of people** exposed"
   ]
  },
  {
   "cell_type": "markdown",
   "metadata": {},
   "source": [
    "Key Tools for Safe Operations:\n",
    "- **Hazards Analysis (HA)** - An incident investigation before the incident\n",
    "- **Process Safety Information (PSI)** - Information about the process and hazards of the materials\n",
    "- Other **PSM** elements such as Management of Change, Operating Procedures, Training, Pre-Startup Safety Review, Mechanical Integrity, Hot Work Permit, Emergency Planning and Response, Incident Investigation, and Compliance Audits"
   ]
  },
  {
   "cell_type": "markdown",
   "metadata": {},
   "source": [
    "## Project Components"
   ]
  },
  {
   "cell_type": "markdown",
   "metadata": {},
   "source": [
    "- Process Background, Scope, and Incident Description\n",
    "- Process Flow Diagram (PFD) or Piping and Instrumentation Diagram (P&ID)\n",
    "- Process Safety Information\n",
    "- Hazards Analysis\n",
    "- Process Impacts (Ethical, Global, Economic, Enviornmental, and Societal)\n",
    "- Documentation"
   ]
  },
  {
   "cell_type": "markdown",
   "metadata": {},
   "source": [
    "### Process Impacts"
   ]
  },
  {
   "cell_type": "markdown",
   "metadata": {},
   "source": [
    "**Ethical** - How does the incident impact the ethical standards of the company and the industry? Or What ethical decisions led up to the incident? How could those decisions have been different, from an ethical standpoint?"
   ]
  },
  {
   "cell_type": "markdown",
   "metadata": {},
   "source": [
    "**Global** - How does the incident impact the global community? Is there a difference in how the process or incident is viewed in different countries? "
   ]
  },
  {
   "cell_type": "markdown",
   "metadata": {},
   "source": [
    "**Economic** - How does the incident impact the economy?"
   ]
  },
  {
   "cell_type": "markdown",
   "metadata": {},
   "source": [
    "**Environmental** - How does the incident impact the environment?"
   ]
  },
  {
   "cell_type": "markdown",
   "metadata": {},
   "source": [
    "**Societal** - How does the incident impact society? Does it change the attitudes of the public towards the company or industry?"
   ]
  },
  {
   "cell_type": "markdown",
   "metadata": {},
   "source": [
    "## Example Analysis - Primary Explosive Material Transfer"
   ]
  },
  {
   "cell_type": "markdown",
   "metadata": {},
   "source": [
    "### Process Background and Scope"
   ]
  },
  {
   "cell_type": "markdown",
   "metadata": {},
   "source": [
    "In the defense industry, primary explosives are used in the production of ammunition and other devices. These materials are sensitive to heat, shock, electrostatic discharge (ESD), impact, and friction. The process of transferring these materials from one location to another during processing occurs regularly. One such scenario is the transfer of a small quantity of Compound B from a pass-thru box to a hopper that feeds a press. An operator carries the Compound B in a small jar from the pass-thru box to the hopper. The scope of the analysis is from the time the operator picks up the jar of Compound B to the time the jar is emptied into the hopper."
   ]
  },
  {
   "cell_type": "markdown",
   "metadata": {},
   "source": [
    "### Process Flow Diagram"
   ]
  },
  {
   "cell_type": "markdown",
   "metadata": {},
   "source": [
    "This animated gif shows the process of moving a small quantity of material in a jar from the pass-thru to the the hopper."
   ]
  },
  {
   "cell_type": "markdown",
   "metadata": {},
   "source": [
    "<img src=\"https://github.com/clint-bg/safetyinjc/blob/main/stewardship/supportfiles/PFGif.gif?raw=trueg\" width=\"700\">"
   ]
  },
  {
   "cell_type": "markdown",
   "metadata": {},
   "source": [
    "### Incident Description"
   ]
  },
  {
   "cell_type": "markdown",
   "metadata": {},
   "source": [
    "On April 18, 20__, an operator was transferring a small quantity of Compound B from a pass-thru box to a hopper that feeds a press. The operator was wearing a lab coat and gloves. The operator picked up the jar of Compound B from the pass-thru box and was walking towards the hopper when the operator fell. The jar flew towards the hopper and upon impact exploded and caused a fire. The operator was injured and the fire was extinguished by the fire suppression system. The operator was taken to the hospital and treated for burns and lacerations. The operator was released from the hospital the next day."
   ]
  },
  {
   "cell_type": "markdown",
   "metadata": {},
   "source": [
    "```{toggle}\n",
    "<img src=\"https://github.com/clint-bg/safetyinjc/blob/main/stewardship/supportfiles/PFGifevent.gif?raw=trueg\" width=\"702\">\n",
    "```"
   ]
  },
  {
   "cell_type": "markdown",
   "metadata": {},
   "source": [
    "### Process Safety Information (PSI)"
   ]
  },
  {
   "cell_type": "markdown",
   "metadata": {},
   "source": [
    "Compound B is a complex of a reactive salt and heavy metals. It is toxic to living organisms and is unstable. It is sensitive to heat, shock, ESD, impact, and friction. It is used in the production of ammunition and other devices. The material is stored in a magazine and during processing, a portion of the storage amount is separated inside a shielded enclosure into a small jar. That jar is then transferred to a hopper that also is shielded. The hopper feeds a press that forms the material into a shape that is used in the production of ammunition."
   ]
  },
  {
   "cell_type": "markdown",
   "metadata": {},
   "source": [
    "**SDS** (Example inaccurate information for illustrative purposes only)\n",
    "\n",
    "The SDS for Compound B has the following applicable items:\n",
    "\n",
    "- **Physical and Chemical Properties** - Compound B is a white powder that is odorless. It is a complex of a reactive salt and heavy metals. It is toxic to living organisms and is unstable. It is sensitive to heat, shock, ESD, impact, and friction.\n",
    "- **Stability and Reactivity** - Compound B is unstable and is sensitive to heat, shock, ESD, impact, and friction.\n",
    "- **Toxicological Information** - Compound B is toxic to living organisms.\n",
    "- **Handling and Storage** - Compound B should be stored in a magazine. During processing, a portion of the storage amount is separated inside a shielded enclosure into a small jar. That jar is then transferred to a hopper that also is shielded.\n",
    "- **Exposure Controls and Personal Protection** - Operators should wear lab coats and gloves when handling Compound B. Operations should control ESD and avoid impact and friction scenarios.\n"
   ]
  },
  {
   "cell_type": "markdown",
   "metadata": {},
   "source": [
    "**Small-scale Safety Testing**\n",
    "\n",
    "Safety testing with friction, impact, and ESD devices have shown that the threshold initiation level (a 3.4% chance of ignition) is 30 lbf at 8 feet per second, 10 cm, and 150 mJ, respectively. "
   ]
  },
  {
   "cell_type": "markdown",
   "metadata": {},
   "source": [
    "**Equipment Details**"
   ]
  },
  {
   "cell_type": "markdown",
   "metadata": {},
   "source": [
    "The pass-thru box is a shielded enclosure that has a door on each side. The operator opens the door on one side and places the jar of Compound B inside. The operator then closes the door and opens the door on the other side. The operator then removes the jar of Compound B from the pass-thru box. The hopper is a shielded enclosure that has a door on the top. The operator opens the door and empties the jar of Compound B into the hopper. The operator then closes the door."
   ]
  },
  {
   "cell_type": "markdown",
   "metadata": {},
   "source": [
    "**Previous Incidents**\n",
    "\n",
    "There have been no previous incidents involving the transfer of Compound B from the pass-thru box to the hopper. However, in a related process, an operator did drop a small quantity of Compound B without incident. "
   ]
  },
  {
   "cell_type": "markdown",
   "metadata": {},
   "source": [
    "### Hazards Analysis"
   ]
  },
  {
   "cell_type": "markdown",
   "metadata": {},
   "source": [
    "**HAZAOP** HAZard and OPerability studies are best suited for processes with flowing materials and multiple inter-related steps. A piping and instrumentation diagram (P&ID) is used to identify the process steps and the materials that flow between them. The P&ID is then used to identify the nodes for which the guide words can be applied."
   ]
  },
  {
   "cell_type": "markdown",
   "metadata": {},
   "source": [
    "**FTA and FMEA** A Fault-Tree Analysis (FTA) and a Failure Modes and Effects Analysis (FMEA) are best suited for processes that have fewer steps but can have a myriad of failure modes. These tools are used to identify the failure modes and the effects of those failures, including safeguards, and recommendations. An FTA and FMEA are better suited to this incident scenario than a HAZOP."
   ]
  },
  {
   "cell_type": "markdown",
   "metadata": {},
   "source": [
    "#### Fault Tree"
   ]
  },
  {
   "cell_type": "markdown",
   "metadata": {},
   "source": [
    "<img src=\"https://github.com/clint-bg/safetyinjc/blob/main/stewardship/supportfiles/FTA_ex.png?raw=trueg\" width=\"700\">"
   ]
  },
  {
   "cell_type": "markdown",
   "metadata": {},
   "source": [
    "#### FMEA"
   ]
  },
  {
   "cell_type": "markdown",
   "metadata": {},
   "source": []
  }
 ],
 "metadata": {
  "language_info": {
   "codemirror_mode": {
    "name": "ipython",
    "version": 3
   },
   "file_extension": ".py",
   "mimetype": "text/x-python",
   "name": "python",
   "nbconvert_exporter": "python",
   "pygments_lexer": "ipython3",
   "version": "3.9.16"
  }
 },
 "nbformat": 4,
 "nbformat_minor": 2
}