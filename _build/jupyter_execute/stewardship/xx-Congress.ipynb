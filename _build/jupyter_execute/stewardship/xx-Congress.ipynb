{
 "cells": [
  {
   "cell_type": "markdown",
   "metadata": {},
   "source": [
    "## Congressional Acts \n",
    "\n",
    "From AI:\n",
    "\n",
    "Early Foundations\n",
    "\n",
    "- The Homestead Act (1862): While primarily focused on Western expansion, this act encouraged the settlement and development of lands, sometimes leading to unsustainable resource use.\n",
    "- Establishment of Yellowstone National Park (1872): The first national park in the world, setting a precedent for land preservation and marking a shift towards conservation.\n",
    "- Forest Reserve Act (1891): Gave the President power to set aside public lands as forest reserves, paving the way for the National Forest System.\n",
    "- Antiquities Act (1906): Empowered the President to designate National Monuments, protecting sites of historical, cultural, or scientific significance.\n",
    "\n",
    "Pollution-Focused Legislation\n",
    "\n",
    "- Rivers and Harbors Appropriation Act (1899): Prohibited dumping refuse into navigable waters, an initial step towards water pollution control.\n",
    "- The Clean Air Acts (1963, major amendments in 1970, 1977, 1990): A series of laws establishing national air quality standards, regulating emissions from various sources (factories, cars, etc.), and setting a framework for cooperation between federal and state governments regarding air quality.\n",
    "- The Clean Water Act (1972): The cornerstone of water pollution control efforts, aimed at making surface waters fishable and swimmable by regulating pollutant discharges and setting water quality standards.\n",
    "- Safe Drinking Water Act (1974): Established national drinking water standards and regulations, with a focus on protecting public health from contaminants.\n",
    "- Toxic Substances Control Act (1976): Regulates the manufacture, import, processing, distribution, and disposal of chemicals, with the goal of protecting human health and the environment.\n",
    "- Oil Pollution Act (1990): Created in response to the Exxon Valdez oil spill, this law aims to prevent and respond to oil spills, holding responsible parties accountable for cleanup and damages.\n",
    "\n",
    "Protecting Species & Habitats\n",
    "\n",
    "- Lacey Act (1900): One of the first wildlife protection laws, combating illegal trade in wildlife and plants.\n",
    "- Endangered Species Act (1973): Powerful conservation tool for identifying at-risk species and creating plans to prevent extinction and promote recovery.\n",
    "- National Wildlife Refuge System Improvement Act (1997): Provides guidelines and comprehensive management framework for the US National Wildlife Refuge System.\n",
    "\n",
    "Hazardous Substances and Waste\n",
    "\n",
    "- Resource Conservation and Recovery Act (RCRA) (1976): Regulates the handling of hazardous waste, with a \"cradle-to-grave\" scope to promote responsible disposal and reduce environmental risk.\n",
    "- Comprehensive Environmental Response, Compensation, and Liability Act (CERCLA) (1980): Also known as \"Superfund,\" established a program to fund the cleanup of contaminated hazardous waste sites, holding polluters accountable.\n",
    "- Pollution Prevention Act (1990): Emphasizes source reduction and pollution prevention, aiming to reduce or eliminate waste at the source.\n",
    "\n",
    "Broadening Environmental Policy\n",
    "\n",
    "- National Environmental Policy Act (NEPA) (1970): Requires federal agencies to evaluate the environmental impacts of proposed projects with potential for significant effects, promoting informed decision-making.\n",
    "- Establishment of the Environmental Protection Agency (EPA) (1970): Consolidation of federal environmental programs into a single agency, granting the EPA broad authority to implement and enforce environmental laws."
   ]
  },
  {
   "cell_type": "markdown",
   "metadata": {},
   "source": []
  }
 ],
 "metadata": {
  "language_info": {
   "codemirror_mode": {
    "name": "ipython",
    "version": 3
   },
   "file_extension": ".py",
   "mimetype": "text/x-python",
   "name": "python",
   "nbconvert_exporter": "python",
   "pygments_lexer": "ipython3",
   "version": "3.9.16"
  }
 },
 "nbformat": 4,
 "nbformat_minor": 2
}