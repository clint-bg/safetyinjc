{
 "cells": [
  {
   "cell_type": "markdown",
   "metadata": {},
   "source": [
    "Complete homework and example with diffusion of contaminant into soil then a stream and dispersion in a small pond with fish. Discovery of leak from mass balance."
   ]
  },
  {
   "cell_type": "markdown",
   "metadata": {},
   "source": [
    "## Plastic Reduction"
   ]
  },
  {
   "cell_type": "markdown",
   "metadata": {},
   "source": [
    "https://www.foxnews.com/opinion/why-plastic-bag-bans-failing "
   ]
  },
  {
   "cell_type": "markdown",
   "metadata": {},
   "source": [
    "Bans on plastic bags had unintented consequences. The use of plastic bags reduced but the use of larger, more massive plastic bags increased. The total mass of plastic bags increased."
   ]
  },
  {
   "cell_type": "markdown",
   "metadata": {},
   "source": []
  }
 ],
 "metadata": {
  "language_info": {
   "codemirror_mode": {
    "name": "ipython",
    "version": 3
   },
   "file_extension": ".py",
   "mimetype": "text/x-python",
   "name": "python",
   "nbconvert_exporter": "python",
   "pygments_lexer": "ipython3",
   "version": "3.9.16"
  }
 },
 "nbformat": 4,
 "nbformat_minor": 2
}