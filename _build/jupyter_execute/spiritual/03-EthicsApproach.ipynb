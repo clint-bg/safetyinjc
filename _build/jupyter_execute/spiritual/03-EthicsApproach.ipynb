{
 "cells": [
  {
   "cell_type": "markdown",
   "metadata": {},
   "source": [
    "# 03-Ethics Approach"
   ]
  },
  {
   "cell_type": "markdown",
   "metadata": {},
   "source": [
    "## Course Items\n",
    "- Book review\n",
    "- AIChE Code of Ethics (warning that this will be on the test)"
   ]
  },
  {
   "cell_type": "markdown",
   "metadata": {},
   "source": [
    "## Homework\n",
    "- HW 1.1\n",
    "- Life Planning Activity"
   ]
  },
  {
   "cell_type": "markdown",
   "metadata": {},
   "source": [
    "## Additional Ethics Resources and Activities"
   ]
  },
  {
   "cell_type": "markdown",
   "metadata": {},
   "source": [
    "Ethics decisions are made with respect to the principles to which you are committed. If someone is not committed to a specific principle set, it is easier to make unethical decisions with one or more justifications or rationalizations.\n",
    "\n",
    "It is best to commit to a set of principles prior to the time when you are faced with an ethical decision. "
   ]
  },
  {
   "cell_type": "markdown",
   "metadata": {},
   "source": [
    "::::{admonition} Ethics Approach Step 1\n",
    ":class: dropdown\n",
    "**Define**\n",
    "***\n",
    ":::{toggle}\n",
    "Carefully determine the root dilemma to be resolved. What is the real problem? It is common for ethical dilemmas to be convoluted combinations of many issues and it is tempting to hastily jump in and try to solve the problem. When we do, we often focus on the wrong problem and end up exacerbating the entire situation. Often dilemmas are nothing more than a lack of communication. \n",
    "\n",
    "Proper definition requires some sleuth work as the relevant data are gathered, the history of the situation is traced, the layers of \"who said what and when\" are peeled away, and the real dilemma is brought to light. Patience is also required. It is easy to jump to conclusions based on one person's opinion or on less than all the data. Contractual, legal, and ethical obligations and commitments must be included as part of the definition.\n",
    ":::\n",
    "::::"
   ]
  },
  {
   "cell_type": "markdown",
   "metadata": {
    "vscode": {
     "languageId": "plaintext"
    }
   },
   "source": [
    "::::{admonition} Ethics Approach Step 2\n",
    ":class: dropdown\n",
    "**Consider and Analyze**\n",
    "***\n",
    ":::{toggle}\n",
    "Consider possible actions and then forecast the outcome. This is something like a chess game since there are multiple possible outcomes for a given action depending upon the reactions of others. A good chess player looks multiple moves ahead to anticipate outcomes, and this same mentality is valuable in considering actions to resolve an ethical dilemma. Use the clear principles of the Gospel of Jesus Christ and consider the possible courses of action from each possible course of action. The above ethics principles can be helpful. What actions would be suggested by each ethics theory? The outcomes that need to be considered include the impact on others including the public, co-workers, and family. It is helpful to organize your analysis in a flowsheet that traces actions and outcomes.\n",
    ":::\n",
    "::::"
   ]
  },
  {
   "cell_type": "markdown",
   "metadata": {},
   "source": [
    "::::{admonition} Ethics Approach Step 3\n",
    ":class: dropdown\n",
    "**Plan**\n",
    "***\n",
    ":::{toggle}\n",
    " With the results of your analysis, it is time to select and plan your strategy. As you plan and prepare to put your plan into action, seek the guidance of the Spirit. Your plan will usually be a process involving several or many steps rather than a one-step action. Some steps may involve data gathering, and some will be dependent upon the intermediate responses and reactions of others. A good plan will produce inner peace—it will let you sleep at night.\n",
    ":::\n",
    "::::"
   ]
  },
  {
   "cell_type": "markdown",
   "metadata": {},
   "source": [
    "::::{admonition} Ethics Approach Step 4\n",
    ":class: dropdown\n",
    "**Seek Confirmation**\n",
    "***\n",
    ":::{toggle}\n",
    " After you have done your homework and decided on a plan, you should seek divine approbation. (See D&C Section 9.) If this does not come, then more homework is most likely needed (Items 1, 2, and 3 above.) When you have this approval, then it is time to put the plan into action.\n",
    ":::\n",
    "::::"
   ]
  },
  {
   "cell_type": "markdown",
   "metadata": {},
   "source": [
    "::::{admonition} Ethics Approach Step 5\n",
    ":class: dropdown\n",
    "**Act**\n",
    "***\n",
    ":::{toggle}\n",
    " Do it. Carry out your plan, being cautious and flexible as events unfold. Stick to your principles, but be humble and willing to admit your own failings and culpability\n",
    ":::\n",
    "::::"
   ]
  },
  {
   "cell_type": "markdown",
   "metadata": {},
   "source": [
    "::::{admonition} Ethics Approach Step 6\n",
    ":class: dropdown\n",
    "**Reflect**\n",
    "***\n",
    ":::{toggle}\n",
    " Each time we go through the process of dilemma resolution, we should learn about ourselves and others. Take the time to digest the lessons learned so that your wisdom can increase in preparation for the next time. It helps to take some notes or make entries in a journal\n",
    ":::\n",
    "::::"
   ]
  },
  {
   "cell_type": "markdown",
   "metadata": {},
   "source": [
    "## Some Ethics Case Examples"
   ]
  },
  {
   "cell_type": "markdown",
   "metadata": {},
   "source": [
    "- Chernobyl Firefighters\n",
    "- Military Agreement of (Mission, Reactor, Ship, then Crew)\n",
    "- Limited Information results in Bad Decision\n",
    "- The Challenger Disaster\n",
    "- Personal Story: Home Purchase\n",
    "- Sulfanilamide Delayed Release \n",
    "- The 1971 Ford Pinto\n",
    "- Censorship"
   ]
  },
  {
   "cell_type": "markdown",
   "metadata": {},
   "source": []
  }
 ],
 "metadata": {
  "language_info": {
   "codemirror_mode": {
    "name": "ipython",
    "version": 3
   },
   "file_extension": ".py",
   "mimetype": "text/x-python",
   "name": "python",
   "nbconvert_exporter": "python",
   "pygments_lexer": "ipython3",
   "version": "3.9.16"
  }
 },
 "nbformat": 4,
 "nbformat_minor": 2
}