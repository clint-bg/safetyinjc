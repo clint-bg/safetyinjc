{
 "cells": [
  {
   "cell_type": "markdown",
   "metadata": {},
   "source": [
    "# Group Project"
   ]
  },
  {
   "cell_type": "markdown",
   "metadata": {},
   "source": [
    "As part of ChEn 311 - Health, Safety, and Environment, a group project is assigned to help gain practice using the tools discussed in class including ethics evaluation, hazards analysis, process safety information, and environmental impacts. You, together with your group members, focus on an accident scenario documented in the news or other literature such that you can complete an analysis of that accident scenario or other real world event including:\n",
    "1. Completing a hazards analysis of the system/ scenario identifying key processing steps with associated hazards, safeguards, risk ranking, and recommendations\n",
    "2. Create or otherwise document a general process flow diagram (PFD) or piping and instrumentation diagram (P&ID) of the system/ scenario, \n",
    "3. Document key process safety information (PSI) that is critical to the successful and safe operation of the process,\n",
    "4. Identify and document the\n",
    "    - (a) ethical,\n",
    "    - (b) global,\n",
    "    - (c) economic,\n",
    "    - (d) environmental, and\n",
    "    - (e) societal impacts of that specific accident or event."
   ]
  },
  {
   "cell_type": "markdown",
   "metadata": {},
   "source": [
    "Please refer to the Projects page on Learning Suite (under Content) for further details."
   ]
  },
  {
   "cell_type": "markdown",
   "metadata": {},
   "source": []
  }
 ],
 "metadata": {
  "language_info": {
   "codemirror_mode": {
    "name": "ipython",
    "version": 3
   },
   "file_extension": ".py",
   "mimetype": "text/x-python",
   "name": "python",
   "nbconvert_exporter": "python",
   "pygments_lexer": "ipython3",
   "version": "3.9.16"
  }
 },
 "nbformat": 4,
 "nbformat_minor": 2
}