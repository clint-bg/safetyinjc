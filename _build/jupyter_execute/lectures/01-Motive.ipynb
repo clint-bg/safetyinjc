{
 "cells": [
  {
   "attachments": {},
   "cell_type": "markdown",
   "metadata": {},
   "source": [
    "# 01-Motivation with Example"
   ]
  },
  {
   "attachments": {},
   "cell_type": "markdown",
   "metadata": {},
   "source": [
    "Engineers solve problems. You as a chemical engineer are likely excited to collaborate with others to use chemistry and physics together with other engineering principles to solve problems our society faces. This first discussion hopefully shows you the skills you'll have by the end of the semester and how they can be used to solve problems."
   ]
  },
  {
   "cell_type": "markdown",
   "metadata": {},
   "source": [
    "## Chemical Engineering Career Outlook\n"
   ]
  },
  {
   "cell_type": "markdown",
   "metadata": {},
   "source": [
    "<img src=\"https://github.com/clint-bg/comptools/blob/main/lectures/supportfiles/ChemEOutlook.png?raw=trueg\" width=\"400\">"
   ]
  },
  {
   "cell_type": "markdown",
   "metadata": {},
   "source": [
    "Hopefully from the above you can see that BYU chemical engineers are unique and in demand. The skills you will learn in this class will help you to be successful in your career."
   ]
  },
  {
   "attachments": {},
   "cell_type": "markdown",
   "metadata": {},
   "source": [
    "## Current Worldwide Problems in Engineering\n",
    "Chemical Engineers are poised to help in each of these areas:\n",
    "* Energy \n",
    "    - Worldwide `energy demands are growing`\n",
    "    - We need to use fossil fuels more efficiently and capture more of the biproducts\n",
    "    - [Energy.gov](https://www.energy.gov/)\n",
    "    - [Deseret News Article on Potential Energy Crisis](https://www.deseret.com/utah/2023/6/28/23777165/rural-electric-provider-in-utah-impending-u-s-energy-crisis-moon-lake-coal-plants-mitt-romney)\n",
    "    - Fry, Memmott, Baxter, Rappleye, Wheeler, and Lignell\n",
    "* Chemical Production\n",
    "    - We can continue to `improve chemical production` processes\n",
    "    - [Chemical and Engineering News](https://cen.acs.org/)\n",
    "    - Argyle, Hedengren, Knotts, Nickerson, Seo, Tree, Wilding\n",
    "* Health \n",
    "    - We need to `improve` health care delivery and care\n",
    "    - [World Health Organization](https://www.who.int/)\n",
    "    - Bundy, Pitt, and Lewis\n",
    "* Water \n",
    "    - We need to improve water treatment,  distribution, and conservation.\n",
    "    - [World Health Organization](https://www.who.int/news-room/fact-sheets/detail/drinking-water)\n",
    "* Transportation - How do we better move people and goods around the world?\n",
    "* Environment - How do we efficiently continue improving our environment?\n",
    "    - Plastics production and waste handling and reuse needs improvement.\n",
    "    - [Environmental Protection Agency](https://www.epa.gov/)\n",
    "* Security - How do we continue to adapt and peacefully protect people from threats?\n",
    "* Exploration, Food, and more..."
   ]
  },
  {
   "attachments": {},
   "cell_type": "markdown",
   "metadata": {},
   "source": [
    "You are the engineers that will work to improve societies' and individuals' quality of life around the world."
   ]
  },
  {
   "attachments": {},
   "cell_type": "markdown",
   "metadata": {},
   "source": [
    "## What tools will you use to solve these problems?\n",
    "* You'll stand on the backs of giants and be familiar with their successes.\n",
    "* You'll **collaborate with others**.\n",
    "* You'll utilize both:\n",
    "    - **Computational tools** - to solve problems with computers\n",
    "    - **Experimental methods** - to gain further insights.\n",
    "    - Coupling both theoretical and experimental methods is a more efficient way to reach the best solution than either one alone.\n"
   ]
  },
  {
   "attachments": {},
   "cell_type": "markdown",
   "metadata": {},
   "source": [
    "This course is focused primarily on helping you become more familiar with computation tools in an applied engineering context."
   ]
  },
  {
   "attachments": {},
   "cell_type": "markdown",
   "metadata": {},
   "source": [
    "```{danger}\n",
    "The following example is not intended to be overwhelming but to show you an example of what I hope you'll be able to do at the <b>end of the course</b>. I wanted to give you a vision of using the tools in an example. \n",
    "```"
   ]
  },
  {
   "attachments": {},
   "cell_type": "markdown",
   "metadata": {},
   "source": [
    "```{note}\n",
    "Foundational principles used in this and other examples in the lectures are also discussed in the [Foundations](foundations.md) section of the course.\n",
    "```"
   ]
  },
  {
   "attachments": {},
   "cell_type": "markdown",
   "metadata": {},
   "source": [
    "## Intro Demonstration\n",
    "`Flames` are critical to many processes that benefit us: cooking, heating, transportation, electricity, etc. The combustion products from burning fuels can present problems. However, we have been reducing those negative effects for decades. Below is a plot by the EPA showing that trend of improvement ([also here](https://www.epa.gov/air-trends/air-quality-national-summary)):"
   ]
  },
  {
   "attachments": {},
   "cell_type": "markdown",
   "metadata": {},
   "source": [
    "<img src=\"https://github.com/clint-bg/comptools/blob/main/lectures/supportfiles/image001.png?raw=true\" width=\"800\">"
   ]
  },
  {
   "attachments": {},
   "cell_type": "markdown",
   "metadata": {},
   "source": [
    "### Flames are Ubiquitous\n",
    "In this example we'll measure the temperature of a butane flame with a thermocouple and a low-cost data acquisition unit (ESP32) with an amplifier(MAX6675). We'll also predict the temperature of the flame using several models in python."
   ]
  },
  {
   "attachments": {},
   "cell_type": "markdown",
   "metadata": {},
   "source": [
    "The below theoretical example problem calculates  the adiabatic (no heat losses) flame temperature of butane (C4H10) and air mixture. The first method is completed with a model of the enthalpy of formation of the reactants and products and the heat of combustion. The second method uses the Cantera package to calculate the adiabatic flame temperature. "
   ]
  },
  {
   "attachments": {},
   "cell_type": "markdown",
   "metadata": {},
   "source": [
    "$$\n",
    "\\begin{equation}\n",
    "C_4H_{10} + 6.5\\cdot O_2 + x\\cdot N_2 => 4\\cdot CO_2 + 5\\cdot H_2O + x\\cdot N_2\n",
    "\\end{equation}\n",
    "$$"
   ]
  },
  {
   "attachments": {},
   "cell_type": "markdown",
   "metadata": {},
   "source": [
    "where $x$ is the number of moles of nitrogen which can be found from the nitrogen balance assuming that the amount of air in the atmosphere is 79% nitrogen and 21% oxygen. Thus x is simply the number of moles of oxygen divided by 0.21 multiplied by 0.79 (6.5*0.79/0.21 = 24.4)."
   ]
  },
  {
   "attachments": {},
   "cell_type": "markdown",
   "metadata": {},
   "source": [
    "### First manually calculate the adiabatic flame temperature\n",
    "For butane combustion the below code calculates the adiabatic flame temperature using the enthalpy of formation of the reactants and products and the heat of combustion as well as the heat capacities of the products"
   ]
  },
  {
   "cell_type": "code",
   "execution_count": 1,
   "metadata": {},
   "outputs": [],
   "source": [
    "# Adiabatic flame temperature of butane-air mixture from heats of formation\n",
    "\n",
    "# First import the needed packages\n",
    "import numpy as np \n",
    "import matplotlib.pyplot as plt\n",
    "from scipy import integrate\n",
    "import param\n",
    "\n",
    "# Define the reaction:\n",
    "# C4H10 + 6.5O2 + 24.4N2 => 4CO2 + 5H2O + 24.4N2\n",
    "\n",
    "#define a class for the reactants and products\n",
    "class species(param.Parameterized):\n",
    "    H_rxn = param.Number(-1,bounds=(-1e10,0),doc='Heat of Reaction in kJ/mol')\n",
    "    H_f = param.Number(-1,bounds=(-1e10,0),doc='Heat of Formation in kJ/mol')\n",
    "    C_pgl = param.List([1,1,1,1,1],doc='Heat capacity coefficients in J/kmol/K')\n",
    "    M_w = param.Number(1,bounds=(0,10000),doc='Molecular weight in g/mol')\n",
    "    coeff = param.Number(1,bounds=(-100,100),doc='Stoichiometric coefficient')\n",
    "\n",
    "    #define a function to calculate the ideal gas heat capacity\n",
    "    def Cp(self,T):\n",
    "        A = self.C_pgl[0]; B = self.C_pgl[1]; C = self.C_pgl[2]; D = self.C_pgl[3]; E = self.C_pgl[4]; \n",
    "        return A + B*((C/T)/np.sinh(C/T))**2 + D*((E/T)/np.cosh(E/T))**2 \n",
    "    \n",
    "    #define a function to calculate the enthalpy based on the ideal gas heat capacity\n",
    "    def enthalpy(self,T,TO): #units of kJ/mol\n",
    "        return self.coeff*(integrate.quad(self.Cp,TO,T)[0]/1e6)\n",
    "\n",
    "#define reactants and products (estimated) for butane combustion\n",
    "C4H10 = species(H_rxn=-2657.32,H_f=-125,C_pgl=[80152,162410,841,105747,2476],M_w=58.12,coeff=-1)\n",
    "O2 = species(H_rxn=0,H_f=0,C_pgl=[29100,10040,2526,9356,1153],M_w=32.0,coeff=-6.5)\n",
    "CO2 = species(H_rxn=0,H_f=-394,C_pgl=[29370,34540,1428,26400,588],M_w=44.01,coeff=4)\n",
    "H2O = species(H_rxn=0,H_f=-242,C_pgl=[33363,26790,2610,8896,1169],M_w=18.02,coeff=5)\n",
    "N2 = species(H_rxn=0,H_f=0,C_pgl=[29105,8615,1701,103,910],M_w=28.01,coeff=-24.4)\n"
   ]
  },
  {
   "attachments": {},
   "cell_type": "markdown",
   "metadata": {},
   "source": [
    "$$\n",
    "\\begin{equation}\n",
    "H_i = \\int_{T_{ref}}^{T}{C_{p,i}dT}\n",
    "\\end{equation}\n",
    "$$\n",
    "\n",
    "$$\n",
    "\\begin{equation}\n",
    "\\sum_{out}{n_iH_i(T_{ad})}  + n_f\\Delta H_{c} - \\sum{n_i H_i(T_{in})} = 0\n",
    "\\end{equation}\n",
    "$$\n",
    "\n",
    "where $n_i$ is the number of moles of each species, $H_i$ is the enthalpy of formation of each species, $T_{ad}$ is the adiabatic flame temperature, $n_f$ is the number of moles of fuel, $\\Delta H_{c}$ is the heat of combustion of the fuel, and $T_{in}$ is the initial temperature of the reactants."
   ]
  },
  {
   "cell_type": "code",
   "execution_count": 2,
   "metadata": {},
   "outputs": [],
   "source": [
    "#define initial conditions\n",
    "T0 = 298.0 #K\n",
    "\n",
    "#define a function for the enthalpy of the reactants\n",
    "def H_react(T):\n",
    "    formation = C4H10.coeff*C4H10.H_f + O2.coeff*O2.H_f + O2.coeff*N2.H_f\n",
    "    return C4H10.enthalpy(T,T0) + O2.enthalpy(T,T0) + N2.enthalpy(T,T0) + formation\n",
    "\n",
    "#also define a function for the enthalpy of the products\n",
    "def H_prod(T):\n",
    "    return CO2.enthalpy(T,T0) + H2O.enthalpy(T,T0) - N2.enthalpy(T,T0)"
   ]
  },
  {
   "cell_type": "code",
   "execution_count": 3,
   "metadata": {},
   "outputs": [
    {
     "name": "stdout",
     "output_type": "stream",
     "text": [
      "The adiabatic flame temperature is 2217.02 C\n"
     ]
    }
   ],
   "source": [
    "# Use fsolve to find the addiabatic temperature from Equation 1\n",
    "# first import the fsolve function\n",
    "from scipy.optimize import fsolve\n",
    "# next react the reactants to the products at T0 then heat the products to the adiabatic temperature\n",
    "T_ad = fsolve(lambda T: H_react(T0) + C4H10.coeff*C4H10.H_rxn - H_prod(T),T0)[0]\n",
    "print(f'The adiabatic flame temperature is {T_ad-273:.2f} C')"
   ]
  },
  {
   "attachments": {},
   "cell_type": "markdown",
   "metadata": {},
   "source": [
    "### Second calculate the adiabatic flame temperature using Cantera\n",
    "Cantera is an open-source thermo-chemical-kinetics package that can be used to calculate the adiabatic flame temperature and other chemical engineering common problem solutions. The code below uses the Cantera package to calculate the adiabatic flame temperature. Furter info on [Cantera is here](https://cantera.org/)."
   ]
  },
  {
   "cell_type": "code",
   "execution_count": 4,
   "metadata": {},
   "outputs": [
    {
     "name": "stdout",
     "output_type": "stream",
     "text": [
      "The equilibrium flame temperature is 2001.39 C\n",
      "The eq. gas mole fractions for H2O, CO2, N2, O2 are 0.14,0.11,0.72,0.01, respectively\n",
      "\n",
      "  gas:\n",
      "\n",
      "       temperature   2274.4 K\n",
      "          pressure   1.0132e+05 Pa\n",
      "           density   0.15093 kg/m^3\n",
      "  mean mol. weight   28.167 kg/kmol\n",
      "   phase of matter   gas\n",
      "\n",
      "                          1 kg             1 kmol     \n",
      "                     ---------------   ---------------\n",
      "          enthalpy       -1.3233e+05       -3.7274e+06  J\n",
      "   internal energy       -8.0368e+05       -2.2638e+07  J\n",
      "           entropy            9672.3        2.7244e+05  J/K\n",
      "    Gibbs function       -2.2131e+07       -6.2337e+08  J\n",
      " heat capacity c_p            1471.7             41454  J/K\n",
      " heat capacity c_v            1176.5             33140  J/K\n",
      "\n",
      "                      mass frac. Y      mole frac. X     chem. pot. / RT\n",
      "                     ---------------   ---------------   ---------------\n",
      "                N2           0.72011           0.72406           -27.696\n",
      "                 H        1.6842e-05        0.00047062           -12.838\n",
      "                O2         0.0077947         0.0068616           -34.213\n",
      "                OH         0.0022466         0.0037209           -29.945\n",
      "                 O        0.00020085        0.00035361           -17.106\n",
      "                H2        0.00022096         0.0030872           -25.677\n",
      "               H2O          0.091424           0.14295           -42.783\n",
      "               HO2        8.1137e-07        6.9242e-07           -47.051\n",
      "              H2O2        5.9634e-08        4.9384e-08           -59.889\n",
      "                CO          0.012545          0.012616           -38.368\n",
      "               CO2           0.16544           0.10589           -55.475\n",
      "               HCO        1.2682e-09         1.231e-09           -51.206\n",
      "              CH2O        1.6886e-11        1.5841e-11           -64.045\n",
      "     [  +44 minor]        1.3908e-16        1.9315e-16  \n",
      "\n"
     ]
    }
   ],
   "source": [
    "import cantera as ct\n",
    "gas1 = ct.Solution('sdmech.yaml')\n",
    "gas1.TP = T0, ct.one_atm\n",
    "gas1.set_equivalence_ratio(1.0, 'C4H10', 'O2:1, N2:3.76')\n",
    "gas1.equilibrate('HP')\n",
    "print(f'The equilibrium flame temperature is {gas1.T-273:.2f} C')\n",
    "comps = gas1['H2O','CO2','N2','O2'].X\n",
    "print(f'The eq. gas mole fractions for H2O, CO2, N2, O2 are {comps[0]:.2f},{comps[1]:.2f},{comps[2]:.2f},{comps[3]:.2f}, respectively')\n",
    "gas1()"
   ]
  },
  {
   "attachments": {},
   "cell_type": "markdown",
   "metadata": {},
   "source": [
    "```{warning}\n",
    "You may get an error saying sdmech.yaml isn't present in your system. As part of that error, it likely will tell you where to put it if you had it. You can download it from here: [sdmech.yaml](https://github.com/clint-bg/comptools/tree/main/lectures/supportfiles/sdmech.yaml) and put it in the location where it says it's looking for it.\n",
    "```"
   ]
  },
  {
   "attachments": {},
   "cell_type": "markdown",
   "metadata": {},
   "source": [
    "### Cantera can also estimate the species and temperature  in a 1-D flame"
   ]
  },
  {
   "cell_type": "code",
   "execution_count": 5,
   "metadata": {},
   "outputs": [
    {
     "ename": "KeyboardInterrupt",
     "evalue": "",
     "output_type": "error",
     "traceback": [
      "\u001b[0;31m---------------------------------------------------------------------------\u001b[0m",
      "\u001b[0;31mKeyboardInterrupt\u001b[0m                         Traceback (most recent call last)",
      "Cell \u001b[0;32mIn[5], line 20\u001b[0m\n\u001b[1;32m     16\u001b[0m \u001b[38;5;66;03m#f.show_solution()\u001b[39;00m\n\u001b[1;32m     17\u001b[0m \n\u001b[1;32m     18\u001b[0m \u001b[38;5;66;03m# Solve with mixture-averaged transport model\u001b[39;00m\n\u001b[1;32m     19\u001b[0m f\u001b[38;5;241m.\u001b[39mtransport_model \u001b[38;5;241m=\u001b[39m \u001b[38;5;124m'\u001b[39m\u001b[38;5;124mMix\u001b[39m\u001b[38;5;124m'\u001b[39m\n\u001b[0;32m---> 20\u001b[0m \u001b[43mf\u001b[49m\u001b[38;5;241;43m.\u001b[39;49m\u001b[43msolve\u001b[49m\u001b[43m(\u001b[49m\u001b[43mloglevel\u001b[49m\u001b[38;5;241;43m=\u001b[39;49m\u001b[43mloglevel\u001b[49m\u001b[43m,\u001b[49m\u001b[43m \u001b[49m\u001b[43mauto\u001b[49m\u001b[38;5;241;43m=\u001b[39;49m\u001b[38;5;28;43;01mTrue\u001b[39;49;00m\u001b[43m)\u001b[49m\n\u001b[1;32m     21\u001b[0m \u001b[38;5;66;03m#f.show_solution()\u001b[39;00m\n",
      "File \u001b[0;32m~/opt/anaconda3/envs/jupiterbook/lib/python3.9/site-packages/cantera/onedim.py:898\u001b[0m, in \u001b[0;36mFreeFlame.solve\u001b[0;34m(self, loglevel, refine_grid, auto)\u001b[0m\n\u001b[1;32m    896\u001b[0m \u001b[38;5;28;01mfor\u001b[39;00m _ \u001b[38;5;129;01min\u001b[39;00m \u001b[38;5;28mrange\u001b[39m(\u001b[38;5;241m12\u001b[39m):\n\u001b[1;32m    897\u001b[0m     \u001b[38;5;28;01mtry\u001b[39;00m:\n\u001b[0;32m--> 898\u001b[0m         \u001b[38;5;28;43msuper\u001b[39;49m\u001b[43m(\u001b[49m\u001b[43m)\u001b[49m\u001b[38;5;241;43m.\u001b[39;49m\u001b[43msolve\u001b[49m\u001b[43m(\u001b[49m\u001b[43mloglevel\u001b[49m\u001b[43m,\u001b[49m\u001b[43m \u001b[49m\u001b[43mrefine_grid\u001b[49m\u001b[43m,\u001b[49m\u001b[43m \u001b[49m\u001b[43mauto\u001b[49m\u001b[43m)\u001b[49m\n\u001b[1;32m    899\u001b[0m         \u001b[38;5;28;01mbreak\u001b[39;00m\n\u001b[1;32m    900\u001b[0m     \u001b[38;5;28;01mexcept\u001b[39;00m DomainTooNarrow:\n",
      "File \u001b[0;32mcantera/onedim.pyx:1221\u001b[0m, in \u001b[0;36mcantera._cantera.Sim1D.solve\u001b[0;34m()\u001b[0m\n",
      "File \u001b[0;32mcantera/func1.pyx:14\u001b[0m, in \u001b[0;36mcantera._cantera.func_callback\u001b[0;34m()\u001b[0m\n",
      "File \u001b[0;32m~/opt/anaconda3/envs/jupiterbook/lib/python3.9/site-packages/cantera/interrupts.py:1\u001b[0m, in \u001b[0;36mno_op\u001b[0;34m(t)\u001b[0m\n\u001b[0;32m----> 1\u001b[0m \u001b[38;5;28;01mdef\u001b[39;00m \u001b[38;5;21mno_op\u001b[39m(t):\n\u001b[1;32m      2\u001b[0m \u001b[38;5;250m    \u001b[39m\u001b[38;5;124;03m\"\"\"\u001b[39;00m\n\u001b[1;32m      3\u001b[0m \u001b[38;5;124;03m    This function does nothing. It is used as an interrupt in the 1D solver\u001b[39;00m\n\u001b[1;32m      4\u001b[0m \u001b[38;5;124;03m    C++ loop where a pure Python function is needed in order for\u001b[39;00m\n\u001b[1;32m      5\u001b[0m \u001b[38;5;124;03m    KeyboardInterrupt events to be captured.\u001b[39;00m\n\u001b[1;32m      6\u001b[0m \u001b[38;5;124;03m    \"\"\"\u001b[39;00m\n\u001b[1;32m      7\u001b[0m     \u001b[38;5;28;01mreturn\u001b[39;00m \u001b[38;5;241m0.0\u001b[39m\n",
      "\u001b[0;31mKeyboardInterrupt\u001b[0m: "
     ]
    }
   ],
   "source": [
    "# Simulation parameters\n",
    "p = ct.one_atm  # pressure [Pa]\n",
    "Tin = 300.0  # unburned gas temperature [K]\n",
    "reactants = 'C4H10:1, O2:6.5, N2:24.4'  # premixed gas composition\n",
    "width = 0.0005  # m\n",
    "loglevel = 0  # amount of diagnostic output (0 to 8)\n",
    "\n",
    "# Solution object used to compute mixture properties, set to the state of the\n",
    "# upstream fuel-air mixture\n",
    "gas = ct.Solution('sdmech.yaml')\n",
    "gas.TPX = Tin, p, reactants\n",
    "\n",
    "# Set up flame object\n",
    "f = ct.FreeFlame(gas, width=width)\n",
    "f.set_refine_criteria(ratio=3, slope=0.06, curve=0.12)\n",
    "#f.show_solution()\n",
    "\n",
    "# Solve with mixture-averaged transport model\n",
    "f.transport_model = 'Mix'\n",
    "f.solve(loglevel=loglevel, auto=True)\n",
    "#f.show_solution()\n"
   ]
  },
  {
   "cell_type": "code",
   "execution_count": 6,
   "metadata": {},
   "outputs": [
    {
     "data": {
      "image/png": "[encoded data removed]",
      "text/plain": [
       "<Figure size 640x480 with 1 Axes>"
      ]
     },
     "metadata": {},
     "output_type": "display_data"
    }
   ],
   "source": [
    "plt.plot(f.grid, f.T-273, label='T')\n",
    "plt.xlabel('Distance (m)')\n",
    "plt.ylabel('Temperature (C)')\n",
    "plt.show()"
   ]
  },
  {
   "cell_type": "code",
   "execution_count": 7,
   "metadata": {},
   "outputs": [
    {
     "data": {
      "image/png": "[encoded data removed]",
      "text/plain": [
       "<Figure size 640x480 with 1 Axes>"
      ]
     },
     "metadata": {},
     "output_type": "display_data"
    }
   ],
   "source": [
    "\n",
    "plt.plot(f.grid, f.X[gas.species_index('C4H10')], label='C4H10')\n",
    "plt.plot(f.grid, f.X[gas.species_index('O2')], label='O2')\n",
    "plt.plot(f.grid, f.X[gas.species_index('CO2')], label='CO2')\n",
    "plt.plot(f.grid, f.X[gas.species_index('H2O')], label='H2O')\n",
    "plt.plot(f.grid, f.X[gas.species_index('N2')], label='N2')\n",
    "plt.legend(loc='best')\n",
    "plt.xlabel('Distance (m)')\n",
    "plt.ylabel('Mole Fractions');\n",
    "plt.show()"
   ]
  },
  {
   "attachments": {},
   "cell_type": "markdown",
   "metadata": {},
   "source": [
    "Dr. Lignell discusses combustion processes and numerical methods further in his [Combustion Principles course](https://ignite.byu.edu/che522/index.html). Dr. Baxter has also taught an advanced combustion courses."
   ]
  },
  {
   "attachments": {},
   "cell_type": "markdown",
   "metadata": {},
   "source": [
    "### Experimental Estimate from a K type Thermocople\n",
    "An ESP32, MAX6675, and K type thermocouple are used to measure the temperature of the flame. The MAX6675 is a thermocouple amplifier that converts the thermocouple voltage to a digital signal that can be read by the ESP32. The ESP32 is a low-cost microcontroller that can be programmed with the Arduino IDE. The data collected by the ESP32 can be pushed to an andoid phone via classic bluetooth (or to a windows machine via bluetooth)."
   ]
  },
  {
   "cell_type": "code",
   "execution_count": 8,
   "metadata": {},
   "outputs": [],
   "source": [
    "import pandas as pd #pandas is a data analysis library\n",
    "#read in data from a txt file\n",
    "data = pd.read_csv('supportfiles/flametempK.txt',delimiter=',',header=2)"
   ]
  },
  {
   "attachments": {},
   "cell_type": "markdown",
   "metadata": {},
   "source": [
    "The data file can be downloaded from the following link:\n",
    "[data file](https://github.com/clint-bg/comptools/blob/main/lectures/supportfiles/flametempK.txt)"
   ]
  },
  {
   "attachments": {},
   "cell_type": "markdown",
   "metadata": {},
   "source": [
    "A lighter is used to heat a small bead K-type thermocouple. The rating of the K-type thermocouple is up to 1200 C. We'll see how hot we can get the thermocouple."
   ]
  },
  {
   "cell_type": "code",
   "execution_count": 9,
   "metadata": {},
   "outputs": [
    {
     "data": {
      "text/html": [
       "<div>\n",
       "<style scoped>\n",
       "    .dataframe tbody tr th:only-of-type {\n",
       "        vertical-align: middle;\n",
       "    }\n",
       "\n",
       "    .dataframe tbody tr th {\n",
       "        vertical-align: top;\n",
       "    }\n",
       "\n",
       "    .dataframe thead th {\n",
       "        text-align: right;\n",
       "    }\n",
       "</style>\n",
       "<table border=\"1\" class=\"dataframe\">\n",
       "  <thead>\n",
       "    <tr style=\"text-align: right;\">\n",
       "      <th></th>\n",
       "      <th>Small Thermocouple (C)</th>\n",
       "      <th>Timestamp (seconds)</th>\n",
       "    </tr>\n",
       "  </thead>\n",
       "  <tbody>\n",
       "    <tr>\n",
       "      <th>0</th>\n",
       "      <td>27.51</td>\n",
       "      <td>10.11</td>\n",
       "    </tr>\n",
       "    <tr>\n",
       "      <th>1</th>\n",
       "      <td>27.51</td>\n",
       "      <td>10.31</td>\n",
       "    </tr>\n",
       "    <tr>\n",
       "      <th>2</th>\n",
       "      <td>27.51</td>\n",
       "      <td>10.51</td>\n",
       "    </tr>\n",
       "    <tr>\n",
       "      <th>3</th>\n",
       "      <td>27.26</td>\n",
       "      <td>10.71</td>\n",
       "    </tr>\n",
       "    <tr>\n",
       "      <th>4</th>\n",
       "      <td>27.00</td>\n",
       "      <td>10.91</td>\n",
       "    </tr>\n",
       "  </tbody>\n",
       "</table>\n",
       "</div>"
      ],
      "text/plain": [
       "   Small Thermocouple (C)    Timestamp (seconds)\n",
       "0                    27.51                 10.11\n",
       "1                    27.51                 10.31\n",
       "2                    27.51                 10.51\n",
       "3                    27.26                 10.71\n",
       "4                    27.00                 10.91"
      ]
     },
     "execution_count": 9,
     "metadata": {},
     "output_type": "execute_result"
    }
   ],
   "source": [
    "data.head()"
   ]
  },
  {
   "cell_type": "code",
   "execution_count": 10,
   "metadata": {},
   "outputs": [
    {
     "data": {
      "text/html": [
       "<div>\n",
       "<style scoped>\n",
       "    .dataframe tbody tr th:only-of-type {\n",
       "        vertical-align: middle;\n",
       "    }\n",
       "\n",
       "    .dataframe tbody tr th {\n",
       "        vertical-align: top;\n",
       "    }\n",
       "\n",
       "    .dataframe thead th {\n",
       "        text-align: right;\n",
       "    }\n",
       "</style>\n",
       "<table border=\"1\" class=\"dataframe\">\n",
       "  <thead>\n",
       "    <tr style=\"text-align: right;\">\n",
       "      <th></th>\n",
       "      <th>Small Thermocouple (C)</th>\n",
       "      <th>Timestamp (seconds)</th>\n",
       "    </tr>\n",
       "  </thead>\n",
       "  <tbody>\n",
       "    <tr>\n",
       "      <th>count</th>\n",
       "      <td>123.000000</td>\n",
       "      <td>123.000000</td>\n",
       "    </tr>\n",
       "    <tr>\n",
       "      <th>mean</th>\n",
       "      <td>424.777642</td>\n",
       "      <td>22.310000</td>\n",
       "    </tr>\n",
       "    <tr>\n",
       "      <th>std</th>\n",
       "      <td>415.927012</td>\n",
       "      <td>7.130217</td>\n",
       "    </tr>\n",
       "    <tr>\n",
       "      <th>min</th>\n",
       "      <td>27.000000</td>\n",
       "      <td>10.110000</td>\n",
       "    </tr>\n",
       "    <tr>\n",
       "      <th>25%</th>\n",
       "      <td>27.770000</td>\n",
       "      <td>16.210000</td>\n",
       "    </tr>\n",
       "    <tr>\n",
       "      <th>50%</th>\n",
       "      <td>183.670000</td>\n",
       "      <td>22.310000</td>\n",
       "    </tr>\n",
       "    <tr>\n",
       "      <th>75%</th>\n",
       "      <td>940.920000</td>\n",
       "      <td>28.410000</td>\n",
       "    </tr>\n",
       "    <tr>\n",
       "      <th>max</th>\n",
       "      <td>1043.200000</td>\n",
       "      <td>34.510000</td>\n",
       "    </tr>\n",
       "  </tbody>\n",
       "</table>\n",
       "</div>"
      ],
      "text/plain": [
       "       Small Thermocouple (C)    Timestamp (seconds)\n",
       "count               123.000000            123.000000\n",
       "mean                424.777642             22.310000\n",
       "std                 415.927012              7.130217\n",
       "min                  27.000000             10.110000\n",
       "25%                  27.770000             16.210000\n",
       "50%                 183.670000             22.310000\n",
       "75%                 940.920000             28.410000\n",
       "max                1043.200000             34.510000"
      ]
     },
     "execution_count": 10,
     "metadata": {},
     "output_type": "execute_result"
    }
   ],
   "source": [
    "data.describe()"
   ]
  },
  {
   "cell_type": "code",
   "execution_count": 11,
   "metadata": {},
   "outputs": [
    {
     "data": {
      "text/plain": [
       "Index(['Small Thermocouple (C) ', ' Timestamp (seconds)'], dtype='object')"
      ]
     },
     "execution_count": 11,
     "metadata": {},
     "output_type": "execute_result"
    }
   ],
   "source": [
    "data.columns"
   ]
  },
  {
   "cell_type": "code",
   "execution_count": 12,
   "metadata": {},
   "outputs": [
    {
     "data": {
      "image/png": "[encoded data removed]",
      "text/plain": [
       "<Figure size 640x480 with 1 Axes>"
      ]
     },
     "metadata": {},
     "output_type": "display_data"
    }
   ],
   "source": [
    "plt.plot(data[' Timestamp (seconds)'],data['Small Thermocouple (C) '],label='Experiment')\n",
    "plt.xlabel('Time (s)'); plt.ylabel('Temperature (C)')\n",
    "plt.show()"
   ]
  },
  {
   "attachments": {},
   "cell_type": "markdown",
   "metadata": {},
   "source": [
    "The figure shows the temperature rise immediately when inserted into the flame reaching temperatures above 1000 C. K type thermocouples are able to reach temperatures up to 1200 C, however, this data acquisition setup appears to max out at 1043 C. Once the thermocouple is removed from the flame the temperature drops rapidly. This temperature is significantly different from the adiabatic result as the flame is not adiabatic and there are significant heat losses to the surroundings. How could you estimate those heat losses?"
   ]
  }
 ],
 "metadata": {
  "kernelspec": {
   "display_name": "base",
   "language": "python",
   "name": "python3"
  },
  "language_info": {
   "codemirror_mode": {
    "name": "ipython",
    "version": 3
   },
   "file_extension": ".py",
   "mimetype": "text/x-python",
   "name": "python",
   "nbconvert_exporter": "python",
   "pygments_lexer": "ipython3",
   "version": "3.9.16"
  }
 },
 "nbformat": 4,
 "nbformat_minor": 2
}