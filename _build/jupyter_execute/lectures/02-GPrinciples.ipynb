{
 "cells": [
  {
   "cell_type": "markdown",
   "metadata": {},
   "source": [
    "# 02-Principles of the Gospel of Jesus Christ"
   ]
  },
  {
   "cell_type": "markdown",
   "metadata": {},
   "source": [
    "What principles of the gospel of Jesus Christ relate to Chemical Engineering? \n",
    "\n",
    "Why should they be applied?"
   ]
  },
  {
   "cell_type": "markdown",
   "metadata": {},
   "source": [
    "## Learning objectives\n",
    "- Identify principles of the gospel of Jesus Christ that relate to Chemical Engineering\n",
    "- Identify the influence of the Holy Ghost\n",
    "- Identify experiences of the prophets in the scriptures regarding ethics and integrity\n"
   ]
  },
  {
   "cell_type": "markdown",
   "metadata": {},
   "source": [
    "## Reading assignment\n",
    "- [The Family: A Proclamation to the World](https://www.churchofjesuschrist.org/study/scriptures/the-family-a-proclamation-to-the-world/the-family-a-proclamation-to-the-world?lang=eng)\n",
    "- Todd McCallister on Integrity"
   ]
  },
  {
   "cell_type": "markdown",
   "metadata": {},
   "source": [
    "## Classwork"
   ]
  },
  {
   "cell_type": "markdown",
   "metadata": {},
   "source": [
    "## Homework"
   ]
  },
  {
   "cell_type": "markdown",
   "metadata": {},
   "source": [
    "In a future day it will be impossible to ... without the guiding and constant influence of the Holy Ghost (President Nielson). The influence of the Holy Ghost is real and available to us. The influence of evil is real and can influence us. We get to choose which influence we will seek, be influenced by, and follow."
   ]
  },
  {
   "cell_type": "code",
   "execution_count": null,
   "metadata": {},
   "outputs": [],
   "source": []
  }
 ],
 "metadata": {
  "language_info": {
   "codemirror_mode": {
    "name": "ipython",
    "version": 3
   },
   "file_extension": ".py",
   "mimetype": "text/x-python",
   "name": "python",
   "nbconvert_exporter": "python",
   "pygments_lexer": "ipython3",
   "version": "3.9.16"
  }
 },
 "nbformat": 4,
 "nbformat_minor": 2
}