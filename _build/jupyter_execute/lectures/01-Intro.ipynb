{
 "cells": [
  {
   "attachments": {},
   "cell_type": "markdown",
   "metadata": {},
   "source": [
    "# 01-Introduction"
   ]
  },
  {
   "cell_type": "markdown",
   "metadata": {},
   "source": [
    "## Stewardship and Safety in Jesus Christ\n",
    "Review the [Introduction](intro) to the course and the course syllabus including the course expectations.  This course is designed to help you understand the importance of stewardship and safety in Jesus Christ.  We'll hopefully talk often becoming a disciple of Jesus Christ by following the counsel of the prophets and apostles."
   ]
  },
  {
   "cell_type": "markdown",
   "metadata": {},
   "source": [
    "## Work Expectations\n",
    "- lectures,\n",
    "- reading material, \n",
    "- homework, \n",
    "- quizzes, \n",
    "- classwork, \n",
    "- book review, \n",
    "- project (analysis, newspaper and presentation), and \n",
    "- project presentations"
   ]
  },
  {
   "cell_type": "markdown",
   "metadata": {},
   "source": [
    "## Chemical Engineering Career Outlook\n"
   ]
  },
  {
   "cell_type": "markdown",
   "metadata": {},
   "source": [
    "<img src=\"https://github.com/clint-bg/comptools/blob/main/lectures/supportfiles/ChemEOutlook.png?raw=trueg\" width=\"400\">"
   ]
  },
  {
   "cell_type": "markdown",
   "metadata": {},
   "source": [
    "Hopefully from the above you can see that BYU chemical engineers are unique and in demand. The skills you will learn in this class will help you to be successful in your career."
   ]
  },
  {
   "attachments": {},
   "cell_type": "markdown",
   "metadata": {},
   "source": [
    "## Current Worldwide Problems in Engineering\n",
    "Chemical Engineers are poised to help in each of these areas:\n",
    "* Energy \n",
    "    - Worldwide `energy demands are growing`\n",
    "    - We need to use fossil fuels more efficiently and capture more of the biproducts\n",
    "    - [Energy.gov](https://www.energy.gov/)\n",
    "    - [Deseret News Article on Potential Energy Crisis](https://www.deseret.com/utah/2023/6/28/23777165/rural-electric-provider-in-utah-impending-u-s-energy-crisis-moon-lake-coal-plants-mitt-romney)\n",
    "    - Fry, Memmott, Baxter, Rappleye, Wheeler, and Lignell\n",
    "* Chemical Production\n",
    "    - We can continue to `improve chemical production` processes\n",
    "    - [Chemical and Engineering News](https://cen.acs.org/)\n",
    "    - Argyle, Hedengren, Knotts, Nickerson, Seo, Tree, Wilding\n",
    "* Health \n",
    "    - We need to `improve` health care delivery and care\n",
    "    - [World Health Organization](https://www.who.int/)\n",
    "    - Bundy, Pitt, and Lewis\n",
    "* Water \n",
    "    - We need to improve water treatment,  distribution, and conservation.\n",
    "    - [World Health Organization](https://www.who.int/news-room/fact-sheets/detail/drinking-water)\n",
    "* Transportation - How do we better move people and goods around the world?\n",
    "* Environment - How do we efficiently continue improving our environment?\n",
    "    - Plastics production and waste handling and reuse needs improvement.\n",
    "    - [Environmental Protection Agency](https://www.epa.gov/)\n",
    "* Security - How do we continue to adapt and peacefully protect people from threats?\n",
    "* Exploration, Food, and more..."
   ]
  },
  {
   "attachments": {},
   "cell_type": "markdown",
   "metadata": {},
   "source": [
    "You are the engineers that will work to improve societies' and individuals' quality of life around the world."
   ]
  },
  {
   "attachments": {},
   "cell_type": "markdown",
   "metadata": {},
   "source": [
    "<img src=\"https://github.com/clint-bg/comptools/blob/main/lectures/supportfiles/image001.png?raw=true\" width=\"800\">"
   ]
  }
 ],
 "metadata": {
  "kernelspec": {
   "display_name": "base",
   "language": "python",
   "name": "python3"
  },
  "language_info": {
   "codemirror_mode": {
    "name": "ipython",
    "version": 3
   },
   "file_extension": ".py",
   "mimetype": "text/x-python",
   "name": "python",
   "nbconvert_exporter": "python",
   "pygments_lexer": "ipython3",
   "version": "3.9.16"
  }
 },
 "nbformat": 4,
 "nbformat_minor": 2
}