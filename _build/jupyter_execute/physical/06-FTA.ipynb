{
 "cells": [
  {
   "cell_type": "markdown",
   "metadata": {},
   "source": [
    "# 06-Fault Tree Analysis"
   ]
  },
  {
   "cell_type": "markdown",
   "metadata": {},
   "source": [
    "Fault tree analysis (FTA) is a top-down, deductive failure analysis in which an undesired state of a system is analyzed using boolean logic to combine a series of lower-level events. This analysis method is mainly used in the fields of safety engineering and reliability engineering to understand how systems can fail, to identify the best ways to reduce risk or to determine (or get a feeling for) event rates of a safety accident or a particular system level (functional) failure."
   ]
  },
  {
   "cell_type": "markdown",
   "metadata": {},
   "source": [
    "## Example of Fault Tree Analysis"
   ]
  },
  {
   "cell_type": "markdown",
   "metadata": {},
   "source": [
    "### Procedure\n",
    "\n",
    "A batch reactor is used to complete a reaction needed for the benefit of others. The reactor process has the following processing steps:\n",
    "\n",
    "1. The reactor is filled with the raw material, a somewhat toxic material.\n",
    "2. The reactor is heated  to the desired temperature (100 F).\n",
    "3. The reactor is pressurized to the desired pressure (20 psig).\n",
    "4. Reactant B is slowly added to the reactor. An exothermic reaction occurs and the jacket must begin to cool the reactor to maintain the desired temperature.\n",
    "5. The reaction proceeds at a given reaction rate at that temperature and pressure until all of the reactant B has been added.\n",
    "6. The reactor is cooled to room temperature and the product is removed."
   ]
  },
  {
   "cell_type": "markdown",
   "metadata": {},
   "source": [
    "<img src=\"https://github.com/clint-bg/safetyinjc/blob/main/physical/supportfiles/batchreactor.jgg?raw=trueg\" width=\"600\">\n",
    "\n",
    "\n",
    "Image of the batch reactor credit to:\n",
    "https://www.essentialchemicalindustry.org/processes/chemical-reactors.html "
   ]
  },
  {
   "cell_type": "code",
   "execution_count": null,
   "metadata": {},
   "outputs": [],
   "source": []
  }
 ],
 "metadata": {
  "language_info": {
   "codemirror_mode": {
    "name": "ipython",
    "version": 3
   },
   "file_extension": ".py",
   "mimetype": "text/x-python",
   "name": "python",
   "nbconvert_exporter": "python",
   "pygments_lexer": "ipython3",
   "version": "3.9.16"
  }
 },
 "nbformat": 4,
 "nbformat_minor": 2
}