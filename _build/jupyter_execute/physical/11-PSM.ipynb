{
 "cells": [
  {
   "cell_type": "markdown",
   "metadata": {},
   "source": [
    "# 11-PSM Pieces\n",
    "Process safety management also covers important topics besides Process Safety Information and Process Hazard Analysis. "
   ]
  },
  {
   "cell_type": "markdown",
   "metadata": {},
   "source": [
    "## OSHA 29 CFR PSM Elements\n",
    "Required for those meeting the Threshold Quantities\n",
    "\n",
    "- Employee Participation\n",
    "- **Process Safety Information**\n",
    "- **Process Hazards Analysis**\n",
    "- Operating Procedures\n",
    "- Training\n",
    "- Contractors\n",
    "- Pre-Startup Safety Review\n",
    "- Mechanical Integrity\n",
    "- Hot Work Permits\n",
    "- Management of Change\n",
    "- Incident Investigation\n",
    "- Emergency Planning and Response\n",
    "- Audits\n",
    "- Trade Secrets"
   ]
  },
  {
   "cell_type": "markdown",
   "metadata": {},
   "source": [
    "<img src=\"https://github.com/clint-bg/safetyinjc/blob/main/physical/supportfiles/PSMPieces/PSMandtext.png?raw=true\" width=\"500\">"
   ]
  },
  {
   "cell_type": "markdown",
   "metadata": {},
   "source": [
    "## 14 Points of PSM: OSHA 1910.119\n",
    "1. Employee Participation\n",
    "    - Employees participate with process hazards analysis (PHAs) for example   \n",
    "2. Process Safety Information\n",
    "    - Understanding the hazards of the process\n",
    "        - process chemistry\n",
    "        - phase diagram\n",
    "        - inventory or processing amounts\n",
    "        - safe upper and lower limits for temperature, pressure, etc.\n",
    "        - consequences of deviation, etc.\n",
    "3. Process Hazards Analysis\n",
    "    - **FMEA** Failure Modes and Effects Analysis\n",
    "    - **HAZOP** Hazards and Operability Study\n",
    "    - **FTA** Fault Tree Analysis\n",
    "    - Others: LOPA, What-If, Checklist, etc.\n",
    "    - Hazards addressed\n",
    "    - Previous incidents and near misses evaluated and included\n",
    "    - Engineering and administrative controls (safeguards)\n",
    "    - Consequences of failure\n",
    "    - Facility siting (location of the facility relative to other facilities and the public)\n",
    "    - Qualitative and quantitative evaluations\n",
    "    - Team effort\n",
    "    - System to address findings and recommendations\n",
    "    - Revalidation (every 5 years)\n",
    "    - Documentation\n",
    "4. Operating Procedures\n",
    "    - startup, shutdown, normal operations, emergency operations, etc.\n",
    "    - operating limits\n",
    "    - safety and health considerations\n",
    "    - safety systems\n",
    "    - Accessible and reviewed regularly\n",
    "    - Lock and Tag Out procedures\n",
    "    - Confined Space Entry procedures\n",
    "5. Training\n",
    "    - Initial and refresher training\n",
    "    - Documentation\n",
    "6. Contractors\n",
    "    - Prequalification (safety record, training, etc.)\n",
    "    - Informed on PHA and operating procedures by the owner\n",
    "    - Injury and illness records\n",
    "    - Documentation\n",
    "7. Pre-Startup Safety Review\n",
    "    - Required with new processes or significant modification\n",
    "    - RAGAGEP (Recognized and Generally Accepted Good Engineering Practices)\n",
    "    - Procedures required to be in place (operating, maintenance, emergency, etc)\n",
    "    - PHA completed\n",
    "    - Training completed\n",
    "    - Documentation\n",
    "8. Mechanical Integrity\n",
    "    - covers pressure vessels, tanks, prvs, piping, emergency systems, controls, pumps, etc.\n",
    "    - written procedures required\n",
    "    - training for maintenance personnel\n",
    "    - Regular inspection with testing\n",
    "    - Documentation\n",
    "9. Hot Work Permits\n",
    "    - Required for welding, cutting, brazing, etc. on covered processes\n",
    "    - Fire prevention and protection measures\n",
    "    - Inspection of area\n",
    "    - Fire watch\n",
    "    - Documentation\n",
    "10. Management of Change\n",
    "    - Required for changes in process chemicals, technology, equipment, procedures, etc.\n",
    "    - Procedures to manage changes and their consequences \n",
    "    - Training required on consequences of changes\n",
    "    - Documentation\n",
    "11. Incident Investigation\n",
    "    - Required for incidents that resulted in, or could have resulted in, a catastrophic release\n",
    "    - Team effort started within 48 hours\n",
    "    - Report generated \n",
    "    - System required to address findings\n",
    "    - Report reviewed with employees\n",
    "    - Report retained for 5 years\n",
    "12. Emergency Planning and Response\n",
    "    - Emergency action plan documented and implemented including evacuation, alarms, training, drills, etc.\n",
    "13. Compliance Audits\n",
    "    - Required every 3 years\n",
    "    - Team effort\n",
    "    - Report generated\n",
    "    - System required to address findings\n",
    "    - 2 most recent reports retained\n",
    "14. Trade Secrets\n",
    "    - PSI (Process Safety Information) must be available to employees and contractors\n",
    "    - Confidential information can be protected\n",
    "    - Employees have access to PSI, the PHA, and other PSM documentation"
   ]
  },
  {
   "cell_type": "markdown",
   "metadata": {},
   "source": [
    "<img src=\"https://github.com/clint-bg/safetyinjc/blob/main/physical/supportfiles/PSMPieces/init.png?raw=true\" width=\"900\">"
   ]
  },
  {
   "cell_type": "markdown",
   "metadata": {},
   "source": [
    "<img src=\"https://github.com/clint-bg/safetyinjc/blob/main/physical/supportfiles/PSMPieces/phapiece.png?raw=true\" width=\"500\">"
   ]
  },
  {
   "cell_type": "markdown",
   "metadata": {},
   "source": [
    "<img src=\"https://github.com/clint-bg/safetyinjc/blob/main/physical/supportfiles/PSMPieces/op2contr.png?raw=true\" width=\"500\">"
   ]
  },
  {
   "cell_type": "markdown",
   "metadata": {},
   "source": [
    "<img src=\"https://github.com/clint-bg/safetyinjc/blob/main/physical/supportfiles/PSMPieces/pre2hot.png?raw=true\" width=\"500\">"
   ]
  },
  {
   "cell_type": "markdown",
   "metadata": {},
   "source": [
    "<img src=\"https://github.com/clint-bg/safetyinjc/blob/main/physical/supportfiles/PSMPieces/changeII.png?raw=true\" width=\"500\">"
   ]
  },
  {
   "cell_type": "markdown",
   "metadata": {},
   "source": [
    "<img src=\"https://github.com/clint-bg/safetyinjc/blob/main/physical/supportfiles/PSMPieces/emertrad.png?raw=true\" width=\"500\">"
   ]
  },
  {
   "cell_type": "markdown",
   "metadata": {},
   "source": [
    "## Example Cases"
   ]
  },
  {
   "cell_type": "markdown",
   "metadata": {},
   "source": [
    "### Pressure drop\n",
    "Pressure drop in a hydrogenation reactor from clogged support plate after change in charcoal blend."
   ]
  },
  {
   "cell_type": "markdown",
   "metadata": {},
   "source": [
    "<img src=\"https://github.com/clint-bg/safetyinjc/blob/main/physical/supportfiles/hydrogenpur.png?raw=true\" width=\"500\">"
   ]
  },
  {
   "cell_type": "markdown",
   "metadata": {},
   "source": [
    "### Process change\n",
    "Nitration occurs with OH groups replaced by NO2 groups. A nitration reaction was carried out at low temperature and then heated to 90C for 30min and then cooled. Instead of active cooling, the reactor was left to cool down on its own and it exploded throwing pieces 75m away (see reference 7 in Section 2.6 in What Went Wrong, 5th Edition). (Autoignition can be at lower temperature with longer exposure times.)"
   ]
  },
  {
   "cell_type": "markdown",
   "metadata": {},
   "source": [
    "### Gasoline flammability\n",
    "A man who wanted some gasoline for cleaning decided to siphon it out of the tank of a company vehicle. He inserted a length of rubber tubing into the gasoline tank. Then, to fill the tubing and start the siphon, he held the hose against the suction nozzle of an industrial vacuum cleaner. The gasoline caught fire and two vehicles were destroyed and eleven damaged. (Quoted from What Went Wrong, 5th Edition, Section 3.3.3(a))"
   ]
  },
  {
   "cell_type": "markdown",
   "metadata": {},
   "source": [
    "### Ethylene Oxide\n"
   ]
  },
  {
   "cell_type": "markdown",
   "metadata": {},
   "source": [
    "<img src=\"https://github.com/clint-bg/safetyinjc/blob/main/physical/supportfiles/ethyleneR.png?raw=true\" width=\"500\">"
   ]
  },
  {
   "cell_type": "markdown",
   "metadata": {},
   "source": [
    "<img src=\"https://github.com/clint-bg/safetyinjc/blob/main/physical/supportfiles/ballstick1.png?raw=true\" width=\"500\">"
   ]
  },
  {
   "cell_type": "markdown",
   "metadata": {},
   "source": [
    "The above system with the ethylene oxide pump was setup such that the Pump1 could only operate (engineering controls) when:\n",
    "- the circulation pump (pump2) was running\n",
    "- the temperature was above 115C, as otherwise the ethylene oxide would not react\n",
    "- the temperature was below 125C, otherwise the reaction was too fast"
   ]
  },
  {
   "cell_type": "markdown",
   "metadata": {},
   "source": [
    "Accident scenario:\n",
    "\n",
    "The operator thought he had the valve at the bottom of the reactor open but didn't and running the pump with a dead suction led to the temperature rising, satisfying the conditions for the ethylene oxide to be introduced (pump was running and temperature was between 115 and 125C). He saw the pressure rise (no reaction occurring as ethylene oxide is a gas) so he allowed more heat to the heat exchanger. He then realized that the valve was closed and opened it. An explosion resulted as the reaction occurred very quickly and released a lot of heat."
   ]
  },
  {
   "cell_type": "markdown",
   "metadata": {},
   "source": [
    "This scenario taken from What Went Wrong, 5th Edition, Section 3.2.8."
   ]
  },
  {
   "cell_type": "markdown",
   "metadata": {},
   "source": [
    "### Hot Work\n",
    "Many accidents have occurred from maintenance or other activities with welding, cutting, etc that have ignited flammable materials."
   ]
  },
  {
   "cell_type": "markdown",
   "metadata": {},
   "source": []
  }
 ],
 "metadata": {
  "language_info": {
   "codemirror_mode": {
    "name": "ipython",
    "version": 3
   },
   "file_extension": ".py",
   "mimetype": "text/x-python",
   "name": "python",
   "nbconvert_exporter": "python",
   "pygments_lexer": "ipython3",
   "version": "3.9.16"
  }
 },
 "nbformat": 4,
 "nbformat_minor": 2
}