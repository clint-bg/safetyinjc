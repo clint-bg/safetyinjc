{
 "cells": [
  {
   "cell_type": "markdown",
   "metadata": {},
   "source": [
    "# 24-Relief Sizing"
   ]
  },
  {
   "cell_type": "markdown",
   "metadata": {},
   "source": [
    "Learning Objectives:\n",
    "- Ability to estimate flow through an orifice for \n",
    "    - incompressible liquid\n",
    "    - compressible gas (choked and unchoked flow)\n",
    "    - two-phase flow for a flashing fluid\n",
    "- Perform preliminary sizing of a relief valve for a liquid, gas, and two-phase flow\n"
   ]
  },
  {
   "cell_type": "markdown",
   "metadata": {},
   "source": [
    "## Mechanical Energy Balance"
   ]
  },
  {
   "cell_type": "markdown",
   "metadata": {},
   "source": [
    "```{toggle}\n",
    "Constant Density, Frictionless, Constant Temperature Flow\n",
    "\n",
    "$$\n",
    "\\frac{\\Delta P}{\\rho g} + \\frac{\\Delta u^2}{2g} + \\Delta z + \\frac{F}{g} = \\frac{-W_s}{\\dot{m} g}\n",
    "$$\n",
    "\n",
    "where $\\Delta P$ is the change in pressure, $\\Delta u$ is the change in velocity, $\\Delta z$ is the change in elevation, $F$ is the frictional losses, and $W_s$ is the shaft work with respect to two points in the system. \n",
    "```"
   ]
  },
  {
   "cell_type": "markdown",
   "metadata": {},
   "source": [
    "If there is no friction and constant density and no shaft work and no change in elevation, the mechanical energy balance simplifies to:\n",
    "\n",
    "```{toggle}\n",
    "\n",
    "$$\n",
    "\\frac{\\Delta P}{\\rho g} + \\frac{\\Delta u^2}{2g} = 0\n",
    "$$\n",
    "\n",
    "or assuming that the flow points are inside a tank where P = P_o and u = 0 and outside the tank where P = P_atm and u = u, then\n",
    "\n",
    "$$\n",
    "\\frac{P_o}{\\rho} - \\frac{P_{atm}}{\\rho} = \\frac{u^2}{2}\n",
    "$$\n",
    "\n",
    "or \n",
    "\n",
    "$$\n",
    "u = \\sqrt{2\\left(\\frac{P_o - P_{atm}}{\\rho}\\right)}\n",
    "$$\n",
    "```"
   ]
  },
  {
   "cell_type": "markdown",
   "metadata": {},
   "source": [
    "## Incompressible Flow through an Orifice"
   ]
  },
  {
   "cell_type": "markdown",
   "metadata": {},
   "source": [
    "Thus for incompressible flow, the velocity of the fluid can be determined from the pressure drop across an orifice. Although the flow is usually not frictionless, the velocity can be estimated from the pressure drop and the density of the fluid according to:\n",
    "\n",
    "$$\n",
    "\\dot{m} = A C_d \\sqrt{2\\rho \\Delta P}\n",
    "$$\n",
    "\n",
    "or \n",
    "\n",
    "$$\n",
    "\\dot{n}  = \\frac{A C_d }{M_w} \\sqrt{2 \\rho \\Delta P}\n",
    "$$\n",
    "\n",
    "where $\\dot{m}$ is the mass flow rate, $\\dot{n}$ is the molar flow rate, $M_w$ is the molecular weight, $A$ is the area of the orifice, $C_d$ is the discharge coefficient, and $\\Delta P$ is the pressure drop across the orifice. For liquid flow, and estimate of the discharge coefficient is 0.65. "
   ]
  },
  {
   "cell_type": "markdown",
   "metadata": {},
   "source": [
    "## Gaseous flow through an Orifice: General Case\n",
    "\n",
    "The flow of a gas through an orifice is also derived from an energy balance assuming adiabatic and frictionless flow. The flow is characterized by the pressure ratio, $P_o/P_{atm}$ and associated Mach number, $Ma$. The Mach number can be found from:\n",
    "\n",
    "$$\n",
    "Ma = \\text{min} \\left(1, \\sqrt{\\frac{2}{\\gamma - 1}\\left(\\left(\\frac{P_o}{P_{atm}}\\right)^{\\frac{\\gamma - 1}{\\gamma}} - 1\\right)}\\right)\n",
    "$$\n",
    "\n",
    "where $\\gamma$ is the ratio of specific heats (1.4 for air). The flow is choked when $Ma = 1$ and unchoked when $Ma < 1$. "
   ]
  },
  {
   "cell_type": "markdown",
   "metadata": {},
   "source": [
    "The molar flow rate is given by:\n",
    "\n",
    "$$\n",
    "\\dot{n} = P_o A C_d \\sqrt{\\frac{\\gamma}{R T M_w}} Ma \\left[ 1+\\frac{(\\gamma-1)}{2}Ma^2\\right]^{\\frac{\\gamma+1}{2-2\\gamma}}\n",
    "$$\n",
    "\n",
    "where $R$ is the gas constant and $T$ is the temperature. See Perry's Handbook for Chemical Engineers Equation 6-118 for more information."
   ]
  },
  {
   "cell_type": "markdown",
   "metadata": {},
   "source": [
    "## Flashing Two Phase Flow Estimate\n",
    "\n",
    "$$\n",
    "\\dot{m} = f \\frac{\\Delta H_v A}{\\nu_{fg}}\\sqrt{\\frac{1}{C_p T_s}}\n",
    "$$\n",
    "\n",
    "where $\\dot{m}$ is the mass flow rate, $f$ is a factor depending on the scenario (less than 1), $\\Delta H_v$ is the heat of vaporization, $A$ is the area of the orifice, $\\nu$ is the specific volume change of the liquid as it flashes ($\\nu_g$ - $\\nu_l$), $C_p$ is the heat capacity of the fluid, and $T_s$ is the saturation temperature of the fluid at the set pressure. See Chapter 4 of Crowl and Louvar for more information."
   ]
  },
  {
   "cell_type": "markdown",
   "metadata": {},
   "source": [
    "## Relief Valve Sizing\n",
    "\n",
    "The above equations can be rearranged to solve for the area of the orifice, $A$, for a given flow rate and other conditions. Note that the discharge coefficient, $C_d$, is a function of the geometry of the orifice and the flow conditions. The discharge coefficient is typically determined experimentally with viscosity, downstream piping, backpressure, and other factors influencing the value. Estimates for some of those parameters can be found in Chapter 10 of Crowl and Louvar. For a preliminary estimate, a value of 0.65 is often used for liquid flow and 0.9 for gas flow."
   ]
  },
  {
   "cell_type": "markdown",
   "metadata": {},
   "source": [
    "Relief Valve Sizing in some instances does required verification with actual flow per the AMSE Boiler and Pressure Vessel Code. "
   ]
  },
  {
   "cell_type": "markdown",
   "metadata": {},
   "source": [
    "```{toggle}\n",
    "\n",
    "See in-class examples\n",
    "\n",
    "Download a pdf of the example using freeform here: https://github.com/clint-bg/safetyinjc/blob/main/physical/supportfiles/GasFlowExample311.pdf \n",
    "```"
   ]
  },
  {
   "cell_type": "markdown",
   "metadata": {},
   "source": []
  }
 ],
 "metadata": {
  "language_info": {
   "codemirror_mode": {
    "name": "ipython",
    "version": 3
   },
   "file_extension": ".py",
   "mimetype": "text/x-python",
   "name": "python",
   "nbconvert_exporter": "python",
   "pygments_lexer": "ipython3",
   "version": "3.9.16"
  }
 },
 "nbformat": 4,
 "nbformat_minor": 2
}