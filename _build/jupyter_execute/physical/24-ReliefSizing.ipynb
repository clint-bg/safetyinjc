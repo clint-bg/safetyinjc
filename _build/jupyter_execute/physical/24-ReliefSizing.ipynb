{
 "cells": [
  {
   "cell_type": "markdown",
   "metadata": {},
   "source": [
    "# 24-Relief Sizing"
   ]
  },
  {
   "cell_type": "markdown",
   "metadata": {},
   "source": [
    "Learning Objectives:\n",
    "- Ability to estimate flow through an orifice for \n",
    "    - incompressible liquid\n",
    "    - compressible gas (choked and unchoked flow)\n",
    "    - two-phase flow for a flashing fluid\n",
    "- Perform preliminary sizing of a relief valve for a liquid, gas, and two-phase flow\n"
   ]
  },
  {
   "cell_type": "markdown",
   "metadata": {},
   "source": [
    "## Mechanical Energy Balance"
   ]
  },
  {
   "cell_type": "markdown",
   "metadata": {},
   "source": [
    "```{toggle}\n",
    "Constant Density, Frictionless, Constant Temperature Flow\n",
    "\n",
    "$$\n",
    "\\frac{\\Delta P}{\\rho g} + \\frac{\\Delta u^2}{2g} + \\Delta z + \\frac{F}{g} = \\frac{-W_s}{\\dot{m} g}\n",
    "$$\n",
    "\n",
    "where $\\Delta P$ is the change in pressure, $\\Delta u$ is the change in velocity, $\\Delta z$ is the change in elevation, $\\rho$ is density, $F$ is the frictional losses, and $W_s$ is the shaft work with respect to two points in the system. \n",
    "```"
   ]
  },
  {
   "cell_type": "markdown",
   "metadata": {},
   "source": [
    "If there is no friction and constant density and no shaft work and no change in elevation, the mechanical energy balance simplifies to:\n",
    "\n",
    "```{toggle}\n",
    "\n",
    "$$\n",
    "\\frac{\\Delta P}{\\rho g} + \\frac{\\Delta u^2}{2g} = 0\n",
    "$$\n",
    "\n",
    "or assuming that the flow points are inside a tank where P = P_o and u = 0 and outside the tank where P = P_atm and u = u, then\n",
    "\n",
    "$$\n",
    "\\frac{P_o}{\\rho} - \\frac{P_{atm}}{\\rho} = \\frac{u^2}{2}\n",
    "$$\n",
    "\n",
    "or \n",
    "\n",
    "$$\n",
    "u = \\sqrt{2\\left(\\frac{P_o - P_{atm}}{\\rho}\\right)}\n",
    "$$\n",
    "```"
   ]
  },
  {
   "cell_type": "markdown",
   "metadata": {},
   "source": [
    "## Incompressible Flow through an Orifice"
   ]
  },
  {
   "cell_type": "markdown",
   "metadata": {},
   "source": [
    "Thus for incompressible flow, the velocity of the fluid can be determined from the pressure drop across an orifice. Although the flow is usually not frictionless, the velocity can be estimated from the pressure drop and the density of the fluid according to:\n",
    "\n",
    "$$\n",
    "\\dot{m} = A C_d \\sqrt{2\\rho \\Delta P}\n",
    "$$\n",
    "\n",
    "or \n",
    "\n",
    "$$\n",
    "\\dot{n}  = \\frac{A C_d }{M_w} \\sqrt{2 \\rho \\Delta P}\n",
    "$$\n",
    "\n",
    "where $\\dot{m}$ is the mass flow rate, $\\dot{n}$ is the molar flow rate, $M_w$ is the molecular weight, $A$ is the area of the orifice, $\\rho$ is the density of the fluid, $C_d$ is the discharge coefficient, and $\\Delta P$ is the pressure drop across the orifice. For liquid flow, and estimate of the discharge coefficient is 0.65. "
   ]
  },
  {
   "cell_type": "markdown",
   "metadata": {},
   "source": [
    "## Gaseous flow through an Orifice: General Case\n",
    "\n",
    "The flow of a gas through an orifice is also derived from an energy balance assuming adiabatic and frictionless flow. The flow is characterized by the pressure ratio, $P_o/P_{atm}$ and associated Mach number, $Ma$. $P_o$ is the absolute pressure of the volume. The Mach number can be found from:\n",
    "\n",
    "$$\n",
    "Ma = \\text{min} \\left(1, \\sqrt{\\frac{2}{\\gamma - 1}\\left(\\left(\\frac{P_o}{P_{atm}}\\right)^{\\frac{\\gamma - 1}{\\gamma}} - 1\\right)}\\right)\n",
    "$$\n",
    "\n",
    "where $\\gamma$ is the ratio of specific heats (1.4 for air). The flow is choked when $Ma = 1$ and unchoked when $Ma < 1$. "
   ]
  },
  {
   "cell_type": "markdown",
   "metadata": {},
   "source": [
    "The molar flow rate is given by:\n",
    "\n",
    "$$\n",
    "\\dot{n} = P_o A C_d \\sqrt{\\frac{\\gamma}{R T M_w}} Ma \\left[ 1+\\frac{(\\gamma-1)}{2}Ma^2\\right]^{\\frac{\\gamma+1}{2-2\\gamma}}\n",
    "$$\n",
    "\n",
    "where $R$ is the gas constant and $T$ is the temperature, $P_o$ is the absolute pressure inside the vessel, $C_d$ is the discharge coefficient (typically about 0.9). If you use all SI units (Pascal, meters, kilograms, mole: so pressure in pascal, area in meters, R in J/mol/K, and Mw in kg/mol), you'll get mole per second for $\\dot{n}$. See Perry's Handbook for Chemical Engineers Equation 6-118 for more information."
   ]
  },
  {
   "cell_type": "markdown",
   "metadata": {},
   "source": [
    "## Flashing Two Phase Flow Estimate\n",
    "\n",
    "$$\n",
    "\\dot{m} = f \\frac{\\Delta H_v A}{\\nu_{fg}}\\sqrt{\\frac{1}{C_p T_s}}\n",
    "$$\n",
    "\n",
    "where $\\dot{m}$ is the mass flow rate, $f$ is a factor depending on the scenario (less than 1), $\\Delta H_v$ is the heat of vaporization, $A$ is the area of the orifice, $\\nu$ is the specific volume change of the liquid as it flashes ($\\nu_g$ - $\\nu_l$), $C_p$ is the heat capacity of the fluid, and $T_s$ is the saturation temperature of the fluid at the set pressure. See Chapter 4 of Crowl and Louvar for more information."
   ]
  },
  {
   "cell_type": "markdown",
   "metadata": {},
   "source": [
    "## Relief Valve Sizing\n",
    "\n",
    "The above equations can be rearranged to solve for the area of the orifice, $A$, for a given flow rate and other conditions. Note that the discharge coefficient, $C_d$, is a function of the geometry of the orifice and the flow conditions. The discharge coefficient is typically determined experimentally with viscosity, downstream piping, backpressure, and other factors influencing the value. Estimates for some of those parameters can be found in Chapter 10 of Crowl and Louvar. For a preliminary estimate, a value of 0.65 is often used for liquid flow and 0.9 for gas flow."
   ]
  },
  {
   "cell_type": "markdown",
   "metadata": {},
   "source": [
    "Relief Valve Sizing in some instances does required verification with actual flow per the AMSE Boiler and Pressure Vessel Code. "
   ]
  },
  {
   "cell_type": "markdown",
   "metadata": {},
   "source": [
    "```{toggle}\n",
    "\n",
    "See in-class examples\n",
    "\n",
    "Download a pdf of the example using freeform here: https://github.com/clint-bg/safetyinjc/blob/main/physical/supportfiles/GasFlowExample311.pdf \n",
    "```"
   ]
  },
  {
   "cell_type": "markdown",
   "metadata": {},
   "source": [
    "### In Class Example: Venting CO2 from 2L Bottle"
   ]
  },
  {
   "cell_type": "markdown",
   "metadata": {},
   "source": [
    "A two liter bottle is half filed with water. There is a relief valve on the top designed to relieve at 60 psig with a flow of 61 scfm. What is the flow rate of CO2 through the relieve per the above equations?"
   ]
  },
  {
   "cell_type": "code",
   "execution_count": 1,
   "metadata": {},
   "outputs": [],
   "source": [
    "import numpy as np"
   ]
  },
  {
   "cell_type": "code",
   "execution_count": 2,
   "metadata": {},
   "outputs": [],
   "source": [
    "#fist find the Mach number\n",
    "gamma = 1.3 #specific heat capacity ratio for CO2, estimate\n",
    "P1 = 60 + 12.5 #initial pressure, estimate, psia\n",
    "Patm = 12.5 # atmospheric pressure, psia\n",
    "Ma = min(1, np.sqrt(2/(gamma-1)*((P1/Patm)**((gamma-1)/gamma)-1))) #Mach number"
   ]
  },
  {
   "cell_type": "code",
   "execution_count": 3,
   "metadata": {},
   "outputs": [
    {
     "data": {
      "text/plain": [
       "1"
      ]
     },
     "execution_count": 3,
     "metadata": {},
     "output_type": "execute_result"
    }
   ],
   "source": [
    "Ma"
   ]
  },
  {
   "cell_type": "code",
   "execution_count": 4,
   "metadata": {},
   "outputs": [
    {
     "name": "stdout",
     "output_type": "stream",
     "text": [
      "The molar flow rate is 0.92 mol/s\n"
     ]
    }
   ],
   "source": [
    "#now calculate the molar flow rate\n",
    "R = 8.314 # gas constant, J/(mol*K)\n",
    "Temp = 295 # temperature, K\n",
    "Area = np.pi/4*(1/4*0.0254)**2 # area of the pipe, m^2\n",
    "Cd = 0.9 # discharge coefficient\n",
    "Mw = 0.04401 # molar mass of CO2, kg/mol\n",
    "# molar flow rate, mol/s\n",
    "ndot = P1*6894.76*Area*Cd*np.sqrt(gamma/(R*Temp*Mw))*Ma*(1+(gamma-1)/2*Ma**2)**((gamma+1)/(2-2*gamma)) \n",
    "print(f'The molar flow rate is {ndot:0.2f} mol/s')"
   ]
  },
  {
   "cell_type": "code",
   "execution_count": 5,
   "metadata": {},
   "outputs": [
    {
     "name": "stdout",
     "output_type": "stream",
     "text": [
      "The flow rate in scfm is 47.4\n"
     ]
    }
   ],
   "source": [
    "#now convert that molar flow rate into scfm, PV = nRT\n",
    "Tstandard = 298.15 # standard temperature, K\n",
    "Pstandard = 101325 # standard pressure, Pa\n",
    "scmps = ndot*R*Tstandard/Pstandard #units of m^3/s\n",
    "scfm = scmps*60*(3.281**3)\n",
    "print(f'The flow rate in scfm is {scfm:0.1f}')"
   ]
  },
  {
   "cell_type": "markdown",
   "metadata": {},
   "source": [
    "Why is this number different than the reported flow rate of CO2 through the relief valve? Could the diameter of the relief be slightly larger?"
   ]
  },
  {
   "cell_type": "markdown",
   "metadata": {},
   "source": [
    "How would you get the generation rate of CO2 from the submlimation of dry ice?\n",
    "\n",
    "$$\n",
    "Q = hA(T_{water} - T_{ice}) \\\\\n",
    "mdot = Q/\\Delta H_{vap}\n",
    "$$\n",
    "\n",
    "Does area ($A$) change? How would you get the heat transfer coefficient ($h$)?"
   ]
  },
  {
   "cell_type": "code",
   "execution_count": null,
   "metadata": {},
   "outputs": [],
   "source": []
  }
 ],
 "metadata": {
  "kernelspec": {
   "display_name": "jupiterbook",
   "language": "python",
   "name": "python3"
  },
  "language_info": {
   "codemirror_mode": {
    "name": "ipython",
    "version": 3
   },
   "file_extension": ".py",
   "mimetype": "text/x-python",
   "name": "python",
   "nbconvert_exporter": "python",
   "pygments_lexer": "ipython3",
   "version": "3.9.16"
  }
 },
 "nbformat": 4,
 "nbformat_minor": 2
}