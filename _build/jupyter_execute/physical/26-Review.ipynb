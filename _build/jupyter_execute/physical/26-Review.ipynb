{
 "cells": [
  {
   "cell_type": "markdown",
   "metadata": {},
   "source": [
    "# 26-Review"
   ]
  },
  {
   "cell_type": "markdown",
   "metadata": {},
   "source": [
    "Review Items\n",
    "- Exam Administration Details\n",
    "    - What can you use? \n",
    "    - How much time?\n",
    "    - Proctoring?\n",
    "    - File uploads? (one - your notesheet)\n",
    "    - etc. "
   ]
  },
  {
   "cell_type": "markdown",
   "metadata": {},
   "source": [
    "## Principles to Review\n",
    "\n",
    "- Toxicity (PEL, TWA, etc.)\n",
    "- Flammability (LFL, UFL, flammability diagrams, etc.)\n",
    "- GHS items\n",
    "- Transient mass balance\n",
    "- Explosion details\n",
    "- ESD protection and ESD discharge energy\n",
    "- Reactivity (Chemical Capatability, Gibbs Free Energy, Basic Kinetics)\n",
    "- Relief Devices (Rupture Disks, Relief Valves, etc.)\n",
    "- Flow through Reliefs"
   ]
  },
  {
   "cell_type": "markdown",
   "metadata": {},
   "source": [
    "## 8x11 Sheet Recommendations:\n",
    "\n",
    "- GHS pictograms\n",
    "- NFPA diamond details \n",
    "- SDS sections \n",
    "- example mass balance transient problem \n",
    "- gaseous flow out of an orifice review\n",
    "- any unit conversion factors that you like\n",
    "\n",
    "- you'll get credit for your note sheet preparation on the exam"
   ]
  },
  {
   "cell_type": "code",
   "execution_count": null,
   "metadata": {},
   "outputs": [],
   "source": []
  }
 ],
 "metadata": {
  "language_info": {
   "codemirror_mode": {
    "name": "ipython",
    "version": 3
   },
   "file_extension": ".py",
   "mimetype": "text/x-python",
   "name": "python",
   "nbconvert_exporter": "python",
   "pygments_lexer": "ipython3",
   "version": "3.9.16"
  }
 },
 "nbformat": 4,
 "nbformat_minor": 2
}