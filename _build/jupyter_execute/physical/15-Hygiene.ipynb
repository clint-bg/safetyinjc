{
 "cells": [
  {
   "cell_type": "markdown",
   "metadata": {},
   "source": [
    "# 15-Industrial Hygiene"
   ]
  },
  {
   "cell_type": "markdown",
   "metadata": {},
   "source": [
    "Learning Objectives:\n",
    "1. Learn the four steps of industrial hygiene\n",
    "2. Evaluate the magnitude of exposures and responses\n",
    "    - Vapors\n",
    "    - Dusts\n",
    "    - Noise\n",
    "    - Thermal radiation\n"
   ]
  },
  {
   "cell_type": "markdown",
   "metadata": {},
   "source": [
    "## Industrial Hygiene"
   ]
  },
  {
   "cell_type": "markdown",
   "metadata": {},
   "source": [
    "Industrial hygienists are typically part of the safety and health team in a company. They are responsible for identifying, evaluating, and controlling workplace hazards together with workers and management. "
   ]
  },
  {
   "cell_type": "markdown",
   "metadata": {},
   "source": [
    "Picture of Industrial Hygienist in Chemical Plant\n",
    "\n",
    "<img src=\"https://github.com/clint-bg/safetyinjc/blob/main/physical/supportfiles/hygienist.jpeg?raw=true\" width=\"400\">\n",
    "\n",
    "[https://images.app.goo.gl/EmTPJxCdSidwUoXQ6](https://images.app.goo.gl/EmTPJxCdSidwUoXQ6)"
   ]
  },
  {
   "cell_type": "markdown",
   "metadata": {},
   "source": [
    "The four steps of industrial hygiene are:\n",
    "\n",
    "1. **Anticipation**: Identifying potential hazards before they occur.\n",
    "2. **Recognition**: Identifying hazards that are present.\n",
    "3. **Evaluation**: Determining the magnitude of the exposure and the response.\n",
    "4. **Control**: Implementing measures to control the hazards."
   ]
  },
  {
   "cell_type": "markdown",
   "metadata": {},
   "source": [
    "### Common Tools used by Industrial Hygienists"
   ]
  },
  {
   "cell_type": "markdown",
   "metadata": {},
   "source": [
    "<img src=\"https://github.com/clint-bg/safetyinjc/blob/main/physical/supportfiles/htools.png?raw=true\" width=\"600\">\n"
   ]
  },
  {
   "cell_type": "markdown",
   "metadata": {},
   "source": [
    "```{note}\n",
    "The EH&S department together with Industrial Hygienists work to keep everyone safe. The safety team utilizes Process Safety Management (PSM) to identify and control hazards as we discussed in the previous lectures. However, it is important to remember that safety is everyone's responsibility. Some facilities have thousands of employees and only a few industrial hygienists. It is important to take responsibility for your own safety and work with the safety team.\n",
    "```"
   ]
  },
  {
   "cell_type": "markdown",
   "metadata": {},
   "source": [
    "## Quantifying Exposures"
   ]
  },
  {
   "cell_type": "markdown",
   "metadata": {},
   "source": [
    "TWA, time-weighted average, is the most common way to quantify exposures. It is the exposure averaged over an 8-hour workday."
   ]
  },
  {
   "cell_type": "markdown",
   "metadata": {},
   "source": [
    "### Gases and Vapors"
   ]
  },
  {
   "cell_type": "markdown",
   "metadata": {},
   "source": [
    "```{note}\n",
    "Even if the exposure is longer than 8 hours, the TWA is still calculated over an 8-hour workday. For example, if a worker is exposed to a chemical for 12 hours, the TWA is calculated over 8 hours.\n",
    "```"
   ]
  },
  {
   "cell_type": "markdown",
   "metadata": {},
   "source": [
    "$$\n",
    "\n",
    "\\text{TWA} = \\frac{\\sum_{i=1}^{n} C_i \\cdot T_i}{8} = \\frac{1}{8} \\int_{0}^{8} C(t) dt\n",
    "\n",
    "$$"
   ]
  },
  {
   "cell_type": "markdown",
   "metadata": {},
   "source": [
    "where $C_i$ is the concentration of the chemical at time $i$ and $T_i$ is the time the concentration is present. "
   ]
  },
  {
   "cell_type": "markdown",
   "metadata": {},
   "source": [
    "### Example Concentration Profile\n",
    "| Time (hours) | Concentration (ppm) |\n",
    "|--------------|---------------------|\n",
    "| 0            | 0                   |\n",
    "| 1            | 10                  |\n",
    "| 2            | 15                  |\n",
    "| 5            | 18                  |\n",
    "| 6            | 20                  |\n",
    "| 8            | 10                  |\n",
    "| 9            | 30                  |\n",
    "| 10           | 40                  |"
   ]
  },
  {
   "cell_type": "code",
   "execution_count": 1,
   "metadata": {},
   "outputs": [],
   "source": [
    "import numpy as np\n",
    "import matplotlib.pyplot as plt\n",
    "import pandas as pd"
   ]
  },
  {
   "cell_type": "code",
   "execution_count": 2,
   "metadata": {},
   "outputs": [
    {
     "data": {
      "image/png": "[encoded data removed]",
      "text/plain": [
       "<Figure size 640x480 with 1 Axes>"
      ]
     },
     "metadata": {},
     "output_type": "display_data"
    }
   ],
   "source": [
    "#example discrete concentration profile\n",
    "data = {'time (hr)': [0, 1, 2, 5, 6, 8, 9, 10],\n",
    "        'concentration (ppm)': [0,10,15,18,20,10,30,40]}\n",
    "df = pd.DataFrame(data)\n",
    "df.plot(x='time (hr)', y='concentration (ppm)', kind = 'bar')\n",
    "plt.show()"
   ]
  },
  {
   "cell_type": "code",
   "execution_count": 3,
   "metadata": {},
   "outputs": [
    {
     "name": "stdout",
     "output_type": "stream",
     "text": [
      "TWA_1 = 23.6 ppm\n"
     ]
    }
   ],
   "source": [
    "#TWA Calculation; Method 1 (assume the current measure is the same for the previous interval)\n",
    "TWA_1 = 0; ti_1 = 0;\n",
    "#loop through each time interval\n",
    "for i in range(1, len(df)):\n",
    "    #calculate TWA for each interval\n",
    "    C_i = df['concentration (ppm)'][i]\n",
    "    t_i = df['time (hr)'][i]\n",
    "    TWA_1 += C_i*(t_i-ti_1)\n",
    "    ti_1 = t_i; \n",
    "print(f'TWA_1 = {TWA_1/8:.1f} ppm')"
   ]
  },
  {
   "cell_type": "code",
   "execution_count": 4,
   "metadata": {},
   "outputs": [
    {
     "name": "stdout",
     "output_type": "stream",
     "text": [
      "TWA_trap = 21.4 ppm\n"
     ]
    }
   ],
   "source": [
    "#TWA Calculation; Method 2 (use the trapezoidal rule)\n",
    "TWA_trap = 0;\n",
    "#loop through each time interval\n",
    "for i in range(1, len(df)):\n",
    "    #calculate TWA for each interval\n",
    "    C_i = df['concentration (ppm)'][i]\n",
    "    C_i_1 = df['concentration (ppm)'][i-1]\n",
    "    t_i = df['time (hr)'][i]\n",
    "    t_i_1 = df['time (hr)'][i-1]\n",
    "    TWA_trap += (C_i+C_i_1)*(t_i-t_i_1)/2\n",
    "print(f'TWA_trap = {TWA_trap/8:.1f} ppm')"
   ]
  },
  {
   "cell_type": "code",
   "execution_count": 5,
   "metadata": {},
   "outputs": [
    {
     "name": "stdout",
     "output_type": "stream",
     "text": [
      "TWA_CSpline = 21.1 ppm\n"
     ]
    }
   ],
   "source": [
    "#TWA Calculation; Method 3 (fit a polynomial to the data and integrate with cspline1d_integral)\n",
    "from scipy.interpolate import CubicSpline\n",
    "#fit a polynomial to the data\n",
    "cs = CubicSpline(df['time (hr)'], df['concentration (ppm)'])\n",
    "#integrate the polynomial with quad\n",
    "from scipy.integrate import quad\n",
    "TWA_CSpline, err = quad(cs, 0, 10)\n",
    "print(f'TWA_CSpline = {TWA_CSpline/8:.1f} ppm')"
   ]
  },
  {
   "cell_type": "code",
   "execution_count": 6,
   "metadata": {},
   "outputs": [
    {
     "name": "stdout",
     "output_type": "stream",
     "text": [
      "TWA_poly = 22.1 ppm\n"
     ]
    }
   ],
   "source": [
    "#fit a polynomial to the data\n",
    "p = np.polyfit(df['time (hr)'], df['concentration (ppm)'], 3)\n",
    "#integrate the polynomial\n",
    "TWA_poly = quad(np.poly1d(p), 0, 10)[0]\n",
    "print(f'TWA_poly = {TWA_poly/8:.1f} ppm')"
   ]
  },
  {
   "cell_type": "code",
   "execution_count": 7,
   "metadata": {},
   "outputs": [
    {
     "data": {
      "image/png": "[encoded data removed]",
      "text/plain": [
       "<Figure size 640x480 with 1 Axes>"
      ]
     },
     "metadata": {},
     "output_type": "display_data"
    }
   ],
   "source": [
    "#plot the data and the polynomial fit\n",
    "t = np.linspace(0, 10, 100)\n",
    "C = np.poly1d(p)(t)\n",
    "plt.plot(t, cs(t), label='cubic spline')\n",
    "plt.plot(t, C, label = 'polynomial fit')\n",
    "plt.bar(df['time (hr)'], df['concentration (ppm)'], label = 'data')\n",
    "plt.xlabel('time (hr)')\n",
    "plt.ylabel('concentration (ppm)')\n",
    "plt.legend()\n",
    "plt.show()"
   ]
  },
  {
   "cell_type": "code",
   "execution_count": 8,
   "metadata": {},
   "outputs": [
    {
     "name": "stdout",
     "output_type": "stream",
     "text": [
      "Method\tTWA (ppm)\n",
      "1\t\t23.6\n",
      "trapezoid\t21.4\n",
      "CSpline\t\t21.1\n",
      "Polynomial_3\t22.1\n"
     ]
    }
   ],
   "source": [
    "#tabular display of the results\n",
    "print('Method\\tTWA (ppm)')\n",
    "print(f'1\\t\\t{TWA_1/8:.1f}')\n",
    "print(f'trapezoid\\t{TWA_trap/8:.1f}')\n",
    "print(f'CSpline\\t\\t{TWA_CSpline/8:.1f}')\n",
    "print(f'Polynomial_3\\t{TWA_poly/8:.1f}')"
   ]
  },
  {
   "cell_type": "markdown",
   "metadata": {},
   "source": [
    "#### Was the worker over exposed?\n",
    "\n",
    "If the TLV-TWA is 20 ppm for the above chemical, then YES, the worker was over exposed."
   ]
  },
  {
   "cell_type": "markdown",
   "metadata": {},
   "source": [
    ":::{admonition} Consequences of Overexposure\n",
    ":class: warning\n",
    "Overexposure to chemicals can cause a variety of health effects. Some chemicals can cause immediate effects such as dizziness, nausea, and headaches. Others can cause long-term effects such as cancer, reproductive issues, and organ damage. \n",
    "\n",
    "In order to prevent this scenario from happening again, the industrial hygienist would work with the safety team to implement control measures such as increased ventilation and the use of a respirator with a organic vapor cartridge for example. \n",
    "- Using a respiratory for long periods of time is not ideal\n",
    "\n",
    "<img src=\"https://github.com/clint-bg/safetyinjc/blob/main/physical/supportfiles/resp.png?raw=true\" width=\"300\">\n",
    "\n",
    ":::"
   ]
  },
  {
   "cell_type": "markdown",
   "metadata": {},
   "source": [
    "### Multiple Gaseous Chemicals"
   ]
  },
  {
   "cell_type": "markdown",
   "metadata": {},
   "source": [
    "What if there are multiple hazardous vapors present?\n",
    "\n",
    "Overexposure can be determined by the below equation:"
   ]
  },
  {
   "cell_type": "markdown",
   "metadata": {},
   "source": [
    "$$\n",
    "\\sum_{i=1}^{n} \\frac{C_i}{\\text{TLV-TWA}_i} > 1?\n",
    "$$"
   ]
  },
  {
   "cell_type": "markdown",
   "metadata": {},
   "source": [
    "The TLV-TWA for gaseous mixtures can be found by:\n",
    "\n",
    "$$\n",
    "\\text{TLV-TWA}_{\\text{mixture}} =  \\frac{\\sum_{i=1}^{n} C_i}{\\sum_{i=1}^{n} \\frac{C_i}{\\text{TLV-TWA}_i}}\n",
    "$$"
   ]
  },
  {
   "cell_type": "markdown",
   "metadata": {},
   "source": [
    "```{note}\n",
    "Once the mixture TLV-TWA is found, determining the exposure can be done using the same equation as before where the sum of the concentrations for each timeframe is summed and divided by 8 hours.\n",
    "```"
   ]
  },
  {
   "cell_type": "markdown",
   "metadata": {},
   "source": [
    "### Dusts"
   ]
  },
  {
   "cell_type": "markdown",
   "metadata": {},
   "source": [
    "Dusts are treated the same way but instead of using ppm, mg/m^3 is used."
   ]
  },
  {
   "cell_type": "markdown",
   "metadata": {},
   "source": [
    "### Noise"
   ]
  },
  {
   "cell_type": "markdown",
   "metadata": {},
   "source": [
    "Sound pressure level (SPL) is used as an intensity measure. The lowest SPL that can be heard by the human ear is near 2E-5 Pa. Thus in the below equation $I_o$ is 2E-5 Pa.\n",
    "\n",
    "$$\n",
    "\\text{dB} = 10 \\log_{10} \\left( \\frac{I}{I_o} \\right)\n",
    "$$\n",
    "\n",
    "where $P$ is the sound pressure and $I$ is the intensity."
   ]
  },
  {
   "cell_type": "markdown",
   "metadata": {},
   "source": [
    "See \"Permissible Noise Exposures,\" [https://www.osha.gov/laws-regs/regulations/standardnumber/1910/1910.95] (https://www.osha.gov/laws-regs/regulations/standardnumber/1910/1910.95) where you can use the combination rule of $\\sum \\frac{D_i}{\\text{MTA}_i}>1?$ to determine if the worker is overexposed, where $D_i$ is the duration at the given dB sound level and MTA is the maximum time allowed at that level."
   ]
  },
  {
   "cell_type": "markdown",
   "metadata": {},
   "source": [
    "### Thermal Radiation "
   ]
  },
  {
   "cell_type": "markdown",
   "metadata": {},
   "source": [
    "Flames, hot metal surfaces, and other heat sources can cause burns. The heat flux is the amount of heat energy transferred per unit area per unit time. The heat flux is measured in W/m^2."
   ]
  },
  {
   "cell_type": "markdown",
   "metadata": {},
   "source": [
    "<img src=\"https://github.com/clint-bg/safetyinjc/blob/main/physical/supportfiles/degrees.png?raw=true\" width=\"600\">\n",
    "\n",
    "\n",
    "[Image Reference](https://commons.wikimedia.org/wiki/File:1st,_2nd,_and_3rd_degree_burns.jpg)"
   ]
  },
  {
   "cell_type": "markdown",
   "metadata": {},
   "source": [
    "From Handbook of Chemical Hazards Analysis Procedures (1989), Table 4.2\n",
    "\n",
    "Heat Radiation Intensity (kW/m^2) |Time for pain (seconds)| Time for 2nd Degree Burn (seconds)\n",
    "------------------|----------------|-----------------------------------\n",
    "1                 |115              | 663\n",
    "2                 |45              | 187\n",
    "3                 |27              | 92\n",
    "4                 |18              | 57\n",
    "5                 |13              | 40\n",
    "6                 |11              | 30\n",
    "8                 |7              | 20\n",
    "10                |5              | 14\n",
    "12                |4              | 11\n",
    "\n",
    "[Reference Link](https://nepis.epa.gov/Exe/ZyNET.exe/10003MK5.txt?ZyActionD=ZyDocument&Client=EPA&Index=1986%20Thru%201990&Docs=&Query=%28radiation%29%20OR%20FNAME%3D%2210003MK5.txt%22%20AND%20FNAME%3D%2210003MK5.txt%22&Time=&EndTime=&SearchMethod=1&TocRestrict=n&Toc=&TocEntry=&QField=&QFieldYear=&QFieldMonth=&QFieldDay=&UseQField=&IntQFieldOp=0&ExtQFieldOp=0&XmlQuery=&File=D%3A%5CZYFILES%5CINDEX%20DATA%5C86THRU90%5CTXT%5C00000003%5C10003MK5.txt&User=ANONYMOUS&Password=anonymous&SortMethod=h%7C-&MaximumDocuments=1&FuzzyDegree=0&ImageQuality=r75g8/r75g8/x150y150g16/i425&Display=hpfr&DefSeekPage=x&SearchBack=ZyActionL&Back=ZyActionS&BackDesc=Results%20page&MaximumPages=1&ZyEntry=73)\n",
    "\n",
    "You may have to click the 'reference link' twice to get it to work.\n",
    "\n",
    ":::{admonition} Initial Source\n",
    ":class: note\n",
    "The initial source of the above table is Buettner, K, \"Effects of Extreme Heat and Cold on Human Skin, II Surface Temperatures, Pain and Heat Conductivity in Experiments with Radiant Heat,\" Journal of Applied Physiology, 1951, 3, 703.\n",
    ":::"
   ]
  },
  {
   "cell_type": "code",
   "execution_count": 9,
   "metadata": {},
   "outputs": [],
   "source": [
    "data = {'Radiation (kW/m2)':[1,2,3,4,5,6,8,10,12], \n",
    "        'Pain time (sec)':[115,45,27,18,13,11,7,5,4], \n",
    "        '2nd Degree Time (sec)':[663, 187,92,57,40,30,20,14,11]}\n",
    "df = pd.DataFrame(data)"
   ]
  },
  {
   "cell_type": "markdown",
   "metadata": {},
   "source": [
    "[DESR 6055.09](https://www.denix.osd.mil/ddes/denix-files/sites/32/2021/08/DESR-6055.09-Edition1.pdf) is the handbook for the Department of Defense and gives the following relationship for heat flux (q, kW/m2) and time,t, before a 2nd degree burn:\n",
    "\n",
    "$$\n",
    "t = 200 \\cdot q^{-1.46}\n",
    "$$"
   ]
  },
  {
   "cell_type": "code",
   "execution_count": 10,
   "metadata": {},
   "outputs": [],
   "source": [
    "#Causitive variable from Probit correlations from death from burning\n",
    "time = np.linspace(5, 700, 1000)\n",
    "def Q2(t):\n",
    "    return (t/200)**(-1/1.46)"
   ]
  },
  {
   "cell_type": "code",
   "execution_count": 11,
   "metadata": {},
   "outputs": [
    {
     "data": {
      "text/plain": [
       "<matplotlib.legend.Legend at 0x1699b20d0>"
      ]
     },
     "execution_count": 11,
     "metadata": {},
     "output_type": "execute_result"
    },
    {
     "data": {
      "image/png": "[encoded data removed]",
      "text/plain": [
       "<Figure size 640x480 with 1 Axes>"
      ]
     },
     "metadata": {},
     "output_type": "display_data"
    }
   ],
   "source": [
    "df.plot(x='2nd Degree Time (sec)', y='Radiation (kW/m2)', kind = 'scatter', label='EPA 2nd Degree Burn')\n",
    "plt.scatter(df['Pain time (sec)'], df['Radiation (kW/m2)'], marker = '+', label = 'EPA Pain threshold')\n",
    "plt.plot(time, Q2(time), label = 'DESR 6055 Q')\n",
    "plt.legend()"
   ]
  },
  {
   "cell_type": "code",
   "execution_count": 12,
   "metadata": {},
   "outputs": [
    {
     "data": {
      "text/plain": [
       "3.3333333333333335"
      ]
     },
     "execution_count": 12,
     "metadata": {},
     "output_type": "execute_result"
    }
   ],
   "source": [
    "200/60"
   ]
  },
  {
   "cell_type": "markdown",
   "metadata": {},
   "source": [
    "The above plot shows that the relationship used for the military (DESR 6055) is conservative relative to the EPA's Handbook of Chemical Hazards Analysis Procedures. Considert that in full sun, the approximate radiation is 1 kW/m2. Would it really take 660 seconds (11 minutes) to get a sunburn that blisters? No, it would take longer indicating that both relationships are conservative."
   ]
  },
  {
   "cell_type": "markdown",
   "metadata": {},
   "source": [
    "#### Estimating thermal flux from a fire"
   ]
  },
  {
   "cell_type": "markdown",
   "metadata": {},
   "source": [
    "The radiation from a fire or fireball descreases with the square of the distance from the fire. The heat flux is given by:\n",
    "\n",
    "$$\n",
    "q = \\frac{P}{4 \\pi r^2}\n",
    "$$\n",
    "\n",
    "where $P$ is the power of the fire in watts and $r$ is the distance from the fire in meters."
   ]
  },
  {
   "cell_type": "markdown",
   "metadata": {},
   "source": [
    "Thus, if a fire has a power of 1 MW and you are 10 meters away, the heat flux is:"
   ]
  },
  {
   "cell_type": "markdown",
   "metadata": {},
   "source": [
    "'Your answer here'"
   ]
  },
  {
   "cell_type": "markdown",
   "metadata": {},
   "source": [
    "How long would you have before a 2nd degree burn?"
   ]
  },
  {
   "cell_type": "markdown",
   "metadata": {},
   "source": []
  }
 ],
 "metadata": {
  "kernelspec": {
   "display_name": "Python 3",
   "language": "python",
   "name": "python3"
  },
  "language_info": {
   "codemirror_mode": {
    "name": "ipython",
    "version": 3
   },
   "file_extension": ".py",
   "mimetype": "text/x-python",
   "name": "python",
   "nbconvert_exporter": "python",
   "pygments_lexer": "ipython3",
   "version": "3.9.16"
  }
 },
 "nbformat": 4,
 "nbformat_minor": 2
}