{
 "cells": [
  {
   "cell_type": "markdown",
   "metadata": {},
   "source": [
    "# 23-Reliefs"
   ]
  },
  {
   "cell_type": "markdown",
   "metadata": {},
   "source": [
    "Learning Objectives:\n",
    "- Understand the importance of **pressure protection**\n",
    "- Identify and understand the different **types of pressure protection devices**\n",
    "- Understand **where and why** pressure protection devices are used"
   ]
  },
  {
   "cell_type": "markdown",
   "metadata": {},
   "source": [
    "## Pressure Protection\n"
   ]
  },
  {
   "cell_type": "markdown",
   "metadata": {},
   "source": [
    "<img src=\"https://github.com/clint-bg/safetyinjc/blob/main/physical/supportfiles/reactor.png?raw=true\" width=\"500\">\n",
    "\n",
    "*AI Generated Image of a Reactor*"
   ]
  },
  {
   "cell_type": "markdown",
   "metadata": {},
   "source": [
    "What would be the consequences if the reactor in the image above were to over-pressurize?\n",
    "- The reactor could **explode**, causing damage to the plant and surrounding area\n",
    "- The reactor could **release hazardous chemicals into the environment**\n",
    "- The reactor could **release hazardous chemicals into the plant**, causing harm to personnel\n"
   ]
  },
  {
   "cell_type": "markdown",
   "metadata": {},
   "source": [
    "Explosion approximate consequences:"
   ]
  },
  {
   "cell_type": "code",
   "execution_count": 1,
   "metadata": {},
   "outputs": [],
   "source": [
    "#Potential energy from exploding reactor\n",
    "ReactorVolume = 50 #m^3 (13,200 gallons)\n",
    "VoidFraction = 0.67 #67% void fraction\n",
    "Contents = 'Acetone'\n",
    "BurstPressure = 10 #bar\n",
    "ContentMass = ReactorVolume * (1 - VoidFraction) * 785 #kg/m^3, Acetone density estimate\n",
    "CombustionHeat = 30.819e6 #J/kg: 1790 kJ/mol, molecular weight 58.08 g/mol"
   ]
  },
  {
   "cell_type": "code",
   "execution_count": 2,
   "metadata": {},
   "outputs": [
    {
     "name": "stdout",
     "output_type": "stream",
     "text": [
      "BurstEnergy, MJ:  50.0\n",
      "CombustionEnergy, MJ: 399183.10\n",
      "Energy could power 3992.33 homes for a year\n"
     ]
    }
   ],
   "source": [
    "#Energy from bursting reactor scales with burst pressure and void volume:\n",
    "BurstEnergy = BurstPressure * ReactorVolume * 1e5 #Joules\n",
    "print('BurstEnergy, MJ: ', BurstEnergy/1e6)\n",
    "CombustionEnergy = ContentMass * CombustionHeat #Joules\n",
    "print(f'CombustionEnergy, MJ: {CombustionEnergy/1e6:.2f}')\n",
    "#energy to power 1 homes for a year\n",
    "EnergyPerYear = 100e6 #J\n",
    "print(f'Energy could power {(CombustionEnergy+BurstEnergy)/EnergyPerYear:.2f} homes for a year')"
   ]
  },
  {
   "cell_type": "markdown",
   "metadata": {},
   "source": [
    "What steps could be taken to prevent the reactor from over-pressurizing?"
   ]
  },
  {
   "cell_type": "markdown",
   "metadata": {},
   "source": [
    "```{toggle}\n",
    "- Effective control of the rate of the reaction(s)\n",
    "- Specific strategies to control side reactions\n",
    "- Effective reactor cooling\n",
    "- **Pressure Relief Devices** are used to prevent over-pressurization of equipment\n",
    "```"
   ]
  },
  {
   "cell_type": "markdown",
   "metadata": {},
   "source": [
    "Code requirements"
   ]
  },
  {
   "cell_type": "markdown",
   "metadata": {},
   "source": [
    "## Types of Pressure Protection Devices"
   ]
  },
  {
   "cell_type": "markdown",
   "metadata": {},
   "source": [
    "## Where and Why Pressure Protection Devices are Used"
   ]
  },
  {
   "cell_type": "markdown",
   "metadata": {},
   "source": []
  }
 ],
 "metadata": {
  "kernelspec": {
   "display_name": "Python 3",
   "language": "python",
   "name": "python3"
  },
  "language_info": {
   "codemirror_mode": {
    "name": "ipython",
    "version": 3
   },
   "file_extension": ".py",
   "mimetype": "text/x-python",
   "name": "python",
   "nbconvert_exporter": "python",
   "pygments_lexer": "ipython3",
   "version": "3.9.16"
  }
 },
 "nbformat": 4,
 "nbformat_minor": 2
}