{
 "cells": [
  {
   "cell_type": "markdown",
   "metadata": {},
   "source": [
    "# 18-Flammability"
   ]
  },
  {
   "cell_type": "markdown",
   "metadata": {},
   "source": [
    "Flames are a common hazard in many industries. Flames are all around us and they serve purposes from conversion of chemical bond energy to heat, propulsion of rockets, to cooking in our homes. These scenarios are planned for and designed to safely occur. However, there are many scenarios where flames are not planned for and can cause catastrophic damage."
   ]
  },
  {
   "cell_type": "markdown",
   "metadata": {},
   "source": [
    "Fires cause billions of dollars in damage every year. In the United States alone, the National Fire Protection Association (NFPA) estimate that in 2022, local fire departments responded to an estimated 1.5 million fires. Those fires caused 3,790 civilian fire deaths and 13,250 reported civilian fire injuries. The property damage caused by these fires was estimated at \\$18 billion. [See the NFPA Site Here for Further Information](https://www.nfpa.org/education-and-research/research/nfpa-research/fire-statistical-reports/fire-loss-in-the-united-states)"
   ]
  },
  {
   "cell_type": "markdown",
   "metadata": {},
   "source": [
    "Chemical Processing Fire Example Image\n",
    "\n",
    "<img src=\"https://github.com/clint-bg/safetyinjc/blob/main/physical/supportfiles/chemplantfire.png?raw=true\" width=\"500\">\n",
    "\n",
    "credit: https://jenikirbyhistory.getarchive.net/media/fire-glowing-hot-372895"
   ]
  },
  {
   "cell_type": "markdown",
   "metadata": {},
   "source": [
    "<img src=\"https://github.com/clint-bg/safetyinjc/blob/main/physical/supportfiles/wallFire.gif?raw=true\" width=\"300\">\n",
    "\n",
    "LES visualization credit to Dr. David Lignell: https://ignite.byu.edu/research.html"
   ]
  },
  {
   "cell_type": "markdown",
   "metadata": {},
   "source": [
    "Learning Objectives:\n",
    "- Describe the nature of fires and explosions.\n",
    "- Define the fire triangle and explain how to use it to prevent flammable mixtures.\n",
    "- Characterize the flammability of gases, liquids, and dusts.\n",
    "- Estimate flammability parameters for mixtures."
   ]
  },
  {
   "cell_type": "markdown",
   "metadata": {},
   "source": [
    "## Fires and Explosions"
   ]
  },
  {
   "cell_type": "markdown",
   "metadata": {},
   "source": [
    "The below pie chart shows the fraction of fires per category for the approximately 4000 people that died in 2022. Notice that the majority of fires are residential fires. \n",
    "\n",
    "<img src=\"https://github.com/clint-bg/safetyinjc/blob/main/physical/supportfiles/pieCfire.png?raw=true\" width=\"400\">\n",
    "\n",
    "Industrial loss of life and property is also due primarily to fires and explosions."
   ]
  },
  {
   "cell_type": "markdown",
   "metadata": {},
   "source": [
    "### What is a fire?\n",
    "\n",
    "A rapid exothermic reaction. Or in other words, a fuel reacts with an oxidizer once ignited to produce a thermodynamically favored chemical change. Heat, light, and sound can be produced. The heat can be used to sustain the reaction, and the light and sound are often the first signs of a fire."
   ]
  },
  {
   "cell_type": "markdown",
   "metadata": {},
   "source": [
    "### What is an explosion?\n",
    "\n",
    "An explosion is a rapid release of energy in an uncontrolled manner. This can be due to a rapid exothermic reaction, or a rapid release of pressure. The energy release can be due to a chemical reaction, or a physical change in state."
   ]
  },
  {
   "cell_type": "markdown",
   "metadata": {},
   "source": [
    "### Hazardous Effects of Fires and Explosions\n",
    "\n",
    "- Thermal radiation\n",
    "- Asphyxiation\n",
    "- Toxic gases\n",
    "- Blast waves\n",
    "- Fragmentation\n",
    "\n",
    "Theses effects can cause damage to property, injury, and loss of life.\n"
   ]
  },
  {
   "cell_type": "markdown",
   "metadata": {},
   "source": [
    "## How do fires start?"
   ]
  },
  {
   "cell_type": "markdown",
   "metadata": {},
   "source": [
    "<img src=\"https://github.com/clint-bg/safetyinjc/blob/main/physical/supportfiles/firetri.png?raw=true\" width=\"300\">\n",
    "\n",
    "credit to https://commons.wikimedia.org/wiki/File:Fire_triangle_2.svg"
   ]
  },
  {
   "cell_type": "markdown",
   "metadata": {},
   "source": [
    "Fires and explosions require a fuel, an oxidizer, and an ignition source. This is known as the fire triangle. "
   ]
  },
  {
   "cell_type": "markdown",
   "metadata": {},
   "source": [
    "```{admonition} Fuel\n",
    ":class: warning\n",
    "Fuels can be solid, liquid or gases:\n",
    "- Solids: wood, wood byproducts, metal particles, combustible dusts, plastics, rubber, etc.\n",
    "- Liquids: gasoline, diesel, kerosene, alcohols, etc.\n",
    "- Gases: methane, propane, hydrogen, etc.\n",
    "```\n",
    "\n",
    "```{admonition} Oxidizer\n",
    ":class: warning\n",
    "Oxidizers are substances that provide oxygen to the reaction. Common oxidizers are:\n",
    "- Solids: perchlorates, nitrates, etc.\n",
    "- Liquids: hydrogen peroxide, nitric acid, sulfuric acid, etc.\n",
    "- Gases: oxygen, chlorine, fluorine, etc.\n",
    "```\n",
    "\n",
    "```{admonition} Ignition Source\n",
    ":class: warning\n",
    "- Friction, Impact, Static Electricity, Electrical Sparks, Hot Surfaces, Open Flames, etc.\n",
    "```"
   ]
  },
  {
   "cell_type": "markdown",
   "metadata": {},
   "source": [
    "### What actually burns?\n",
    "\n",
    "In all but the most unique of circumstances, it is the vapor of a liquid or solid that burns. The vapor or gas mixes with the oxidizer and ignites. The heat from the ignition sustains the reaction."
   ]
  },
  {
   "cell_type": "markdown",
   "metadata": {},
   "source": [
    "<img src=\"https://github.com/clint-bg/safetyinjc/blob/main/physical/supportfiles/surfaceC.png?raw=true\" width=\"400\">"
   ]
  },
  {
   "cell_type": "markdown",
   "metadata": {},
   "source": [
    "### How to Prevent Fires and Explosions"
   ]
  },
  {
   "cell_type": "markdown",
   "metadata": {},
   "source": [
    "Ignition sources are plentiful and can be difficult to control. However, the fuel and oxidizer can be controlled. The most common way to prevent fires and explosions is to control the fuel and oxidizer. Often either the concentration of the fuel or the concentration of the oxidizer is controlled to prevent a fire or explosion."
   ]
  },
  {
   "cell_type": "markdown",
   "metadata": {},
   "source": [
    "### How low or high does the concentrations need to be altered?"
   ]
  },
  {
   "cell_type": "markdown",
   "metadata": {},
   "source": [
    "#### Lower Flammability Limit (LFL)\n",
    "- LFL: Lowest concentration of fuel in air that will support a flame.\n",
    "- LOC: Also can define **LOC** (Limiting Oxygen Concentration) as the lowest concentration of oxygen in air that will support a flame.\n",
    "- units are typically in volume percent (vol%) or equivalently mole percent (mol%)."
   ]
  },
  {
   "cell_type": "markdown",
   "metadata": {},
   "source": [
    "#### Upper Flammability Limit (UFL)\n",
    "- UFL: Highest concentration of fuel in air that will support a flame.\n",
    "- UOC: Also can define **UOC** (Upper Oxygen Concentration) as the highest concentration of oxygen in air that will support a flame.\n",
    "- Also in units of volume percent (vol%) or mole percent (mol%).\n"
   ]
  },
  {
   "cell_type": "markdown",
   "metadata": {},
   "source": [
    "Typical Values for LFL and UFL\n",
    "\n",
    "| Substance | LFL (vol%) | UFL (vol%) |\n",
    "|-----------|------------|------------|\n",
    "| Gasoline  | 1.4        | 7.6        |\n",
    "| Methane   | 5          | 15         |\n",
    "| Propane   | 2.1        | 9.5        |\n",
    "| Hydrogen  | 4          | 75         |\n",
    "| Acetylene | 2.5        | 83       |\n",
    "\n"
   ]
  },
  {
   "cell_type": "markdown",
   "metadata": {},
   "source": [
    "Typical Values for LOC\n",
    "\n",
    "| Substance | LOC (vol%) |\n",
    "|-----------|------------|\n",
    "| Hydrogen  | 5        | \n",
    "| Methane   | 12         | \n",
    "| Ethane   | 11       | \n"
   ]
  },
  {
   "cell_type": "markdown",
   "metadata": {},
   "source": [
    "### Controlling the temperature\n",
    "\n",
    "**Flash point temperature** is the lowest temperature at which a liquid gives off enough vapor to form an ignitable mixture with air near the surface of the liquid."
   ]
  },
  {
   "cell_type": "markdown",
   "metadata": {},
   "source": [
    "Typical Flash Points\n",
    "\n",
    "| Substance | Flash Point (°C) |\n",
    "|-----------|------------------|\n",
    "| Methane   | -188             |\n",
    "| Propane   | -104             |\n",
    "| Gasoline  | -43              |\n",
    "| Methanol  | 11             |"
   ]
  },
  {
   "cell_type": "markdown",
   "metadata": {},
   "source": [
    "**Autoignition temperature** is the lowest temperature at which a substance will spontaneously ignite without an external ignition source."
   ]
  },
  {
   "cell_type": "markdown",
   "metadata": {},
   "source": [
    "Typical Autoignition Temperatures\n",
    "\n",
    "| Substance | Autoignition Temperature (°C) |\n",
    "|-----------|-------------------------------|\n",
    "| Methane   | 600                           |\n",
    "| Toluene   | 536                           |\n",
    "| Gasoline  | 280                           |\n",
    "| Methanol  | 463                           |\n"
   ]
  },
  {
   "cell_type": "markdown",
   "metadata": {},
   "source": []
  }
 ],
 "metadata": {
  "language_info": {
   "codemirror_mode": {
    "name": "ipython",
    "version": 3
   },
   "file_extension": ".py",
   "mimetype": "text/x-python",
   "name": "python",
   "nbconvert_exporter": "python",
   "pygments_lexer": "ipython3",
   "version": "3.9.16"
  }
 },
 "nbformat": 4,
 "nbformat_minor": 2
}