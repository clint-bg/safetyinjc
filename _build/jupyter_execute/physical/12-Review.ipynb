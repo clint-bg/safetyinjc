{
 "cells": [
  {
   "cell_type": "markdown",
   "metadata": {},
   "source": [
    "# 12-Review "
   ]
  },
  {
   "cell_type": "markdown",
   "metadata": {},
   "source": [
    "- Ethics\n",
    "- AIChE Code of Ethics\n",
    "- OSHA 29 CFR 1910.119 PSM\n",
    "- Fault Tree Analysis\n",
    "- Probabilities\n",
    "- Material and Component Balances"
   ]
  },
  {
   "cell_type": "markdown",
   "metadata": {},
   "source": [
    "This exam is closed book, closed internet, closed any other resources except one 8x11 piece of paper (both sides) that has your notes. You are allowed to use Python, Excel, calculators, etc. Use three significant figures for your answers."
   ]
  },
  {
   "cell_type": "markdown",
   "metadata": {},
   "source": []
  }
 ],
 "metadata": {
  "language_info": {
   "codemirror_mode": {
    "name": "ipython",
    "version": 3
   },
   "file_extension": ".py",
   "mimetype": "text/x-python",
   "name": "python",
   "nbconvert_exporter": "python",
   "pygments_lexer": "ipython3",
   "version": "3.9.16"
  }
 },
 "nbformat": 4,
 "nbformat_minor": 2
}