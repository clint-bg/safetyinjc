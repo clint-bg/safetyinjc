{
 "cells": [
  {
   "cell_type": "markdown",
   "metadata": {},
   "source": [
    "# 07-Hazards Analysis"
   ]
  },
  {
   "cell_type": "markdown",
   "metadata": {},
   "source": [
    "## Effective Hazards Analysis Steps\n",
    "Hazard Identification and Evaluation with Risk Analysis and Assessment\n",
    "\n",
    "1. Define the process\n",
    "\n",
    "This step can involve collecting documentation such as a process flow diagram (PFD), piping and instrumentation diagram (P&ID), operating procedure and other relevant information. It is also important to gather information about the process, such as the materials used, and the operating conditions among other things.\n",
    "\n",
    "2. Identify the hazards analysis method to use\n",
    "\n",
    "Hazards analysis methods include HAZOP, FMEA, and fault tree analysis (FTA). The choice of method will depend on the specific process and the goals of the analysis.\n",
    "\n",
    "3. Identify the Hazardous Top Level Event and contributing factors with\n",
    " - a Fault Tree Analysis (FTA)\n",
    "    - Including deductive and inductive reasoning\n",
    " - a HAZOP (Hazarsd and Operability Study)\n",
    "    - Including guide words and deviations \n",
    "\n",
    "4. Fill out a Hazards Analysis (HA) Table\n",
    "\n",
    "For each failure mode (the lower level events in your falut tree anlaysis), fill out the hazards analysis table including the following information:\n",
    "- Task description or process step\n",
    "- Hazard type\n",
    "- Hazard description\n",
    "- Event consequence\n",
    "- Safeguards currently present to mitigate the hazard\n",
    "- Rank (1A to 5E) for severity and likelihood of the hazard\n",
    "- Recommendations to reduce the risk of the hazard\n",
    "\n",
    "5. Potentially complete a quantitative risk analysis for those hazards with a high risk ranking\n",
    "\n",
    "6. Incoporate other PSM elements per the OSHA 1910.119 standard\n"
   ]
  },
  {
   "cell_type": "markdown",
   "metadata": {},
   "source": [
    ":::{toggle}\n",
    ":show:Cartoon Drawing of those Steps\n",
    "<img src=\"https://github.com/clint-bg/safetyinjc/blob/main/physical/supportfiles/effectiveHA.png?raw=trueg\" width=\"600\">\n",
    ":::"
   ]
  },
  {
   "cell_type": "markdown",
   "metadata": {},
   "source": [
    "## Recommended Hazards Analysis Methods\n",
    "The recommended methods for hazards analysis that we used effectively in evaluating explosive, pyrotechnic, and propellant based processes included:\n",
    "- Fault Tree Analysis (FTA) with deductive and inductive reasoning followed by Failure Mode and Effects Analysis (FMEA) where the HA table is filled out for each failure mode.\n",
    "- HAZOP (Hazarsd and Operability Study) with guide words and deviations"
   ]
  },
  {
   "cell_type": "markdown",
   "metadata": {},
   "source": [
    ":::{toggle} Hello\n",
    ":show:\n",
    "<img src=\"https://raw.githubusercontent.com/clint-bg/safetyinjc/refs/heads/main/physical/supportfiles/FTA2HATable.png\" width=\"600\">\n",
    ":::"
   ]
  },
  {
   "cell_type": "markdown",
   "metadata": {},
   "source": [
    "## FTA Review with Helpful Info"
   ]
  },
  {
   "cell_type": "markdown",
   "metadata": {},
   "source": [
    ":::{toggle}\n",
    ":show:\n",
    "Other helpful graphics for hazards analysis and review download pdf:\n",
    "https://github.com/clint-bg/safetyinjc/blob/main/physical/supportfiles/FTAwRev1.pdf \n",
    ":::"
   ]
  },
  {
   "cell_type": "markdown",
   "metadata": {},
   "source": [
    "## Classwork Exercise\n",
    "Fault Tree Analysis (Qualitative) with FMEA (Failure Modes and Effects Analysis)\n",
    "AIChE Ethics"
   ]
  },
  {
   "cell_type": "markdown",
   "metadata": {},
   "source": [
    "### Misc.\n",
    "Exam comments on structure"
   ]
  },
  {
   "cell_type": "code",
   "execution_count": null,
   "metadata": {},
   "outputs": [],
   "source": []
  }
 ],
 "metadata": {
  "language_info": {
   "codemirror_mode": {
    "name": "ipython",
    "version": 3
   },
   "file_extension": ".py",
   "mimetype": "text/x-python",
   "name": "python",
   "nbconvert_exporter": "python",
   "pygments_lexer": "ipython3",
   "version": "3.9.16"
  }
 },
 "nbformat": 4,
 "nbformat_minor": 2
}