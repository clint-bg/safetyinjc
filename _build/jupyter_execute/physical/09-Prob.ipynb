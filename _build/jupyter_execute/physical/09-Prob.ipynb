{
 "cells": [
  {
   "cell_type": "markdown",
   "metadata": {},
   "source": [
    "# 09-Probabilities"
   ]
  },
  {
   "cell_type": "markdown",
   "metadata": {},
   "source": [
    "When quantifying the risk from a specific failure mode, it can be important to understand several event likelihoods or probabilities such as:\n",
    "- probability of the event occurring in a given time period (or given number of cycles)\n",
    "- probability of a given energy level being exceeded (such as an energy level that would cause a failure) during that event\n",
    "- probability that given the energy level is exceeded, that the failure mode or failure outcome will occur\n",
    "- probability that an individual or group of individuals will be exposed to the event\n",
    "- etc."
   ]
  },
  {
   "cell_type": "markdown",
   "metadata": {},
   "source": [
    "Perhaps a simple example is the probability of breaking a hip after age 65. You'd include the probability of falling down as one impetus and perhaps a bike crash as another and then for each of those you'd have the probability of a break given the event occurred. We are part of such calculations as we pay insurance premiums. Actuarial science is the discipline that deals with the quantification of risk using probabilities.\n",
    "\n",
    "In the discussion here, we will focus on quantitatively estimating event probabilities, or the probability an event will occur in a given time period. "
   ]
  },
  {
   "cell_type": "markdown",
   "metadata": {},
   "source": [
    "## Event Probability from Poisson Distribution"
   ]
  },
  {
   "cell_type": "markdown",
   "metadata": {},
   "source": [
    "There are many statistical distributions including the normal distribution, chi squared, exponential, etc. that can be used to model event probabilities.  One of the most common distributions used in reliability engineering is the Poisson distribution.  The Poisson distribution is often used to model the number of events that occur in a fixed interval of time or space.  The probability of observing $k$ events in a given time period is given by the Poisson probability mass function:\n",
    "\n",
    "$$\n",
    "P(k) = \\frac{\\lambda^k e^{-\\lambda}}{k!}\n",
    "$$\n",
    "\n",
    "where $\\lambda$ is the rate of occurrences.\n",
    "\n",
    "In the treatment here, we will create a $\\lambda'$ prime that is the rate per unit time and we will also only care that k or the number of events is greater than or equal to 1.  This is because we are interested in the probability of at least one event occurring in a given time period. As such, the following is true of the probability estimate:\n",
    "\n",
    "$$\n",
    "P = 1 - e^{-\\lambda' t} \\\\\n",
    "P = 1 - e^{-\\mu t}\n",
    "$$ \n",
    "\n",
    "where the second equation is how it is given in Crowl and Louvar's Chemical Process Safety 4th edition."
   ]
  },
  {
   "cell_type": "markdown",
   "metadata": {},
   "source": [
    "<img src=\"https://github.com/clint-bg/safetyinjc/blob/main/physical/supportfiles/Poisson.png?raw=true\" width=\"600\">"
   ]
  },
  {
   "cell_type": "markdown",
   "metadata": {},
   "source": [
    "## Multiple Event Probability Estimates"
   ]
  },
  {
   "cell_type": "markdown",
   "metadata": {},
   "source": [
    "<img src=\"https://github.com/clint-bg/safetyinjc/blob/main/physical/supportfiles/AndOr.png?raw=true\" width=\"600\">"
   ]
  },
  {
   "cell_type": "markdown",
   "metadata": {},
   "source": [
    "For clarity, the example shown above has a mean time between failures (1/$\\mu$) of 6000 seconds, 100 minutes, or 1.67 hours. The probability of a failure occurring in 1 second is 1.67e-4 which is very close to $\\mu$ = 1.67e-4. However for longer times like 1 month, the probability of failure is very close to 1 but $\\mu$ is 432 failures expected per month. Don't confuse $\\mu$ or the failure rate with P, the probability of failure in a given time period."
   ]
  },
  {
   "cell_type": "code",
   "execution_count": 1,
   "metadata": {},
   "outputs": [
    {
     "name": "stdout",
     "output_type": "stream",
     "text": [
      "The probability of failure in 1 second is 0.00016665, which is approximately equal to mu = 0.00016667\n"
     ]
    }
   ],
   "source": [
    "import numpy as np\n",
    "P = 1 - np.exp(-1/6000*1)\n",
    "print(f'The probability of failure in 1 second is {P:.8f}, which is approximately equal to mu = {1/6000:.8f}')"
   ]
  },
  {
   "cell_type": "code",
   "execution_count": 2,
   "metadata": {},
   "outputs": [
    {
     "name": "stdout",
     "output_type": "stream",
     "text": [
      "The probability of failure in 1 month is 1.000, which is not equal to mu = 432\n"
     ]
    }
   ],
   "source": [
    "mu = 1/100*60*24*30 # rate per month\n",
    "P = 1 - np.exp(-mu*1)\n",
    "print(f'The probability of failure in 1 month is {P:.3f}, which is not equal to mu = {mu:.0f}')"
   ]
  },
  {
   "cell_type": "markdown",
   "metadata": {},
   "source": [
    "```{important}\n",
    "Please be very familiar with Examples 12-1 and 12-2 in Crowl and Louvar's Chemical Process Safety 4th edition.  Those examples are great in helping you work with reliability, probability, failure rates and mean time between failures for and and or systems.\n",
    "```"
   ]
  },
  {
   "cell_type": "markdown",
   "metadata": {},
   "source": [
    "## Monte-Carlo"
   ]
  },
  {
   "cell_type": "markdown",
   "metadata": {},
   "source": [
    "Monte-Carlo methods can be used when there are more complex scenarios ini terms of interactions between events, dependencies, etc.  In this case, the probability of an event occurring is estimated by simulating the scenario many times and counting the number of times the event occurs.  The probability is then estimated as the number of times the event occurs divided by the total number of simulations."
   ]
  },
  {
   "cell_type": "markdown",
   "metadata": {},
   "source": [
    "<img src=\"https://github.com/clint-bg/safetyinjc/blob/main/physical/supportfiles/MonteCarlo.png?raw=true\" width=\"600\">"
   ]
  },
  {
   "cell_type": "markdown",
   "metadata": {},
   "source": [
    "Example Monte-Carlo Simulation\n"
   ]
  },
  {
   "cell_type": "code",
   "execution_count": 3,
   "metadata": {},
   "outputs": [],
   "source": [
    "#import needed packages\n",
    "import numpy as np\n",
    "import matplotlib.pyplot as plt"
   ]
  },
  {
   "cell_type": "code",
   "execution_count": 4,
   "metadata": {},
   "outputs": [],
   "source": [
    "# Number of random numbers to generate\n",
    "N = int(1e4)"
   ]
  },
  {
   "cell_type": "code",
   "execution_count": 5,
   "metadata": {},
   "outputs": [
    {
     "data": {
      "text/plain": [
       "0.6321205588285577"
      ]
     },
     "execution_count": 5,
     "metadata": {},
     "output_type": "execute_result"
    }
   ],
   "source": [
    "MTBF_A = 1 # mean time between failures, unit time for Event A\n",
    "muA = 1/MTBF_A # average events per unit time for A\n",
    "1-np.exp(-muA) # probability of at least one event in unit time (poisson process)"
   ]
  },
  {
   "cell_type": "code",
   "execution_count": 6,
   "metadata": {},
   "outputs": [
    {
     "data": {
      "text/plain": [
       "0.36787944117144233"
      ]
     },
     "execution_count": 6,
     "metadata": {},
     "output_type": "execute_result"
    }
   ],
   "source": [
    "muA*np.exp(-muA) # probability of exactly one event in unit time (poisson process)"
   ]
  },
  {
   "cell_type": "code",
   "execution_count": 7,
   "metadata": {},
   "outputs": [],
   "source": [
    "unif = np.random.uniform(0, 1, N) # generate N random numbers between 0 and 1\n",
    "# 1 if event, 0 if no event, where the if statement is the Monte Carlo approach\n",
    "eventA = [1 if x < 1-np.exp(-muA)  else 0 for x in unif] "
   ]
  },
  {
   "cell_type": "markdown",
   "metadata": {},
   "source": [
    "Each entry in that list is an \"event\" over a duration of unit time and it can either be a failure or a success. "
   ]
  },
  {
   "cell_type": "code",
   "execution_count": 8,
   "metadata": {},
   "outputs": [
    {
     "data": {
      "text/plain": [
       "0.6377"
      ]
     },
     "execution_count": 8,
     "metadata": {},
     "output_type": "execute_result"
    }
   ],
   "source": [
    "pA = sum(eventA)/len(eventA) # fraction of time with at least one event, probability of event in time unit\n",
    "pA"
   ]
  },
  {
   "cell_type": "code",
   "execution_count": 9,
   "metadata": {},
   "outputs": [
    {
     "data": {
      "text/plain": [
       "1.0152826810811055"
      ]
     },
     "execution_count": 9,
     "metadata": {},
     "output_type": "execute_result"
    }
   ],
   "source": [
    "#determine the average rate of events per unit time\n",
    "-np.log(1-pA)"
   ]
  },
  {
   "cell_type": "code",
   "execution_count": 10,
   "metadata": {},
   "outputs": [],
   "source": [
    "# now let's do the same thing for a Poisson process with a second 'event'\n",
    "unif = np.random.uniform(0,1,N) #generate new random numbers\n",
    "MTBF_B = 2 # mean time between failures\n",
    "muB = 1/MTBF_B # average events per unit time\n",
    "eventB = [ 1 if x < 1-np.exp(-muB) else 0 for x in unif ]"
   ]
  },
  {
   "cell_type": "code",
   "execution_count": 11,
   "metadata": {},
   "outputs": [],
   "source": [
    "# now consider eventA and eventB as two independent Poisson processes in an OR gate\n",
    "eventAorB = [min(1,sum([a,b])) for a,b in zip(eventA, eventB)]"
   ]
  },
  {
   "cell_type": "code",
   "execution_count": 12,
   "metadata": {},
   "outputs": [
    {
     "data": {
      "text/plain": [
       "0.7824"
      ]
     },
     "execution_count": 12,
     "metadata": {},
     "output_type": "execute_result"
    }
   ],
   "source": [
    "pAorB = sum(eventAorB)/len(eventAorB) # fraction of time with at least one event\n",
    "pAorB"
   ]
  },
  {
   "cell_type": "code",
   "execution_count": 13,
   "metadata": {},
   "outputs": [
    {
     "data": {
      "text/plain": [
       "1.5250967640003494"
      ]
     },
     "execution_count": 13,
     "metadata": {},
     "output_type": "execute_result"
    }
   ],
   "source": [
    "#combination of the two events for the average rate of events per unit time (mu)\n",
    "-np.log(1-pAorB)"
   ]
  },
  {
   "cell_type": "code",
   "execution_count": 14,
   "metadata": {},
   "outputs": [
    {
     "data": {
      "text/plain": [
       "0.2504"
      ]
     },
     "execution_count": 14,
     "metadata": {},
     "output_type": "execute_result"
    }
   ],
   "source": [
    "# now consider eventA and eventB as two independent Poisson processes in an AND gate\n",
    "eventAandB = [a*b for a,b in zip(eventA, eventB)]\n",
    "pAandB = sum(eventAandB)/len(eventAandB) # fraction of time with at least one event\n",
    "pAandB"
   ]
  },
  {
   "cell_type": "code",
   "execution_count": 15,
   "metadata": {},
   "outputs": [
    {
     "data": {
      "text/plain": [
       "0.2487200592643541"
      ]
     },
     "execution_count": 15,
     "metadata": {},
     "output_type": "execute_result"
    }
   ],
   "source": [
    "#Calculation of the probability of A and B occurring at the same time (product of the two probabilities)\n",
    "pab = (1-np.exp(-muB))*(1-np.exp(-muA))\n",
    "pab"
   ]
  },
  {
   "cell_type": "code",
   "execution_count": 16,
   "metadata": {},
   "outputs": [
    {
     "data": {
      "text/plain": [
       "0.28821554805792454"
      ]
     },
     "execution_count": 16,
     "metadata": {},
     "output_type": "execute_result"
    }
   ],
   "source": [
    "#combination of the two events for the average rate of events per unit time (mu) from simulation\n",
    "-np.log(1-pAandB)"
   ]
  },
  {
   "cell_type": "code",
   "execution_count": 17,
   "metadata": {},
   "outputs": [
    {
     "data": {
      "text/plain": [
       "0.28597693937029134"
      ]
     },
     "execution_count": 17,
     "metadata": {},
     "output_type": "execute_result"
    }
   ],
   "source": [
    "#combination of the two events for the average rate of events per unit time (mu) from product of probabilities\n",
    "-np.log(1-pab)"
   ]
  },
  {
   "cell_type": "code",
   "execution_count": null,
   "metadata": {},
   "outputs": [],
   "source": []
  }
 ],
 "metadata": {
  "kernelspec": {
   "display_name": "jupiterbook",
   "language": "python",
   "name": "python3"
  },
  "language_info": {
   "codemirror_mode": {
    "name": "ipython",
    "version": 3
   },
   "file_extension": ".py",
   "mimetype": "text/x-python",
   "name": "python",
   "nbconvert_exporter": "python",
   "pygments_lexer": "ipython3",
   "version": "3.9.16"
  }
 },
 "nbformat": 4,
 "nbformat_minor": 2
}