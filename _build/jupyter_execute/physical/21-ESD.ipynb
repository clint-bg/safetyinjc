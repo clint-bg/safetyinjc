{
 "cells": [
  {
   "cell_type": "markdown",
   "metadata": {},
   "source": [
    "# 21-Static Control"
   ]
  },
  {
   "cell_type": "markdown",
   "metadata": {},
   "source": [
    "Learning Objectives:\n",
    "- Understand the concept of inerting\n",
    "- Understand the concept of electrostatic charging, relatation, and discharge\n",
    "- Understand the concept of static control\n",
    "- Understand basics of electrical classification and explosion proof equipment\n"
   ]
  },
  {
   "cell_type": "markdown",
   "metadata": {},
   "source": [
    "## Inerting Approaches\n",
    "\n",
    "Inerting is the process of replacing the atmosphere in a vessel with an inert gas (nitrogen, carbon dioxide, etc). This is done to prevent the formation of flammable/explosive mixtures. There are multiple approaches to purging and inerting:\n",
    "- vacuum purge (removing the atmosphere from the vessel and replacing it with an inert gas in stages; stages used to prevent the container from collapsing)\n",
    "- pressure purge (replacing the atmosphere in the vessel with an inert gas by pressurizing the vessel, also completed in stages)\n",
    "- sweep purging (replacing the atmosphere in the vessel with an inert gas by flowing the inert gas through the vessel)\n",
    "- siphon purging (replacing the atmosphere in the vessel with a liquid then filling with an inert gas)\n",
    "- combination of the above"
   ]
  },
  {
   "cell_type": "markdown",
   "metadata": {},
   "source": [
    "## ESD and Static Control"
   ]
  },
  {
   "cell_type": "markdown",
   "metadata": {},
   "source": [
    "Further info here:\n",
    "\n",
    "Download lecture freeform here: https://github.com/clint-bg/safetyinjc/blob/main/physical/supportfiles/ESD.pdf "
   ]
  },
  {
   "cell_type": "markdown",
   "metadata": {},
   "source": []
  }
 ],
 "metadata": {
  "language_info": {
   "codemirror_mode": {
    "name": "ipython",
    "version": 3
   },
   "file_extension": ".py",
   "mimetype": "text/x-python",
   "name": "python",
   "nbconvert_exporter": "python",
   "pygments_lexer": "ipython3",
   "version": "3.9.16"
  }
 },
 "nbformat": 4,
 "nbformat_minor": 2
}