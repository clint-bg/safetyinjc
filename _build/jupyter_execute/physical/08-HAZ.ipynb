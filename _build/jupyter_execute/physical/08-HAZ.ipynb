{
 "cells": [
  {
   "cell_type": "markdown",
   "metadata": {},
   "source": [
    "# 08-HAZOP"
   ]
  },
  {
   "cell_type": "markdown",
   "metadata": {},
   "source": [
    "## Hazards and Operability Study (HAZOP)"
   ]
  },
  {
   "cell_type": "markdown",
   "metadata": {},
   "source": [
    "Systematic method of identifying hazards in a process plant using a process flow diagram (PFD) and/ or a piping and instrumentation diagram (P&ID) and guide words."
   ]
  },
  {
   "cell_type": "markdown",
   "metadata": {},
   "source": [
    "### Process Flow Diagram (PFD)"
   ]
  },
  {
   "cell_type": "markdown",
   "metadata": {},
   "source": [
    "Example PFD of the Haber-Bosch process from https://en.wikipedia.org/wiki/Haber_process"
   ]
  },
  {
   "cell_type": "markdown",
   "metadata": {},
   "source": [
    "<img src=\"https://github.com/clint-bg/safetyinjc/blob/main/physical/supportfiles/HaberBoschProcess.png?raw=true\" width=\"700\">"
   ]
  },
  {
   "cell_type": "markdown",
   "metadata": {},
   "source": [
    "Nodes are judiciously picked at points where the process changes significantly.  The nodes are numbered and the node numbers are used in the HAZOP study."
   ]
  },
  {
   "cell_type": "markdown",
   "metadata": {},
   "source": [
    "### Piping and Instrumentation Diagram (P&ID)\n",
    "\n",
    "A piping and instrumentation diagram can be very detailed or it can simply denote key process components. Build drawings are for the construction of the plant and can be very detailed. Those diagrams are usually proprietary and so dificult to get an example to show. However, there are public domain examples of P&IDs. The P&ID published here is  from a somewhat complex Aspen Plus flowsheet of the Haber-Bosch process.  It was published [here: https://doi.org/10.1016/j.cherd.2023.06.031](https://doi.org/10.1016/j.cherd.2023.06.031). The drawing lacks details on instrumentation."
   ]
  },
  {
   "cell_type": "markdown",
   "metadata": {},
   "source": [
    "Another example of a piping and instrumentation diagram for an internal combustion scenario is shown in [this paper](https://doi.org/10.1080/00102202.2016.1211865)."
   ]
  },
  {
   "cell_type": "markdown",
   "metadata": {},
   "source": [
    "This site does a good job of explaining the symbols of PID diagrams and gives a few examples: https://www.edrawmax.com/pid/. PID symbols are not standardized, so you may see different symbols used in different diagrams. PID's are very helpful, invaluable, in designing a process plant (Smokeless powder manufacturing in Mulwala, NSW, Australia). The P&ID is a more detailed diagram than the PFD.  It shows the process flow, but also shows the instrumentation and control devices.  \n",
    "\n",
    "Similar to the PFD, nodes are judiciously picked at points where the process changes significantly.  The nodes are numbered and the node numbers are used in the HAZOP study.\n"
   ]
  },
  {
   "cell_type": "markdown",
   "metadata": {},
   "source": [
    "<img src=\"https://github.com/clint-bg/safetyinjc/blob/main/physical/supportfiles/PIDSymb.png?raw=true\" width=\"700\">"
   ]
  },
  {
   "cell_type": "markdown",
   "metadata": {},
   "source": [
    "<img src=\"https://github.com/clint-bg/safetyinjc/blob/main/physical/supportfiles/ExamplePID.png?raw=true\" width=\"700\">"
   ]
  },
  {
   "cell_type": "markdown",
   "metadata": {},
   "source": [
    "### P&ID Activity\n",
    "Draw a P&ID for a continuous washing machine. Water, soap, and clothing enter the machine and water and soap exit in one stream and wet clothing in another exit stream. The system has water flow control with feedback, soap amount control, and clothing (material) control. "
   ]
  },
  {
   "cell_type": "markdown",
   "metadata": {},
   "source": [
    ":::{toggle}\n",
    ":show:\n",
    "<img src=\"https://github.com/clint-bg/safetyinjc/blob/main/physical/supportfiles/WashingPID.png?raw=true\" width=\"500\">\n",
    ":::"
   ]
  },
  {
   "cell_type": "markdown",
   "metadata": {},
   "source": [
    "### Guide Words"
   ]
  },
  {
   "cell_type": "markdown",
   "metadata": {},
   "source": [
    "- High, Low, No Flow, Reverse Flow\n",
    "- High, Low Pressure\n",
    "- High, Low Temperature\n",
    "- High, Low, No Level\n",
    "- High, Low Composition\n",
    "- High, Low Reaction Rate, Side reaction, Reverse reaction\n",
    "- High, Low, No Power\n",
    "- Wrong material"
   ]
  },
  {
   "cell_type": "markdown",
   "metadata": {},
   "source": [
    "## Documentation\n",
    "Document the HAZOP study in a table.  The table should have the following columns:\n",
    "\n",
    "- Node number/ Operation\n",
    "- Guide word\n",
    "- Cause/Hazard\n",
    "- Consequence\n",
    "- Safeguard\n",
    "- Risk Rating\n",
    "- Recommendation"
   ]
  },
  {
   "cell_type": "markdown",
   "metadata": {},
   "source": []
  }
 ],
 "metadata": {
  "kernelspec": {
   "display_name": "jupiterbook",
   "language": "python",
   "name": "python3"
  },
  "language_info": {
   "codemirror_mode": {
    "name": "ipython",
    "version": 3
   },
   "file_extension": ".py",
   "mimetype": "text/x-python",
   "name": "python",
   "nbconvert_exporter": "python",
   "pygments_lexer": "ipython3",
   "version": "3.9.16"
  }
 },
 "nbformat": 4,
 "nbformat_minor": 2
}