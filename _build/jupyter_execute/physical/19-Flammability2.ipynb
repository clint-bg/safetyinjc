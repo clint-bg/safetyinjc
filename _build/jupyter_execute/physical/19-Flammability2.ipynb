{
 "cells": [
  {
   "cell_type": "markdown",
   "metadata": {},
   "source": [
    "# 19-Flammability 2"
   ]
  },
  {
   "cell_type": "markdown",
   "metadata": {},
   "source": [
    "Download lecture freeform here: https://github.com/clint-bg/safetyinjc/blob/main/physical/supportfiles/311Flammability.pdf "
   ]
  },
  {
   "cell_type": "markdown",
   "metadata": {},
   "source": [
    "## Python Flammability Diagram\n",
    "\n",
    "Below code submitted by [Isaac Matthews](https://www.linkedin.com/in/isaac-matthews-2a0244290/), 2024."
   ]
  },
  {
   "cell_type": "markdown",
   "metadata": {},
   "source": [
    "Requirements for the equalateral flammability diagram below:\n",
    "#pip install matplotlib, python-ternary; the below code wont work if you install ternary, "
   ]
  },
  {
   "cell_type": "code",
   "execution_count": 1,
   "metadata": {},
   "outputs": [
    {
     "ename": "KeyboardInterrupt",
     "evalue": "",
     "output_type": "error",
     "traceback": [
      "\u001b[0;31m---------------------------------------------------------------------------\u001b[0m",
      "\u001b[0;31mKeyboardInterrupt\u001b[0m                         Traceback (most recent call last)",
      "Cell \u001b[0;32mIn[1], line 3\u001b[0m\n\u001b[1;32m      1\u001b[0m \u001b[38;5;28;01mimport\u001b[39;00m \u001b[38;5;21;01mmatplotlib\u001b[39;00m\u001b[38;5;21;01m.\u001b[39;00m\u001b[38;5;21;01mpyplot\u001b[39;00m \u001b[38;5;28;01mas\u001b[39;00m \u001b[38;5;21;01mplt\u001b[39;00m\n\u001b[1;32m      2\u001b[0m \u001b[38;5;28;01mimport\u001b[39;00m \u001b[38;5;21;01mternary\u001b[39;00m\n\u001b[0;32m----> 3\u001b[0m \u001b[38;5;28;01mfrom\u001b[39;00m \u001b[38;5;21;01mscipy\u001b[39;00m\u001b[38;5;21;01m.\u001b[39;00m\u001b[38;5;21;01moptimize\u001b[39;00m \u001b[38;5;28;01mimport\u001b[39;00m fsolve\n\u001b[1;32m      5\u001b[0m ufl \u001b[38;5;241m=\u001b[39m \u001b[38;5;241m74\u001b[39m\n\u001b[1;32m      6\u001b[0m lfl \u001b[38;5;241m=\u001b[39m \u001b[38;5;241m4\u001b[39m\n",
      "File \u001b[0;32m~/opt/anaconda3/envs/jupiterbook/lib/python3.9/site-packages/scipy/optimize/__init__.py:430\u001b[0m\n\u001b[1;32m    426\u001b[0m \u001b[38;5;28;01mfrom\u001b[39;00m \u001b[38;5;21;01m.\u001b[39;00m\u001b[38;5;21;01m_constraints\u001b[39;00m \u001b[38;5;28;01mimport\u001b[39;00m (NonlinearConstraint,\n\u001b[1;32m    427\u001b[0m                            LinearConstraint,\n\u001b[1;32m    428\u001b[0m                            Bounds)\n\u001b[1;32m    429\u001b[0m \u001b[38;5;28;01mfrom\u001b[39;00m \u001b[38;5;21;01m.\u001b[39;00m\u001b[38;5;21;01m_hessian_update_strategy\u001b[39;00m \u001b[38;5;28;01mimport\u001b[39;00m HessianUpdateStrategy, BFGS, SR1\n\u001b[0;32m--> 430\u001b[0m \u001b[38;5;28;01mfrom\u001b[39;00m \u001b[38;5;21;01m.\u001b[39;00m\u001b[38;5;21;01m_shgo\u001b[39;00m \u001b[38;5;28;01mimport\u001b[39;00m shgo\n\u001b[1;32m    431\u001b[0m \u001b[38;5;28;01mfrom\u001b[39;00m \u001b[38;5;21;01m.\u001b[39;00m\u001b[38;5;21;01m_dual_annealing\u001b[39;00m \u001b[38;5;28;01mimport\u001b[39;00m dual_annealing\n\u001b[1;32m    432\u001b[0m \u001b[38;5;28;01mfrom\u001b[39;00m \u001b[38;5;21;01m.\u001b[39;00m\u001b[38;5;21;01m_qap\u001b[39;00m \u001b[38;5;28;01mimport\u001b[39;00m quadratic_assignment\n",
      "File \u001b[0;32m~/opt/anaconda3/envs/jupiterbook/lib/python3.9/site-packages/scipy/optimize/_shgo.py:10\u001b[0m\n\u001b[1;32m      6\u001b[0m \u001b[38;5;28;01mimport\u001b[39;00m \u001b[38;5;21;01msys\u001b[39;00m\n\u001b[1;32m      8\u001b[0m \u001b[38;5;28;01mimport\u001b[39;00m \u001b[38;5;21;01mnumpy\u001b[39;00m \u001b[38;5;28;01mas\u001b[39;00m \u001b[38;5;21;01mnp\u001b[39;00m\n\u001b[0;32m---> 10\u001b[0m \u001b[38;5;28;01mfrom\u001b[39;00m \u001b[38;5;21;01mscipy\u001b[39;00m \u001b[38;5;28;01mimport\u001b[39;00m spatial\n\u001b[1;32m     11\u001b[0m \u001b[38;5;28;01mfrom\u001b[39;00m \u001b[38;5;21;01mscipy\u001b[39;00m\u001b[38;5;21;01m.\u001b[39;00m\u001b[38;5;21;01moptimize\u001b[39;00m \u001b[38;5;28;01mimport\u001b[39;00m OptimizeResult, minimize, Bounds\n\u001b[1;32m     12\u001b[0m \u001b[38;5;28;01mfrom\u001b[39;00m \u001b[38;5;21;01mscipy\u001b[39;00m\u001b[38;5;21;01m.\u001b[39;00m\u001b[38;5;21;01moptimize\u001b[39;00m\u001b[38;5;21;01m.\u001b[39;00m\u001b[38;5;21;01m_optimize\u001b[39;00m \u001b[38;5;28;01mimport\u001b[39;00m MemoizeJac\n",
      "File \u001b[0;32m<frozen importlib._bootstrap>:1055\u001b[0m, in \u001b[0;36m_handle_fromlist\u001b[0;34m(module, fromlist, import_, recursive)\u001b[0m\n",
      "File \u001b[0;32m~/opt/anaconda3/envs/jupiterbook/lib/python3.9/site-packages/scipy/__init__.py:189\u001b[0m, in \u001b[0;36m__getattr__\u001b[0;34m(name)\u001b[0m\n\u001b[1;32m    187\u001b[0m \u001b[38;5;28;01mdef\u001b[39;00m \u001b[38;5;21m__getattr__\u001b[39m(name):\n\u001b[1;32m    188\u001b[0m     \u001b[38;5;28;01mif\u001b[39;00m name \u001b[38;5;129;01min\u001b[39;00m submodules:\n\u001b[0;32m--> 189\u001b[0m         \u001b[38;5;28;01mreturn\u001b[39;00m \u001b[43m_importlib\u001b[49m\u001b[38;5;241;43m.\u001b[39;49m\u001b[43mimport_module\u001b[49m\u001b[43m(\u001b[49m\u001b[38;5;124;43mf\u001b[39;49m\u001b[38;5;124;43m'\u001b[39;49m\u001b[38;5;124;43mscipy.\u001b[39;49m\u001b[38;5;132;43;01m{\u001b[39;49;00m\u001b[43mname\u001b[49m\u001b[38;5;132;43;01m}\u001b[39;49;00m\u001b[38;5;124;43m'\u001b[39;49m\u001b[43m)\u001b[49m\n\u001b[1;32m    190\u001b[0m     \u001b[38;5;28;01melse\u001b[39;00m:\n\u001b[1;32m    191\u001b[0m         \u001b[38;5;28;01mtry\u001b[39;00m:\n",
      "File \u001b[0;32m~/opt/anaconda3/envs/jupiterbook/lib/python3.9/importlib/__init__.py:127\u001b[0m, in \u001b[0;36mimport_module\u001b[0;34m(name, package)\u001b[0m\n\u001b[1;32m    125\u001b[0m             \u001b[38;5;28;01mbreak\u001b[39;00m\n\u001b[1;32m    126\u001b[0m         level \u001b[38;5;241m+\u001b[39m\u001b[38;5;241m=\u001b[39m \u001b[38;5;241m1\u001b[39m\n\u001b[0;32m--> 127\u001b[0m \u001b[38;5;28;01mreturn\u001b[39;00m \u001b[43m_bootstrap\u001b[49m\u001b[38;5;241;43m.\u001b[39;49m\u001b[43m_gcd_import\u001b[49m\u001b[43m(\u001b[49m\u001b[43mname\u001b[49m\u001b[43m[\u001b[49m\u001b[43mlevel\u001b[49m\u001b[43m:\u001b[49m\u001b[43m]\u001b[49m\u001b[43m,\u001b[49m\u001b[43m \u001b[49m\u001b[43mpackage\u001b[49m\u001b[43m,\u001b[49m\u001b[43m \u001b[49m\u001b[43mlevel\u001b[49m\u001b[43m)\u001b[49m\n",
      "File \u001b[0;32m~/opt/anaconda3/envs/jupiterbook/lib/python3.9/site-packages/scipy/spatial/__init__.py:116\u001b[0m\n\u001b[1;32m    114\u001b[0m \u001b[38;5;28;01mfrom\u001b[39;00m \u001b[38;5;21;01m.\u001b[39;00m\u001b[38;5;21;01m_plotutils\u001b[39;00m \u001b[38;5;28;01mimport\u001b[39;00m \u001b[38;5;241m*\u001b[39m\n\u001b[1;32m    115\u001b[0m \u001b[38;5;28;01mfrom\u001b[39;00m \u001b[38;5;21;01m.\u001b[39;00m\u001b[38;5;21;01m_procrustes\u001b[39;00m \u001b[38;5;28;01mimport\u001b[39;00m procrustes\n\u001b[0;32m--> 116\u001b[0m \u001b[38;5;28;01mfrom\u001b[39;00m \u001b[38;5;21;01m.\u001b[39;00m\u001b[38;5;21;01m_geometric_slerp\u001b[39;00m \u001b[38;5;28;01mimport\u001b[39;00m geometric_slerp\n\u001b[1;32m    118\u001b[0m \u001b[38;5;66;03m# Deprecated namespaces, to be removed in v2.0.0\u001b[39;00m\n\u001b[1;32m    119\u001b[0m \u001b[38;5;28;01mfrom\u001b[39;00m \u001b[38;5;21;01m.\u001b[39;00m \u001b[38;5;28;01mimport\u001b[39;00m ckdtree, kdtree, qhull\n",
      "File \u001b[0;32m~/opt/anaconda3/envs/jupiterbook/lib/python3.9/site-packages/scipy/spatial/_geometric_slerp.py:9\u001b[0m\n\u001b[1;32m      6\u001b[0m \u001b[38;5;28;01mfrom\u001b[39;00m \u001b[38;5;21;01mtyping\u001b[39;00m \u001b[38;5;28;01mimport\u001b[39;00m TYPE_CHECKING\n\u001b[1;32m      8\u001b[0m \u001b[38;5;28;01mimport\u001b[39;00m \u001b[38;5;21;01mnumpy\u001b[39;00m \u001b[38;5;28;01mas\u001b[39;00m \u001b[38;5;21;01mnp\u001b[39;00m\n\u001b[0;32m----> 9\u001b[0m \u001b[38;5;28;01mfrom\u001b[39;00m \u001b[38;5;21;01mscipy\u001b[39;00m\u001b[38;5;21;01m.\u001b[39;00m\u001b[38;5;21;01mspatial\u001b[39;00m\u001b[38;5;21;01m.\u001b[39;00m\u001b[38;5;21;01mdistance\u001b[39;00m \u001b[38;5;28;01mimport\u001b[39;00m euclidean\n\u001b[1;32m     11\u001b[0m \u001b[38;5;28;01mif\u001b[39;00m TYPE_CHECKING:\n\u001b[1;32m     12\u001b[0m     \u001b[38;5;28;01mimport\u001b[39;00m \u001b[38;5;21;01mnumpy\u001b[39;00m\u001b[38;5;21;01m.\u001b[39;00m\u001b[38;5;21;01mtyping\u001b[39;00m \u001b[38;5;28;01mas\u001b[39;00m \u001b[38;5;21;01mnpt\u001b[39;00m\n",
      "File \u001b[0;32m~/opt/anaconda3/envs/jupiterbook/lib/python3.9/site-packages/scipy/spatial/distance.py:121\u001b[0m\n\u001b[1;32m    119\u001b[0m \u001b[38;5;28;01mfrom\u001b[39;00m \u001b[38;5;21;01m.\u001b[39;00m \u001b[38;5;28;01mimport\u001b[39;00m _hausdorff\n\u001b[1;32m    120\u001b[0m \u001b[38;5;28;01mfrom\u001b[39;00m \u001b[38;5;21;01m.\u001b[39;00m\u001b[38;5;21;01m.\u001b[39;00m\u001b[38;5;21;01mlinalg\u001b[39;00m \u001b[38;5;28;01mimport\u001b[39;00m norm\n\u001b[0;32m--> 121\u001b[0m \u001b[38;5;28;01mfrom\u001b[39;00m \u001b[38;5;21;01m.\u001b[39;00m\u001b[38;5;21;01m.\u001b[39;00m\u001b[38;5;21;01mspecial\u001b[39;00m \u001b[38;5;28;01mimport\u001b[39;00m rel_entr\n\u001b[1;32m    123\u001b[0m \u001b[38;5;28;01mfrom\u001b[39;00m \u001b[38;5;21;01m.\u001b[39;00m \u001b[38;5;28;01mimport\u001b[39;00m _distance_pybind\n\u001b[1;32m    126\u001b[0m \u001b[38;5;28;01mdef\u001b[39;00m \u001b[38;5;21m_extra_windows_error_checks\u001b[39m(x, out, required_shape, \u001b[38;5;241m*\u001b[39m\u001b[38;5;241m*\u001b[39mkwargs):\n\u001b[1;32m    127\u001b[0m     \u001b[38;5;66;03m# TODO: remove this function when distutils\u001b[39;00m\n\u001b[1;32m    128\u001b[0m     \u001b[38;5;66;03m# build system is removed because pybind11 error\u001b[39;00m\n\u001b[1;32m    129\u001b[0m     \u001b[38;5;66;03m# handling should suffice per gh-18108\u001b[39;00m\n",
      "File \u001b[0;32m~/opt/anaconda3/envs/jupiterbook/lib/python3.9/site-packages/scipy/special/__init__.py:798\u001b[0m\n\u001b[1;32m    790\u001b[0m \u001b[38;5;28;01mfrom\u001b[39;00m \u001b[38;5;21;01m.\u001b[39;00m\u001b[38;5;21;01m_spherical_bessel\u001b[39;00m \u001b[38;5;28;01mimport\u001b[39;00m (\n\u001b[1;32m    791\u001b[0m     spherical_jn,\n\u001b[1;32m    792\u001b[0m     spherical_yn,\n\u001b[1;32m    793\u001b[0m     spherical_in,\n\u001b[1;32m    794\u001b[0m     spherical_kn\n\u001b[1;32m    795\u001b[0m )\n\u001b[1;32m    797\u001b[0m \u001b[38;5;66;03m# Deprecated namespaces, to be removed in v2.0.0\u001b[39;00m\n\u001b[0;32m--> 798\u001b[0m \u001b[38;5;28;01mfrom\u001b[39;00m \u001b[38;5;21;01m.\u001b[39;00m \u001b[38;5;28;01mimport\u001b[39;00m add_newdocs, basic, orthogonal, specfun, sf_error, spfun_stats\n\u001b[1;32m    800\u001b[0m __all__ \u001b[38;5;241m=\u001b[39m _ufuncs\u001b[38;5;241m.\u001b[39m__all__ \u001b[38;5;241m+\u001b[39m _basic\u001b[38;5;241m.\u001b[39m__all__ \u001b[38;5;241m+\u001b[39m _orthogonal\u001b[38;5;241m.\u001b[39m__all__ \u001b[38;5;241m+\u001b[39m [\n\u001b[1;32m    801\u001b[0m     \u001b[38;5;124m'\u001b[39m\u001b[38;5;124mSpecialFunctionWarning\u001b[39m\u001b[38;5;124m'\u001b[39m,\n\u001b[1;32m    802\u001b[0m     \u001b[38;5;124m'\u001b[39m\u001b[38;5;124mSpecialFunctionError\u001b[39m\u001b[38;5;124m'\u001b[39m,\n\u001b[0;32m   (...)\u001b[0m\n\u001b[1;32m    814\u001b[0m     \u001b[38;5;124m'\u001b[39m\u001b[38;5;124mspherical_kn\u001b[39m\u001b[38;5;124m'\u001b[39m,\n\u001b[1;32m    815\u001b[0m ]\n\u001b[1;32m    817\u001b[0m \u001b[38;5;28;01mfrom\u001b[39;00m \u001b[38;5;21;01mscipy\u001b[39;00m\u001b[38;5;21;01m.\u001b[39;00m\u001b[38;5;21;01m_lib\u001b[39;00m\u001b[38;5;21;01m.\u001b[39;00m\u001b[38;5;21;01m_testutils\u001b[39;00m \u001b[38;5;28;01mimport\u001b[39;00m PytestTester\n",
      "File \u001b[0;32m~/opt/anaconda3/envs/jupiterbook/lib/python3.9/site-packages/scipy/special/add_newdocs.py:4\u001b[0m\n\u001b[1;32m      1\u001b[0m \u001b[38;5;66;03m# This file is not meant for public use and will be removed in SciPy v2.0.0.\u001b[39;00m\n\u001b[1;32m      3\u001b[0m \u001b[38;5;28;01mimport\u001b[39;00m \u001b[38;5;21;01mwarnings\u001b[39;00m\n\u001b[0;32m----> 4\u001b[0m \u001b[38;5;28;01mfrom\u001b[39;00m \u001b[38;5;21;01m.\u001b[39;00m \u001b[38;5;28;01mimport\u001b[39;00m _add_newdocs\n\u001b[1;32m      6\u001b[0m __all__ \u001b[38;5;241m=\u001b[39m [\u001b[38;5;124m'\u001b[39m\u001b[38;5;124mget\u001b[39m\u001b[38;5;124m'\u001b[39m, \u001b[38;5;124m'\u001b[39m\u001b[38;5;124madd_newdoc\u001b[39m\u001b[38;5;124m'\u001b[39m, \u001b[38;5;124m'\u001b[39m\u001b[38;5;124mDict\u001b[39m\u001b[38;5;124m'\u001b[39m, \u001b[38;5;124m'\u001b[39m\u001b[38;5;124mdocdict\u001b[39m\u001b[38;5;124m'\u001b[39m]  \u001b[38;5;66;03m# noqa: F822\u001b[39;00m\n\u001b[1;32m      9\u001b[0m \u001b[38;5;28;01mdef\u001b[39;00m \u001b[38;5;21m__dir__\u001b[39m():\n",
      "File \u001b[0;32m<frozen importlib._bootstrap>:1007\u001b[0m, in \u001b[0;36m_find_and_load\u001b[0;34m(name, import_)\u001b[0m\n",
      "File \u001b[0;32m<frozen importlib._bootstrap>:986\u001b[0m, in \u001b[0;36m_find_and_load_unlocked\u001b[0;34m(name, import_)\u001b[0m\n",
      "File \u001b[0;32m<frozen importlib._bootstrap>:680\u001b[0m, in \u001b[0;36m_load_unlocked\u001b[0;34m(spec)\u001b[0m\n",
      "File \u001b[0;32m<frozen importlib._bootstrap_external>:846\u001b[0m, in \u001b[0;36mexec_module\u001b[0;34m(self, module)\u001b[0m\n",
      "File \u001b[0;32m<frozen importlib._bootstrap_external>:978\u001b[0m, in \u001b[0;36mget_code\u001b[0;34m(self, fullname)\u001b[0m\n",
      "File \u001b[0;32m<frozen importlib._bootstrap_external>:647\u001b[0m, in \u001b[0;36m_compile_bytecode\u001b[0;34m(data, name, bytecode_path, source_path)\u001b[0m\n",
      "\u001b[0;31mKeyboardInterrupt\u001b[0m: "
     ]
    }
   ],
   "source": [
    "import matplotlib.pyplot as plt\n",
    "import ternary\n",
    "from scipy.optimize import fsolve\n",
    "\n",
    "ufl = 74\n",
    "lfl = 4\n",
    "stoic = 2\n",
    "loc = 5\n",
    "\n",
    "def flammabilityTriangle(name,lfl, ufl, stoic,loc,figsize = (10, 8)):\n",
    "    s = lambda x: 100-(x+x*stoic)\n",
    "    sf = fsolve(s,10)[0]\n",
    "    data = [\n",
    "         #n bz o\n",
    "        [0, 0, 100],  # Pure Oxygen 0\n",
    "        [79, 0, 21],  # Pure Air 1\n",
    "        [0, 100, 0],  # Pure Benzene  2\n",
    "        [100,0,0],#pure n2  3\n",
    "        [76, lfl,20], #LFL  4\n",
    "        [21,ufl,5],#UFL  5\n",
    "        [0,100-loc,loc],#loc\n",
    "        [0,sf,sf*stoic],#stoic point  6\n",
    "        [100-lfl*(1+stoic),lfl,stoic*lfl],#intersection  7]\n",
    "        # Add more data points as needed\n",
    "    ]\n",
    "    # Create a larger figure\n",
    "    whole = plt.figure(figsize=figsize)\n",
    "    box = whole.subplots() \n",
    "    # Create a ternary plot\n",
    "    fig, tax = ternary.figure(ax = box, scale=100)\n",
    "    #fix what terniary messes up\n",
    "    box.set_ylim(-20,110)\n",
    "    box.set_xlim(-10,120)\n",
    "    box.set_aspect(1)\n",
    "    box.tick_params(axis='both', which='both', length=0,labelcolor = 'white') #if you can't beat them join them\n",
    "    \n",
    "    tax.ticks(axis='lbr', linewidth=1, multiple=10, offset=0.02, clockwise=False)\n",
    "    # Plot data points\n",
    "    tax.scatter(data, marker='o', color='red', label='Data Points')\n",
    "    \n",
    "    # Add a line between pure benzene and pure air\n",
    "    tax.line(data[2], data[1], color='green', linestyle='-',label = \"Air line\")\n",
    "    tax.line(data[4], data[8], color='blue', linestyle='--', label = \"Flammability triangle\")\n",
    "    tax.line(data[3], data[7], color='lightblue', linestyle='-', label = \"Stoic line\")\n",
    "    tax.line(data[5], data[8], color='blue', linestyle='--')\n",
    "    # Customize the plot\n",
    "    tax.set_title(f\"Flammability Triangle for {name} in Air\", fontsize=16)\n",
    "    tax.left_axis_label(\"Oxygen\", fontsize=14, offset=0.15)\n",
    "    tax.right_axis_label(name, fontsize=14, offset=0.15)\n",
    "    tax.bottom_axis_label(\"Nitrogen\", fontsize=14, offset=-.1)\n",
    "    tax.gridlines(color=\"lightgrey\", multiple=10, linewidth=1, linestyle='--')\n",
    "    \n",
    "    # Define labels for data points\n",
    "    labels = [\"Pure Oxygen\", \"Pure Air\", f\"Pure {name}\",\"Pure N2\",\"LFL\",\"UFL\",\"\",\"\",\"\",\"\"]\n",
    "    \n",
    "    # Add labels for data points\n",
    "    for i, point in enumerate(data):\n",
    "        tax.annotate(labels[i], position=point, fontsize=10)\n",
    "    \n",
    "    # Number the axes on the sides\n",
    "    \n",
    "    \n",
    "    # Add legend\n",
    "    tax.legend()\n",
    "    \n",
    "    # Show the plot\n",
    "    plt.ticks = False\n",
    "    plt.show()\n",
    "\n",
    "flammabilityTriangle(\"Hydrogen\", lfl,ufl,stoic,loc)"
   ]
  },
  {
   "cell_type": "code",
   "execution_count": null,
   "metadata": {},
   "outputs": [],
   "source": []
  }
 ],
 "metadata": {
  "kernelspec": {
   "display_name": "jupiterbook",
   "language": "python",
   "name": "python3"
  },
  "language_info": {
   "codemirror_mode": {
    "name": "ipython",
    "version": 3
   },
   "file_extension": ".py",
   "mimetype": "text/x-python",
   "name": "python",
   "nbconvert_exporter": "python",
   "pygments_lexer": "ipython3",
   "version": "3.9.16"
  }
 },
 "nbformat": 4,
 "nbformat_minor": 2
}