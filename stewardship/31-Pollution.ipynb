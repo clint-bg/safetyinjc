{
 "cells": [
  {
   "cell_type": "markdown",
   "metadata": {},
   "source": [
    "# 31-Pollution Prevention"
   ]
  },
  {
   "cell_type": "markdown",
   "metadata": {},
   "source": [
    "## Air Quality"
   ]
  },
  {
   "cell_type": "markdown",
   "metadata": {},
   "source": [
    "### National Ambient Air Quality Standards (NAAQS)"
   ]
  },
  {
   "cell_type": "markdown",
   "metadata": {},
   "source": [
    "<img src=\"https://github.com/clint-bg/safetyinjc/blob/main/stewardship/supportfiles/NAAQSTable.png?raw=trueg\" width=\"600\">"
   ]
  },
  {
   "cell_type": "markdown",
   "metadata": {},
   "source": [
    "Link: https://www.epa.gov/criteria-air-pollutants/naaqs-table"
   ]
  },
  {
   "cell_type": "markdown",
   "metadata": {},
   "source": [
    "### Air Quality Map"
   ]
  },
  {
   "cell_type": "markdown",
   "metadata": {},
   "source": [
    "<img src=\"https://github.com/clint-bg/safetyinjc/blob/main/stewardship/supportfiles/InteractiveMap.png?raw=trueg\" width=\"600\">"
   ]
  },
  {
   "cell_type": "markdown",
   "metadata": {},
   "source": [
    "Link: https://www.epa.gov/outdoor-air-quality-data/interactive-map-air-quality-monitors"
   ]
  },
  {
   "cell_type": "markdown",
   "metadata": {},
   "source": [
    "### Air Data"
   ]
  },
  {
   "cell_type": "markdown",
   "metadata": {},
   "source": [
    "<img src=\"https://github.com/clint-bg/safetyinjc/blob/main/stewardship/supportfiles/AirData.png?raw=trueg\" width=\"600\">"
   ]
  },
  {
   "cell_type": "markdown",
   "metadata": {},
   "source": [
    "Link: https://epa.maps.arcgis.com/apps/webappviewer/index.html?id=5f239fd3e72f424f98ef3d5def547eb5&extent=-146.2334,13.1913,-46.3896,56.5319 \n",
    "\n",
    "Click the layers and choose CO and navigate to your location."
   ]
  },
  {
   "cell_type": "markdown",
   "metadata": {},
   "source": [
    "HW:\n",
    "- If I worked outside and otherwise spent the whole day exposed to the air in the city of Provo, what would have been my TWA exposure to CO on 1/1/2020?\n",
    "- How does that value compare to the NAAQS for CO? How does it compare to the PEL for CO?\n",
    "- Plot the CO levels near Provo for the months of January-May 2020. Add the PEL and NAAQS levels for CO to the plot."
   ]
  },
  {
   "cell_type": "markdown",
   "metadata": {},
   "source": [
    "### National Emission Standards for Hazardous Air Pollutants (NESHAP)"
   ]
  },
  {
   "cell_type": "markdown",
   "metadata": {},
   "source": [
    "188 `NESHAP` standards have been established for 174 source categories. These standards limit the amount of hazardous air pollutants that may be emitted from a source. Chemicals such as benzene, mercurycompounds, selenium compounds, asbestos, vinyl chloride, and many others are regulated by `NESHAP` standards."
   ]
  },
  {
   "cell_type": "markdown",
   "metadata": {},
   "source": [
    "## Polution Prevention Act (PPA), 1990"
   ]
  },
  {
   "cell_type": "markdown",
   "metadata": {},
   "source": [
    "Focuses on pollution prevention (P2) as the nations primary pollution strategy. Hierarchy:\n",
    "- Source reduction\n",
    "- In process recycling\n",
    "- On-site recycling\n",
    "- Off-site recycling\n",
    "- Treatment\n",
    "- Disposal\n",
    "- Release\n",
    "\n",
    "Requires P2 efforts for TRI (Toxic Release Inventory) permits. TRI permits are required for facilities that manufacture, process, or use more than a threshold amount of a listed toxic chemical. The PPA also requires the EPA to establish a P2 information clearinghouse."
   ]
  },
  {
   "cell_type": "markdown",
   "metadata": {},
   "source": [
    "- In-process recycling is the reuse of materials within a process. \n",
    "- On-site recycling is the reuse of materials within a facility. \n",
    "- Off-site recycling is the reuse of materials outside a facility. \n",
    "- Treatment is the use of physical, chemical, or biological processes to reduce the toxicity or volume of waste. \n",
    "- Disposal is the final disposition of waste. \n",
    "- Release is the discharge of waste into the environment."
   ]
  },
  {
   "cell_type": "markdown",
   "metadata": {},
   "source": [
    "## Source Reduction"
   ]
  },
  {
   "cell_type": "markdown",
   "metadata": {},
   "source": [
    "Source reduction is the reduction or elimination of waste at the source. The intent is to reduce:\n",
    "- energy use\n",
    "- raw material use\n",
    "- waste minimization\n",
    "- environmental releases\n",
    "- used solvents\n",
    "- waste water\n",
    "- air emissions"
   ]
  },
  {
   "cell_type": "markdown",
   "metadata": {},
   "source": [
    "Reducing the amount of waste generated in a significant increase in the efficiency of the process. For example, if a process generates 1000 pounds of waste and 100 pounds of product, the process efficiency is 10% (100/1100). If the process is modified to generate 10 pounds of waste and 100 pounds of product, the process efficiency is 91% (100/110)."
   ]
  },
  {
   "cell_type": "markdown",
   "metadata": {},
   "source": [
    "Case Scenario - production of nitric acid:\n",
    "- The production of nitric acid generates a large amount of NOx emissions.\n",
    "- The process can be modified to reduce the amount of NOx emissions."
   ]
  },
  {
   "cell_type": "markdown",
   "metadata": {},
   "source": [
    "Some additional specific examples of source reduction include:\n",
    "- LED lighting\n",
    "- Higher efficiency furnaces\n",
    "- Higher efficiency air conditioners\n",
    "\n"
   ]
  },
  {
   "cell_type": "markdown",
   "metadata": {},
   "source": [
    "HW: Research a source reduction scenario and provide a brief summary."
   ]
  },
  {
   "cell_type": "markdown",
   "metadata": {},
   "source": [
    "### Waste Minimization"
   ]
  },
  {
   "cell_type": "markdown",
   "metadata": {},
   "source": [
    "- Substitution of less hazardous materials\n",
    "- Process modification\n",
    "- Inventory control\n",
    "- Equipment optimization\n",
    "    - Fugutive emissions (Gold capture air particulate in gold processing)"
   ]
  },
  {
   "cell_type": "markdown",
   "metadata": {},
   "source": [
    "## Sustainability"
   ]
  },
  {
   "cell_type": "markdown",
   "metadata": {},
   "source": [
    "Sustainability means meeting the needs of today without compromising the ability of future generations to meet their needs"
   ]
  },
  {
   "cell_type": "markdown",
   "metadata": {},
   "source": [
    "## Life-Cycle Analysis"
   ]
  },
  {
   "cell_type": "markdown",
   "metadata": {},
   "source": [
    "1. Scope\n",
    "- Establish system boundaries\n",
    "- Determine functional unit (including life expectancy)\n",
    "\n",
    "2.   Inventory\n",
    "- Inputs:  raw materials, energy\n",
    "- Outputs:  products, byproducts, wastes, emissions\n",
    "\n",
    "3.   Impact assessment\n",
    "- Environmental impacts of all steps in life cycle\n",
    "\n",
    "4.   Improvement analysis\n",
    "- Generate alternatives\n",
    "- Consider each step\n",
    "\n",
    "5. Cradle-to-grave analysis\n",
    "- Consider all steps in life cycle\n",
    "- Consider end use\n",
    "- Consider disposal\n"
   ]
  },
  {
   "cell_type": "markdown",
   "metadata": {},
   "source": [
    "## Superfund Amendments and Reauthorization Act (SARA)"
   ]
  },
  {
   "cell_type": "markdown",
   "metadata": {},
   "source": [
    "A superfund site is any land in the United States that has been contaminated by hazardous waste and identified by the EPA as a candidate for cleanup because it poses a risk to human health and/or the environment. The Superfund program was established by the Comprehensive Environmental Response, Compensation, and Liability Act (CERCLA) in 1980. The Superfund Amendments and Reauthorization Act (SARA) was passed in 1986 to amend CERCLA. SARA expanded the Superfund program and added new provisions to the law. SARA also established the Emergency Planning and Community Right-to-Know Act (EPCRA)."
   ]
  },
  {
   "cell_type": "markdown",
   "metadata": {},
   "source": [
    "Some prominent superfund sites include:\n",
    "- Love Canal, New York\n",
    "- Times Beach, Missouri\n",
    "- Rocky Flats, Colorado"
   ]
  },
  {
   "cell_type": "markdown",
   "metadata": {},
   "source": [
    "### Love Canal\n",
    "\n",
    "The Love Canal site is located in Niagara Falls, New York. The site was originally a canal that was dug in the late 19th century to provide hydroelectric power to the city. The canal was abandoned and used as a chemical waste dump in the 1940s and 1950s. In the 1970s, residents of the Love Canal neighborhood began to report health problems, including birth defects, miscarriages, and cancer. Investigations revealed that the site was contaminated with over 20,000 tons of hazardous waste, including dioxin, benzene, and other chemicals. The Love Canal site was declared a federal emergency in 1978, and the residents were evacuated. The site was later cleaned up and capped, and is now a public park."
   ]
  },
  {
   "cell_type": "markdown",
   "metadata": {},
   "source": [
    "<img src=\"https://github.com/clint-bg/safetyinjc/blob/main/stewardship/supportfiles/love.jpg?raw=trueg\" width=\"400\">"
   ]
  },
  {
   "cell_type": "markdown",
   "metadata": {},
   "source": [
    "HW: Research a superfund site and provide a brief summary."
   ]
  }
 ],
 "metadata": {
  "kernelspec": {
   "display_name": "Python 3",
   "language": "python",
   "name": "python3"
  },
  "language_info": {
   "codemirror_mode": {
    "name": "ipython",
    "version": 3
   },
   "file_extension": ".py",
   "mimetype": "text/x-python",
   "name": "python",
   "nbconvert_exporter": "python",
   "pygments_lexer": "ipython3",
   "version": "3.9.16"
  }
 },
 "nbformat": 4,
 "nbformat_minor": 2
}
