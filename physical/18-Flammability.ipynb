{
 "cells": [
  {
   "cell_type": "markdown",
   "metadata": {},
   "source": [
    "# 18-Flammability 1"
   ]
  },
  {
   "cell_type": "markdown",
   "metadata": {},
   "source": [
    "Flames are a common hazard in many industries. Flames are all around us and they serve purposes from conversion of chemical bond energy to heat, propulsion of rockets, to cooking in our homes. These scenarios are planned for and designed to safely occur. However, there are many scenarios where flames are not planned for and can cause catastrophic damage."
   ]
  },
  {
   "cell_type": "markdown",
   "metadata": {},
   "source": [
    "Fires cause billions of dollars in damage every year. In the United States alone, the National Fire Protection Association (NFPA) estimate that in 2022, local fire departments responded to an estimated 1.5 million fires. Those fires caused 3,790 civilian fire deaths and 13,250 reported civilian fire injuries. The property damage caused by these fires was estimated at \\$18 billion. [See the NFPA Site Here for Further Information](https://www.nfpa.org/education-and-research/research/nfpa-research/fire-statistical-reports/fire-loss-in-the-united-states)"
   ]
  },
  {
   "cell_type": "markdown",
   "metadata": {},
   "source": [
    "Chemical Processing Fire Example Image\n",
    "\n",
    "<img src=\"https://github.com/clint-bg/safetyinjc/blob/main/physical/supportfiles/chemplantfire.png?raw=true\" width=\"500\">\n",
    "\n",
    "credit: https://jenikirbyhistory.getarchive.net/media/fire-glowing-hot-372895"
   ]
  },
  {
   "cell_type": "markdown",
   "metadata": {},
   "source": [
    "<img src=\"https://github.com/clint-bg/safetyinjc/blob/main/physical/supportfiles/wallFire.gif?raw=true\" width=\"300\">\n",
    "\n",
    "LES visualization credit to Dr. David Lignell: https://ignite.byu.edu/research.html"
   ]
  },
  {
   "cell_type": "markdown",
   "metadata": {},
   "source": [
    "Learning Objectives:\n",
    "- Describe the nature of fires and explosions.\n",
    "- Define the fire triangle and explain how to use it to prevent flammable mixtures.\n",
    "- Characterize the flammability of gases, liquids, and dusts.\n",
    "- Estimate flammability parameters for mixtures."
   ]
  },
  {
   "cell_type": "markdown",
   "metadata": {},
   "source": [
    "## Fires and Explosions"
   ]
  },
  {
   "cell_type": "markdown",
   "metadata": {},
   "source": [
    "The below pie chart shows the fraction of fires per category for the approximately 4000 people that died in 2022. Notice that the majority of fires are residential fires. \n",
    "\n",
    "<img src=\"https://github.com/clint-bg/safetyinjc/blob/main/physical/supportfiles/pieCfire.png?raw=true\" width=\"400\">\n",
    "\n",
    "Industrial loss of life and property is also due primarily to fires and explosions."
   ]
  },
  {
   "cell_type": "markdown",
   "metadata": {},
   "source": [
    "### What is a fire?\n",
    "\n",
    "A rapid exothermic reaction. Or in other words, a fuel reacts with an oxidizer once ignited to produce a thermodynamically favored chemical change. Heat, light, and sound can be produced. The heat can be used to sustain the reaction, and the light and sound are often the first signs of a fire."
   ]
  },
  {
   "cell_type": "markdown",
   "metadata": {},
   "source": [
    "### What is an explosion?\n",
    "\n",
    "An explosion is a rapid release of energy in an uncontrolled manner. This can be due to a rapid exothermic reaction, or a rapid release of pressure. The energy release can be due to a chemical reaction, or a physical change in state."
   ]
  },
  {
   "cell_type": "markdown",
   "metadata": {},
   "source": [
    "### Hazardous Effects of Fires and Explosions\n",
    "\n",
    "- Thermal radiation\n",
    "- Asphyxiation\n",
    "- Toxic gases\n",
    "- Blast waves\n",
    "- Fragmentation\n",
    "\n",
    "Theses effects can cause damage to property, injury, and loss of life.\n"
   ]
  },
  {
   "cell_type": "markdown",
   "metadata": {},
   "source": [
    "## How do fires start?"
   ]
  },
  {
   "cell_type": "markdown",
   "metadata": {},
   "source": [
    "<img src=\"https://github.com/clint-bg/safetyinjc/blob/main/physical/supportfiles/firetri.png?raw=true\" width=\"300\">\n",
    "\n",
    "credit to https://commons.wikimedia.org/wiki/File:Fire_triangle_2.svg"
   ]
  },
  {
   "cell_type": "markdown",
   "metadata": {},
   "source": [
    "Fires and explosions require a fuel, an oxidizer, and an ignition source. This is known as the fire triangle. "
   ]
  },
  {
   "cell_type": "markdown",
   "metadata": {},
   "source": [
    "```{admonition} Fuel\n",
    ":class: warning\n",
    "Fuels can be solid, liquid or gases:\n",
    "- Solids: wood, wood byproducts, metal particles, combustible dusts, plastics, rubber, etc.\n",
    "- Liquids: gasoline, diesel, kerosene, alcohols, etc.\n",
    "- Gases: methane, propane, hydrogen, etc.\n",
    "```\n",
    "\n",
    "```{admonition} Oxidizer\n",
    ":class: warning\n",
    "Oxidizers are substances that provide oxygen to the reaction. Common oxidizers are:\n",
    "- Solids: perchlorates, nitrates, etc.\n",
    "- Liquids: hydrogen peroxide, nitric acid, sulfuric acid, etc.\n",
    "- Gases: oxygen, chlorine, fluorine, etc.\n",
    "```\n",
    "\n",
    "```{admonition} Ignition Source\n",
    ":class: warning\n",
    "- Friction, Impact, Static Electricity, Electrical Sparks, Hot Surfaces, Open Flames, etc.\n",
    "```"
   ]
  },
  {
   "cell_type": "markdown",
   "metadata": {},
   "source": [
    "### What actually burns?\n",
    "\n",
    "In all but the most unique of circumstances, it is the vapor of a liquid or solid that burns. The vapor or gas mixes with the oxidizer and ignites. The heat from the ignition sustains the reaction."
   ]
  },
  {
   "cell_type": "markdown",
   "metadata": {},
   "source": [
    "<img src=\"https://github.com/clint-bg/safetyinjc/blob/main/physical/supportfiles/surfaceC.png?raw=true\" width=\"400\">"
   ]
  },
  {
   "cell_type": "markdown",
   "metadata": {},
   "source": [
    "## How to Prevent Fires and Explosions"
   ]
  },
  {
   "cell_type": "markdown",
   "metadata": {},
   "source": [
    "Ignition sources are plentiful and can be difficult to control. However, the fuel and oxidizer can be controlled. The most common way to prevent fires and explosions is to control the fuel and oxidizer. Often either the concentration of the fuel or the concentration of the oxidizer is controlled to prevent a fire or explosion."
   ]
  },
  {
   "cell_type": "markdown",
   "metadata": {},
   "source": [
    "### How low or high do the concentrations need to be altered?"
   ]
  },
  {
   "cell_type": "markdown",
   "metadata": {},
   "source": [
    "#### Lower Flammability Limit (LFL)\n",
    "- LFL: **LFL** is the lowest concentration of fuel in air that will support a flame.\n",
    "- LOL: **LOL** is the lowest concentration of a fuel in pure oxygen that will support a flame.\n",
    "- LOC: Also can define **LOC** (Limiting Oxygen Concentration) as the lowest concentration of oxygen in air that could result in combustion for a given fuel. This can be defined for oxygen in air or for a different gas. \n",
    "- Units are typically in volume percent (vol%) or equivalently mole percent (mol%)."
   ]
  },
  {
   "cell_type": "markdown",
   "metadata": {},
   "source": [
    "#### Upper Flammability Limit (UFL)\n",
    "- UFL: **UFL** is the highest concentration of fuel in air that will support a flame.\n",
    "- UOL: **UOL** is the highest concentration of a fuel in pure oxygen that will support a flame.\n",
    "- Units are typically in volume percent (vol%) or equivalently mole percent (mol%).\n"
   ]
  },
  {
   "cell_type": "markdown",
   "metadata": {},
   "source": [
    "<u>Typical Values for LFL and UFL</u>\n",
    "\n",
    "| Substance | LFL (vol%) | UFL (vol%) |\n",
    "|-----------|------------|------------|\n",
    "| Methane   | 5          | 15         |\n",
    "| Propane   | 2.1        | 9.5        |\n",
    "| Hydrogen  | 4          | 75         |\n",
    "| Gasoline  | 1.4        | 7.6        |\n",
    "| Ethanol   | 3.3        | 19         |\n",
    "| Acetylene | 2.5        | 83       |\n",
    "\n"
   ]
  },
  {
   "cell_type": "markdown",
   "metadata": {},
   "source": [
    "<u>Typical Values for LOC in Air</u>\n",
    "\n",
    "| Substance | LOC (vol%) |\n",
    "|-----------|------------|\n",
    "| Hydrogen  | 5        | \n",
    "| Methane   | 12         | \n",
    "| Ethane   | 11       | \n"
   ]
  },
  {
   "cell_type": "markdown",
   "metadata": {},
   "source": [
    "### Controlling the temperature\n",
    "\n",
    "**Flash point temperature** is the lowest temperature at which a liquid gives off enough vapor to form an ignitable mixture with air near the surface of the liquid."
   ]
  },
  {
   "cell_type": "markdown",
   "metadata": {},
   "source": [
    "<u>Typical Flash Points</u>\n",
    "\n",
    "| Substance | Flash Point (°C) |\n",
    "|-----------|------------------|\n",
    "| Methane   | -188             |\n",
    "| Propane   | -104             |\n",
    "| Gasoline  | -43              |\n",
    "| Methanol  | 11             |"
   ]
  },
  {
   "cell_type": "markdown",
   "metadata": {},
   "source": [
    "**Autoignition temperature** is the lowest temperature at which a substance will spontaneously ignite without an external ignition source."
   ]
  },
  {
   "cell_type": "markdown",
   "metadata": {},
   "source": [
    "<u>Typical Autoignition Temperatures</u>\n",
    "\n",
    "| Substance | Autoignition Temperature (°C) |\n",
    "|-----------|-------------------------------|\n",
    "| Methane   | 600                           |\n",
    "| Toluene   | 536                           |\n",
    "| Gasoline  | 280                           |\n",
    "| Methanol  | 463                           |\n"
   ]
  },
  {
   "cell_type": "markdown",
   "metadata": {},
   "source": [
    "### Graphical Image of Flammability Limits, Autoignition Temperatures, and Flash Points"
   ]
  },
  {
   "cell_type": "markdown",
   "metadata": {},
   "source": [
    "::::{admonition} Graphical Image of Vapor Pressure\n",
    ":class: dropdown\n",
    "**Vapor Pressure**\n",
    ":::{toggle}\n",
    "\n",
    "<img src=\"https://github.com/clint-bg/safetyinjc/blob/main/physical/supportfiles/vpplot1.png?raw=true\" width=\"500\">\n",
    ":::\n",
    "::::"
   ]
  },
  {
   "cell_type": "markdown",
   "metadata": {},
   "source": [
    "::::{admonition} Graphical Image of LFL and UFL\n",
    ":class: dropdown\n",
    "**Flammability Limits**\n",
    ":::{toggle}\n",
    "\n",
    "<img src=\"https://github.com/clint-bg/safetyinjc/blob/main/physical/supportfiles/vpplot2.png?raw=true\" width=\"500\">\n",
    ":::\n",
    "::::"
   ]
  },
  {
   "cell_type": "markdown",
   "metadata": {},
   "source": [
    "::::{admonition} Graphical Image of Autoignition Temperatures\n",
    ":class: dropdown\n",
    "**Autoignition**\n",
    ":::{toggle}\n",
    "\n",
    "<img src=\"https://github.com/clint-bg/safetyinjc/blob/main/physical/supportfiles/vpplot3.png?raw=true\" width=\"500\">\n",
    ":::\n",
    "::::"
   ]
  },
  {
   "cell_type": "markdown",
   "metadata": {},
   "source": [
    "::::{admonition} Graphical Image of flash points\n",
    ":class: dropdown\n",
    "**Flash Point**\n",
    ":::{toggle}\n",
    "\n",
    "<img src=\"https://github.com/clint-bg/safetyinjc/blob/main/physical/supportfiles/vpplot4.png?raw=true\" width=\"500\">\n",
    ":::\n",
    "::::"
   ]
  },
  {
   "cell_type": "markdown",
   "metadata": {},
   "source": [
    "## Equipment used for experimental determination"
   ]
  },
  {
   "cell_type": "markdown",
   "metadata": {},
   "source": [
    "### Flash point\n",
    "Closed cup\n",
    "\n",
    "<img src=\"https://github.com/clint-bg/safetyinjc/blob/main/physical/supportfiles/cct1.jpg?raw=true\" width=\"400\">\n",
    "\n",
    "<img src=\"https://github.com/clint-bg/safetyinjc/blob/main/physical/supportfiles/cct2.jpg?raw=true\" width=\"400\">"
   ]
  },
  {
   "cell_type": "markdown",
   "metadata": {},
   "source": [
    "### Flammability limits"
   ]
  },
  {
   "cell_type": "markdown",
   "metadata": {},
   "source": [
    "20 Liter Sphere\n",
    "\n",
    "<img src=\"https://github.com/clint-bg/safetyinjc/blob/main/physical/supportfiles/tls.jpg?raw=true\" width=\"400\">"
   ]
  },
  {
   "cell_type": "code",
   "execution_count": 10,
   "metadata": {},
   "outputs": [],
   "source": [
    "import numpy as np\n",
    "import matplotlib.pyplot as plt\n",
    "import pandas as pd"
   ]
  },
  {
   "cell_type": "code",
   "execution_count": 11,
   "metadata": {},
   "outputs": [],
   "source": [
    "data = {'Fuel Conc.':[2.1,2.5,3.5,4,4.2,5.8,6.4,7,7.7],'Max Pressure':[0,2.5,6,8,8.5,7.6,5,3,.03]}\n",
    "df = pd.DataFrame(data)"
   ]
  },
  {
   "cell_type": "code",
   "execution_count": 15,
   "metadata": {},
   "outputs": [
    {
     "data": {
      "image/png": "[encoded data removed]",
      "text/plain": [
       "<Figure size 640x480 with 1 Axes>"
      ]
     },
     "metadata": {},
     "output_type": "display_data"
    }
   ],
   "source": [
    "df.plot(x='Fuel Conc.',y='Max Pressure',kind='scatter')\n",
    "#fit a parabola to the data\n",
    "p = np.polyfit(df['Fuel Conc.'],df['Max Pressure'],2)\n",
    "#plot the parabola\n",
    "x = np.linspace(2,8,100)\n",
    "y = lambda x: p[0]*x**2 + p[1]*x + p[2]\n",
    "plt.ylim(0,10)\n",
    "plt.plot(x,y(x),'k-.')\n",
    "plt.show()"
   ]
  },
  {
   "cell_type": "markdown",
   "metadata": {},
   "source": [
    "## Empirical Estimation of Flammabilities"
   ]
  },
  {
   "cell_type": "markdown",
   "metadata": {},
   "source": [
    "From Crowl and Louvar (4th edition of Chemical Process Safety, Chapter 6), the following empirical equations can be used to estimate the LFL and UFL for a gas or vapor:\n",
    "\n",
    "<u>Flash Point</u>\n",
    "\n",
    "$$\n",
    "T_f = a + \\frac{b(c/T_b)^2 e^{-c/T_b}}{1 - e^{-c/T_b}}\n",
    "$$"
   ]
  },
  {
   "cell_type": "markdown",
   "metadata": {},
   "source": [
    "where a,b, and c are constants, and $T_b$ is the normal boiling point of the liquid and T_f is the flash point. See Crowl and Louvar for the constants."
   ]
  },
  {
   "cell_type": "markdown",
   "metadata": {},
   "source": [
    "Reaction Stoichiometry\n",
    "\n",
    "$C_m H_x O_y +zO_2 \\rightarrow mCO_2 + x/2H_2O$\n",
    "\n",
    "How do you get the stoichiometric concentration for say propane in air?"
   ]
  },
  {
   "cell_type": "markdown",
   "metadata": {},
   "source": [
    "```{toggle}\n",
    "\n",
    "$$\n",
    "C3H8 + 5O2 \\rightarrow 3CO2 + 4H2O\n",
    "$$\n",
    "\n",
    "```"
   ]
  },
  {
   "cell_type": "markdown",
   "metadata": {},
   "source": [
    "```{toggle}\n",
    "\n",
    "There are 3.72 moles of nitrogen for every mole of oxygen in air. So the stoichiometric concentration of propane in air is:\n",
    "\n",
    "$$\n",
    "\\frac{1}{1+5+5*3.72} = 0.041\n",
    "$$"
   ]
  },
  {
   "cell_type": "markdown",
   "metadata": {},
   "source": [
    "<u> LFL and UFL: Method 1</u>\n",
    "\n",
    "$$\n",
    "LFL = 0.55 \\cdot C_{st}\\\\\n",
    "UFL = 3.5 \\cdot C_{st}\n",
    "$$\n",
    "\n",
    "where $C_{st}$ is the stoichiometric concentration (vol percent)."
   ]
  },
  {
   "cell_type": "markdown",
   "metadata": {},
   "source": [
    "<u> LFL and UFL: Method 2</u>\n",
    "\n",
    "$$\n",
    "LFL = \\frac{0.55}{4.76m+1.19x-2.38y+1}\n",
    "$$\n",
    "\n",
    "$$\n",
    "UFL = \\frac{3.5}{4.76m+1.19x-2.38y+1}\n",
    "$$"
   ]
  },
  {
   "cell_type": "markdown",
   "metadata": {},
   "source": [
    "<u> LFL and UFL: Method 3</u>\n",
    "\n",
    "$$\n",
    "LFL = \\frac{-3.42}{\\Delta H_c} + 0.569\\Delta H_c + 0.0538\\Delta H_c^2 + 1.8\n",
    "$$\n",
    "\n",
    "$$\n",
    "UFL = 6.3\\Delta H_c + 0.567\\Delta H_c^2 + 23.5\n",
    "$$\n",
    "\n",
    "where $\\Delta H_c$ is the heat of combustion in kJ/mol."
   ]
  },
  {
   "cell_type": "markdown",
   "metadata": {},
   "source": [
    "<u>LFL and UFL: Mixtures</u>\n",
    "\n",
    "$$\n",
    "LFL = \\frac{1}{\\sum_i \\frac{y_i}{LFL_i}}\n",
    "$$"
   ]
  },
  {
   "cell_type": "markdown",
   "metadata": {},
   "source": [
    "where $y_i$ is the mole fraction of the component and $LFL_i$ is the LFL of the component. The UFL is calculated similarly."
   ]
  },
  {
   "cell_type": "markdown",
   "metadata": {},
   "source": [
    "<u> UOL </u>"
   ]
  },
  {
   "cell_type": "markdown",
   "metadata": {},
   "source": [
    "$$\n",
    "UOL = \\frac{UFL[100+1.87(100-UFL_o)]}{UFL_o + UFL(1+1.87)}\n",
    "$$\n",
    "\n",
    "where UFL_o is the oxygen concentration at the UFL. 1.87 is a fitting constant."
   ]
  },
  {
   "cell_type": "markdown",
   "metadata": {},
   "source": [
    "<u>LOC</u>\n",
    "\n",
    "$$\n",
    "LOC = \\left ( \\frac{LFL+1.11UFL}{1+1.11} \\right ) \\left ( \\frac{UFL_o}{UFL} \\right)\n",
    "$$\n",
    "\n",
    "where UFL_o is the oxygen concentration at the UFL. 1.11 is a fitting constant."
   ]
  },
  {
   "cell_type": "markdown",
   "metadata": {},
   "source": []
  }
 ],
 "metadata": {
  "kernelspec": {
   "display_name": "Python 3",
   "language": "python",
   "name": "python3"
  },
  "language_info": {
   "codemirror_mode": {
    "name": "ipython",
    "version": 3
   },
   "file_extension": ".py",
   "mimetype": "text/x-python",
   "name": "python",
   "nbconvert_exporter": "python",
   "pygments_lexer": "ipython3",
   "version": "3.9.16"
  }
 },
 "nbformat": 4,
 "nbformat_minor": 2
}
