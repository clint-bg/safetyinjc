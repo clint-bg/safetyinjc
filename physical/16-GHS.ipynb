{
 "cells": [
  {
   "cell_type": "markdown",
   "metadata": {},
   "source": [
    "# 16-GHS"
   ]
  },
  {
   "cell_type": "markdown",
   "metadata": {},
   "source": [
    "Learning Objectives:\n",
    "1. Introduction to the Globally Harmonized System of Classification and Labeling of Chemicals (GHS)\n",
    "2. Safety Data Sheets (SDS)\n",
    "3. GHS Labeling\n",
    "4. GHS Pictograms\n",
    "5. GHS Hazard Statements\n",
    "6. GHS Precautionary Statements\n",
    "7. GHS Signal Words\n",
    "8. GHS Hazard Communication\n",
    "9. NFPA 704 Diamond\n"
   ]
  },
  {
   "cell_type": "code",
   "execution_count": null,
   "metadata": {},
   "outputs": [],
   "source": []
  }
 ],
 "metadata": {
  "kernelspec": {
   "display_name": "Python 3",
   "language": "python",
   "name": "python3"
  },
  "language_info": {
   "codemirror_mode": {
    "name": "ipython",
    "version": 3
   },
   "file_extension": ".py",
   "mimetype": "text/x-python",
   "name": "python",
   "nbconvert_exporter": "python",
   "pygments_lexer": "ipython3",
   "version": "3.9.16"
  }
 },
 "nbformat": 4,
 "nbformat_minor": 2
}
