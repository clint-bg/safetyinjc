{
 "cells": [
  {
   "cell_type": "markdown",
   "metadata": {},
   "source": [
    "# 10-HAZOP Case Study\n",
    "CSB Investigation of H2S Poisoning in a Pump House in Texas: Aghorn Operating Waterflood Station Hydrogen Sulfide Release\n",
    "\n",
    "https://www.csb.gov/aghorn-operating-waterflood-station-hydrogen-sulfide-release-/ \n"
   ]
  },
  {
   "cell_type": "markdown",
   "metadata": {},
   "source": [
    "1:50 - 6:50 \n",
    "Event Summary\n",
    "- Oil and water mixture sits and separates in an initial holding tank\n",
    "- Water (Produced Water) is pumped out of the bottom to reintroduce into the well then pumped to the suction tank\n",
    "- Waterflood station or pump house used to pressurize water\n",
    "- High pressure piston pumps inject water back into the well to allow greater amounts of oil to be recovered\n",
    "- Pump house occasionally occupied 2x per day\n",
    "- H2S alarm and critical warning light not functional\n",
    "- Alarm notification to service personal of an oil level alarm with pump malfunction of some kind\n",
    "- Personal H2S monitor not brought into pump house by the operator\n",
    "- Pump plunger had shattered and H2S was released with the water\n",
    "- Operator was fatally injured by H2S\n",
    "- Wife also fatally injured by H2S"
   ]
  },
  {
   "cell_type": "markdown",
   "metadata": {},
   "source": [
    "Download lecture freeform here: https://github.com/clint-bg/safetyinjc/blob/main/physical/supportfiles/311%20HAZOP%20Case%20Study.pdf "
   ]
  },
  {
   "cell_type": "code",
   "execution_count": null,
   "metadata": {},
   "outputs": [],
   "source": []
  }
 ],
 "metadata": {
  "language_info": {
   "name": "python"
  }
 },
 "nbformat": 4,
 "nbformat_minor": 2
}
