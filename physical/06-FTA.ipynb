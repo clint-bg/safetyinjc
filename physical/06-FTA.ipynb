{
 "cells": [
  {
   "cell_type": "markdown",
   "metadata": {},
   "source": [
    "# 06-Fault Tree Analysis"
   ]
  },
  {
   "cell_type": "markdown",
   "metadata": {},
   "source": [
    "Fault tree analysis (FTA) is a top-down, deductive failure analysis in which an undesired state of a system is analyzed using boolean logic to combine a series of lower-level events. This analysis method is used to understand how systems can fail, to identify the best ways to reduce risk, and to estimate event rates of a safety accident or a particular system level (functional) failure."
   ]
  },
  {
   "cell_type": "markdown",
   "metadata": {},
   "source": [
    "### Helpful Reading\n",
    "-\tFailure Mode and Effect Analysis: https://smsenergetics.com/risk-management/process-hazards-analysis/fmea-basis \n",
    "-\tFault Tree Analysis: https://en.wikipedia.org/wiki/Fault_tree_analysis \n",
    "-\tJob Hazards Analysis Template: https://uolab.groups.et.byu.net/files/safety/JHATemplate.docx \n",
    "-\tHAZOP Analysis: https://smsenergetics.com/risk-management/process-hazards-analysis/hazop-basis "
   ]
  },
  {
   "cell_type": "markdown",
   "metadata": {},
   "source": [
    "## 1st Example of Fault Tree Analysis (FTA)"
   ]
  },
  {
   "cell_type": "markdown",
   "metadata": {},
   "source": [
    "### Procedure\n",
    "Communte to work or school avoiding injury from a traffic accident or other hazards."
   ]
  },
  {
   "cell_type": "markdown",
   "metadata": {},
   "source": [
    "## 2nd Example of Fault Tree Analysis (FTA)"
   ]
  },
  {
   "cell_type": "markdown",
   "metadata": {},
   "source": [
    "### Procedure\n",
    "\n",
    "A batch reactor is used to complete a reaction needed for the benefit of others. The reactor process has the following processing steps:\n",
    "\n",
    "1. The reactor is filled with the raw material, a somewhat toxic material.\n",
    "2. The reactor is heated  to the desired temperature (100 F).\n",
    "3. The reactor is pressurized to the desired pressure (20 psig).\n",
    "4. Reactant B is slowly added to the reactor. An exothermic reaction occurs and the jacket must begin to cool the reactor to maintain the desired temperature.\n",
    "5. The reaction proceeds at a given reaction rate at that temperature and pressure until all of the reactant B has been added.\n",
    "6. The reactor is cooled to room temperature and the product is removed."
   ]
  },
  {
   "cell_type": "markdown",
   "metadata": {},
   "source": [
    "### Some Hazards\n",
    "\n",
    "- Product C has a low boiling point and is toxic. If the reactor is not cooled properly, the product will vaporize and escape from the reactor. \n",
    "- If stirring is not maintained, the reaction will not proceed at the desired rate and the reactor will overheat.\n",
    "- Reactor is used for multiple products\n"
   ]
  },
  {
   "cell_type": "markdown",
   "metadata": {},
   "source": [
    "<img src=\"https://github.com/clint-bg/safetyinjc/blob/main/physical/supportfiles/batchreactor.jpg?raw=trueg\" width=\"500\">\n",
    "\n",
    "Image of the batch reactor credit to:\n",
    "https://www.essentialchemicalindustry.org/processes/chemical-reactors.html "
   ]
  },
  {
   "cell_type": "markdown",
   "metadata": {},
   "source": [
    "## Combination of FTA and FMEA: \n",
    "An accident investigation prior to the accident"
   ]
  },
  {
   "cell_type": "markdown",
   "metadata": {},
   "source": [
    "Example start on an FTA: (lower left is 'Blades fall off')"
   ]
  },
  {
   "cell_type": "markdown",
   "metadata": {},
   "source": [
    ":::{toggle}\n",
    ":show:\n",
    "<img src=\"https://raw.githubusercontent.com/clint-bg/safetyinjc/refs/heads/main/physical/supportfiles/FTAExample.png\" width=\"600\">\n",
    ":::"
   ]
  },
  {
   "cell_type": "markdown",
   "metadata": {},
   "source": [
    "Example start of the FMEA/ Hazards Analysis"
   ]
  },
  {
   "cell_type": "markdown",
   "metadata": {},
   "source": [
    ":::{toggle}\n",
    ":show:\n",
    "<img src=\"https://raw.githubusercontent.com/clint-bg/safetyinjc/refs/heads/main/physical/supportfiles/FMEAExample.png\" width=\"600\">\n",
    ":::"
   ]
  },
  {
   "cell_type": "code",
   "execution_count": null,
   "metadata": {},
   "outputs": [],
   "source": []
  }
 ],
 "metadata": {
  "language_info": {
   "name": "python"
  }
 },
 "nbformat": 4,
 "nbformat_minor": 2
}
