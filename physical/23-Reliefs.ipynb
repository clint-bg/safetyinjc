{
 "cells": [
  {
   "cell_type": "markdown",
   "metadata": {},
   "source": [
    "# 23-Reliefs"
   ]
  },
  {
   "cell_type": "markdown",
   "metadata": {},
   "source": [
    "Learning Objectives:\n",
    "- Understand the importance of **pressure protection**\n",
    "- Identify and understand the different **types of pressure protection devices**\n",
    "- Understand **where and why** pressure protection devices are used"
   ]
  },
  {
   "cell_type": "markdown",
   "metadata": {},
   "source": [
    "## Pressure Protection\n"
   ]
  },
  {
   "cell_type": "markdown",
   "metadata": {},
   "source": [
    "<img src=\"https://github.com/clint-bg/safetyinjc/blob/main/physical/supportfiles/reactor.png?raw=true\" width=\"500\">\n",
    "\n",
    "*AI Generated Image of a Reactor*"
   ]
  },
  {
   "cell_type": "markdown",
   "metadata": {},
   "source": [
    "What would be the consequences if the reactor in the image above were to over-pressurize?\n",
    "- The reactor could **explode**, causing damage to the plant and surrounding area\n",
    "- The reactor could **release hazardous chemicals into the environment**\n",
    "- The reactor could **release hazardous chemicals into the plant**, causing harm to personnel\n"
   ]
  },
  {
   "cell_type": "markdown",
   "metadata": {},
   "source": [
    "Explosion approximate consequences:"
   ]
  },
  {
   "cell_type": "code",
   "execution_count": 2,
   "metadata": {},
   "outputs": [],
   "source": [
    "#Potential energy from exploding reactor\n",
    "ReactorVolume = 50 #m^3 (13,200 gallons)\n",
    "VoidFraction = 0.67 #67% void fraction\n",
    "Contents = 'Acetone'\n",
    "BurstPressure = 10 #bar\n",
    "ContentMass = ReactorVolume * (1 - VoidFraction) * 785 #kg/m^3, Acetone density estimate\n",
    "CombustionHeat = 30.819e6 #J/kg: 1790 kJ/mol, molecular weight 58.08 g/mol"
   ]
  },
  {
   "cell_type": "code",
   "execution_count": 7,
   "metadata": {},
   "outputs": [
    {
     "name": "stdout",
     "output_type": "stream",
     "text": [
      "BurstEnergy, MJ:  50.0\n",
      "CombustionEnergy, MJ: 399183.10\n",
      "Energy could power 3992.33 homes for a year\n"
     ]
    }
   ],
   "source": [
    "#Energy from bursting reactor scales with burst pressure and void volume:\n",
    "BurstEnergy = BurstPressure * ReactorVolume * 1e5 #Joules\n",
    "print('BurstEnergy, MJ: ', BurstEnergy/1e6)\n",
    "CombustionEnergy = ContentMass * CombustionHeat #Joules\n",
    "print(f'CombustionEnergy, MJ: {CombustionEnergy/1e6:.2f}')\n",
    "#energy to power 1 homes for a year\n",
    "EnergyPerYear = 100e6 #J\n",
    "print(f'Energy could power {(CombustionEnergy+BurstEnergy)/EnergyPerYear:.2f} homes for a year')"
   ]
  },
  {
   "cell_type": "markdown",
   "metadata": {},
   "source": [
    "What steps could be taken to prevent the reactor from over-pressurizing?"
   ]
  },
  {
   "cell_type": "markdown",
   "metadata": {},
   "source": [
    "```{toggle}\n",
    "- Effective control of the rate of the reaction(s)\n",
    "- Specific strategies to control side reactions\n",
    "- Effective reactor cooling\n",
    "- **Pressure Relief Devices** can be used to prevent an over-pressurization scenario\n",
    "- RAGAGEP (Recognized and Generally Accepted Good Engineering Practices) should be followed\n",
    "```"
   ]
  },
  {
   "cell_type": "markdown",
   "metadata": {},
   "source": [
    "Code requirements (RAGAGEP) for pressure relief devices are found in Boiler and Pressure Vessel Code (ASME), Section VIII, Division 1, API 520, and others.\n",
    "\n",
    "Many vessels are required to have pressure relief protection including\n",
    "\n",
    "- Pressure vessels\n",
    "- Blocked-in sections of liquid-filled piping\n",
    "- Heat exchangers\n",
    "- Storage tanks\n"
   ]
  },
  {
   "cell_type": "markdown",
   "metadata": {},
   "source": [
    "What are some ways that elevated pressures could occur?\n",
    "\n",
    "```{toggle}\n",
    "- Overheating\n",
    "- Runaway reaction\n",
    "- Blocked outlet\n",
    "- Fire exposure\n",
    "- External pressure\n",
    "- Thermal expansion\n",
    "- Overfilling\n",
    "- Equipment failure\n",
    "- Control system failure\n",
    "- Operator error\n",
    "- Instrumentation failure\n",
    "```\n"
   ]
  },
  {
   "cell_type": "markdown",
   "metadata": {},
   "source": [
    "## Types of Pressure Protection Devices"
   ]
  },
  {
   "cell_type": "markdown",
   "metadata": {},
   "source": [
    "### Spring Operated Relief Valves"
   ]
  },
  {
   "cell_type": "markdown",
   "metadata": {},
   "source": [
    "<img src=\"https://github.com/clint-bg/safetyinjc/blob/main/physical/supportfiles/springrelief.png?raw=true\" width=\"300\"><img src=\"https://github.com/clint-bg/safetyinjc/blob/main/physical/supportfiles/springrelief2.png?raw=true\" width=\"300\">"
   ]
  },
  {
   "cell_type": "markdown",
   "metadata": {},
   "source": [
    "Some components of spring operated relief valves include:\n",
    "\n",
    "- Spring - the spring is compressed by the process pressure\n",
    "- Valve plug - the plug is lifted off the seat when the spring force is overcome by the process pressure\n",
    "- Nozzle - the nozzle directs the flow of the relieving fluid\n",
    "- Seat - the plug seals against the seat to prevent flow"
   ]
  },
  {
   "cell_type": "markdown",
   "metadata": {},
   "source": [
    "Comments on spring operated relief valves:\n",
    "\n",
    "- very common\n",
    "- versatile: can be used for gas or liquid\n",
    "- reliable\n",
    "- susceptible to chatter\n",
    "- relieving pressure affected by temperature, back pressure, and accumulation\n",
    "- flow decreases with increasing back pressure"
   ]
  },
  {
   "cell_type": "markdown",
   "metadata": {},
   "source": [
    "### Balanced Bellows Relief Valves"
   ]
  },
  {
   "cell_type": "markdown",
   "metadata": {},
   "source": [
    "<img src=\"https://github.com/clint-bg/safetyinjc/blob/main/physical/supportfiles/bellowsrelief.png?raw=true\" width=\"300\"><img src=\"https://github.com/clint-bg/safetyinjc/blob/main/physical/supportfiles/bellowsrelief2.png?raw=true\" width=\"300\">"
   ]
  },
  {
   "cell_type": "markdown",
   "metadata": {},
   "source": [
    "Some components of balanced bellows relief valves include:\n",
    "\n",
    "- Bellows - the bellows is a flexible diaphragm that is used to sense the process pressure\n",
    "- Valve plug - the plug is lifted off the seat when the bellows force is overcome by the process pressure\n",
    "- Nozzle - the nozzle directs the flow of the relieving fluid\n",
    "- Seat - the plug seals against the seat to prevent flow\n"
   ]
  },
  {
   "cell_type": "markdown",
   "metadata": {},
   "source": [
    "Comments on balanced bellows relief valves:\n",
    "\n",
    "- similar to spring operated relief valves\n",
    "- relieving pressure is not affected by back pressure\n",
    "- flow decreases with increasing back pressure\n",
    "- spring is protected from the process fluid\n",
    "- flow through the valve can be impacted by back pressure"
   ]
  },
  {
   "cell_type": "markdown",
   "metadata": {},
   "source": [
    "### Pilot Operated Relief Valves"
   ]
  },
  {
   "cell_type": "markdown",
   "metadata": {},
   "source": [
    "Some comments on pilot operated relief valves:\n",
    "- relieving pressure not affected by back pressure\n",
    "- can operate very close to set pressure\n",
    "- potential for back flow\n",
    "- o-ring seals limit some applications"
   ]
  },
  {
   "cell_type": "markdown",
   "metadata": {},
   "source": [
    "### Buckling Pin Relief Valves"
   ]
  },
  {
   "cell_type": "markdown",
   "metadata": {},
   "source": [
    "Comments on buckling pin relief valves:\n",
    "- similar to a rupture disk\n",
    "- o-ring seals used and can limit some applications\n",
    "- less susceptible to corrosion (vs rupture disk)\n",
    "- can be operated closer to the set pressure (vs rupture disk)\n",
    "- can operate at very low set pressures"
   ]
  },
  {
   "cell_type": "markdown",
   "metadata": {},
   "source": [
    "### Rupture Disks"
   ]
  },
  {
   "cell_type": "markdown",
   "metadata": {},
   "source": [
    "<img src=\"https://github.com/clint-bg/safetyinjc/blob/main/physical/supportfiles/rupturerelief.png?raw=true\" width=\"300\"><img src=\"https://github.com/clint-bg/safetyinjc/blob/main/physical/supportfiles/rupturerelief2.png?raw=true\" width=\"300\">"
   ]
  },
  {
   "cell_type": "markdown",
   "metadata": {},
   "source": [
    "Relief valves are often used in conjunction with rupture disks. Rupture disks are used to protect the relief valve from the process fluid. Rupture disks are often used in applications where the process fluid is corrosive, toxic, or would otherwise damage the relief valve."
   ]
  },
  {
   "cell_type": "markdown",
   "metadata": {},
   "source": [
    "Rupture disks are often made of a thin metal that is designed to rupture at a specific pressure. The rupture disk is installed in a holder that is designed to contain the disk fragments when the disk ruptures. Some other characteristics of rupture disks include:\n",
    "\n",
    "- often used in conjunction with relief valves\n",
    "- often used in applications where the process fluid is corrosive, toxic, or would otherwise damage the relief valve or small leaks over time would present risks to people and the environment\n",
    "- one-time use (does not close after relieving)\n",
    "- pieces of disk can be a hazard in the process\n",
    "- rapid response\n",
    "- there are multiple types:\n",
    "    - reverse buckling\n",
    "    - tension loaded\n",
    "    - scored\n",
    "    - pre-fragmented\n",
    "    - composite\n",
    "    - solid\n",
    "    - knife blade\n",
    "    - slotted\n"
   ]
  },
  {
   "cell_type": "markdown",
   "metadata": {},
   "source": [
    "## Some Definitions\n",
    "\n",
    "| Term | Definition |\n",
    "| --- | --- |\n",
    "| Set Pressure | The pressure at which the relief device is set to open |\n",
    "| Relief Pressure | The pressure at which the relief device actually opens |\n",
    "| MAWP | Maximum Allowable Working Pressure, maximum gauge pressure permissible at the top of the vessel at the designated temperature |\n",
    "| MAWT | Maximum Allowable Working Temperature, the maximum temperature at which the vessel is permitted to operate |\n",
    "| MDMT | Minimum Design Metal Temperature, the lowest temperature at which the vessel is permitted to operate |\n",
    "| Operating Pressure | The pressure at which the vessel is intended to operate; no more than 90% of the MAWP |\n",
    "| Accumulation | The pressure increase over the MAWP that occurs when the relief device is operating; expressed as a percentage of the MAWT |\n",
    "| Overpressure | The pressure increase over the set pressure that occurs when the relief device is operating; expressed as a percentage of the set pressure |\n",
    "| Back Pressure | The pressure at the outlet of the relief device; composed of two components: pressure from downstream and pressure required for frictional losses |\n",
    "| Blowdown | The difference between the set pressure and the relief reseating pressure |\n",
    "| Maximum allowable accumulation pressure | Sum of the accumulation and the MAWP |\n",
    "| Relieving pressure | The pressure at which the relief device is fully open and relieving: set pressure plus overpressure |"
   ]
  },
  {
   "cell_type": "markdown",
   "metadata": {},
   "source": [
    "Code comments:\n",
    "\n",
    "- The maximum normal operating pressure can never exceed the MAWP, even momentarily.  However, the actual pressure during the relieving process may exceed the MAWP.\n",
    "- Pressure tests (to verify strength) are often performed at 1.5 times the MAWP. Tests use water typically (gas tests would yield a much more violent failure if the vessel were to fail during the test).\n",
    "- For a single relief, the maximum set pressure is the MAWP.\n",
    "- During the relieving process, the overpressure cannot exceed the MAWP by more than the following percentages:\n",
    "    - 110% for vessels equipped with a single pressure relief device.\t\n",
    "    - 116% for vessels equipped with supplemental pressure relief devices.\n",
    "    - 121% for fire exposures.\n",
    "- For supplemental relief devices, the max. set pressure is 105% of the MAWP."
   ]
  },
  {
   "cell_type": "markdown",
   "metadata": {},
   "source": [
    "<img src=\"https://github.com/clint-bg/safetyinjc/blob/main/physical/supportfiles/PRV1.png?raw=true\" width=\"500\">"
   ]
  },
  {
   "cell_type": "markdown",
   "metadata": {},
   "source": [
    "<img src=\"https://github.com/clint-bg/safetyinjc/blob/main/physical/supportfiles/PRV2.png?raw=true\" width=\"500\">"
   ]
  },
  {
   "cell_type": "markdown",
   "metadata": {},
   "source": [
    "## Where and Why Pressure Protection Devices are Used"
   ]
  },
  {
   "cell_type": "markdown",
   "metadata": {},
   "source": [
    "### Vessels\n",
    "All vessels, including reactors, storage tanks, heat exchangers, towers and drums."
   ]
  },
  {
   "cell_type": "markdown",
   "metadata": {},
   "source": [
    "### Positive Displacement Pumps, Compressors, and Turbines\n",
    "These devices can be blocked in by a closed valve, causing the pressure to rise. These processing pieces may have an internal relief valve."
   ]
  },
  {
   "cell_type": "markdown",
   "metadata": {},
   "source": [
    "### Piping\n",
    "\n",
    "Piping is not normally required or recommended to have pressure relief protection as piping can typically withstand pressures higher than the vessels they supply. However, there are some exceptions:\n",
    "\n",
    "- blocked-in sections of liquid-filled piping that may be heated or otherwise pressurized\n",
    "- heat traced piping\n",
    "- long lines (thermal expansion)\n",
    "- loading or transfer lines beyond the property line\n",
    "- lines with history of overpressure\n",
    "- lines that may be exposed to high pressures\n",
    "- per the hazards analysis"
   ]
  },
  {
   "cell_type": "markdown",
   "metadata": {},
   "source": [
    "### Examples of Where Pressure Protection Devices are Used"
   ]
  },
  {
   "cell_type": "markdown",
   "metadata": {},
   "source": [
    "<img src=\"https://github.com/clint-bg/safetyinjc/blob/main/physical/supportfiles/reliefexample.png?raw=true\" width=\"600\">"
   ]
  },
  {
   "cell_type": "markdown",
   "metadata": {},
   "source": [
    "```{toggle}\n",
    "- Blocked in heating coils.\n",
    "- Blocked in cooling water line on reflux condenser.\n",
    "- Relief on reactor – variety of scenarios.\n",
    "- Relief on pump – need to check with manufacturer of pump.\n",
    "- Side reaction? Incompatibility?\n",
    "- Fire?\n",
    "```\n"
   ]
  },
  {
   "cell_type": "markdown",
   "metadata": {},
   "source": [
    "<img src=\"https://github.com/clint-bg/safetyinjc/blob/main/physical/supportfiles/reliefexample2.png?raw=true\" width=\"600\">"
   ]
  },
  {
   "cell_type": "markdown",
   "metadata": {},
   "source": [
    "```{toggle}\n",
    "- Failure of high pressure nitrogen regulator\n",
    "- Hole in cooling water coil.\n",
    "- Pump continues to run after filling.\n",
    "- Fire exposure\n",
    "- Runaway reaction\n",
    "- Blocked outlet\n",
    "```\n"
   ]
  },
  {
   "cell_type": "markdown",
   "metadata": {},
   "source": [
    "<img src=\"https://github.com/clint-bg/safetyinjc/blob/main/physical/supportfiles/WherePRV.png?raw=true\" width=\"500\">\n",
    "\n",
    "*Source: Crowl and Louvar, Chemical Process Safety, 4th Edition, FIgure 9-8."
   ]
  },
  {
   "cell_type": "markdown",
   "metadata": {},
   "source": [
    "## Relief Effluent Handling"
   ]
  },
  {
   "cell_type": "markdown",
   "metadata": {},
   "source": [
    "Oft times, the relief effluent cannot simply be released to the atmosphere. The effluent may be toxic, flammable, or otherwise hazardous. The effluent may also be at a high temperature or pressure. Some options for handling the effluent include:\n",
    "\n",
    "- Flare\n",
    "- Vent to a scrubber\n",
    "- Vent to a thermal oxidizer\n",
    "- Vent to a condenser\n",
    "- Vent to a knock-out drum"
   ]
  },
  {
   "cell_type": "markdown",
   "metadata": {},
   "source": []
  }
 ],
 "metadata": {
  "kernelspec": {
   "display_name": "jupiterbook",
   "language": "python",
   "name": "python3"
  },
  "language_info": {
   "codemirror_mode": {
    "name": "ipython",
    "version": 3
   },
   "file_extension": ".py",
   "mimetype": "text/x-python",
   "name": "python",
   "nbconvert_exporter": "python",
   "pygments_lexer": "ipython3",
   "version": "3.9.16"
  }
 },
 "nbformat": 4,
 "nbformat_minor": 2
}
