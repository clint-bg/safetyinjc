{
 "cells": [
  {
   "cell_type": "markdown",
   "metadata": {},
   "source": [
    "# 08-HAZOP"
   ]
  },
  {
   "cell_type": "markdown",
   "metadata": {},
   "source": [
    "## Hazards and Operability Study (HAZOP)"
   ]
  },
  {
   "cell_type": "markdown",
   "metadata": {},
   "source": [
    "Systematic method of identifying hazards in a process plant using a process flow diagram (PFD) and/ or a piping and instrumentation diagram (P&ID) and guide words."
   ]
  },
  {
   "cell_type": "markdown",
   "metadata": {},
   "source": [
    "### Process Flow Diagram (PFD)"
   ]
  },
  {
   "cell_type": "markdown",
   "metadata": {},
   "source": [
    "Example PFD of the Haber-Bosch process from https://en.wikipedia.org/wiki/Haber_process"
   ]
  },
  {
   "cell_type": "markdown",
   "metadata": {},
   "source": [
    "<img src=\"https://github.com/clint-bg/safetyinjc/blob/main/physical/supportfiles/HaberBoschProcess.png?raw=true\" width=\"700\">"
   ]
  },
  {
   "cell_type": "markdown",
   "metadata": {},
   "source": [
    "Nodes are judiciously picked at points where the process changes significantly.  The nodes are numbered and the node numbers are used in the HAZOP study."
   ]
  },
  {
   "cell_type": "markdown",
   "metadata": {},
   "source": [
    "### Process and Instrumentation Diagram (P&ID)\n",
    "\n",
    "This site does a good job of explaining the symbols of PID diagrams and gives a few examples: https://www.edrawmax.com/pid/. PID symbols are not standardized, so you may see different symbols used in different diagrams. PID's are very helpful, invaluable, in designing a process plant (Smokeless powder manufacturing in Mulwala, NSW, Australia). The P&ID is a more detailed diagram than the PFD.  It shows the process flow, but also shows the instrumentation and control devices.  \n",
    "\n",
    "Similar to the PFD, nodes are judiciously picked at points where the process changes significantly.  The nodes are numbered and the node numbers are used in the HAZOP study.\n"
   ]
  },
  {
   "cell_type": "markdown",
   "metadata": {},
   "source": [
    "<img src=\"https://github.com/clint-bg/safetyinjc/blob/main/physical/supportfiles/PIDSymb.png?raw=true\" width=\"700\">"
   ]
  },
  {
   "cell_type": "markdown",
   "metadata": {},
   "source": [
    "<img src=\"https://github.com/clint-bg/safetyinjc/blob/main/physical/supportfiles/ExamplePID.png?raw=true\" width=\"700\">"
   ]
  },
  {
   "cell_type": "markdown",
   "metadata": {},
   "source": [
    "### P&ID Activity\n",
    "Draw a P&ID for a continuous washing machine. Water, soap, and clothing enter the machine and water and soap exit in one stream and wet clothing in another exit stream. The system has a water level control with feedback, soap amount control, and clothing (material) control. "
   ]
  },
  {
   "cell_type": "markdown",
   "metadata": {},
   "source": [
    ":::{toggle}\n",
    ":show:\n",
    "<img src=\"https://github.com/clint-bg/safetyinjc/blob/main/physical/supportfiles/WashingPID.png?raw=true\" width=\"500\">\n",
    ":::"
   ]
  },
  {
   "cell_type": "markdown",
   "metadata": {},
   "source": [
    "### Guide Words"
   ]
  },
  {
   "cell_type": "markdown",
   "metadata": {},
   "source": [
    "- High, Low, No Flow, Reverse Flow\n",
    "- High, Low Pressure\n",
    "- High, Low Temperature\n",
    "- High, Low, No Level\n",
    "- High, Low Composition\n",
    "- High, Low Reaction Rate, Side reaction, Reverse reaction\n",
    "- High, Low, No Power\n",
    "- Wrong material"
   ]
  },
  {
   "cell_type": "markdown",
   "metadata": {},
   "source": [
    "## Documentation\n",
    "Document the HAZOP study in a table.  The table should have the following columns:\n",
    "\n",
    "- Node number/ Operation\n",
    "- Guide word\n",
    "- Cause/Hazard\n",
    "- Consequence\n",
    "- Safeguard\n",
    "- Risk Rating\n",
    "- Recommendation"
   ]
  },
  {
   "cell_type": "markdown",
   "metadata": {},
   "source": []
  }
 ],
 "metadata": {
  "language_info": {
   "name": "python"
  }
 },
 "nbformat": 4,
 "nbformat_minor": 2
}
