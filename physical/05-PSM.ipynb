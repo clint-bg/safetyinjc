{
 "cells": [
  {
   "cell_type": "markdown",
   "metadata": {},
   "source": [
    "# 05-PSM Intro\n",
    "Process Safety Management Introduction"
   ]
  },
  {
   "cell_type": "markdown",
   "metadata": {},
   "source": [
    "## Risk Tolerance\n",
    "\n",
    "Our tolerance for risk varies widely between individuals and organizations. How do we determine what is an acceptable risk? How do we determine what is an unacceptable risk? How do we determine what is a tolerable risk? How do we determine what is a negligible risk? Yes, these are all different things."
   ]
  },
  {
   "cell_type": "markdown",
   "metadata": {},
   "source": [
    "## Risk Matrix\n",
    "\n",
    "Semi-quantitative: See Table 1-14 in the textbook.\n",
    "\n",
    "Qualitative Risk Matrix:\n",
    "\n",
    "<img src=\"https://github.com/clint-bg/safetyinjc/blob/main/physical/supportfiles/RiskMatrix.png?raw=trueg\" width=\"600\">"
   ]
  },
  {
   "cell_type": "markdown",
   "metadata": {},
   "source": [
    "## RAGAGEP\n",
    "\n",
    "Recognized and Generally Accepted Good Engineering Practices:\n",
    "\n",
    "Regulations: \n",
    "- OSHA 29 CFR 1910.119 Process Safety Management (PSM)\n",
    "- EPA 40 CFR 68 Risk Management Programs (RMP)\n",
    "- DHS 6 CFR 27 Chemical Facility Anti-Terrorism Standards (CFATS)\n",
    "- PHMSA/ DOT Shipment of Hazardous Chemicals 49 CFR Parts 100-185\n",
    "\n",
    "Codes\n",
    "- NFPA 70: National Electrical Code\n",
    "- ASME Boiler and Pressure Vessel Code\n",
    "\n",
    "Standards\n",
    "- NFPA 45, 68, 69\n",
    "- Many others"
   ]
  },
  {
   "cell_type": "markdown",
   "metadata": {},
   "source": [
    "## OSHA 29 CFR PSM Elements\n",
    "Required for those meeting the Threshold Quantities\n",
    "\n",
    "- Employee Participation\n",
    "- **Process Safety Information**\n",
    "- **Process Hazards Analysis**\n",
    "- Operating Procedures\n",
    "- Training\n",
    "- Contractors\n",
    "- Pre-Startup Safety Review\n",
    "- Mechanical Integrity\n",
    "- Hot Work Permits\n",
    "- Management of Change\n",
    "- Incident Investigation\n",
    "- Emergency Planning and Response\n",
    "- Audits\n",
    "- Trade Secrets"
   ]
  },
  {
   "cell_type": "markdown",
   "metadata": {},
   "source": [
    "### "
   ]
  }
 ],
 "metadata": {
  "language_info": {
   "name": "python"
  }
 },
 "nbformat": 4,
 "nbformat_minor": 2
}
