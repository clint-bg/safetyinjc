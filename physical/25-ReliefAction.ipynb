{
 "cells": [
  {
   "cell_type": "markdown",
   "metadata": {},
   "source": [
    "# 25-Relief Action"
   ]
  },
  {
   "cell_type": "markdown",
   "metadata": {},
   "source": [
    "Learning Objectives:\n",
    "- Use orifice flow estimates in mass and energy balance calculations\n",
    "- Estimate vent sizing for deflagrations\n",
    "- Gain experience with mass and energy balance principles\n",
    "- Review relief requirements for fire scenarios\n"
   ]
  },
  {
   "cell_type": "markdown",
   "metadata": {},
   "source": [
    "## Orifice Flow and Mass Balances"
   ]
  },
  {
   "cell_type": "markdown",
   "metadata": {},
   "source": [
    "```{toggle}\n",
    "\n",
    "See in-class examples\n",
    "```"
   ]
  },
  {
   "cell_type": "markdown",
   "metadata": {},
   "source": []
  },
  {
   "cell_type": "code",
   "execution_count": 2,
   "metadata": {},
   "outputs": [],
   "source": [
    "import numpy as np\n",
    "import matplotlib.pyplot as plt\n",
    "from scipy.integrate import odeint"
   ]
  },
  {
   "cell_type": "code",
   "execution_count": null,
   "metadata": {},
   "outputs": [],
   "source": [
    "#first scenario with 20 liter sphere with methane and air\n",
    "#     assume constant burn rate\n",
    "#     3 moles (CH4 and 2O2) react to yield 3 moles (CO2 and 2H2O) thus dn/dt = in - out + gen = 0\n",
    "\n",
    "k = 100 #moles/sec/m3, estimate of reaction rate of methane and air, assumed constant burn rate\n",
    "tburn = 0.01 #seconds, time to burn 20 liters of methane\n",
    "V = 20/1000 #20 liter sphere to m^3\n",
    "DH_rx = -890.4 #kJ/mol CH4 , heat of combustion\n",
    "\n",
    "#energy balance: d(nU)/dt = gen = kV DH_rx \n",
    "\n",
    "def derivatives(var, time):\n",
    "    \n",
    "\n"
   ]
  }
 ],
 "metadata": {
  "kernelspec": {
   "display_name": "Python 3",
   "language": "python",
   "name": "python3"
  },
  "language_info": {
   "codemirror_mode": {
    "name": "ipython",
    "version": 3
   },
   "file_extension": ".py",
   "mimetype": "text/x-python",
   "name": "python",
   "nbconvert_exporter": "python",
   "pygments_lexer": "ipython3",
   "version": "3.9.16"
  }
 },
 "nbformat": 4,
 "nbformat_minor": 2
}
