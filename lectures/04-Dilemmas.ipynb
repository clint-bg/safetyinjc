{
 "cells": [
  {
   "cell_type": "markdown",
   "metadata": {},
   "source": [
    "# 04-Dilemmas"
   ]
  },
  {
   "cell_type": "code",
   "execution_count": null,
   "metadata": {},
   "outputs": [],
   "source": []
  },
  {
   "cell_type": "markdown",
   "metadata": {},
   "source": [
    "In a future day it will be impossible to ... without the guiding and constant influence of the Holy Ghost (President Nielson). The influence of the Holy Ghost is real and available to us. The influence of evil is real and can influence us. We get to choose which influence we will seek, be influenced by, and follow.\n",
    "\n",
    "Ultimately we are responsible for our actions as we'll be judged by God."
   ]
  },
  {
   "cell_type": "markdown",
   "metadata": {},
   "source": [
    "Use the Holy Ghost to make decisions that have two rights or two less wrongs."
   ]
  },
  {
   "cell_type": "markdown",
   "metadata": {},
   "source": []
  }
 ],
 "metadata": {
  "language_info": {
   "name": "python"
  }
 },
 "nbformat": 4,
 "nbformat_minor": 2
}
