{
 "cells": [
  {
   "cell_type": "markdown",
   "metadata": {},
   "source": [
    "# 02-Ethics and the Gospel"
   ]
  },
  {
   "cell_type": "markdown",
   "metadata": {},
   "source": [
    "## Learning objectives\n",
    "- Identify different ethics appraoches\n",
    "- Review the Code of Ethics of the American Institute of Chemical Engineers\n",
    "- Identify principles of the gospel of Jesus Christ that relate to living a life of integrity and ethics in Chemical Engineering\n",
    "- Identify the influence of the Holy Ghost and how to heed the prophets invitation to be able to live by truth in an increasingly turbulent world\n",
    "- Identify common justifications for unethical behavior\n",
    "- Identify experiences of the prophets in the scriptures regarding ethics and integrity\n"
   ]
  },
  {
   "cell_type": "markdown",
   "metadata": {},
   "source": [
    "```{note}\n",
    "This section of the course is not intended to be an in-depth review of ethics. Rather, it is a brief introduction. There is a whole fields of ethics in disciplines of medicine, finance, and business for example. The purpose of this section is to introduce you to the topic of ethics in chemical engineering and to help you understand how the gospel of Jesus Christ can help us live a life of integrity.\n",
    "```\n",
    "```{seealso}\n",
    "For further information see Aaron Miller's book titled *The Business Ethics Field Guide: The Essential Companion to Leading Your Career and Your Company to Greatness*, 2016. There's also a BYU course PHIL 213 that is taught frequently. There are many other very helpful resources of course.\n",
    "```"
   ]
  },
  {
   "cell_type": "markdown",
   "metadata": {},
   "source": [
    "## Ethics Approaches"
   ]
  },
  {
   "cell_type": "markdown",
   "metadata": {},
   "source": [
    "::::{admonition} Ethics Approach A\n",
    ":class: dropdown\n",
    "**Utilitarianism**\n",
    "***\n",
    ":::{toggle}\n",
    ":show:\n",
    "- The greatest good for the greatest number\n",
    "- The ends might justify the means\n",
    "- The needs of the many outweigh the needs of the few\n",
    ":::\n",
    "::::"
   ]
  },
  {
   "cell_type": "markdown",
   "metadata": {},
   "source": [
    "::::{admonition} Ethics Approach B\n",
    ":class: dropdown\n",
    "**Deontology (Duty)**\n",
    "***\n",
    ":::{toggle}\n",
    "- Universal moral laws that can be applied to everyone\n",
    "- Doing the right thing is more important than the outcome\n",
    "- Double effect: the outcome of an action can be good or bad, but the action itself should be good (torture is bad, even if it is used to save lives)\n",
    ":::\n",
    "::::"
   ]
  },
  {
   "cell_type": "markdown",
   "metadata": {},
   "source": [
    "::::{admonition} Ethics Approach C\n",
    ":class: dropdown\n",
    "**Virtue Ethics**\n",
    "***\n",
    ":::{toggle}\n",
    "- Focuses on the character of the person\n",
    "- Actions judged on if a virtuous person would do them\n",
    "- Virtues include: honesty, courage, compassion, generosity, fidelity, integrity, fairness, self-control, and prudence\n",
    ":::\n",
    "::::"
   ]
  },
  {
   "cell_type": "markdown",
   "metadata": {},
   "source": [
    "::::{admonition} Ethics Approach D\n",
    ":class: dropdown\n",
    "**Rights Ethics**\n",
    "***\n",
    ":::{toggle}\n",
    "- Focuses on the rights of the individual\n",
    "- Some rights include: life, liberty, property, privacy, free speech, free association, and due process\n",
    "- Rights are not absolute, but can be limited by the rights of others\n",
    ":::\n",
    "::::"
   ]
  },
  {
   "cell_type": "markdown",
   "metadata": {},
   "source": [
    "::::{admonition} Ethics Approach E\n",
    ":class: dropdown\n",
    "**Following the Example and Words of Jesus Christ and the Prophets**\n",
    "***\n",
    ":::{toggle}\n",
    "- First and Second Great Commandments\n",
    "- Keep the 10 commandments\n",
    "- Make and keep covenants with God through authorized ordinances\n",
    "- Seek for and follow the guidance of the Holy Ghost\n",
    "- Individuals are expected to apply the principles of the gospel of Jesus Christ to their own lives and make their own decisions\n",
    "- We will be accountable for our own decisions and actions\n",
    ":::\n",
    "::::"
   ]
  },
  {
   "cell_type": "markdown",
   "metadata": {},
   "source": [
    "## AIChE Code of Ethics"
   ]
  },
  {
   "cell_type": "markdown",
   "metadata": {},
   "source": [
    ":::{admonition} Some AIChE Code of Ethics Principles\n",
    ":class: dropdown\n",
    "Sections of the AIChE Code of Ethics are given below. I have emphasized some of the wording.\n",
    "- Hold paramount the **safety, health and welfare** of the public and protect the environment in performance of their professional duties.\n",
    "- **Accept responsibility** for their actions, seek and heed critical review of their work, and offer objective criticism of the work of others.\n",
    "- Act in professional matters for each employer or client as faithful agents or trustees, **avoiding conflicts of interest** and never breaching confidentiality.\n",
    "- Perform professional services only in areas of their competence.\n",
    "- Build their professional reputations on the **merits** of their services.\n",
    "- Continue their professional development throughout their careers, and provide opportunities for the professional development of those under their supervision.\n",
    "\n",
    "The above are only some of the expectations when upholding the AIChE code of ethics.\n",
    ":::"
   ]
  },
  {
   "cell_type": "markdown",
   "metadata": {},
   "source": [
    "```{seealso}\n",
    "[AIChE Website](https://www.aiche.org/about/code-ethics)\n",
    "```"
   ]
  },
  {
   "cell_type": "markdown",
   "metadata": {},
   "source": [
    "## Commonly Used Justifications for Unethical Behavior"
   ]
  },
  {
   "cell_type": "markdown",
   "metadata": {},
   "source": [
    ":::{admonition} Justifications\n",
    ":class: dropdown\n",
    "- Lost revenue\n",
    "- Lost position\n",
    "- Lost reputation\n",
    "- Revenge or sense of justice\n",
    "- Minimization of harm\n",
    "- Disagreement on what is ethical\n",
    "- Misunderstanding of the law or of truth\n",
    "- Ignorance\n",
    "- `Subordinate following orders or directives`\n",
    ":::"
   ]
  },
  {
   "cell_type": "markdown",
   "metadata": {},
   "source": [
    "## Scriptural Examples of Ethics and Integrity"
   ]
  },
  {
   "cell_type": "markdown",
   "metadata": {},
   "source": [
    ":::{admonition} Biblical Examples\n",
    ":class: dropdown\n",
    "- Daniel and the lion's den\n",
    "- Shadrach, Meshach, and Abednego\n",
    "- Joseph and Potiphar's wife\n",
    ":::"
   ]
  },
  {
   "cell_type": "markdown",
   "metadata": {},
   "source": [
    ":::{admonition} Nephite Examples\n",
    ":class: dropdown\n",
    "- Nephi and Laban\n",
    "- Abinadi and King Noah\n",
    "- Alma and Amulek\n",
    "- Moroni and Pahoran\n",
    ":::"
   ]
  },
  {
   "cell_type": "markdown",
   "metadata": {},
   "source": [
    "## Reading assignment\n",
    "- [The Family: A Proclamation to the World](https://www.churchofjesuschrist.org/study/scriptures/the-family-a-proclamation-to-the-world/the-family-a-proclamation-to-the-world?lang=eng)\n",
    "- [The Living Christ](https://www.churchofjesuschrist.org/study/scriptures/the-living-christ-the-testimony-of-the-apostles/the-living-christ-the-testimony-of-the-apostles?lang=eng)"
   ]
  },
  {
   "cell_type": "markdown",
   "metadata": {},
   "source": [
    "## Classwork"
   ]
  },
  {
   "cell_type": "markdown",
   "metadata": {},
   "source": [
    "## Homework"
   ]
  },
  {
   "cell_type": "markdown",
   "metadata": {},
   "source": [
    "In a future day it will be impossible to ... without the guiding and constant influence of the Holy Ghost (President Nielson). The influence of the Holy Ghost is real and available to us. The influence of evil is real and can influence us. We get to choose which influence we will seek, be influenced by, and follow."
   ]
  },
  {
   "cell_type": "code",
   "execution_count": null,
   "metadata": {},
   "outputs": [],
   "source": []
  }
 ],
 "metadata": {
  "language_info": {
   "name": "python"
  }
 },
 "nbformat": 4,
 "nbformat_minor": 2
}
