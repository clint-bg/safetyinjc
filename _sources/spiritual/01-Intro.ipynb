{
 "cells": [
  {
   "attachments": {},
   "cell_type": "markdown",
   "metadata": {},
   "source": [
    "# 01-Introduction"
   ]
  },
  {
   "cell_type": "markdown",
   "metadata": {},
   "source": [
    "## Stewardship and Safety in Jesus Christ\n",
    "Review the [Introduction](https://clint-bg.github.io/safetyinjc/intro.html) and the content pages of Learning Suite including the course syllabus.  This course is designed treats the importance of stewardship and safety in Jesus Christ.  "
   ]
  },
  {
   "cell_type": "markdown",
   "metadata": {},
   "source": [
    "## Instructor and TA Info\n",
    "See Learning Suite"
   ]
  },
  {
   "cell_type": "markdown",
   "metadata": {},
   "source": [
    "## Course Materials\n",
    "- Learning Suite,\n",
    "    - Please be patient, Learning Suite will be updated throughout the semester\n",
    "- This Course GitHub Website, \n",
    "    - Please be patient, this website will be updated throughout the semester\n",
    "- Chemical Process Safety by Daniel Crowl and Joseph Louvar, Fourth Edition,\n",
    "- Kahoot.it (for in-class quizzes) \n",
    "    - Your unique ID is your first name, first letter of your last name and last two digits of your phone number (e.g. clintg12)\n",
    "- Other material given to you"
   ]
  },
  {
   "cell_type": "markdown",
   "metadata": {},
   "source": [
    "## Work Expectations\n",
    "- Lectures (3x's per week),\n",
    "- Quizzes (In class, 3x's per week based on the reading material),\n",
    "- Classwork (In class, 0-2x's per week),\n",
    "- Reading material (prior to each class,) \n",
    "- Homework (1-2x per week), \n",
    "- Mid-term Exams (2-3 this semester),\n",
    "- Final Exam\n",
    "- Projects \n",
    "    - Book review, \n",
    "    - Safety or Ethics Evaluation (analysis, newspaper article and presentation)"
   ]
  },
  {
   "cell_type": "markdown",
   "metadata": {},
   "source": [
    "## Class Organizations\n",
    "- In Class Groups (3-4 students, set by instructor)\n",
    "- Project Groups (3-4 students, your choice)"
   ]
  },
  {
   "cell_type": "markdown",
   "metadata": {},
   "source": [
    "## Course Grades\n",
    "- Quizzes (10%)\n",
    "    - 4 lowest scores dropped\n",
    "- Classwork (10%)\n",
    "- Homework (15%)\n",
    "- Exams (50%)\n",
    "    - Midterms (30%)\n",
    "    - Final (20%)\n",
    "- Projects (15%)\n",
    "    - Book Review (5%)\n",
    "    - Safety or Ethics Evaluation (10%)"
   ]
  },
  {
   "cell_type": "markdown",
   "metadata": {},
   "source": [
    "## Several Group Introductions\n",
    "- Wheel of names\n",
    "- Where everyone is from\n",
    "- What your group looks forward to in this course"
   ]
  },
  {
   "cell_type": "markdown",
   "metadata": {},
   "source": [
    "## Chemical Engineering Career Outlook\n"
   ]
  },
  {
   "cell_type": "markdown",
   "metadata": {},
   "source": [
    "<img src=\"https://github.com/clint-bg/comptools/blob/main/lectures/supportfiles/ChemEOutlook.png?raw=trueg\" width=\"400\">"
   ]
  },
  {
   "cell_type": "markdown",
   "metadata": {},
   "source": [
    "Hopefully from the above you can see that BYU chemical engineers are unique and in demand. The skills you will learn in this class will help you to be successful in your career."
   ]
  },
  {
   "attachments": {},
   "cell_type": "markdown",
   "metadata": {},
   "source": [
    "## Current Worldwide Problems in Engineering\n",
    "Chemical Engineers are poised to help in each of these areas:\n",
    "* Energy \n",
    "    - Worldwide `energy demands are growing`\n",
    "    - We need to use fossil fuels more efficiently and capture more of the biproducts\n",
    "    - [Energy.gov](https://www.energy.gov/)\n",
    "    - [Deseret News Article on Potential Energy Crisis](https://www.deseret.com/utah/2023/6/28/23777165/rural-electric-provider-in-utah-impending-u-s-energy-crisis-moon-lake-coal-plants-mitt-romney)\n",
    "    - Fry, Memmott, Baxter, Rappleye, Wheeler, and Lignell\n",
    "* Chemical Production\n",
    "    - We can continue to `improve chemical production` processes\n",
    "    - [Chemical and Engineering News](https://cen.acs.org/)\n",
    "    - Argyle, Hedengren, Knotts, Nickerson, Seo, Tree, Wilding\n",
    "* Health \n",
    "    - We need to `improve` health care delivery and care\n",
    "    - [World Health Organization](https://www.who.int/)\n",
    "    - Bundy, Pitt, and Lewis\n",
    "* Water \n",
    "    - We need to improve water treatment,  distribution, and conservation.\n",
    "    - [World Health Organization](https://www.who.int/news-room/fact-sheets/detail/drinking-water)\n",
    "* Transportation - How do we better move people and goods around the world?\n",
    "* Environment - How do we efficiently continue improving our environment?\n",
    "    - Plastics production and waste handling and reuse needs improvement.\n",
    "    - [Environmental Protection Agency](https://www.epa.gov/)\n",
    "* Security - How do we continue to adapt and peacefully protect people from threats?\n",
    "* Exploration, Food, and more..."
   ]
  },
  {
   "attachments": {},
   "cell_type": "markdown",
   "metadata": {},
   "source": [
    "You are the engineers that will work to improve societies' and individuals' quality of life around the world. Importantly, you can also help gather Israel and prepare the world for the second coming of Jesus Christ."
   ]
  },
  {
   "cell_type": "markdown",
   "metadata": {},
   "source": [
    "## Reading Assignment\n",
    "Read the below documents."
   ]
  },
  {
   "cell_type": "markdown",
   "metadata": {},
   "source": [
    "- See Learning Suite for the Engineering Ethics 2024 document\n",
    "- [Becoming Men and Women of Integrity](https://speeches.byu.edu/talks/tad-r-callister/becoming-men-and-women-of-integrity/)"
   ]
  },
  {
   "cell_type": "markdown",
   "metadata": {},
   "source": []
  }
 ],
 "metadata": {
  "kernelspec": {
   "display_name": "base",
   "language": "python",
   "name": "python3"
  },
  "language_info": {
   "codemirror_mode": {
    "name": "ipython",
    "version": 3
   },
   "file_extension": ".py",
   "mimetype": "text/x-python",
   "name": "python",
   "nbconvert_exporter": "python",
   "pygments_lexer": "ipython3",
   "version": "3.9.16"
  },
  "orig_nbformat": 4
 },
 "nbformat": 4,
 "nbformat_minor": 2
}
