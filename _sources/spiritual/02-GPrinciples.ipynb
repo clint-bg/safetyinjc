{
 "cells": [
  {
   "cell_type": "markdown",
   "metadata": {},
   "source": [
    "# 02-Ethics and the Gospel"
   ]
  },
  {
   "cell_type": "markdown",
   "metadata": {},
   "source": [
    "```{important}\n",
    "The world needs ethical people, people with integrity. There is no effective societal relationships be it financial, political, or personal without them built on a foundation of trust. Trust requires integrity or ethics. We can contribute significantly to the world simply by living with integrity and helping others to do the same.\n",
    "```"
   ]
  },
  {
   "cell_type": "markdown",
   "metadata": {},
   "source": [
    "## Learning objectives\n",
    "- Identify different ethics appraoches\n",
    "- Review the Code of Ethics of the American Institute of Chemical Engineers\n",
    "- Identify principles of the gospel of Jesus Christ that relate to living a life of integrity and ethics in Chemical Engineering\n",
    "- Identify the influence of the Holy Ghost and how to heed the prophets invitation to be able to live by truth in an increasingly turbulent world\n",
    "- Identify common justifications for unethical behavior\n",
    "- Identify experiences of the prophets in the scriptures regarding ethics and integrity\n"
   ]
  },
  {
   "cell_type": "markdown",
   "metadata": {},
   "source": [
    "```{note}\n",
    "This section of the course is not intended to be an in-depth review of ethics. Rather, it is a brief introduction. There is a whole fields of ethics in disciplines of medicine, finance, and business for example. The purpose of this section is to introduce you to the topic of ethics in chemical engineering and to help you understand how the gospel of Jesus Christ can help us live a life of integrity.\n",
    "```\n",
    "```{seealso}\n",
    "For further information see Aaron Miller's book titled *The Business Ethics Field Guide: The Essential Companion to Leading Your Career and Your Company to Greatness*, 2016. There's also a BYU course PHIL 213 that is taught frequently. There are many other very helpful resources of course.\n",
    "```"
   ]
  },
  {
   "cell_type": "markdown",
   "metadata": {},
   "source": [
    "## Ethics Approaches"
   ]
  },
  {
   "cell_type": "markdown",
   "metadata": {},
   "source": [
    "::::{admonition} Ethics Approach A\n",
    ":class: dropdown\n",
    "**Utilitarianism**\n",
    "***\n",
    ":::{toggle}\n",
    ":show:\n",
    "- The greatest good for the greatest number\n",
    "- The ends might justify the means\n",
    "- The needs of the many outweigh the needs of the few\n",
    ":::\n",
    "::::"
   ]
  },
  {
   "cell_type": "markdown",
   "metadata": {},
   "source": [
    "::::{admonition} Ethics Approach B\n",
    ":class: dropdown\n",
    "**Deontology (Duty)**\n",
    "***\n",
    ":::{toggle}\n",
    "- Universal moral laws that can be applied to everyone\n",
    "- Doing the right thing is more important than the outcome\n",
    "- Double effect: the outcome of an action can be good or bad, but the action itself should be good (torture is bad, even if it is used to save lives)\n",
    ":::\n",
    "::::"
   ]
  },
  {
   "cell_type": "markdown",
   "metadata": {},
   "source": [
    "::::{admonition} Ethics Approach C\n",
    ":class: dropdown\n",
    "**Virtue Ethics**\n",
    "***\n",
    ":::{toggle}\n",
    "- Focuses on the character of the person\n",
    "- Actions judged on if a virtuous person would do them\n",
    "- Virtues include: honesty, courage, compassion, generosity, fidelity, integrity, fairness, self-control, and prudence\n",
    ":::\n",
    "::::"
   ]
  },
  {
   "cell_type": "markdown",
   "metadata": {},
   "source": [
    "::::{admonition} Ethics Approach D\n",
    ":class: dropdown\n",
    "**Rights Ethics**\n",
    "***\n",
    ":::{toggle}\n",
    "- Focuses on the rights of the individual\n",
    "- Some rights include: life, liberty, property, privacy, free speech, free association, and due process\n",
    "- Rights are not absolute, but can be limited by the rights of others\n",
    ":::\n",
    "::::"
   ]
  },
  {
   "cell_type": "markdown",
   "metadata": {},
   "source": [
    "::::{admonition} Ethics Approach E\n",
    ":class: dropdown\n",
    "**Following the Example and Words of Jesus Christ and the Prophets**\n",
    "***\n",
    ":::{toggle}\n",
    "- First and Second Great Commandments\n",
    "- Keep the 10 commandments\n",
    "- Make and keep covenants with God through authorized ordinances\n",
    "- Seek for and follow the guidance of the Holy Ghost\n",
    "- Individuals are expected to apply the principles of the gospel of Jesus Christ to their own lives and make their own decisions\n",
    "- We will be accountable for our own decisions and actions\n",
    ":::\n",
    "::::"
   ]
  },
  {
   "cell_type": "markdown",
   "metadata": {},
   "source": [
    "## BYU Honor Code\n",
    ":::{admonition} Some Honor Code Commitments\n",
    ":class: dropdown\n",
    "Sections of the BYU Honor Code are given below. I have emphasized some of the wording.\n",
    "- Represent the **Savior Jesus Christ**, the Church, and the Church Educational System.\n",
    "- Preserve an inspiring environment, without distraction or disruption, where covenants are kept in a spirit of unity so the **Holy Ghost can teach truth**.\n",
    "- Live a **chaste and virtuous life**.\n",
    "- Abstain from alcoholic beverages, tobacco, tea, coffee, vaping, marijuana, and other substance abuse.\n",
    "- **Participate** regularly in Church services\n",
    "- **Respect** others\n",
    "- Obey the **law**.\n",
    "- **Encourage others** in their commitment to comply with the Honor Code.\n",
    "\n",
    "The above are only some of the commitments of the BYU Honor Code.\n",
    ":::"
   ]
  },
  {
   "cell_type": "markdown",
   "metadata": {},
   "source": [
    "```{seealso}\n",
    "[BYU Honor Code](https://policy.byu.edu/view/church-educational-system-honor-code)\n",
    "```"
   ]
  },
  {
   "cell_type": "markdown",
   "metadata": {},
   "source": [
    "## AIChE Code of Ethics"
   ]
  },
  {
   "cell_type": "markdown",
   "metadata": {},
   "source": [
    ":::{admonition} Some AIChE Code of Ethics Principles\n",
    ":class: dropdown\n",
    "Sections of the AIChE Code of Ethics are given below. I have emphasized some of the wording.\n",
    "- Hold paramount the **safety, health and welfare** of the public and protect the environment in performance of their professional duties.\n",
    "- **Accept responsibility** for their actions, seek and heed critical review of their work, and offer objective criticism of the work of others.\n",
    "- Act in professional matters for each employer or client as faithful agents or trustees, **avoiding conflicts of interest** and never breaching confidentiality.\n",
    "- Perform professional services only in areas of their competence.\n",
    "- Build their professional reputations on the **merits** of their services.\n",
    "- Continue their professional development throughout their careers, and provide opportunities for the professional development of those under their supervision.\n",
    "\n",
    "The above are only some of the expectations when upholding the AIChE code of ethics.\n",
    ":::"
   ]
  },
  {
   "cell_type": "markdown",
   "metadata": {},
   "source": [
    "```{seealso}\n",
    "[AIChE Website](https://www.aiche.org/about/code-ethics)\n",
    "```"
   ]
  },
  {
   "cell_type": "markdown",
   "metadata": {},
   "source": [
    "## Commonly Used Justifications for Unethical Behavior"
   ]
  },
  {
   "cell_type": "markdown",
   "metadata": {},
   "source": [
    "### 2 Nephi 28:8-11\n",
    "And there shall also be many which shall say ... fear God—he will **justify** in committing a little sin; yea, lie a little, take the advantage of one because of his words, dig a pit for thy neighbor; there is gno harm in this; and do all these things, for tomorrow we die; and if it so be that we are guilty, God will beat us with a few stripes, and at last we shall be saved in the kingdom of God.\n",
    "\n",
    "Yea, and there shall be many which shall teach after this manner, false and vain and foolish doctrines, and shall be puffed up in their hearts, and shall seek deep to **hide** their counsels from the Lord; and their works shall be in the dark.\n",
    "\n",
    "And the blood of the saints shall cry from the ground against them.\n",
    "\n",
    "Yea, they have ... gone out of the away; they have become corrupted."
   ]
  },
  {
   "cell_type": "markdown",
   "metadata": {},
   "source": [
    ":::{admonition} Justifications\n",
    ":class: dropdown\n",
    "- Lost revenue\n",
    "- Lost position\n",
    "- Lost reputation\n",
    "- Revenge or sense of justice\n",
    "- Minimization of harm\n",
    "- Disagreement on what is ethical\n",
    "- Misunderstanding of the law or of truth\n",
    "- Ignorance\n",
    "- Subordinate following orders or directives\n",
    "- Rights over responsibility\n",
    ":::"
   ]
  },
  {
   "cell_type": "markdown",
   "metadata": {},
   "source": [
    "## Moral Relativism\n",
    ":::{admonition} Moral Relativism\n",
    ":class: dropdown\n",
    "Moral Relativism is the belief that there are no absolute truths. It is the belief that what is right or wrong is relative to the individual or the situation. It is the belief that there is no objective truth. It is the belief that there is no God. Often, 'moral dilemmas' are used to justify moral relativism in the sense that there may not be an obvious right or wrong answer. \n",
    ":::\n",
    "\n"
   ]
  },
  {
   "cell_type": "markdown",
   "metadata": {},
   "source": [
    "## Book of Mormon Counsel\n",
    "::::{admonition} Prophetic Counsel\n",
    ":class: dropdown\n",
    ":::{quote} \n",
    "While society in general may believe that moral relativism is a sign of progress, the Book of Mormon contains examples and teachings that warn us of the dangers of replacing God’s commandments with our own relative moral standards.\n",
    "[Daniel Belnap](https://www.churchofjesuschrist.org/study/ensign/2014/02/young-adults/the-book-of-mormon-and-modern-moral-relativism?lang=eng)\n",
    ":::\n",
    "::::"
   ]
  },
  {
   "cell_type": "markdown",
   "metadata": {},
   "source": [
    "## The Holy Ghost\n",
    "\"In coming days, it will not be possible to survive spiritually without the guiding, directing, comforting and constant influence of the Holy Ghost\"\n",
    "- President Russell M. Nelson"
   ]
  },
  {
   "cell_type": "markdown",
   "metadata": {},
   "source": [
    "The Spirit speaketh the truth and lieth not. Wherefore, it speaketh of things as they really are, and of things as they really will be; wherefore, these things are manifested unto us plainly, for the salvation of our souls. (Jacob 4:13)"
   ]
  },
  {
   "cell_type": "markdown",
   "metadata": {},
   "source": [
    "## Scriptural Examples of Ethics and Integrity"
   ]
  },
  {
   "cell_type": "markdown",
   "metadata": {},
   "source": [
    ":::{admonition} Biblical Examples\n",
    ":class: dropdown\n",
    "- Daniel and the lion's den\n",
    "- Shadrach, Meshach, and Abednego\n",
    "- Joseph and Potiphar's wife\n",
    ":::"
   ]
  },
  {
   "cell_type": "markdown",
   "metadata": {},
   "source": [
    ":::{admonition} Nephite Examples\n",
    ":class: dropdown\n",
    "- Nephi and Laban\n",
    "- Abinadi and King Noah\n",
    "- Alma and Amulek\n",
    "- Moroni and Pahoran\n",
    ":::"
   ]
  },
  {
   "cell_type": "markdown",
   "metadata": {},
   "source": [
    "## Reading assignment\n",
    "- [The Living Christ](https://www.churchofjesuschrist.org/study/scriptures/the-living-christ-the-testimony-of-the-apostles/the-living-christ-the-testimony-of-the-apostles?lang=eng)\n",
    "- [The Family: A Proclamation to the World](https://www.churchofjesuschrist.org/study/scriptures/the-family-a-proclamation-to-the-world/the-family-a-proclamation-to-the-world?lang=eng)\n",
    "- [Daniel 6](https://www.churchofjesuschrist.org/study/scriptures/ot/dan/6?lang=eng)\n",
    "- [Alma 14](https://www.churchofjesuschrist.org/study/scriptures/bofm/alma/14?lang=eng)"
   ]
  },
  {
   "cell_type": "markdown",
   "metadata": {},
   "source": [
    "## Homework"
   ]
  },
  {
   "cell_type": "markdown",
   "metadata": {},
   "source": [
    "See Learning Suite"
   ]
  },
  {
   "cell_type": "code",
   "execution_count": null,
   "metadata": {},
   "outputs": [],
   "source": []
  }
 ],
 "metadata": {
  "language_info": {
   "name": "python"
  }
 },
 "nbformat": 4,
 "nbformat_minor": 2
}
