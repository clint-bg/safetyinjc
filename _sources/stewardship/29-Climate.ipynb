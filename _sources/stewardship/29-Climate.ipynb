{
 "cells": [
  {
   "cell_type": "markdown",
   "metadata": {},
   "source": [
    "# 29-Climate and Energy"
   ]
  },
  {
   "cell_type": "markdown",
   "metadata": {},
   "source": [
    "The Earth gets energy from the sun and core of the earth is still quite hot. The energy from the sun is the main driver of the climate on Earth. The energy from the sun is not evenly distributed over the Earth's surface. The equator gets more energy than the poles. The energy from the sun is absorbed by the Earth and then re-emitted as infrared radiation. The Earth's atmosphere absorbs some of this infrared radiation and re-emits it back to the Earth's surface. This is the greenhouse effect. Without this greenhouse effect, we would be living in a much colder world."
   ]
  },
  {
   "cell_type": "markdown",
   "metadata": {},
   "source": [
    "Relatively recently, the concentration of atmospheric carbon dioxide has been increasing, although the concentration of CO2 has been estimated to be higher in the past. It is believed that the recent increase in CO2 is due primarily to burning of fossil fuels.\n"
   ]
  },
  {
   "cell_type": "markdown",
   "metadata": {},
   "source": [
    "## Heat from the Core of the Earth"
   ]
  },
  {
   "cell_type": "markdown",
   "metadata": {},
   "source": [
    "The core temperature of the Earth is estimate to be 6,000 C under very high pressures, composed primarily or iron (https://www.science.org/doi/10.1126/science.1233514). The heat flux to the surface from the core is on average 0.1 W/m^2. "
   ]
  },
  {
   "cell_type": "markdown",
   "metadata": {},
   "source": [
    "\n",
    "<img src=\"https://github.com/clint-bg/safetyinjc/blob/main/stewardship/supportfiles/earth-temps.jpeg?raw=trueg\" width=\"500\">\n",
    "\n",
    "https://www.discovermagazine.com/planet-earth/taking-the-temperature-of-earths-core"
   ]
  },
  {
   "cell_type": "markdown",
   "metadata": {},
   "source": [
    "## Heat from the Sun"
   ]
  },
  {
   "cell_type": "markdown",
   "metadata": {},
   "source": [
    "The heat flux from the sun is approximately 1360 W/m^2 (oscillating every 24 hours depending a little on the time of year and latitude). The Earth's surface temperature is about 15 C. The Earth's surface temperature is determined by the balance between the energy from the sun and the energy from the core."
   ]
  },
  {
   "cell_type": "markdown",
   "metadata": {},
   "source": [
    "<img src=\"https://github.com/clint-bg/safetyinjc/blob/main/stewardship/supportfiles/heatbalance.png?raw=trueg\" width=\"600\">"
   ]
  },
  {
   "cell_type": "markdown",
   "metadata": {},
   "source": [
    "The energy incident on the atmosphere from the sun, is absorbed and re-emitted by the Earth's surface, primarily as infrared radiation. That incident radiation has a wide range of wavelengths. Water, a very powerful greenhouse gas varies from 1-4% of the atmosphere (depending on many factors). The concentration of CO2 is about 0.04% or 400 ppm of the atmosphere."
   ]
  },
  {
   "cell_type": "markdown",
   "metadata": {},
   "source": [
    "## Mass Balance"
   ]
  },
  {
   "cell_type": "markdown",
   "metadata": {},
   "source": [
    "The mass of the atmosphere is estimated to be 5.15e18 kg. The amount of fossil fuels burned by the world is approximately 136 terawatt-hours. If the average energy density of fossil fuels is 40 MJ/kg, then the mass of fossil fuels burned is 3.4e12 kg. "
   ]
  },
  {
   "cell_type": "code",
   "execution_count": 4,
   "metadata": {},
   "outputs": [],
   "source": [
    "atmosphere = 5.15e18 #kg\n",
    "molesinatmosphere = atmosphere/0.029 #moles\n",
    "energyff = 136e6 #megawatts, energy from fossil fuels burned\n",
    "ffburned = energyff/40 #kg of fossil fuels burned\n",
    "co2emitted = 35*1e9*1000 #billion tons of CO2 emitted to kg\n",
    "molesCo2emittedperyear = co2emitted/0.044 #moles of CO2 emitted per year"
   ]
  },
  {
   "cell_type": "markdown",
   "metadata": {},
   "source": [
    "$$\n",
    "\\frac{dn_{CO2}}{dt} = n^{in}_{CO2} - n^{out}_{CO2} \n",
    "$$"
   ]
  },
  {
   "cell_type": "code",
   "execution_count": 7,
   "metadata": {},
   "outputs": [
    {
     "name": "stdout",
     "output_type": "stream",
     "text": [
      "The estimated rate of change of CO2 in the atmosphere is 4.48 ppm/year\n"
     ]
    }
   ],
   "source": [
    "dnco2dt = molesCo2emittedperyear/molesinatmosphere*1e6 #ppm of CO2 emitted per year\n",
    "print(f'The estimated rate of change of CO2 in the atmosphere is {dnco2dt:.2f} ppm/year')"
   ]
  },
  {
   "cell_type": "markdown",
   "metadata": {},
   "source": [
    "Currently the rate of increase of ppm of CO2 is about 2 ppm/year. Thus, the approximately other half of the CO2 is absorbed by the oceans and elsewhere."
   ]
  },
  {
   "cell_type": "markdown",
   "metadata": {},
   "source": [
    "<img src=\"https://github.com/clint-bg/safetyinjc/blob/main/stewardship/supportfiles/burning.png?raw=trueg\" width=\"600\">\n",
    "\n",
    "https://ourworldindata.org/grapher/global-fossil-fuel-consumption"
   ]
  },
  {
   "cell_type": "markdown",
   "metadata": {},
   "source": [
    "### Carbon Cycle\n",
    "\n",
    "Carbon dioxide is produced by the oxidation of carbon. Many sources of oxidation occur naturally including:\n",
    "- respiration of animals\n",
    "- decomposition of organic matter (aerobic bacteria)\n",
    "- volcanic activity\n",
    "- forest fires\n",
    "- oceanic release of CO2\n",
    "- weathering of rocks (carbonate rocks)\n",
    "\n",
    "Carbon dioxide is removed from the atmosphere by:\n",
    "- photosynthesis\n",
    "- oceanic uptake of CO2\n",
    "- deposition of carbon in sediments\n"
   ]
  },
  {
   "cell_type": "markdown",
   "metadata": {},
   "source": [
    "### Oxygen Cycle\n",
    "\n",
    "Oxygen is produced when water is split by photosynthesis or through other reduction mechanisms. Oxygen is consumed by respiration of animals and decomposition of organic matter. The oxygen cycle is closely linked to the carbon cycle."
   ]
  },
  {
   "cell_type": "markdown",
   "metadata": {},
   "source": [
    "### Water Cycle"
   ]
  },
  {
   "cell_type": "markdown",
   "metadata": {},
   "source": [
    "Water is evaporated from the surface of the Earth and then condenses in the atmosphere. The water cycle is driven by the energy from the sun. The water cycle is closely linked to the amount of energy incident on the Earth's surface and the amount absorbed and reflected by the atmosphere."
   ]
  },
  {
   "cell_type": "markdown",
   "metadata": {},
   "source": [
    "### Industrial Revolution and Energy Needs"
   ]
  },
  {
   "cell_type": "markdown",
   "metadata": {},
   "source": [
    "The industrial revolution began in the 18th century in England. The industrial revolution was driven by the need for energy to power machines. The primary source of energy was coal. As more people have come to earth, the energy needed to support each other has increased together with our quality of life. More energy use correlates with a higher quality of life."
   ]
  },
  {
   "cell_type": "markdown",
   "metadata": {},
   "source": [
    "## Energy Balance"
   ]
  },
  {
   "cell_type": "markdown",
   "metadata": {},
   "source": [
    "With the same energy input and output, the Earth's temperature is stable. It is estimated, that the increase in green house gases, primarily CO2 (and water) is causing the Earth's temperature to increase. The Earth's temperature is increasing at a rate of about 0.2 C per decade. The Earth's surface atmospheric temperature has increased by about 1 C since the industrial revolution (in the last 150 years). The Earth's temperature has been higher in the past, but the rate of change now is much faster."
   ]
  },
  {
   "cell_type": "markdown",
   "metadata": {},
   "source": [
    "$$\n",
    "\\frac{dnU}{dt} = n_{in}(H_{in} + 1/2Mv_{in}^2 + Mgz_{in}) - n_{out}(H_{out} + 1/2Mv_{out}^2 + Mgz_{out}) + Q + W_s\n",
    "$$"
   ]
  },
  {
   "cell_type": "markdown",
   "metadata": {},
   "source": [
    "What does a simple mass balance of the atmosphere yield in terms of a temperature change if there is an increase in the Earth's surface radiation of 1 W/m^2?"
   ]
  },
  {
   "cell_type": "markdown",
   "metadata": {},
   "source": [
    "## Correlation"
   ]
  },
  {
   "cell_type": "markdown",
   "metadata": {},
   "source": [
    "Increasing concentration of CO2 appears to be correlated (with causation) with the burning of fossil fuels for our energy needs.\n",
    "\n",
    "There is correlation with that increasing concentration of CO2 and the Earth's temperature. It's also correlated with the rise in sea levels, melting of glaciers, and other changes in the Earth's climate.\n",
    "\n",
    "What should be done? "
   ]
  },
  {
   "cell_type": "markdown",
   "metadata": {},
   "source": []
  }
 ],
 "metadata": {
  "kernelspec": {
   "display_name": "jupiterbook",
   "language": "python",
   "name": "python3"
  },
  "language_info": {
   "codemirror_mode": {
    "name": "ipython",
    "version": 3
   },
   "file_extension": ".py",
   "mimetype": "text/x-python",
   "name": "python",
   "nbconvert_exporter": "python",
   "pygments_lexer": "ipython3",
   "version": "3.9.16"
  }
 },
 "nbformat": 4,
 "nbformat_minor": 2
}
