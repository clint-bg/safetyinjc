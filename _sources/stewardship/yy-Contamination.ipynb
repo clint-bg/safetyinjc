{
 "cells": [
  {
   "cell_type": "markdown",
   "metadata": {},
   "source": [
    "Complete homework and example with diffusion of contaminant into soil then a stream and dispersion in a small pond with fish. Discovery of leak from mass balance."
   ]
  },
  {
   "cell_type": "markdown",
   "metadata": {},
   "source": [
    "## Plastic Reduction"
   ]
  },
  {
   "cell_type": "markdown",
   "metadata": {},
   "source": [
    "https://www.foxnews.com/opinion/why-plastic-bag-bans-failing "
   ]
  },
  {
   "cell_type": "markdown",
   "metadata": {},
   "source": [
    "Bans on plastic bags had unintented consequences. The use of plastic bags reduced but the use of larger, more massive plastic bags increased. The total mass of plastic bags increased."
   ]
  },
  {
   "cell_type": "markdown",
   "metadata": {},
   "source": []
  }
 ],
 "metadata": {
  "language_info": {
   "name": "python"
  }
 },
 "nbformat": 4,
 "nbformat_minor": 2
}
