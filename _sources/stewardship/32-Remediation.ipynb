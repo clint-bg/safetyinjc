{
 "cells": [
  {
   "cell_type": "markdown",
   "metadata": {},
   "source": [
    "# 32-Remediation"
   ]
  },
  {
   "cell_type": "markdown",
   "metadata": {},
   "source": [
    "## The Atonement Can Clean, Reclaim, and Sanctify Our Lives"
   ]
  },
  {
   "cell_type": "markdown",
   "metadata": {},
   "source": [
    "https://www.churchofjesuschrist.org/study/general-conference/2006/10/the-atonement-can-clean-reclaim-and-sanctify-our-lives?lang=eng "
   ]
  },
  {
   "cell_type": "markdown",
   "metadata": {},
   "source": [
    "## Fate and Transport"
   ]
  },
  {
   "cell_type": "markdown",
   "metadata": {},
   "source": [
    "### Thought Experiment - Tree Leaves\n",
    "What happens to tree leaves?\n",
    "\n",
    "Do they not just keep building up in layers?\n",
    "\n",
    "Wouldn't the tree's just eventually be buried in leaves?"
   ]
  },
  {
   "cell_type": "markdown",
   "metadata": {},
   "source": [
    "### Thought Experiment - Tire Tread\n"
   ]
  },
  {
   "cell_type": "markdown",
   "metadata": {},
   "source": [
    "Wear does all the tire tread go from use of millions of tires?\n",
    "\n",
    "Why doesn't it build up on the highway's or surroundings?\n",
    "\n",
    "How are those pieces transported?"
   ]
  },
  {
   "cell_type": "markdown",
   "metadata": {},
   "source": [
    "### Hydrologic Cycle"
   ]
  },
  {
   "cell_type": "markdown",
   "metadata": {},
   "source": [
    "Water moves through the air, on the ground, and in the ground. It rains, water flows downhill on the surface, and water infiltrates into and out of the ground (aquifers)."
   ]
  },
  {
   "cell_type": "markdown",
   "metadata": {},
   "source": [
    "Water is a universal solvent, and it can dissolve many substances. Water can also carry substances in solution, suspension, or as a colloid. Some of those substances are toxic."
   ]
  },
  {
   "cell_type": "markdown",
   "metadata": {},
   "source": [
    "We depend on water for drinking, agriculture, and industry."
   ]
  },
  {
   "cell_type": "markdown",
   "metadata": {},
   "source": [
    "<img src=\"https://github.com/clint-bg/safetyinjc/blob/main/stewardship/supportfiles/hydrologic.jpg?raw=trueg\" width=\"600\">"
   ]
  },
  {
   "cell_type": "markdown",
   "metadata": {},
   "source": [
    "Image source: https://www.sciencefacts.net/water-cycle.html"
   ]
  },
  {
   "cell_type": "markdown",
   "metadata": {},
   "source": [
    "### Fate Processes"
   ]
  },
  {
   "cell_type": "markdown",
   "metadata": {},
   "source": [
    "<img src=\"https://github.com/clint-bg/safetyinjc/blob/main/stewardship/supportfiles/fate.png?raw=trueg\" width=\"710\">"
   ]
  },
  {
   "cell_type": "markdown",
   "metadata": {},
   "source": [
    "## Environmental Remediation"
   ]
  },
  {
   "cell_type": "markdown",
   "metadata": {},
   "source": [
    "Remediation: the action of reversing or stopping environmental damage."
   ]
  },
  {
   "cell_type": "markdown",
   "metadata": {},
   "source": [
    "### Soil Washing\n",
    "\n",
    "The soil is excavated and washed with water or other solvents to remove contaminants. The water is then treated to remove the contaminants."
   ]
  },
  {
   "cell_type": "markdown",
   "metadata": {},
   "source": [
    "<img src=\"https://github.com/clint-bg/safetyinjc/blob/main/stewardship/supportfiles/washing.png?raw=trueg\" width=\"650\">"
   ]
  },
  {
   "cell_type": "markdown",
   "metadata": {},
   "source": [
    "### Soil Roasting/ Incineration\n",
    "\n",
    "Soil roasting is a thermal treatment process that uses heat to remove contaminants from soil. "
   ]
  },
  {
   "cell_type": "markdown",
   "metadata": {},
   "source": [
    "<img src=\"https://github.com/clint-bg/safetyinjc/blob/main/stewardship/supportfiles/roasting.png?raw=trueg\" width=\"601\">"
   ]
  },
  {
   "cell_type": "markdown",
   "metadata": {},
   "source": [
    "### Vitrification or Encapsulation\n",
    "\n",
    "Vitrification is the process of converting a material into a glass-like substance"
   ]
  },
  {
   "cell_type": "markdown",
   "metadata": {},
   "source": [
    "<img src=\"https://github.com/clint-bg/safetyinjc/blob/main/stewardship/supportfiles/vitrification.png?raw=trueg\" width=\"502\">"
   ]
  },
  {
   "cell_type": "markdown",
   "metadata": {},
   "source": [
    "### Landfilling\n",
    "\n",
    "Contaminated soil is excavated and placed in a landfill."
   ]
  },
  {
   "cell_type": "markdown",
   "metadata": {},
   "source": [
    "<img src=\"https://github.com/clint-bg/safetyinjc/blob/main/stewardship/supportfiles/landfilling.png?raw=trueg\" width=\"803\">"
   ]
  },
  {
   "cell_type": "markdown",
   "metadata": {},
   "source": [
    "Double lining with FML (Flexible Membrane Liners) and a dense clay layer is common practice to prevent leachate from contaminating groundwater."
   ]
  },
  {
   "cell_type": "markdown",
   "metadata": {},
   "source": [
    "### Pump and Treat\n",
    "\n",
    "Groundwater is pumped to the surface and treated to remove the contaminants."
   ]
  },
  {
   "cell_type": "markdown",
   "metadata": {},
   "source": [
    "### Volatilization\n",
    "\n",
    "Volatilization is the process of converting a solid or liquid into a gas."
   ]
  },
  {
   "cell_type": "markdown",
   "metadata": {},
   "source": [
    "<img src=\"https://github.com/clint-bg/safetyinjc/blob/main/stewardship/supportfiles/volitile.png?raw=trueg\" width=\"600\">"
   ]
  },
  {
   "cell_type": "markdown",
   "metadata": {},
   "source": [
    "### Bioremediation\n",
    "\n",
    "Bio-remediation is the use of living organisms to clean up contaminated soil and water. The organisms can be bacteria, fungi, or plants. For example, some bacteria can break down oil into carbon dioxide and water."
   ]
  },
  {
   "cell_type": "markdown",
   "metadata": {},
   "source": [
    "## Remediation Example"
   ]
  },
  {
   "cell_type": "markdown",
   "metadata": {},
   "source": [
    "Mt. Trashmore in Virginia Beach, Virginia, is a former landfill that has been turned into a park. The park is built on top of the landfill, which has been capped with a layer of soil and grass. The park has a lake, playgrounds, and walking trails."
   ]
  },
  {
   "cell_type": "markdown",
   "metadata": {},
   "source": [
    "## Example Problems"
   ]
  },
  {
   "cell_type": "markdown",
   "metadata": {},
   "source": [
    "Which of the following methods would you choose to remediate a gasoline leak from an underground storage tank that has reached a water aquifer? Explain your reasons.\n",
    "- a.  Soil washing\n",
    "- b. Soil roasting/incineration\n",
    "- c. Bioremediation/landfarming\n",
    "- d. Stabilization and solidification, e.g., vitrification\n",
    "- e. Landfill\n",
    "- f. Pump and treat\n",
    "- g. Volitalization (soil vapor extraction or in situ air sparging)"
   ]
  },
  {
   "cell_type": "markdown",
   "metadata": {},
   "source": [
    "Which of the following methods would you choose to remediate heavy metal contamination of a small volume of soil? Explain your reasons.\n",
    "- a. Soil washing\n",
    "- b. Soil roasting/incineration\n",
    "- c. Bioremediation/landfarming\n",
    "- d. Stabilization and solidification, e.g., vitrification\n",
    "- e. Landfill\n",
    "- f. Pump and treat\n",
    "- g. Volitalization (soil vapor extraction or in situ air sparging)"
   ]
  },
  {
   "cell_type": "markdown",
   "metadata": {},
   "source": []
  }
 ],
 "metadata": {
  "language_info": {
   "name": "python"
  }
 },
 "nbformat": 4,
 "nbformat_minor": 2
}
