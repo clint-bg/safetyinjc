{
 "cells": [
  {
   "cell_type": "markdown",
   "metadata": {},
   "source": [
    "# 35-Summary"
   ]
  },
  {
   "cell_type": "markdown",
   "metadata": {},
   "source": [
    "## Study Suggestions"
   ]
  },
  {
   "cell_type": "markdown",
   "metadata": {},
   "source": [
    "- review this website\n",
    "- review your homework\n",
    "- review the courseworks\n",
    "- review the two previous exams (rework your problems)\n",
    "- review the case studies presented by your peers the last three days of class (presentation pdfs are on learning suite)\n",
    "- understand transient mass balance problems\n",
    "- work the coupled example mass and energy balance problem from lecture\n",
    "- understand bioaccumulation\n",
    "- understand solubility and henry's law\n",
    "- understand the difference between an outcome and a failure mode\n",
    "- understand how vapor pressure, partial pressure, and concentration relate to flammability limits"
   ]
  },
  {
   "cell_type": "markdown",
   "metadata": {},
   "source": [
    "## Bioaccumulation\n"
   ]
  },
  {
   "cell_type": "markdown",
   "metadata": {},
   "source": [
    "Bioaccumulation is the accumulation of substances, such as pesticides, or other chemicals in an organism. Bioaccumulation occurs when an organism absorbs a substance at a rate faster than that at which the substance is lost. This can occur through inhalation, ingestion, or direct contact. The substance can accumulate in the organism's tissues, and can be passed on to the next trophic level in a food chain. Bioaccumulation can have harmful effects on organisms, and can lead to biomagnification, which is the increase in concentration of a substance as it moves up the food chain."
   ]
  },
  {
   "cell_type": "markdown",
   "metadata": {},
   "source": [
    "## Solubility"
   ]
  },
  {
   "cell_type": "markdown",
   "metadata": {},
   "source": [
    "Solubility is the ability of a substance to dissolve in a solvent. The solubility of a substance is dependent on the temperature and pressure of the solvent. The solubility of a substance can be expressed as the amount of solute that can be dissolved in a given amount of solvent. The solubility of a substance can be determined experimentally, and can be used to predict the behavior of the substance in a given solvent."
   ]
  },
  {
   "cell_type": "markdown",
   "metadata": {},
   "source": [
    "What happens if the solubility of a substance is exceeded? The substance will precipitate out of solution into a 3rd phase. This can be a solid, liquid, or gas depending on the substance and the solvent."
   ]
  },
  {
   "cell_type": "markdown",
   "metadata": {},
   "source": [
    "## Henry's Law"
   ]
  },
  {
   "cell_type": "markdown",
   "metadata": {},
   "source": [
    "Henry's Law states that the concentration of a gas in a liquid is directly proportional to the partial pressure of the gas above the liquid. The solubility of a gaseous species is dependent on the temperature and pressure of the system. Henry's Law can be used to predict the concentration of a species in a liquid:"
   ]
  },
  {
   "cell_type": "markdown",
   "metadata": {},
   "source": [
    "$$\n",
    "y_iP = H_ix_i\n",
    "$$\n",
    "\n",
    "where: $y_i$ is the mole fraction of species i in the gas phase, $P$ is the pressure of the gas above the liquid, $H_i$ is the Henry's Law constant for the species i, and $x_i$ is the mole fraction of the species in the liquid."
   ]
  },
  {
   "cell_type": "markdown",
   "metadata": {},
   "source": [
    "Henry's law is very similar to **Raoult's Law**, which states that the partial pressure of a species in the vapor phase  is directly proportional to the product of the mole fraction of the species in the solution and the pure component saturated vapor pressure of that species. Both 'laws' are limit cases where Henry's Law is for dilute solutions and Raoult's Law is for ideal solutions."
   ]
  },
  {
   "cell_type": "markdown",
   "metadata": {},
   "source": []
  }
 ],
 "metadata": {
  "language_info": {
   "name": "python"
  }
 },
 "nbformat": 4,
 "nbformat_minor": 2
}
