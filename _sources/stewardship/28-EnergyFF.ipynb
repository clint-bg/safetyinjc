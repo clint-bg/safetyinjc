{
 "cells": [
  {
   "cell_type": "markdown",
   "metadata": {},
   "source": [
    "# 28-Fossil Fuels and Nuclear Energy"
   ]
  },
  {
   "cell_type": "markdown",
   "metadata": {},
   "source": [
    "Learning objectives:\n",
    "- Understand the basics of fossil fuels\n",
    "- Understand the economic attractiveness of fossil fuels\n",
    "- Understand the different types of fossil fuels:\n",
    "    - Coal\n",
    "    - Petroleum\n",
    "    - Natural gas\n",
    "    - Tar sands\n",
    "- Understand the basics of nuclear energy"
   ]
  },
  {
   "cell_type": "markdown",
   "metadata": {},
   "source": [
    "## Coal"
   ]
  },
  {
   "cell_type": "markdown",
   "metadata": {},
   "source": [
    "Coal has been used for many years to provide power to millions of homes and businesses. Coal is the most abundant fossil fuel in the United States. Fossil fuels are formed from the remains of ancient plants and animals, buried and altered over millions of years. The three main types of fossil fuels are coal, oil, and natural gas.\n",
    "\n",
    "The United States has more coal than the rest of the world has oil. There is still enough coal underground in this country to provide energy for the next 250 years or more per the U.S. Department of Energy. There is enough coal in the world to last us more than 1,000 years."
   ]
  },
  {
   "cell_type": "markdown",
   "metadata": {},
   "source": [
    "### Types"
   ]
  },
  {
   "cell_type": "markdown",
   "metadata": {},
   "source": [
    "Peat\n",
    "\n",
    "<img src=\"https://github.com/clint-bg/safetyinjc/blob/main/stewardship/supportfiles/peat.jpg?raw=trueg\" width=\"400\">\n",
    "\n",
    "https://commons.wikimedia.org/wiki/File:Peat_(49302157252).jpg "
   ]
  },
  {
   "cell_type": "markdown",
   "metadata": {},
   "source": [
    "Bituminous Coal\n",
    "\n",
    "<img src=\"https://github.com/clint-bg/safetyinjc/blob/main/stewardship/supportfiles/bituminous.jpeg?raw=trueg\" width=\"400\">\n",
    "\n",
    "https://commons.wikimedia.org/wiki/File:Bituminous_coal_%28Ferron_Sandstone_Member,_Mancos_Shale,_Upper_Cretaceous;_Bronco_Mine,_Emery_County,_Utah,_USA%29_4.jpg"
   ]
  },
  {
   "cell_type": "markdown",
   "metadata": {},
   "source": [
    "Chemical Structure, CHNSO (Hg?)\n",
    "\n",
    "<img src=\"https://github.com/clint-bg/safetyinjc/blob/main/stewardship/supportfiles/coalst.png?raw=trueg\" width=\"400\">\n",
    "\n",
    "- Sulfur\n",
    "- Nitrogen\n",
    "- Mercury\n",
    "- CO2 (Coal emits 60% more CO2 than natural gas per kWh (0.37 kg/kWh compared to 0.23 kg/kWh))\n",
    "- Ash"
   ]
  },
  {
   "cell_type": "markdown",
   "metadata": {},
   "source": [
    "### Coal History\n",
    "\n",
    "- 300 BC - Greek scientist Theophrastus reportedly said: “Among the materials that are dug because they are useful, those known as coals are made of earth, and, once set on fire, they burn like charcoal.”\n",
    "\n",
    "- 1769 James Watt invents the steam engine, which ran on coal.\n",
    "\n",
    "- 1882 Thomas Edison opens the first commercial power plant in New York City, which was powered by coal.\n"
   ]
  },
  {
   "cell_type": "markdown",
   "metadata": {},
   "source": [
    "### Coal Use"
   ]
  },
  {
   "cell_type": "markdown",
   "metadata": {},
   "source": [
    "- Principally used for electricity generation\n",
    "- \\>8 billion tons per year are used ([source](https://www.iea.org/news/global-coal-demand-set-to-remain-at-record-levels-in-2023)).  \n",
    "- China uses 4 billion tons per year ([source](https://thecoalhub.com/chinese-coal-consumption-over-4-billion-tons-in-2023.html#:~:text=Chinese%20coal%20consumption%20reached%20over%204%20billion%20tons%20in%202023.))\n",
    "- Taking into account the thermodynamic efficiency of electricity generation, coal produces approximately 2 kWh per kg.\n",
    "- Current US coal-fired power plant capacity is <200,000 MW\n",
    "- \\>2400 coal-fired power plants in the world\n"
   ]
  },
  {
   "cell_type": "markdown",
   "metadata": {},
   "source": [
    "### Coal Technology Frontiers\n",
    "- Combined Cycle Gas Turbine (CCGT) and Integrated Gasification Combined Cycle (IGCC)\n",
    "- Clean coal/Carbon capture and sequestration (CCS)\n",
    "- Gasification and liquefaction for fuels and chemicals\n"
   ]
  },
  {
   "cell_type": "markdown",
   "metadata": {},
   "source": [
    "### Power Plant\n",
    "\n",
    "<img src=\"https://github.com/clint-bg/safetyinjc/blob/main/stewardship/supportfiles/powerplant.png?raw=trueg\" width=\"700\">\n",
    "\n",
    "\n"
   ]
  },
  {
   "cell_type": "markdown",
   "metadata": {},
   "source": []
  },
  {
   "cell_type": "markdown",
   "metadata": {},
   "source": [
    "## Petroleum"
   ]
  },
  {
   "cell_type": "markdown",
   "metadata": {},
   "source": [
    "Petroleum, a naturally occurring mixture of hydrocarbons, is a primary energy source due to its high energy density. Through refining, it provides fuels for transportation (gasoline, diesel, jet fuel) and serves as a feedstock for lubricants, plastics, and various petrochemicals. Chemical engineers seek to optimize its extraction and refining processes while mitigating its environmental impact."
   ]
  },
  {
   "cell_type": "markdown",
   "metadata": {},
   "source": [
    "Petroleum production around the world ranges from:\n",
    "- 23 million barrels per day in the Middle East\n",
    "- 16 million barrels per day in the Americas\n",
    "- 20 million barrels per day in Russia and Africa\n"
   ]
  },
  {
   "cell_type": "markdown",
   "metadata": {},
   "source": [
    "### Petroleum Revenue\n",
    "\n",
    "350 billion dollars in revenue in US alone in 2022 (https://www.statista.com/statistics/294614/revenue-of-the-gas-and-oil-industry-in-the-us/)"
   ]
  },
  {
   "cell_type": "markdown",
   "metadata": {},
   "source": [
    "### Petroleum Reserves"
   ]
  },
  {
   "cell_type": "markdown",
   "metadata": {},
   "source": [
    "<img src=\"https://github.com/clint-bg/safetyinjc/blob/main/stewardship/supportfiles/oilres.png?raw=trueg\" width=\"600\">\n",
    "\n",
    "See: https://ourworldindata.org/grapher/oil-proved-reserves?time=2020"
   ]
  },
  {
   "cell_type": "markdown",
   "metadata": {},
   "source": [
    "### Upstream Operations\n",
    "\n",
    "- Exploration\n",
    "   - Seismic surveys\n",
    "   - Borehole Logging\n",
    "- Drilling\n",
    "- Production\n"
   ]
  },
  {
   "cell_type": "markdown",
   "metadata": {},
   "source": [
    "### Downstream Operations\n",
    "\n",
    "- Refining\n",
    "- Transportation\n",
    "- Distribution"
   ]
  },
  {
   "cell_type": "markdown",
   "metadata": {},
   "source": [
    "Products from refining:\n",
    "\n",
    "<img src=\"https://github.com/clint-bg/safetyinjc/blob/main/stewardship/supportfiles/refiningprod.png?raw=trueg\" width=\"300\">"
   ]
  },
  {
   "cell_type": "markdown",
   "metadata": {},
   "source": [
    "## Natural Gas"
   ]
  },
  {
   "cell_type": "markdown",
   "metadata": {},
   "source": [
    "- Principally methane, but contains varying amounts of other compounds, including heavier hydrocarbons (ethane, propane, butane, pentane) and other gases (carbon dioxide, hydrogen sulfide).\n",
    "- Natural gas can be “associated” with oil deposits or isolated, “non-associated” resources.  It can also be associated with coal beds.\n",
    "- Until recently, associated natural gas was burned off because it was not economical to transport it to where it was usable.\n",
    "- Used for electricity generation; home heating, cooking, and clothes drying; transportation; and fertilizer manufacture\n",
    "- Peaking power plants are commonly natural gas plants\n",
    "- Can be used to make liquid fuels using Fischer-Tropsch process\n",
    "- LNG transportation is huge and growing business "
   ]
  },
  {
   "cell_type": "markdown",
   "metadata": {},
   "source": [
    "### Natural Gas Reserves\n",
    "\n",
    "- 7,000 trillion cubic feet (tcf) of proven reserves\n",
    "- Current world production is near 120 tcf per year"
   ]
  },
  {
   "cell_type": "markdown",
   "metadata": {},
   "source": [
    "## Tar Sands\n",
    "- Canada and Venezuela have the largest reserves\n",
    "- Must be heated to flow\n",
    "- Polycyclic Aromatic Hydrocarbons (PAHs or Asphalt)\n",
    "- Estimated to be twice the reserves of conventional oil"
   ]
  },
  {
   "cell_type": "markdown",
   "metadata": {},
   "source": [
    "## Fossil Fuel Concerns"
   ]
  },
  {
   "cell_type": "markdown",
   "metadata": {},
   "source": [
    "Fossil fuel use is very widespread and is a key piece of our energy infrastructure. However, there are concerns about the environmental impact of fossil fuel use. These include:\n",
    "- Air pollution\n",
    "- Water pollution\n",
    "- Greenhouse gas emissions\n",
    "- Land use\n",
    "- Resource depletion (limited supply)"
   ]
  },
  {
   "cell_type": "markdown",
   "metadata": {},
   "source": [
    "## Nuclear Energy"
   ]
  },
  {
   "cell_type": "markdown",
   "metadata": {},
   "source": [
    "Nuclear energy has many benefits over conventional fossil fuels. However, it is also currently limited due to the very remote risks that could have far-reaching consequences. The Nuclear Regulatory Commission (NRC) is the U.S. government agency responsible for regulating nuclear power plants. It can take decades to build a nuclear power plant due to the regulatory process."
   ]
  },
  {
   "cell_type": "markdown",
   "metadata": {},
   "source": []
  }
 ],
 "metadata": {
  "kernelspec": {
   "display_name": "Python 3",
   "language": "python",
   "name": "python3"
  },
  "language_info": {
   "codemirror_mode": {
    "name": "ipython",
    "version": 3
   },
   "file_extension": ".py",
   "mimetype": "text/x-python",
   "name": "python",
   "nbconvert_exporter": "python",
   "pygments_lexer": "ipython3",
   "version": "3.9.16"
  }
 },
 "nbformat": 4,
 "nbformat_minor": 2
}
