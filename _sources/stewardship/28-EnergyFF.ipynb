{
 "cells": [
  {
   "cell_type": "markdown",
   "metadata": {},
   "source": [
    "# 28-Fossil Fuels"
   ]
  },
  {
   "cell_type": "markdown",
   "metadata": {},
   "source": []
  },
  {
   "cell_type": "markdown",
   "metadata": {},
   "source": [
    "Peat\n",
    "\n",
    "https://commons.wikimedia.org/wiki/File:Peat_(49302157252).jpg "
   ]
  },
  {
   "cell_type": "markdown",
   "metadata": {},
   "source": [
    "Bituminous Coal\n",
    "\n",
    "https://commons.wikimedia.org/wiki/File:Bituminous_coal_%28Ferron_Sandstone_Member,_Mancos_Shale,_Upper_Cretaceous;_Bronco_Mine,_Emery_County,_Utah,_USA%29_4.jpg"
   ]
  },
  {
   "cell_type": "markdown",
   "metadata": {},
   "source": []
  }
 ],
 "metadata": {
  "language_info": {
   "name": "python"
  }
 },
 "nbformat": 4,
 "nbformat_minor": 2
}
