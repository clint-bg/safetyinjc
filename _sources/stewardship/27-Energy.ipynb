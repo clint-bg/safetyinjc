{
 "cells": [
  {
   "cell_type": "markdown",
   "metadata": {},
   "source": [
    "# Energy Overview"
   ]
  },
  {
   "cell_type": "markdown",
   "metadata": {},
   "source": [
    "Learning Outcomes:\n",
    "- Review Energy Units and \"Horse Sense\"\n",
    "- Understand the different energy types"
   ]
  },
  {
   "cell_type": "code",
   "execution_count": 5,
   "metadata": {
    "tags": [
     "hide-input"
    ]
   },
   "outputs": [],
   "source": [
    "# import needed packages\n",
    "import numpy as np\n",
    "import matplotlib.pyplot as plt"
   ]
  },
  {
   "cell_type": "markdown",
   "metadata": {},
   "source": [
    "## Units Review"
   ]
  },
  {
   "cell_type": "markdown",
   "metadata": {},
   "source": [
    "- BTUs: British Thermal Units\n",
    "   - Energy required to raise 1 pound of water by 1 degree Fahrenheit\n",
    "- Calories\n",
    "   - Energy required to raise 1 gram of water by 1 degree Celsius\n",
    "- Joules\n",
    "    - 1 calorie = 4.184 Joules\n",
    "- Watts\n",
    "   - Power or rate of energy use in Joules per second\n",
    "   - A human can generate about 300 Watts of power on an exercise bike for a sustained time period\n",
    "- Kilowatt-hours\n",
    "   - Energy used by a 1 kW device in 1 hour\n",
    "- Quad: 1 quadrillion BTUs\n",
    "    - This is the amount of energy in 170 million barrels of oil"
   ]
  },
  {
   "cell_type": "markdown",
   "metadata": {},
   "source": [
    "### Example Unit Problems"
   ]
  },
  {
   "cell_type": "markdown",
   "metadata": {},
   "source": [
    "How many BTU's to heat 1 L of water from 60°F to 212°F?"
   ]
  },
  {
   "cell_type": "code",
   "execution_count": 10,
   "metadata": {
    "tags": [
     "hide-cell"
    ]
   },
   "outputs": [
    {
     "name": "stdout",
     "output_type": "stream",
     "text": [
      "Energy required to heat 1 L of water from 60F to 212F: 335 BTU\n"
     ]
    }
   ],
   "source": [
    "Cp = 4186 # J/kgK, specific heat of water\n",
    "#specific heat of water in BTU/lbmF\n",
    "Cp_BTU = 1.0 # BTU/lbmR, specific heat of water\n",
    "rho = 1000 # kg/m^3, density of water\n",
    "vol = 1/1000 # m^3, volume of water (1 L)\n",
    "mass = rho*vol*2.20462 # lbm, mass of water (1 L)\n",
    "E = Cp_BTU*mass*(212-60)\n",
    "print(f'Energy required to heat 1 L of water from 60F to 212F: {E:0.0f} BTU')"
   ]
  },
  {
   "cell_type": "markdown",
   "metadata": {},
   "source": [
    "How many BTUS's to vaporize that same 1L of water at 212°F?"
   ]
  },
  {
   "cell_type": "code",
   "execution_count": 14,
   "metadata": {
    "tags": [
     "hide-cell"
    ]
   },
   "outputs": [
    {
     "name": "stdout",
     "output_type": "stream",
     "text": [
      "Energy required to vaporize 1 L of water: 2139 BTU\n"
     ]
    }
   ],
   "source": [
    "#water heat of vaporization\n",
    "Hvap = 970.3 # BTU/lbm, 2260 kJ/kg\n",
    "E = Hvap*mass\n",
    "print(f'Energy required to vaporize 1 L of water: {E:0.0f} BTU')"
   ]
  },
  {
   "cell_type": "markdown",
   "metadata": {},
   "source": [
    "## Energy Types\n"
   ]
  },
  {
   "cell_type": "markdown",
   "metadata": {},
   "source": [
    "- Fossil\n",
    "    - Coal\n",
    "    - Oil\n",
    "    - Natural Gas\n",
    "    - Tar Sands\n",
    "- Nuclear\n",
    "- Solar\n",
    "    - Photovoltaic\n",
    "    - Concentrated Solar Power\n",
    "- Renewable\n",
    "    - Wind\n",
    "    - Hydro\n",
    "    - Geothermal\n",
    "    - Biomass\n",
    "    - Ocean\n",
    "\n"
   ]
  },
  {
   "cell_type": "markdown",
   "metadata": {},
   "source": [
    "## US Energy by Source with Losses"
   ]
  },
  {
   "cell_type": "markdown",
   "metadata": {},
   "source": [
    "<img src=\"https://github.com/clint-bg/safetyinjc/blob/main/stewardship/supportfiles/Energy2021.png?raw=trueg\" width=\"800\">\n",
    "\n",
    "Source: https://flowcharts.llnl.gov/sites/flowcharts/files/2022-04/Energy_2021_United-States_0.png"
   ]
  },
  {
   "cell_type": "markdown",
   "metadata": {},
   "source": [
    "<img src=\"https://github.com/clint-bg/safetyinjc/blob/main/stewardship/supportfiles/Energy2022.png?raw=trueg\" width=\"800\">\n",
    "\n",
    "Source: https://flowcharts.llnl.gov/sites/flowcharts/files/2023-10/US%20Energy%202022.png"
   ]
  },
  {
   "cell_type": "markdown",
   "metadata": {},
   "source": [
    "There are significant losses in use of the energy. For example, a coal plant is only about 33% efficient in converting the energy in coal to electricity.  A gasoline engine is only about 20% efficient in converting the energy in gasoline to motion.  The rest is lost as heat."
   ]
  },
  {
   "cell_type": "markdown",
   "metadata": {},
   "source": [
    "### Energy loss example"
   ]
  },
  {
   "cell_type": "markdown",
   "metadata": {},
   "source": [
    "The energy density of gasoline is about 45 MJ/kg.  If a car gets 30 miles per gallon (at 60 miles per gallon), how many MJ of energy are used to go 30 miles? How many MJ of energy are lost as heat (rejected energy)?\n",
    "\n",
    "How will you set this up?\n",
    "\n",
    "```{toggle}\n",
    "Assumptions:\n",
    "- Force from drag is $F_d = 1/2 \\rho v^2 C_d A$, where $\\rho$ is air density, $v$ is velocity, $C_d$ is drag coefficient, and $A$ is frontal area. The drag coefficient for a car is about 0.3, the frontal area is about 2 m^2, and the air density is about 1.2 kg/m^3.\n",
    "- The resistance from rolling friction, $F_r = C_r m g$, where $C_r$ is the coefficient of rolling friction, $m$ is mass, and $g$ is acceleration due to gravity.  The coefficient of rolling friction is about 0.01 for cars and the mass of the car is about 1500 kg.\n",
    "- The energy of a moving car is $E = 1/2 m v^2$.\n",
    "- The energy of a force acting over a distance is $\\int F dx$.\n",
    "```"
   ]
  },
  {
   "cell_type": "code",
   "execution_count": 7,
   "metadata": {
    "tags": [
     "hide-cell"
    ]
   },
   "outputs": [
    {
     "name": "stdout",
     "output_type": "stream",
     "text": [
      "Work done to move car 30 miles at 60 mph: 20 MJ\n",
      "Energy in 1 gallon of gasoline: 119 MJ\n",
      "Efficiency of car: 16.9%\n"
     ]
    }
   ],
   "source": [
    "vel = 60*5280/3600/3.281 # m/s, velocity of car\n",
    "masscar = 1500 # kg, mass of car\n",
    "Cr = 0.01 # rolling resistance coefficient\n",
    "Cd = 0.3 # drag coefficient\n",
    "gravity = 9.81 # m/s^2, gravity\n",
    "Fr = masscar*gravity*Cr # N, rolling resistance force\n",
    "rho_air = 1.2 # kg/m^3, density of air\n",
    "Area = 2 # m^2, frontal area of car\n",
    "Fd = 0.5*Cd*Area*rho_air*vel**2 #N, drag force\n",
    "dis = 30*5280/3.281 # m, distance to travel\n",
    "Work = (Fr + Fd)*dis + 1/2*masscar*vel**2# J, work done\n",
    "print(f'Work done to move car 30 miles at 60 mph: {Work/1e6:0.0f} MJ')\n",
    "\n",
    "# efficiency of car\n",
    "rhogas = 700 # kg/m3, density of gasoline\n",
    "volgas = 1/264.172 # m3, volume of gasoline\n",
    "Egas = 45e6*rhogas*volgas # J, energy in gasoline\n",
    "print(f'Energy in 1 gallon of gasoline: {Egas/1e6:0.0f} MJ')\n",
    "print(f'Efficiency of car: {Work/Egas*100:0.1f}%')"
   ]
  },
  {
   "cell_type": "markdown",
   "metadata": {},
   "source": [
    "## Energy Future"
   ]
  },
  {
   "cell_type": "markdown",
   "metadata": {},
   "source": [
    "Some Comments: \n",
    "- Coal is declining due to its challenges:\n",
    "    - Mercury, SOx, NOx, CO2, and particulates\n",
    "- Natural Gas is increasing due to its lower emissions, abundance, and economics\n",
    "- Petroleum will face a slow decline but there is not yet a feasible replacement as a transportation fuel and as a raw material for chemical production\n",
    "- Transition to renewables will not/cannot happen on order of 10 years (maybe even 30) without societal upheaval\n",
    "- Nuclear is a viable option but has its own challenges\n",
    "- Energy storage is likely to grow in importance\n",
    "- Ultimately, we'll need to use many forms of energy"
   ]
  },
  {
   "cell_type": "markdown",
   "metadata": {},
   "source": []
  }
 ],
 "metadata": {
  "kernelspec": {
   "display_name": "Python 3",
   "language": "python",
   "name": "python3"
  },
  "language_info": {
   "codemirror_mode": {
    "name": "ipython",
    "version": 3
   },
   "file_extension": ".py",
   "mimetype": "text/x-python",
   "name": "python",
   "nbconvert_exporter": "python",
   "pygments_lexer": "ipython3",
   "version": "3.9.16"
  }
 },
 "nbformat": 4,
 "nbformat_minor": 2
}
