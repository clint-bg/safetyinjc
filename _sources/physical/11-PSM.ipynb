{
 "cells": [
  {
   "cell_type": "markdown",
   "metadata": {},
   "source": [
    "# 11-PSM Pieces\n",
    "Process safety management also covers important topics besides Process Safety Information and Process Hazard Analysis. "
   ]
  },
  {
   "cell_type": "markdown",
   "metadata": {},
   "source": [
    "## OSHA 29 CFR PSM Elements\n",
    "Required for those meeting the Threshold Quantities\n",
    "\n",
    "- Employee Participation\n",
    "- **Process Safety Information**\n",
    "- **Process Hazards Analysis**\n",
    "- Operating Procedures\n",
    "- Training\n",
    "- Contractors\n",
    "- Pre-Startup Safety Review\n",
    "- Mechanical Integrity\n",
    "- Hot Work Permits\n",
    "- Management of Change\n",
    "- Incident Investigation\n",
    "- Emergency Planning and Response\n",
    "- Audits\n",
    "- Trade Secrets"
   ]
  },
  {
   "cell_type": "markdown",
   "metadata": {},
   "source": [
    "<img src=\"https://github.com/clint-bg/safetyinjc/blob/main/physical/supportfiles/PSMPieces/PSMandtext.png?raw=true\" width=\"500\">"
   ]
  },
  {
   "cell_type": "markdown",
   "metadata": {},
   "source": [
    "<img src=\"https://github.com/clint-bg/safetyinjc/blob/main/physical/supportfiles/PSMPieces/init.png?raw=true\" width=\"900\">"
   ]
  },
  {
   "cell_type": "markdown",
   "metadata": {},
   "source": [
    "<img src=\"https://github.com/clint-bg/safetyinjc/blob/main/physical/supportfiles/PSMPieces/phapiece.png?raw=true\" width=\"500\">"
   ]
  },
  {
   "cell_type": "markdown",
   "metadata": {},
   "source": [
    "<img src=\"https://github.com/clint-bg/safetyinjc/blob/main/physical/supportfiles/PSMPieces/op2contr.png?raw=true\" width=\"500\">"
   ]
  },
  {
   "cell_type": "markdown",
   "metadata": {},
   "source": [
    "<img src=\"https://github.com/clint-bg/safetyinjc/blob/main/physical/supportfiles/PSMPieces/pre2hot.png?raw=true\" width=\"500\">"
   ]
  },
  {
   "cell_type": "markdown",
   "metadata": {},
   "source": [
    "<img src=\"https://github.com/clint-bg/safetyinjc/blob/main/physical/supportfiles/PSMPieces/changeII.png?raw=true\" width=\"500\">"
   ]
  },
  {
   "cell_type": "markdown",
   "metadata": {},
   "source": [
    "<img src=\"https://github.com/clint-bg/safetyinjc/blob/main/physical/supportfiles/PSMPieces/emertrad.png?raw=true\" width=\"500\">"
   ]
  },
  {
   "cell_type": "markdown",
   "metadata": {},
   "source": [
    "## Example Cases"
   ]
  },
  {
   "cell_type": "markdown",
   "metadata": {},
   "source": [
    "### Pressure drop\n",
    "Pressure drop in a hydrogenation reactor from clogged support plate after change in charcoal blend."
   ]
  },
  {
   "cell_type": "markdown",
   "metadata": {},
   "source": [
    "<img src=\"https://github.com/clint-bg/safetyinjc/blob/main/physical/supportfiles/hydrogenpur.png?raw=true\" width=\"500\">"
   ]
  },
  {
   "cell_type": "markdown",
   "metadata": {},
   "source": [
    "### Process change\n",
    "Nitration occurs with OH groups replaced by NO2 groups. A nitration reaction was carried out at low temperature and then heated to 90C for 30min and then cooled. Instead of active cooling, the reactor was left to cool down on its own and it exploded throwing pieces 75m away (see reference 7 in Section 2.6 in What Went Wrong, 5th Edition). (Autoignition can be at lower temperature with longer exposure times.)"
   ]
  },
  {
   "cell_type": "markdown",
   "metadata": {},
   "source": [
    "### Gasoline flammability\n",
    "A man who wanted some gasoline for cleaning decided to siphon it out of the tank of a company vehicle. He inserted a length of rubber tubing into the gasoline tank. Then, to fill the tubing and start the siphon, he held the hose against the suction nozzle of an industrial vacuum cleaner. The gasoline caught fire and two vehicles were destroyed and eleven damaged. (Quoted from What Went Wrong, 5th Edition, Section 3.3.3(a))"
   ]
  },
  {
   "cell_type": "markdown",
   "metadata": {},
   "source": [
    "### Ethylene Oxide\n"
   ]
  },
  {
   "cell_type": "markdown",
   "metadata": {},
   "source": [
    "<img src=\"https://github.com/clint-bg/safetyinjc/blob/main/physical/supportfiles/ethyleneR.png?raw=true\" width=\"500\">"
   ]
  },
  {
   "cell_type": "markdown",
   "metadata": {},
   "source": [
    "<img src=\"https://github.com/clint-bg/safetyinjc/blob/main/physical/supportfiles/ballstick1.png?raw=true\" width=\"500\">"
   ]
  },
  {
   "cell_type": "markdown",
   "metadata": {},
   "source": [
    "The above system with the ethylene oxide pump was setup such that the Pump1 could only operate (engineering controls) when:\n",
    "- the circulation pump (pump2) was running\n",
    "- the temperature was above 115C, as otherwise the ethylene oxide would not react\n",
    "- the temperature was below 125C, otherwise the reaction was too fast"
   ]
  },
  {
   "cell_type": "markdown",
   "metadata": {},
   "source": [
    "Accident scenario:\n",
    "\n",
    "The operator thought he had teh valve at the bottom of the reactor open but didn't and running the pump with a dead suction led to the temperature rising, satisfying the conditions for the ethylene oxide to be introduced (pump was running and temperature was between 115 and 125C). He saw the pressure rise (no reaction occurring as ethylene oxide is a gas) so he allowed more heat to the heat exchanger. He then realized that the valve was closed and opened it. An explosion resulted as the reaction occurred very quickly and released a lot of heat."
   ]
  },
  {
   "cell_type": "markdown",
   "metadata": {},
   "source": [
    "This scenario taken from What Went Wrong, 5th Edition, Section 3.2.8."
   ]
  },
  {
   "cell_type": "markdown",
   "metadata": {},
   "source": [
    "### Hot Work\n",
    "Many accidents have occurred from maintenance or other activities with welding, cutting, etc that have ignited flammable materials."
   ]
  },
  {
   "cell_type": "markdown",
   "metadata": {},
   "source": []
  }
 ],
 "metadata": {
  "language_info": {
   "name": "python"
  }
 },
 "nbformat": 4,
 "nbformat_minor": 2
}
