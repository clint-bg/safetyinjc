{
 "cells": [
  {
   "cell_type": "markdown",
   "metadata": {},
   "source": [
    "# 14-Toxicity"
   ]
  },
  {
   "cell_type": "markdown",
   "metadata": {},
   "source": [
    "Learning Objectives:\n",
    "1. Learn how toxicants enter and are eliminated from the body.\n",
    "2. Understand effects of toxicants, including response vs. dose\n",
    "3. Use probit equations to determine response to dose. \n",
    "4. Understand exposure limits such as Threshold Limit Value (TLV) and Permissible Exposure Limit (PEL).\n"
   ]
  },
  {
   "cell_type": "markdown",
   "metadata": {},
   "source": [
    "## Entry Routes of Toxicants\n",
    "| Route | Entry | Control |\n",
    "| --- | --- | --- |\n",
    "| Inhalation | Lungs | Ventilation, respirators, hoods |\n",
    "| Ingestion | Mouth | Hygiene, gloves, Guidelines on eating, drinking, etc |\n",
    "| Injection | Skin | Gloves, protective clothing |\n",
    "| Absorption | Skin | Gloves, protective clothing |"
   ]
  },
  {
   "cell_type": "markdown",
   "metadata": {},
   "source": [
    "## Toxin Blood Concentration"
   ]
  },
  {
   "cell_type": "markdown",
   "metadata": {},
   "source": [
    "<img src=\"https://github.com/clint-bg/safetyinjc/blob/main/physical/supportfiles/toxinblood.png?raw=true\" width=\"500\">"
   ]
  },
  {
   "cell_type": "markdown",
   "metadata": {},
   "source": [
    "## Responses to Toxicants\n",
    "\n",
    "Irreversible Effects:\n",
    "- Cancinogens (cancer)\n",
    "- Mutagens (genetic changes)\n",
    "- Teratogens (birth defects)\n",
    "- Reproductive toxins\n",
    "\n",
    "Reversible Effects:\n",
    "- Dermatotoxicants (skin)\n",
    "- Neurotoxicants (nervous system)\n",
    "- Hepatotoxicants (liver)\n",
    "- Nephrotoxicants (kidneys)\n",
    "- Pulmonotoxicants (lungs)\n",
    "- Hemotoxicants    (blood)"
   ]
  },
  {
   "cell_type": "markdown",
   "metadata": {},
   "source": [
    "## Toxin Storage and Elimination"
   ]
  },
  {
   "cell_type": "markdown",
   "metadata": {},
   "source": [
    "<img src=\"https://github.com/clint-bg/safetyinjc/blob/main/physical/supportfiles/elimination.png?raw=true\" width=\"500\">"
   ]
  },
  {
   "cell_type": "markdown",
   "metadata": {},
   "source": [
    "Excretion: kidneys (urine), liver (bile), lungs (breath), skin (sweat)\n",
    "\n",
    "Detoxification: liver (chemical changes through enzymes)\n",
    "\n",
    "Storage: fat, bone, hair, nails, etc."
   ]
  },
  {
   "cell_type": "markdown",
   "metadata": {},
   "source": [
    "## Dose-Response Relationships"
   ]
  },
  {
   "cell_type": "markdown",
   "metadata": {},
   "source": [
    "Suppose we have the following data from a toxicology study with mice:\n",
    "\n",
    "| Dose (mg/kg) | Response () |\n",
    "| --- | --- |\n",
    "| 0.1 | 0 |\n",
    "| 0.2 | 0 |\n",
    "| 0.3 | 0 |\n",
    "| 0.4 | 0 |\n",
    "| 0.5 | 0 |\n",
    "| 0.6 | 0 |\n",
    "| 0.7 | 0 |\n",
    "| 0.8 | 0 |\n",
    "| 0.9 | 0 |\n",
    "| 1.0 | 0 |\n",
    "| 1.1 | 0 |\n",
    "| 1.2 | 0 |\n",
    "| 1.3 | 0 |\n",
    "| 1.4 | 0 |\n",
    "| 1.5 | 0 |\n"
   ]
  },
  {
   "cell_type": "markdown",
   "metadata": {},
   "source": []
  }
 ],
 "metadata": {
  "language_info": {
   "name": "python"
  }
 },
 "nbformat": 4,
 "nbformat_minor": 2
}
