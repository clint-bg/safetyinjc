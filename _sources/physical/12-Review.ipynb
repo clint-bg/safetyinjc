{
 "cells": [
  {
   "cell_type": "markdown",
   "metadata": {},
   "source": [
    "# 12-Review "
   ]
  },
  {
   "cell_type": "markdown",
   "metadata": {},
   "source": [
    "- Ethics\n",
    "- AIChE Code of Ethics\n",
    "- OSHA 29 CFR 1910.119 PSM\n",
    "- Fault Tree Analysis\n",
    "- Probabilities\n",
    "- Material and Component Balances"
   ]
  },
  {
   "cell_type": "markdown",
   "metadata": {},
   "source": [
    "This exam is closed book, closed internet, closed any other resources except one 8x11 piece of paper (both sides) that has your notes. You are allowed to use Python, Excel, calculators, etc. Use three significant figures for your answers."
   ]
  },
  {
   "cell_type": "markdown",
   "metadata": {},
   "source": []
  }
 ],
 "metadata": {
  "language_info": {
   "name": "python"
  }
 },
 "nbformat": 4,
 "nbformat_minor": 2
}
