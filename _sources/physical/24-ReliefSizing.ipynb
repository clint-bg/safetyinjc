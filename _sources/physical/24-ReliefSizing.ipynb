{
 "cells": [
  {
   "cell_type": "markdown",
   "metadata": {},
   "source": [
    "# 24-Relief Sizing"
   ]
  },
  {
   "cell_type": "markdown",
   "metadata": {},
   "source": [
    "Learning Objectives:\n",
    "- Ability to estimate flow through an orifice for \n",
    "    - incompressible liquid\n",
    "    - compressible gas (choked and unchoked flow)\n",
    "    - two-phase flow for a flashing fluid\n",
    "- Perform preliminary sizing of a relief valve for a liquid, gas, and two-phase flow\n",
    "- Use flow estimates in mass and energy balance calculations\n"
   ]
  },
  {
   "cell_type": "markdown",
   "metadata": {},
   "source": [
    "## Mechanical Energy Balance"
   ]
  },
  {
   "cell_type": "markdown",
   "metadata": {},
   "source": [
    "```{toggle}\n",
    "Constant Density, Frictionless Flow\n",
    "\n",
    "$$\n",
    "\\frac{\\Delta P}{\\rho g} + \\frac{\\Delta u^2}{2g} + \\Delta z + \\frac{F}{g} = \\frac{-W_s}{\\dot{m} g}\n",
    "$$\n",
    "\n",
    "where $\\Delta P$ is the change in pressure, $\\Delta u$ is the change in velocity, $\\Delta z$ is the change in elevation, $F$ is the frictional losses, and $W_s$ is the shaft work with respect to two points in the system. \n",
    "```"
   ]
  },
  {
   "cell_type": "markdown",
   "metadata": {},
   "source": [
    "If there is no friction and constant density and no shaft work and no change in elevation, the mechanical energy balance simplifies to:\n",
    "\n",
    "```{toggle}\n",
    "\n",
    "$$\n",
    "\\frac{\\Delta P}{\\rho g} + \\frac{\\Delta u^2}{2g} = 0\n",
    "$$\n",
    "\n",
    "or assuming that the flow points are inside a tank where P = P_o and u = 0 and outside the tank where P = P_atm and u = u, then\n",
    "\n",
    "$$\n",
    "\\frac{P_o}{\\rho g} = \\frac{P_{atm}}{\\rho g} + \\frac{u^2}{2g}\n",
    "$$\n",
    "\n",
    "or \n",
    "\n",
    "$$\n",
    "u = \\sqrt{2g\\left(\\frac{P_o - P_{atm}}{\\rho}\\right)}\n",
    "$$\n",
    "```"
   ]
  },
  {
   "cell_type": "markdown",
   "metadata": {},
   "source": []
  }
 ],
 "metadata": {
  "language_info": {
   "name": "python"
  }
 },
 "nbformat": 4,
 "nbformat_minor": 2
}
