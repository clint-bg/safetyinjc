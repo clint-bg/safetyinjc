{
 "cells": [
  {
   "cell_type": "markdown",
   "metadata": {},
   "source": [
    "# 24-Relief Sizing"
   ]
  },
  {
   "cell_type": "markdown",
   "metadata": {},
   "source": [
    "Learning Objectives:\n",
    "- Ability to estimate flow through an orifice for \n",
    "    - incompressible liquid\n",
    "    - compressible gas (choked and unchoked flow)\n",
    "    - two-phase flow for a flashing fluid\n",
    "- Perform preliminary sizing of a relief valve for a liquid, gas, and two-phase flow\n",
    "- Use flow estimates in mass and energy balance calculations\n"
   ]
  },
  {
   "cell_type": "markdown",
   "metadata": {},
   "source": [
    "## Mechanical Energy Balance"
   ]
  },
  {
   "cell_type": "markdown",
   "metadata": {},
   "source": [
    "```{toggle}\n",
    "Constant Density, Frictionless Flow\n",
    "\n",
    "$$\n",
    "\\frac{\\Delta P}{\\rho g} + \\frac{\\Delta u^2}{2g} + \\Delta z + \\frac{F}{g} = \\frac{-W_s}{\\dot{m} g}\n",
    "$$\n",
    "\n",
    "where $\\Delta P$ is the change in pressure, $\\Delta u$ is the change in velocity, $\\Delta z$ is the change in elevation, $F$ is the frictional losses, and $W_s$ is the shaft work with respect to two points in the system. \n",
    "```"
   ]
  },
  {
   "cell_type": "markdown",
   "metadata": {},
   "source": []
  }
 ],
 "metadata": {
  "language_info": {
   "name": "python"
  }
 },
 "nbformat": 4,
 "nbformat_minor": 2
}
