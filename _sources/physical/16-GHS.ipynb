{
 "cells": [
  {
   "cell_type": "markdown",
   "metadata": {},
   "source": [
    "# 16-GHS\n",
    "Global Harmonized System of Classification and Labelling of Chemicals (GHS) is a system for standardizing and harmonizing the classification and labelling of chemicals."
   ]
  },
  {
   "cell_type": "markdown",
   "metadata": {},
   "source": [
    "Learning Objectives:\n",
    "1. Become more familiar with the 9 Hazard Classes of the GHS\n",
    "2. Understand the 16 Components of a Safety Data Sheet (SDS)\n",
    "3. Understand the elements of GHS Labeling\n",
    "4. Be familiar with the GHS Pictograms\n",
    "5. Understand the NFPA 704 Diamond\n",
    "6. Intro to Shipping and Handling of Hazardous Materials"
   ]
  },
  {
   "cell_type": "markdown",
   "metadata": {},
   "source": [
    "## Nine (9) Hazard Classes"
   ]
  },
  {
   "cell_type": "markdown",
   "metadata": {},
   "source": [
    "1. Explosives\n",
    "2. Gases\n",
    "3. Flammable Liquids\n",
    "4. Flammable Solids\n",
    "5. Oxidizing Substances\n",
    "6. Toxic and Infectious Substances\n",
    "7. Radioactive Material\n",
    "8. Corrosives\n",
    "9. Miscellaneous Dangerous Goods"
   ]
  },
  {
   "cell_type": "markdown",
   "metadata": {},
   "source": [
    "<img src=\"https://github.com/clint-bg/safetyinjc/blob/main/physical/supportfiles/HClasses.png?raw=true\" width=\"600\">"
   ]
  },
  {
   "cell_type": "markdown",
   "metadata": {},
   "source": [
    "### Explosives\n",
    "\n",
    "- HD1.1: Mass explosion hazard\n",
    "- HD1.2: Projection hazard\n",
    "- HD1.3: Fire hazard\n",
    "- HD1.4: No significant hazard\n",
    "- HD1.5: Very insensitive substances\n",
    "- HD1.6: Extremely insensitive substances"
   ]
  },
  {
   "cell_type": "markdown",
   "metadata": {},
   "source": [
    "See Video examples from Safety Management Services, Inc."
   ]
  },
  {
   "cell_type": "markdown",
   "metadata": {},
   "source": [
    "### Gases\n",
    "- HD2.1: Flammable gases\n",
    "- HD2.2: Non-flammable, non-toxic gases\n",
    "- HD2.3: Toxic gases"
   ]
  },
  {
   "cell_type": "markdown",
   "metadata": {},
   "source": [
    "### Flammable Liquids\n",
    "- Flammable liquids: flash point < 60°C\n",
    "- Combustible liquids: flash point > 60°C and < 93°C\n",
    "\n",
    "### Flammable Solids\n",
    "- HD4.1: Flammable solids\n",
    "- HD4.2: Spontaneously combustible\n",
    "    - Pyrophoric: ignite spontaneously in air\n",
    "    - Self-heating: heat up in air\n",
    "- HD4.3: Dangerous when wet\n",
    "\n",
    "### Oxidizing Substances\n",
    "- HD5.1: Oxidizing substances\n",
    "- HD5.2: Organic peroxides\n",
    "\n",
    "### Toxic and Infectious Substances\n",
    "- HD6.1: Poisonous substances\n",
    "- HD6.2: Infectious substances\n",
    "\n",
    "### Radioactive Material\n",
    "- HD7: Radioactive material\n",
    "\n",
    "### Corrosives\n",
    "- HD8: Corrosives\n",
    "\n",
    "### Miscellaneous Dangerous Goods\n",
    "- HD9: Miscellaneous dangerous goods\n"
   ]
  },
  {
   "cell_type": "markdown",
   "metadata": {},
   "source": [
    "### Hazardous Materials Table\n",
    "The hazardous materials table is a list of hazardous materials and their proper shipping names, hazard classes, identification numbers, packing groups, and special provisions. The table is in 49 CFR 172.101: [49 CFR 172.101](https://www.ecfr.gov/current/title-49/subtitle-B/chapter-I/subchapter-C/part-172/subpart-B/section-172.101)"
   ]
  },
  {
   "cell_type": "markdown",
   "metadata": {},
   "source": [
    "## SDS Components"
   ]
  },
  {
   "cell_type": "markdown",
   "metadata": {},
   "source": [
    "1. Identification\n",
    "2. Hazard(s) identification\n",
    "3. Composition/information on ingredients\n",
    "4. First-aid measures\n",
    "5. Fire-fighting measures\n",
    "6. Accidental release measures\n",
    "7. Handling and storage\n",
    "8. Exposure controls/personal protection\n",
    "9. Physical and chemical properties\n",
    "10. Stability and reactivity\n",
    "11. Toxicological information\n",
    "12. Ecological information\n",
    "13. Disposal considerations\n",
    "14. Transport information\n",
    "15. Regulatory information\n",
    "16. Other information"
   ]
  },
  {
   "cell_type": "markdown",
   "metadata": {},
   "source": [
    "See also: [https://www.osha.gov/laws-regs/regulations/standardnumber/1910/1910.1200AppD](https://www.osha.gov/laws-regs/regulations/standardnumber/1910/1910.1200AppD)"
   ]
  },
  {
   "cell_type": "markdown",
   "metadata": {},
   "source": [
    "### SDS Examples\n",
    "- [Gasoline](https://www.valero.com/sites/default/files/2019-12/sds_us_-_002-ghs_unleaded_gasoline_rev1_5-14_0.pdf)\n",
    "- [Water] \n",
    "- PETN"
   ]
  },
  {
   "cell_type": "markdown",
   "metadata": {},
   "source": [
    "## GHS Pictograms"
   ]
  },
  {
   "cell_type": "markdown",
   "metadata": {},
   "source": [
    "<img src=\"https://github.com/clint-bg/safetyinjc/blob/main/physical/supportfiles/Picto1.png?raw=true\" width=\"500\">\n",
    "\n",
    "<img src=\"https://github.com/clint-bg/safetyinjc/blob/main/physical/supportfiles/Picto2.png?raw=true\" width=\"500\">\n",
    "\n",
    "<img src=\"https://github.com/clint-bg/safetyinjc/blob/main/physical/supportfiles/Picto3.png?raw=true\" width=\"500\">\n",
    "\n",
    "Source: [https://www.osha.gov/sites/default/files/publications/OSHA3491QuickCardPictogram.pdf](https://www.osha.gov/sites/default/files/publications/OSHA3491QuickCardPictogram.pdf)"
   ]
  },
  {
   "cell_type": "markdown",
   "metadata": {},
   "source": [
    "## GHS Labeling"
   ]
  },
  {
   "cell_type": "markdown",
   "metadata": {},
   "source": [
    "- [Gasoline]"
   ]
  },
  {
   "cell_type": "markdown",
   "metadata": {},
   "source": [
    "## NFPA 704 Diamond"
   ]
  },
  {
   "cell_type": "markdown",
   "metadata": {},
   "source": [
    "<img src=\"https://github.com/clint-bg/safetyinjc/blob/main/physical/supportfiles/Diamond.png?raw=true\" width=\"600\">\n"
   ]
  },
  {
   "cell_type": "markdown",
   "metadata": {},
   "source": [
    "## Shipping and Handling Intro"
   ]
  },
  {
   "cell_type": "markdown",
   "metadata": {},
   "source": [
    "[49 CFR 172.101](https://www.ecfr.gov/current/title-49/subtitle-B/chapter-I/subchapter-C/part-172/subpart-B/section-172.101) has many of the details on shipping and handling of hazardous materials. You are not required to know this for any exam but it may prove valuable to you to know where to find this information."
   ]
  }
 ],
 "metadata": {
  "kernelspec": {
   "display_name": "Python 3",
   "language": "python",
   "name": "python3"
  },
  "language_info": {
   "codemirror_mode": {
    "name": "ipython",
    "version": 3
   },
   "file_extension": ".py",
   "mimetype": "text/x-python",
   "name": "python",
   "nbconvert_exporter": "python",
   "pygments_lexer": "ipython3",
   "version": "3.9.16"
  }
 },
 "nbformat": 4,
 "nbformat_minor": 2
}
