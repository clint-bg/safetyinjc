{
 "cells": [
  {
   "cell_type": "markdown",
   "metadata": {},
   "source": [
    "# 04-Logic and Process Safety"
   ]
  },
  {
   "cell_type": "markdown",
   "metadata": {},
   "source": [
    "```{note}\n",
    "Logic and critical thinking are skills that can help you to evaluate information and make decisions. We will use these skills to help us systematically consider hazards that could lead to catastrophic events.\n",
    "```"
   ]
  },
  {
   "cell_type": "markdown",
   "metadata": {},
   "source": [
    "Learning Objectives\n",
    "- Learn about critical and creative thinking skills for analysis and evaluation of problems and cause-effect relationships.\n",
    "- Highlight argument validation and fallacies.\n",
    "- Learn about the difference between deductive and inductive reasoning."
   ]
  },
  {
   "cell_type": "markdown",
   "metadata": {},
   "source": [
    "## Logic and Critical Thinking\n",
    "\n",
    "Critical thinking is the ability to think clearly and rationally about what to do or what to believe. It includes the ability to engage in reflective and independent thinking. Someone with critical thinking skills is able to:\n",
    "\n",
    "- Understand the logical connections between ideas.\n",
    "- Identify, construct and evaluate arguments.\n",
    "- Detect inconsistencies and common mistakes in reasoning.\n",
    "- Solve problems systematically.\n",
    "- Identify the relevance and importance of ideas.\n",
    "- Reflect on the justification of one's own beliefs and values."
   ]
  },
  {
   "cell_type": "markdown",
   "metadata": {},
   "source": [
    "### Deductive Validity\n",
    "\n",
    "Deductive validity is a property of arguments. An argument is valid if the truth of its premises guarantees the truth of its conclusion. In other words, an argument is valid if the conclusion is true whenever the premises are true. The following argument is valid, because the conclusion must be true, given the premises:\n",
    "\n",
    "- All humans are mortal.\n",
    "- Socrates is human.\n",
    "- Therefore, Socrates is mortal."
   ]
  },
  {
   "cell_type": "markdown",
   "metadata": {},
   "source": [
    "### Inductive Force\n",
    "\n",
    "An inductively forceful argument is one where the truth of the premises makes the conclusion more likely to be true. For example, the following argument is inductively forceful:\n",
    "\n",
    "- 90% of the people we have interviewed love to play soccer.\n",
    "- Therefore, the next person we interview will also love to play soccer."
   ]
  },
  {
   "cell_type": "markdown",
   "metadata": {},
   "source": [
    "### Fallacies\n",
    "\n",
    "A fallacy is the use of invalid or otherwise faulty reasoning, or \"wrong moves\" in the construction of an argument. A fallacious argument may be deceptive by appearing to be better than it really is. Some fallacies are committed intentionally to manipulate or persuade by deception, while others are committed unintentionally due to carelessness or ignorance. An example of a fallacy is: \n",
    "\n",
    "- If you love your country, you will support the war in X.\n",
    "- You do not support the war in X.\n",
    "- Therefore, you do not love your country."
   ]
  },
  {
   "cell_type": "markdown",
   "metadata": {},
   "source": [
    "#### Other Examples of Fallacies\n",
    "\n",
    "- Ad hominem: attacking the person instead of the argument.\n",
    "- Appeal to authority: using the opinion or position of an authority figure, or institution of authority, in place of an actual argument.\n",
    "- Appeal to emotion: manipulating an emotional response in place of a valid or compelling argument.\n",
    "- Appeal to fear: using fear to influence the conclusion.\n",
    "- Appeal to flattery: using flattery to influence the conclusion.\n",
    "- Circular reasoning: supporting a statement by repeating it in different words. Similar to affirming the consequent: if A, then B. B, therefore A. Also similar to begging the question: assuming the conclusion in the premise.\n",
    "- False dilemma: giving two choices when in fact there are three or more.\n",
    "- Cause and effect: assuming that the effect is related to a cause because the events occur together. Implying causation from correlation.\n",
    "- Sunk cost: assuming that future events will be affected by past events, which have no bearing on future outcomes.\n",
    "- Strawman: creating a false or made up scenario and then attacking it. Similar to a red herring: diverting attention from the real issue by focusing instead on an issue having only a surface relevance to the first.\n",
    "- Tu quoque: avoiding having to engage with criticism by turning it back on the accuser - answering criticism with criticism.\n",
    "- Wishful thinking: making decisions according to what might be pleasing to imagine, rather than according to evidence or reason.\n",
    "- Slippery slope: asserting that a relatively small first step inevitably leads to a chain of related events culminating in some significant impact.\n",
    "- Herd mentality: doing or thinking things because many other people do or think the same. Similar to bandwagon: doing or thinking things because many other people do or think the same."
   ]
  },
  {
   "cell_type": "markdown",
   "metadata": {},
   "source": [
    "### Deductive Reasoning\n",
    "\n",
    "Deductive reasoning is a type of logical thinking that starts with a general statement and then applies that statement to a specific case. For example, if we know that all cats have tails, and we know that Fluffy is a cat, then we can deduce that Fluffy has a tail."
   ]
  },
  {
   "cell_type": "markdown",
   "metadata": {},
   "source": [
    "A few examples from process safety: \n",
    "- All flammable materials can be ignited and burn, and we know that gasoline is a flammable material, then we can deduce that gasoline can be ignited and burn.\n",
    "- Reducing the oxygen concentration in a room will reduce the likelihood of a fire, and we know that the oxygen concentration in a room can be reduced by displacing oxygen with an inert gas, then we can deduce that displacing oxygen with an inert gas will reduce the likelihood of a fire.\n",
    "- Encouraging cleanliness and holding hand rails contributes to a culture of safety, and we know that a culture of safety reduces the likelihood of accidents, then we can deduce that encouraging cleanliness and holding hand rails reduces the likelihood of accidents."
   ]
  },
  {
   "cell_type": "markdown",
   "metadata": {},
   "source": [
    "### Inductive Reasoning\n",
    "\n",
    "Inductive reasoning is a type of logical thinking that starts with a specific case and then applies that case to a general statement. For example, if we know that Fluffy has a tail, and we know that Fluffy is a cat, then we can induce that all cats have tails."
   ]
  },
  {
   "cell_type": "markdown",
   "metadata": {},
   "source": [
    "A proceses safety example:\n",
    "- The Bhopal disaster was caused by a chemical incompatibility with water. We can induce that there may be other chemicals that are incompatible with water and could result in severe consequences."
   ]
  },
  {
   "cell_type": "markdown",
   "metadata": {},
   "source": [
    "### Influence of the Holy Ghost \n",
    "\n",
    "We should do all we can to learn and determine what is true. We can then ask God if it is true. The Holy Ghost witnesses of truth. It is a feeling of peace and assurance. It is a gift from God that is available to all people. It is a way that God communicates with us. President Nelson has said that \n",
    "```{quote}\n",
    "in coming days, it will not be possible to survive spiritually without the guiding, directing, comforting, and constant influence of the Holy Ghost.\n",
    "```"
   ]
  },
  {
   "cell_type": "markdown",
   "metadata": {},
   "source": [
    "## Process Safety"
   ]
  },
  {
   "cell_type": "markdown",
   "metadata": {},
   "source": []
  },
  {
   "cell_type": "markdown",
   "metadata": {},
   "source": []
  }
 ],
 "metadata": {
  "language_info": {
   "name": "python"
  }
 },
 "nbformat": 4,
 "nbformat_minor": 2
}
