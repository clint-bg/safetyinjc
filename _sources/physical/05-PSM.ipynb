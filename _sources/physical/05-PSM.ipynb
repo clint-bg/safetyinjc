{
 "cells": [
  {
   "cell_type": "markdown",
   "metadata": {},
   "source": [
    "# 05-PSM Intro\n",
    "Process Safety Management (PSM) Introduction"
   ]
  },
  {
   "cell_type": "markdown",
   "metadata": {},
   "source": [
    "## Criticality of Process Safety\n",
    "Hopefully in the last discussion we began to establish that process safety is a critical part of manufacturing. But when and how do we systematically go about responsibly managing risks and preventing accidents? We need tools to estimate risks for specific scenarios or actions, and we need tools to reduce those risks."
   ]
  },
  {
   "cell_type": "markdown",
   "metadata": {},
   "source": [
    "## Risk Tolerance\n",
    "\n",
    "Our tolerance for risk varies widely between individuals and organizations. How do we determine what is an acceptable risk? How do we determine what is an unacceptable risk? How do we determine what is a tolerable risk? How do we determine what is a negligible risk? "
   ]
  },
  {
   "cell_type": "markdown",
   "metadata": {},
   "source": [
    "What risks do you voluntarily accept everyday?\n",
    "- Getting struck by lightning?\n",
    "- Getting hit by a meteorite?\n",
    "- Getting in a car accident?\n",
    "- Slipping on ice?\n",
    "- Getting skin cancer?\n",
    "- Getting the flu?\n",
    "\n",
    "What involuntary risks do you accept frequently?\n",
    "- Eating lead in your food?\n",
    "- Eating salmonella in your food?\n",
    "- Breathing in particulate matter?\n",
    "- Getting drafted into the military?\n",
    "\n",
    "What spiritual risks do you accept?\n",
    "- Being exposed to damaging images?\n",
    "- Being exposed to damaging philosophies?\n",
    "- Consuming content that is not edifying?"
   ]
  },
  {
   "cell_type": "markdown",
   "metadata": {},
   "source": [
    "How does your risk tolerance outside of work compare to your risk tolerance at work?"
   ]
  },
  {
   "cell_type": "markdown",
   "metadata": {},
   "source": [
    "```{note}\n",
    "As an industry consultant who performed many hazards analyses on explosive operations, we typically estimated the risks for a given hazard subjectively using the risk matrix shown below. About 1\\% of the time, for the most consequential hazards, we would quantify the risks using a more rigorous method. That more rigorous method is called Quantitative Risk Assessment (QRA). QRA is a topic to be disussed later in the course.\n",
    "```"
   ]
  },
  {
   "cell_type": "markdown",
   "metadata": {},
   "source": [
    "## Risk Matrix\n",
    "\n",
    "Qualitative Risk Matrix:\n",
    "\n",
    "<img src=\"https://raw.githubusercontent.com/clint-bg/safetyinjc/refs/heads/main/physical/supportfiles/RiskMatrix.png\" width=\"600\">"
   ]
  },
  {
   "cell_type": "markdown",
   "metadata": {},
   "source": [
    "Risk is estimated by both the severity and its event probabilty or frequency. Usually the severity is listed first and the event probability is listed second. For example, getting hit by lightning would be catastrophic (death or a 1) but that event probability is very low (improbably, E), so that hazard rank would be 1E for most locations you're in.  What ranking would you give the following physical events?\n",
    "- Getting in a car accident driving to and from work over a 35 mile commute in a city?\n",
    "- Getting in a car accident driving to and from work over a 35 mile commute in a rural area?\n",
    "- Breaking your arm while playing frisbee?\n",
    "- Getting burned by your stove while cooking?\n",
    "- Getting burned eating hot pizza?\n",
    "- Getting killed as an arborist cutting down 50 foot trees with a chain saw while being secured with a plastic rope?"
   ]
  },
  {
   "cell_type": "markdown",
   "metadata": {},
   "source": [
    "#### Spritual Risk Rankings\n",
    "What about a risk rating for \\textbf{spiritual events}? Physical injury is straightforward like scratches and scrapes to broken bones or loss of sight to death. Spiritual injury is not as straight forward and it's difficult to recognize sometimes. For that reason, we'll primarily focus on physical risks. However, we can define spiritual harm as being separated from God if we fail to keep His commandments. Some activities are not edifying and participating in those may not immediately lead to committing a mistake or sin. However, small acts of setting aside God can result in spiritual or emotional trauma. In that light, could you ranking the following events?\n",
    "- Not reading your scriptures for a day? (What emotional or spiritual harm would result, corresponding to a severity, and instead of a frequency, how probable is it that you would be harmed to that severity)\n",
    "- Not reading your scriptures for a week?\n",
    "- Viewing pornography?\n",
    "- Lying to your spouse?\n",
    "- Lying to your boss?"
   ]
  },
  {
   "cell_type": "markdown",
   "metadata": {},
   "source": [
    "```{important}\n",
    "The overall risk assessment based on the severity and frequency are ranked from eliminated, to low, medium, serious, and high. That overall risk is labeled by a color as well in the risk matrix above.\n",
    "```"
   ]
  },
  {
   "cell_type": "markdown",
   "metadata": {},
   "source": [
    "The risk acceptance level in the defense or energetics manufacturing industry was acceptable in the medium range (marked yellow and roughly equivalent to an employee getting injured in driving to and from work). If risks are in the medium range (colored orange), recommendations (engineering or administrative controls) were given to reduce the event probability or the event severity. If risks were in the red operations could not be performed without mitigating steps."
   ]
  },
  {
   "cell_type": "markdown",
   "metadata": {},
   "source": [
    "## RAGAGEP\n",
    "\n",
    "Recognized and Generally Accepted Good Engineering Practices:\n",
    "\n",
    "Regulations: \n",
    "- OSHA 29 CFR 1910.119 Process Safety Management (PSM)\n",
    "- EPA 40 CFR 68 Risk Management Programs (RMP)\n",
    "- DHS 6 CFR 27 Chemical Facility Anti-Terrorism Standards (CFATS)\n",
    "- PHMSA/ DOT Shipment of Hazardous Chemicals 49 CFR Parts 100-185\n",
    "\n",
    "Codes\n",
    "- NFPA 70: National Electrical Code\n",
    "- ASME Boiler and Pressure Vessel Code\n",
    "\n",
    "Standards\n",
    "- NFPA 45, 68, 69\n",
    "- Many others"
   ]
  },
  {
   "cell_type": "markdown",
   "metadata": {},
   "source": [
    "## OSHA 29 CFR PSM Elements\n",
    "Required for those meeting the Threshold Quantities\n",
    "\n",
    "- Employee Participation\n",
    "- **Process Safety Information**\n",
    "- **Process Hazards Analysis**\n",
    "- Operating Procedures\n",
    "- Training\n",
    "- Contractors\n",
    "- Pre-Startup Safety Review\n",
    "- Mechanical Integrity\n",
    "- Hot Work Permits\n",
    "- Management of Change\n",
    "- Incident Investigation\n",
    "- Emergency Planning and Response\n",
    "- Audits\n",
    "- Trade Secrets"
   ]
  },
  {
   "cell_type": "markdown",
   "metadata": {},
   "source": [
    "### "
   ]
  }
 ],
 "metadata": {
  "kernelspec": {
   "display_name": "jupiterbook",
   "language": "python",
   "name": "python3"
  },
  "language_info": {
   "name": "python",
   "version": "3.9.16"
  }
 },
 "nbformat": 4,
 "nbformat_minor": 2
}
